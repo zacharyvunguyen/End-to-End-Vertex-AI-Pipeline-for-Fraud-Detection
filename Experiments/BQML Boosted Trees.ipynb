{
 "cells": [
  {
   "cell_type": "markdown",
   "source": [
    "\n",
    "# 03b - BigQuery ML (BQML) - Boosted Trees For Classification\n",
    "\n",
    "In this notebook, BigQuery ML (BQML) is used to create a boosted tree model (using XGBoost).\n",
    "\n",
    "**Boosted Trees**\n",
    "\n",
    "A boosted tree model is an ensemble of decision trees using boosting:\n",
    "- Decision Tree: A supervised learning approach which finds splits in features that represent decisions on predicted level of the target variable.\n",
    "- Ensemble of Trees: Combining trees to form the sum of predictions from multiple trees \n",
    "- Boosting: Adative training where a sequence of trees tries to learn the residual (error) remaining after the previous tree.\n"
   ],
   "metadata": {
    "collapsed": false
   },
   "id": "154fe7ff-fdbe-4152-9e8a-f1a86cc0aede"
  },
  {
   "cell_type": "markdown",
   "id": "3c217dda-058f-4920-8390-6b4592ba84a6",
   "metadata": {},
   "source": [
    "---\n",
    "## Setup"
   ]
  },
  {
   "cell_type": "markdown",
   "id": "51bd94bb-38a5-4c6b-ac0b-1abd60220907",
   "metadata": {},
   "source": [
    "inputs:"
   ]
  },
  {
   "cell_type": "code",
   "outputs": [],
   "source": [
    "import os\n",
    "GOOGLE_APPLICATION_CREDENTIALS = \"/Users/zacharynguyen/Documents/GitHub/2024/End-to-End-Vertex-AI-Pipeline-for-Fraud-Detection/key/e2e-fraud-detection-debf1c9863af.json\"\n",
    "os.environ[\"GOOGLE_APPLICATION_CREDENTIALS\"] = GOOGLE_APPLICATION_CREDENTIALS"
   ],
   "metadata": {
    "collapsed": false,
    "ExecuteTime": {
     "end_time": "2024-03-16T15:17:35.056795Z",
     "start_time": "2024-03-16T15:17:35.007891Z"
    }
   },
   "id": "ac2848e8d3e9004e",
   "execution_count": 1
  },
  {
   "cell_type": "code",
   "execution_count": 2,
   "id": "d26ae38e-d3b2-4952-996e-67c119538a19",
   "metadata": {
    "ExecuteTime": {
     "end_time": "2024-03-16T15:18:25.035652Z",
     "start_time": "2024-03-16T15:18:24.918508Z"
    }
   },
   "outputs": [],
   "source": [
    "PROJECT_ID = 'e2e-fraud-detection' # replace with project ID\n",
    "REGION = 'us-central1'\n",
    "EXPERIMENT = 'boosted-tree'\n",
    "SERIES = 'bqml'\n",
    "\n",
    "# source data\n",
    "BQ_PROJECT = PROJECT_ID\n",
    "BQ_DATASET = 'fraud_dataset'\n",
    "BQ_TABLE = 'prepped-data'\n",
    "\n",
    "# Resources for serving BigQuery Model Exports\n",
    "TF_DEPLOY_IMAGE = 'us-docker.pkg.dev/vertex-ai/prediction/tf2-cpu.2-3:latest'\n",
    "XGB_DEPLOY_IMAGE = 'us-docker.pkg.dev/vertex-ai/prediction/xgboost-cpu.0-82:latest'\n",
    "\n",
    "# Resources for serving BigQuery Model Exports\n",
    "DEPLOY_COMPUTE = 'n1-standard-4'\n",
    "\n",
    "# Model Training\n",
    "VAR_TARGET = 'Class'\n",
    "VAR_OMIT = 'transaction_id' # add more variables to the string with space delimiters"
   ]
  },
  {
   "cell_type": "markdown",
   "id": "435f311e-87b4-484d-a51b-996d22a80bf9",
   "metadata": {},
   "source": [
    "packages:"
   ]
  },
  {
   "cell_type": "code",
   "execution_count": 3,
   "id": "f49b4d56-aa59-48d9-83dd-cc7edb54c8ce",
   "metadata": {
    "ExecuteTime": {
     "end_time": "2024-03-16T15:18:33.427800Z",
     "start_time": "2024-03-16T15:18:27.289006Z"
    }
   },
   "outputs": [],
   "source": [
    "from google.cloud import bigquery\n",
    "from google.cloud import aiplatform\n",
    "from datetime import datetime\n",
    "import matplotlib.pyplot as plt\n",
    "from sklearn import metrics\n",
    "import numpy as np\n",
    "\n",
    "from google.api import httpbody_pb2\n",
    "import json"
   ]
  },
  {
   "cell_type": "markdown",
   "id": "494ce655-21c7-4b9c-b314-bbed26263ac3",
   "metadata": {},
   "source": [
    "clients:"
   ]
  },
  {
   "cell_type": "code",
   "execution_count": 4,
   "id": "50c5337e-8efc-4778-88ab-35cb8b610cf7",
   "metadata": {
    "ExecuteTime": {
     "end_time": "2024-03-16T15:18:33.475939Z",
     "start_time": "2024-03-16T15:18:33.346551Z"
    }
   },
   "outputs": [],
   "source": [
    "bq = bigquery.Client(project = PROJECT_ID)\n",
    "aiplatform.init(project = PROJECT_ID, location = REGION)"
   ]
  },
  {
   "cell_type": "markdown",
   "id": "7578411a-9806-426c-a56c-434479975191",
   "metadata": {},
   "source": [
    "parameters:"
   ]
  },
  {
   "cell_type": "code",
   "execution_count": 5,
   "id": "727f479d-b980-42dc-9930-a878d5ee2148",
   "metadata": {
    "ExecuteTime": {
     "end_time": "2024-03-16T15:18:33.567847Z",
     "start_time": "2024-03-16T15:18:33.366951Z"
    }
   },
   "outputs": [],
   "source": [
    "TIMESTAMP = datetime.now().strftime(\"%Y%m%d%H%M%S\")\n",
    "BUCKET = PROJECT_ID\n",
    "URI = f\"gs://{BUCKET}/{SERIES}/{EXPERIMENT}\"\n",
    "RUN_NAME = f'run-{TIMESTAMP}'\n",
    "\n",
    "BQ_MODEL = f'{SERIES}_{EXPERIMENT}_{TIMESTAMP}'"
   ]
  },
  {
   "cell_type": "markdown",
   "id": "f1669a3f-5864-409a-8ef3-96742181fcc0",
   "metadata": {},
   "source": [
    "environment:"
   ]
  },
  {
   "cell_type": "code",
   "execution_count": 6,
   "id": "cc2f1b43",
   "metadata": {
    "ExecuteTime": {
     "end_time": "2024-03-16T15:18:33.737912Z",
     "start_time": "2024-03-16T15:18:33.383223Z"
    }
   },
   "outputs": [],
   "source": [
    "DIR = f\"temp/{EXPERIMENT}\"\n",
    "\n",
    "!rm -rf {DIR}\n",
    "!mkdir -p {DIR}"
   ]
  },
  {
   "cell_type": "markdown",
   "id": "ebd357fd-6d58-4f7f-a1d1-f61b527992d1",
   "metadata": {},
   "source": [
    "---\n",
    "## Review Data\n",
    "\n",
    "The data source here was prepared in [01 - BigQuery - Table Data Source](../01%20-%20Data%20Sources/01%20-%20BigQuery%20-%20Table%20Data%20Source.ipynb).  In this notebook we will use prepared BigQuery table to build a model with BigQuery ML (BQML).\n",
    "\n",
    "This is a table of 284,807 credit card transactions classified as fradulant or normal in the column `Class`.  In order protect confidentiality, the original features have been transformed using [principle component analysis (PCA)](https://en.wikipedia.org/wiki/Principal_component_analysis) into 28 features named `V1, V2, ... V28` (float).  Two descriptive features are provided without transformation by PCA:\n",
    "- `Time` (integer) is the seconds elapsed between the transaction and the earliest transaction in the table\n",
    "- `Amount` (float) is the value of the transaction\n",
    "\n",
    "The data preparation included added splits for machine learning with a column named `splits` with 80% for training (`TRAIN`), 10% for validation (`VALIDATE`) and 10% for testing (`TEST`).  Additionally, a unique identifier was added to each transaction, `transaction_id`.  "
   ]
  },
  {
   "cell_type": "markdown",
   "id": "f17f79b9-a74f-4cdd-8d03-36732538f9b3",
   "metadata": {},
   "source": [
    "Review the number of records for each level of Class (VAR_TARGET) for each of the data splits:"
   ]
  },
  {
   "cell_type": "code",
   "execution_count": 7,
   "id": "777df078-92a0-4557-8430-673b46f89bee",
   "metadata": {
    "ExecuteTime": {
     "end_time": "2024-03-16T15:18:37.911458Z",
     "start_time": "2024-03-16T15:18:36.798541Z"
    }
   },
   "outputs": [
    {
     "data": {
      "text/plain": "     splits  Class       n\n0      TEST      0   28435\n1      TEST      1      46\n2     TRAIN      0  227497\n3     TRAIN      1     400\n4  VALIDATE      0   28383\n5  VALIDATE      1      46",
      "text/html": "<div>\n<style scoped>\n    .dataframe tbody tr th:only-of-type {\n        vertical-align: middle;\n    }\n\n    .dataframe tbody tr th {\n        vertical-align: top;\n    }\n\n    .dataframe thead th {\n        text-align: right;\n    }\n</style>\n<table border=\"1\" class=\"dataframe\">\n  <thead>\n    <tr style=\"text-align: right;\">\n      <th></th>\n      <th>splits</th>\n      <th>Class</th>\n      <th>n</th>\n    </tr>\n  </thead>\n  <tbody>\n    <tr>\n      <th>0</th>\n      <td>TEST</td>\n      <td>0</td>\n      <td>28435</td>\n    </tr>\n    <tr>\n      <th>1</th>\n      <td>TEST</td>\n      <td>1</td>\n      <td>46</td>\n    </tr>\n    <tr>\n      <th>2</th>\n      <td>TRAIN</td>\n      <td>0</td>\n      <td>227497</td>\n    </tr>\n    <tr>\n      <th>3</th>\n      <td>TRAIN</td>\n      <td>1</td>\n      <td>400</td>\n    </tr>\n    <tr>\n      <th>4</th>\n      <td>VALIDATE</td>\n      <td>0</td>\n      <td>28383</td>\n    </tr>\n    <tr>\n      <th>5</th>\n      <td>VALIDATE</td>\n      <td>1</td>\n      <td>46</td>\n    </tr>\n  </tbody>\n</table>\n</div>"
     },
     "execution_count": 7,
     "metadata": {},
     "output_type": "execute_result"
    }
   ],
   "source": [
    "query = f\"\"\"\n",
    "SELECT splits, {VAR_TARGET}, count(*) as n\n",
    "FROM `{BQ_PROJECT}.{BQ_DATASET}.{BQ_TABLE}`\n",
    "GROUP BY splits, {VAR_TARGET}\n",
    "\"\"\"\n",
    "bq.query(query = query).to_dataframe()"
   ]
  },
  {
   "cell_type": "markdown",
   "id": "3528d829-8fbe-4cad-afa0-b287b593ec42",
   "metadata": {},
   "source": [
    "Further review the balance of the target variable (VAR_TARGET) for each split as a percentage of the split:"
   ]
  },
  {
   "cell_type": "code",
   "execution_count": 8,
   "id": "a080b92f-cd1a-4cff-82c4-ccf58347e1dc",
   "metadata": {
    "ExecuteTime": {
     "end_time": "2024-03-16T15:18:40.468538Z",
     "start_time": "2024-03-16T15:18:39.680551Z"
    }
   },
   "outputs": [
    {
     "data": {
      "text/plain": "     splits  Class       n   total  n_pct_class  n_pct_split  class_pct_total\n0     TRAIN      0  227497  284807     0.800158     0.998245         0.998273\n1     TRAIN      1     400  284807     0.813008     0.001755         0.001727\n2      TEST      0   28435  284807     0.100012     0.998385         0.998273\n3      TEST      1      46  284807     0.093496     0.001615         0.001727\n4  VALIDATE      0   28383  284807     0.099829     0.998382         0.998273\n5  VALIDATE      1      46  284807     0.093496     0.001618         0.001727",
      "text/html": "<div>\n<style scoped>\n    .dataframe tbody tr th:only-of-type {\n        vertical-align: middle;\n    }\n\n    .dataframe tbody tr th {\n        vertical-align: top;\n    }\n\n    .dataframe thead th {\n        text-align: right;\n    }\n</style>\n<table border=\"1\" class=\"dataframe\">\n  <thead>\n    <tr style=\"text-align: right;\">\n      <th></th>\n      <th>splits</th>\n      <th>Class</th>\n      <th>n</th>\n      <th>total</th>\n      <th>n_pct_class</th>\n      <th>n_pct_split</th>\n      <th>class_pct_total</th>\n    </tr>\n  </thead>\n  <tbody>\n    <tr>\n      <th>0</th>\n      <td>TRAIN</td>\n      <td>0</td>\n      <td>227497</td>\n      <td>284807</td>\n      <td>0.800158</td>\n      <td>0.998245</td>\n      <td>0.998273</td>\n    </tr>\n    <tr>\n      <th>1</th>\n      <td>TRAIN</td>\n      <td>1</td>\n      <td>400</td>\n      <td>284807</td>\n      <td>0.813008</td>\n      <td>0.001755</td>\n      <td>0.001727</td>\n    </tr>\n    <tr>\n      <th>2</th>\n      <td>TEST</td>\n      <td>0</td>\n      <td>28435</td>\n      <td>284807</td>\n      <td>0.100012</td>\n      <td>0.998385</td>\n      <td>0.998273</td>\n    </tr>\n    <tr>\n      <th>3</th>\n      <td>TEST</td>\n      <td>1</td>\n      <td>46</td>\n      <td>284807</td>\n      <td>0.093496</td>\n      <td>0.001615</td>\n      <td>0.001727</td>\n    </tr>\n    <tr>\n      <th>4</th>\n      <td>VALIDATE</td>\n      <td>0</td>\n      <td>28383</td>\n      <td>284807</td>\n      <td>0.099829</td>\n      <td>0.998382</td>\n      <td>0.998273</td>\n    </tr>\n    <tr>\n      <th>5</th>\n      <td>VALIDATE</td>\n      <td>1</td>\n      <td>46</td>\n      <td>284807</td>\n      <td>0.093496</td>\n      <td>0.001618</td>\n      <td>0.001727</td>\n    </tr>\n  </tbody>\n</table>\n</div>"
     },
     "execution_count": 8,
     "metadata": {},
     "output_type": "execute_result"
    }
   ],
   "source": [
    "query = f\"\"\"\n",
    "WITH\n",
    "    COUNTS as (SELECT splits, {VAR_TARGET}, count(*) as n FROM `{BQ_PROJECT}.{BQ_DATASET}.{BQ_TABLE}` GROUP BY splits, {VAR_TARGET})\n",
    "    \n",
    "SELECT *,\n",
    "    SUM(n) OVER() as total,\n",
    "    SAFE_DIVIDE(n, SUM(n) OVER(PARTITION BY {VAR_TARGET})) as n_pct_class,\n",
    "    SAFE_DIVIDE(n, SUM(n) OVER(PARTITION BY splits)) as n_pct_split,\n",
    "    SAFE_DIVIDE(SUM(n) OVER(PARTITION BY {VAR_TARGET}), SUM(n) OVER()) as class_pct_total\n",
    "FROM COUNTS\n",
    "\"\"\"\n",
    "review = bq.query(query = query).to_dataframe()\n",
    "review"
   ]
  },
  {
   "cell_type": "markdown",
   "id": "2e4eab20-c1d1-4c3d-8ecc-54c4cc190658",
   "metadata": {},
   "source": [
    "---\n",
    "## This Run"
   ]
  },
  {
   "cell_type": "code",
   "execution_count": 9,
   "id": "681ef463-436d-4c3d-a20c-0b62f6bd3b49",
   "metadata": {
    "ExecuteTime": {
     "end_time": "2024-03-16T15:18:41.449565Z",
     "start_time": "2024-03-16T15:18:41.312933Z"
    }
   },
   "outputs": [
    {
     "name": "stdout",
     "output_type": "stream",
     "text": [
      "This run will create BQML model: e2e-fraud-detection.fraud_dataset.bqml_boosted-tree_20240316101833\n",
      "This run will create Vertex AI model: e2e-fraud-detection.fraud_dataset.bqml_bqml_boosted-tree\n",
      "The runs timestamp Is: 20240316101833\n"
     ]
    }
   ],
   "source": [
    "print(f'This run will create BQML model: {BQ_PROJECT}.{BQ_DATASET}.{BQ_MODEL}')\n",
    "print(f'This run will create Vertex AI model: {BQ_PROJECT}.{BQ_DATASET}.bqml_{SERIES}_{EXPERIMENT}')\n",
    "print(f'The runs timestamp Is: {TIMESTAMP}')"
   ]
  },
  {
   "cell_type": "markdown",
   "id": "dcf97a81-326e-4a25-a6fe-cac6b0618f57",
   "metadata": {},
   "source": [
    "---\n",
    "## Train Model\n",
    "\n",
    "Use BigQuery ML to train multiclass boosted tree model using XGBoost:\n",
    "- [Boosted Tree](https://cloud.google.com/bigquery-ml/docs/reference/standard-sql/bigqueryml-syntax-create-boosted-tree) with BigQuery ML (BQML)\n",
    "- This uses the `splits` column that notebook `01` created\n",
    "- `data_split_method = CUSTOM` uses the column in `data_split_col` to assign training data for `FALSE` values and evaluation data for `TRUE` values.\n",
    "    - in this example the `WHERE splits != 'TEST'` statement filters out the test data and\n",
    "    - the `CASE` statement maps training data to FALSE and validation data to TRUE    \n",
    "    \n",
    "This example includes the [training options](https://cloud.google.com/bigquery-ml/docs/create_vertex) to register the resulting model in the [Vertex AI Model Registry](https://cloud.google.com/vertex-ai/docs/model-registry/introduction)."
   ]
  },
  {
   "cell_type": "code",
   "execution_count": 11,
   "id": "2c538095-594f-480d-b43f-2a1222e7a01a",
   "metadata": {
    "ExecuteTime": {
     "end_time": "2024-03-16T15:19:35.118704Z",
     "start_time": "2024-03-16T15:19:35.024427Z"
    }
   },
   "outputs": [
    {
     "name": "stdout",
     "output_type": "stream",
     "text": [
      "\n",
      "CREATE OR REPLACE MODEL `e2e-fraud-detection.fraud_dataset.bqml_boosted-tree_20240316101833`\n",
      "OPTIONS\n",
      "    (model_type = 'BOOSTED_TREE_CLASSIFIER',\n",
      "        auto_class_weights = TRUE,\n",
      "        input_label_cols = ['Class'],\n",
      "        enable_global_explain = TRUE,\n",
      "        data_split_col = 'custom_splits',\n",
      "        data_split_method = 'CUSTOM',\n",
      "        booster_type = 'GBTREE',\n",
      "        num_parallel_tree = 1,\n",
      "        max_iterations = 30,\n",
      "        early_stop = TRUE,\n",
      "        min_rel_progress = 0.01,\n",
      "        tree_method = 'HIST',\n",
      "        subsample = 0.85,\n",
      "        MODEL_REGISTRY = 'VERTEX_AI',\n",
      "        VERTEX_AI_MODEL_ID = 'bqml_boosted-tree',\n",
      "        VERTEX_AI_MODEL_VERSION_ALIASES = ['run-20240316101833']\n",
      "    ) AS\n",
      "SELECT * EXCEPT(transaction_id, splits),\n",
      "    CASE\n",
      "        WHEN splits = 'TRAIN' THEN FALSE\n",
      "        ELSE TRUE\n",
      "    END AS custom_splits\n",
      "FROM `e2e-fraud-detection.fraud_dataset.prepped-data`\n",
      "WHERE splits != 'TEST'\n"
     ]
    }
   ],
   "source": [
    "query = f\"\"\"\n",
    "CREATE OR REPLACE MODEL `{BQ_PROJECT}.{BQ_DATASET}.{BQ_MODEL}`\n",
    "OPTIONS\n",
    "    (model_type = 'BOOSTED_TREE_CLASSIFIER',\n",
    "        auto_class_weights = TRUE,\n",
    "        input_label_cols = ['{VAR_TARGET}'],\n",
    "        enable_global_explain = TRUE,\n",
    "        data_split_col = 'custom_splits',\n",
    "        data_split_method = 'CUSTOM',\n",
    "        booster_type = 'GBTREE',\n",
    "        num_parallel_tree = 1,\n",
    "        max_iterations = 30,\n",
    "        early_stop = TRUE,\n",
    "        min_rel_progress = 0.01,\n",
    "        tree_method = 'HIST',\n",
    "        subsample = 0.85,\n",
    "        MODEL_REGISTRY = 'VERTEX_AI',\n",
    "        VERTEX_AI_MODEL_ID = '{SERIES}_{EXPERIMENT}',\n",
    "        VERTEX_AI_MODEL_VERSION_ALIASES = ['{RUN_NAME}']\n",
    "    ) AS\n",
    "SELECT * EXCEPT({','.join(VAR_OMIT.split())}, splits),\n",
    "    CASE\n",
    "        WHEN splits = 'TRAIN' THEN FALSE\n",
    "        ELSE TRUE\n",
    "    END AS custom_splits\n",
    "FROM `{BQ_PROJECT}.{BQ_DATASET}.{BQ_TABLE}`\n",
    "WHERE splits != 'TEST'\n",
    "\"\"\"\n",
    "print(query)"
   ]
  },
  {
   "cell_type": "code",
   "execution_count": 12,
   "id": "118cf076-90f1-403c-9d8e-1ae6b1907426",
   "metadata": {
    "ExecuteTime": {
     "end_time": "2024-03-16T15:25:15.785840Z",
     "start_time": "2024-03-16T15:19:41.068015Z"
    }
   },
   "outputs": [
    {
     "data": {
      "text/plain": "<google.cloud.bigquery.table._EmptyRowIterator at 0x7fe44110c190>"
     },
     "execution_count": 12,
     "metadata": {},
     "output_type": "execute_result"
    }
   ],
   "source": [
    "job = bq.query(query = query)\n",
    "job.result()"
   ]
  },
  {
   "cell_type": "code",
   "execution_count": 13,
   "id": "e3a6b5f1",
   "metadata": {
    "ExecuteTime": {
     "end_time": "2024-03-16T15:25:15.814272Z",
     "start_time": "2024-03-16T15:25:15.785843Z"
    }
   },
   "outputs": [
    {
     "data": {
      "text/plain": "331.827"
     },
     "execution_count": 13,
     "metadata": {},
     "output_type": "execute_result"
    }
   ],
   "source": [
    "(job.ended-job.started).total_seconds()"
   ]
  },
  {
   "cell_type": "code",
   "execution_count": 14,
   "id": "de17d955-6c31-46e6-8fb5-f9fc44be2257",
   "metadata": {
    "ExecuteTime": {
     "end_time": "2024-03-16T15:25:15.831590Z",
     "start_time": "2024-03-16T15:25:15.794426Z"
    }
   },
   "outputs": [
    {
     "data": {
      "text/plain": "13618188299"
     },
     "execution_count": 14,
     "metadata": {},
     "output_type": "execute_result"
    }
   ],
   "source": [
    "job.total_bytes_processed"
   ]
  },
  {
   "cell_type": "markdown",
   "id": "976923bf-c123-4617-b6a6-73eb80baa8fb",
   "metadata": {},
   "source": [
    "Add labels to the model in BigQuery:"
   ]
  },
  {
   "cell_type": "code",
   "execution_count": 15,
   "id": "13d696f2-a277-422c-9cb0-f2ea8b5b242f",
   "metadata": {
    "ExecuteTime": {
     "end_time": "2024-03-16T15:25:16.150633Z",
     "start_time": "2024-03-16T15:25:15.804254Z"
    }
   },
   "outputs": [],
   "source": [
    "model = bq.get_model(f'{BQ_PROJECT}.{BQ_DATASET}.{BQ_MODEL}')\n",
    "model.labels = {'series' : f'{SERIES}', 'experiment' : f'{EXPERIMENT}','timestamp' : f'{TIMESTAMP}'}\n",
    "model = bq.update_model(model, ['labels'])"
   ]
  },
  {
   "cell_type": "markdown",
   "id": "7f319c1b-5c99-4a23-aa0b-2fc0b162f271",
   "metadata": {},
   "source": [
    "### Check out this model in BigQuery Console:\n",
    "- Make sure project selected is the one from this notebook\n",
    "- Under Explore, expand this project and dataset\n",
    "- Expand Models and select the model create here"
   ]
  },
  {
   "cell_type": "code",
   "execution_count": 16,
   "id": "2e612ea8-ff94-4100-8293-5e2d691cfc69",
   "metadata": {
    "ExecuteTime": {
     "end_time": "2024-03-16T15:25:16.159198Z",
     "start_time": "2024-03-16T15:25:16.140793Z"
    }
   },
   "outputs": [
    {
     "name": "stdout",
     "output_type": "stream",
     "text": [
      "BigQuery Console for Project:\n",
      "https://console.cloud.google.com/bigquery?project=e2e-fraud-detection\n"
     ]
    }
   ],
   "source": [
    "print(f'BigQuery Console for Project:\\nhttps://console.cloud.google.com/bigquery?project={PROJECT_ID}')"
   ]
  },
  {
   "cell_type": "code",
   "execution_count": 17,
   "id": "a70136c5-da05-4083-b45e-1c19d4a32c3c",
   "metadata": {
    "ExecuteTime": {
     "end_time": "2024-03-16T15:25:16.183148Z",
     "start_time": "2024-03-16T15:25:16.149794Z"
    }
   },
   "outputs": [
    {
     "name": "stdout",
     "output_type": "stream",
     "text": [
      "Direct link to the model in BigQuery:\n",
      "https://console.cloud.google.com/bigquery?project=e2e-fraud-detection&ws=!1m5!1m4!5m3!1se2e-fraud-detection!2sfraud_dataset!3sbqml_boosted-tree_20240316101833\n"
     ]
    }
   ],
   "source": [
    "print(f'Direct link to the model in BigQuery:\\nhttps://console.cloud.google.com/bigquery?project={PROJECT_ID}&ws=!1m5!1m4!5m3!1s{PROJECT_ID}!2s{BQ_DATASET}!3s{BQ_MODEL}')"
   ]
  },
  {
   "cell_type": "markdown",
   "id": "71d1dd70-d66f-411d-a8fd-bd00773ccea0",
   "metadata": {},
   "source": [
    "### Check out this model in the Vertex AI Model Registry"
   ]
  },
  {
   "cell_type": "code",
   "execution_count": 18,
   "id": "c3a7c3c4-b473-4dcb-8e00-b399982a0673",
   "metadata": {
    "ExecuteTime": {
     "end_time": "2024-03-16T15:25:16.207746Z",
     "start_time": "2024-03-16T15:25:16.159254Z"
    }
   },
   "outputs": [
    {
     "name": "stdout",
     "output_type": "stream",
     "text": [
      "Review the model in the Vertex AI Model Registry:\n",
      "https://console.cloud.google.com/vertex-ai/locations/us-central1/models/bqml_bqml_boosted-tree_20240316101833?project=e2e-fraud-detection\n"
     ]
    }
   ],
   "source": [
    "print(f'Review the model in the Vertex AI Model Registry:\\nhttps://console.cloud.google.com/vertex-ai/locations/{REGION}/models/{BQ_MODEL}?project={PROJECT_ID}')"
   ]
  },
  {
   "cell_type": "markdown",
   "id": "0d1c1c9c-dd6e-4b71-bbae-1ce7df6a64f9",
   "metadata": {},
   "source": [
    "### Feature and Training Review"
   ]
  },
  {
   "cell_type": "markdown",
   "id": "13884065-074c-47cc-889f-c8c17d092a27",
   "metadata": {},
   "source": [
    "Review the Model Inputs, the feature information, with [ML.FEATURE_INFO](https://cloud.google.com/bigquery-ml/docs/reference/standard-sql/bigqueryml-syntax-feature):"
   ]
  },
  {
   "cell_type": "code",
   "execution_count": 19,
   "id": "565dec85-5aa3-440c-b829-e4e5fc8e5a72",
   "metadata": {
    "ExecuteTime": {
     "end_time": "2024-03-16T15:25:17.350175Z",
     "start_time": "2024-03-16T15:25:16.167018Z"
    }
   },
   "outputs": [
    {
     "data": {
      "text/plain": "     input        min            max          mean        median  \\\n0     Time   0.000000  172792.000000  94822.243592  85154.000000   \n1       V1 -56.407510       2.446505     -0.000736      0.044339   \n2       V2 -72.715728      22.057729     -0.000056      0.075623   \n3       V3 -32.965346       9.382558      0.000062      0.189418   \n4       V4  -5.683171      16.875344      0.002923     -0.031616   \n5       V5 -42.147898      34.801666      0.002895     -0.059461   \n6       V6 -26.160506      23.917837     -0.002217     -0.278193   \n7       V7 -43.557242      44.054461      0.001489      0.031792   \n8       V8 -73.216718      20.007208     -0.000523      0.020619   \n9       V9 -13.434066      15.594995     -0.001416     -0.056955   \n10     V10 -24.588262      23.745136      0.001133     -0.099924   \n11     V11  -4.797473      11.619723     -0.001210     -0.034725   \n12     V12 -18.683715       7.848392     -0.000622      0.139833   \n13     V13  -5.791881       4.569009     -0.000502     -0.012641   \n14     V14 -18.822087      10.526766      0.001318      0.042567   \n15     V15  -4.391307       5.784514     -0.001165      0.041404   \n16     V16 -14.129855       8.289890     -0.000800      0.064587   \n17     V17 -25.162799       9.253526     -0.000732     -0.068692   \n18     V18  -9.498746       5.041069     -0.001094     -0.002809   \n19     V19  -7.213527       5.591971      0.000869     -0.003442   \n20     V20 -28.009635      39.420904      0.000199     -0.060962   \n21     V21 -34.830382      27.202839      0.000315     -0.031597   \n22     V22 -10.933144      10.503090      0.000775      0.005680   \n23     V23 -44.807735      22.528412     -0.000453     -0.014934   \n24     V24  -2.824849       4.022866      0.000211      0.035538   \n25     V25 -10.295397       7.519589      0.001376      0.008024   \n26     V26  -2.604551       3.517346     -0.000703     -0.053060   \n27     V27 -22.565679      11.135740     -0.000671      0.000086   \n28     V28 -11.710896      33.847808      0.000089      0.010387   \n29  Amount   0.000000   19656.530000     88.081451     21.380000   \n\n          stddev  category_count  null_count  dimension  \n0   47468.021107            <NA>           0       <NA>  \n1       1.960462            <NA>           0       <NA>  \n2       1.654712            <NA>           0       <NA>  \n3       1.513369            <NA>           0       <NA>  \n4       1.417278            <NA>           0       <NA>  \n5       1.362772            <NA>           0       <NA>  \n6       1.324232            <NA>           0       <NA>  \n7       1.214252            <NA>           0       <NA>  \n8       1.193520            <NA>           0       <NA>  \n9       1.098525            <NA>           0       <NA>  \n10      1.089362            <NA>           0       <NA>  \n11      1.019361            <NA>           0       <NA>  \n12      0.997684            <NA>           0       <NA>  \n13      0.995935            <NA>           0       <NA>  \n14      0.956507            <NA>           0       <NA>  \n15      0.915448            <NA>           0       <NA>  \n16      0.874763            <NA>           0       <NA>  \n17      0.846077            <NA>           0       <NA>  \n18      0.837740            <NA>           0       <NA>  \n19      0.813107            <NA>           0       <NA>  \n20      0.761867            <NA>           0       <NA>  \n21      0.735887            <NA>           0       <NA>  \n22      0.725350            <NA>           0       <NA>  \n23      0.620321            <NA>           0       <NA>  \n24      0.605292            <NA>           0       <NA>  \n25      0.520937            <NA>           0       <NA>  \n26      0.482274            <NA>           0       <NA>  \n27      0.400017            <NA>           0       <NA>  \n28      0.335617            <NA>           0       <NA>  \n29    242.432323            <NA>           0       <NA>  ",
      "text/html": "<div>\n<style scoped>\n    .dataframe tbody tr th:only-of-type {\n        vertical-align: middle;\n    }\n\n    .dataframe tbody tr th {\n        vertical-align: top;\n    }\n\n    .dataframe thead th {\n        text-align: right;\n    }\n</style>\n<table border=\"1\" class=\"dataframe\">\n  <thead>\n    <tr style=\"text-align: right;\">\n      <th></th>\n      <th>input</th>\n      <th>min</th>\n      <th>max</th>\n      <th>mean</th>\n      <th>median</th>\n      <th>stddev</th>\n      <th>category_count</th>\n      <th>null_count</th>\n      <th>dimension</th>\n    </tr>\n  </thead>\n  <tbody>\n    <tr>\n      <th>0</th>\n      <td>Time</td>\n      <td>0.000000</td>\n      <td>172792.000000</td>\n      <td>94822.243592</td>\n      <td>85154.000000</td>\n      <td>47468.021107</td>\n      <td>&lt;NA&gt;</td>\n      <td>0</td>\n      <td>&lt;NA&gt;</td>\n    </tr>\n    <tr>\n      <th>1</th>\n      <td>V1</td>\n      <td>-56.407510</td>\n      <td>2.446505</td>\n      <td>-0.000736</td>\n      <td>0.044339</td>\n      <td>1.960462</td>\n      <td>&lt;NA&gt;</td>\n      <td>0</td>\n      <td>&lt;NA&gt;</td>\n    </tr>\n    <tr>\n      <th>2</th>\n      <td>V2</td>\n      <td>-72.715728</td>\n      <td>22.057729</td>\n      <td>-0.000056</td>\n      <td>0.075623</td>\n      <td>1.654712</td>\n      <td>&lt;NA&gt;</td>\n      <td>0</td>\n      <td>&lt;NA&gt;</td>\n    </tr>\n    <tr>\n      <th>3</th>\n      <td>V3</td>\n      <td>-32.965346</td>\n      <td>9.382558</td>\n      <td>0.000062</td>\n      <td>0.189418</td>\n      <td>1.513369</td>\n      <td>&lt;NA&gt;</td>\n      <td>0</td>\n      <td>&lt;NA&gt;</td>\n    </tr>\n    <tr>\n      <th>4</th>\n      <td>V4</td>\n      <td>-5.683171</td>\n      <td>16.875344</td>\n      <td>0.002923</td>\n      <td>-0.031616</td>\n      <td>1.417278</td>\n      <td>&lt;NA&gt;</td>\n      <td>0</td>\n      <td>&lt;NA&gt;</td>\n    </tr>\n    <tr>\n      <th>5</th>\n      <td>V5</td>\n      <td>-42.147898</td>\n      <td>34.801666</td>\n      <td>0.002895</td>\n      <td>-0.059461</td>\n      <td>1.362772</td>\n      <td>&lt;NA&gt;</td>\n      <td>0</td>\n      <td>&lt;NA&gt;</td>\n    </tr>\n    <tr>\n      <th>6</th>\n      <td>V6</td>\n      <td>-26.160506</td>\n      <td>23.917837</td>\n      <td>-0.002217</td>\n      <td>-0.278193</td>\n      <td>1.324232</td>\n      <td>&lt;NA&gt;</td>\n      <td>0</td>\n      <td>&lt;NA&gt;</td>\n    </tr>\n    <tr>\n      <th>7</th>\n      <td>V7</td>\n      <td>-43.557242</td>\n      <td>44.054461</td>\n      <td>0.001489</td>\n      <td>0.031792</td>\n      <td>1.214252</td>\n      <td>&lt;NA&gt;</td>\n      <td>0</td>\n      <td>&lt;NA&gt;</td>\n    </tr>\n    <tr>\n      <th>8</th>\n      <td>V8</td>\n      <td>-73.216718</td>\n      <td>20.007208</td>\n      <td>-0.000523</td>\n      <td>0.020619</td>\n      <td>1.193520</td>\n      <td>&lt;NA&gt;</td>\n      <td>0</td>\n      <td>&lt;NA&gt;</td>\n    </tr>\n    <tr>\n      <th>9</th>\n      <td>V9</td>\n      <td>-13.434066</td>\n      <td>15.594995</td>\n      <td>-0.001416</td>\n      <td>-0.056955</td>\n      <td>1.098525</td>\n      <td>&lt;NA&gt;</td>\n      <td>0</td>\n      <td>&lt;NA&gt;</td>\n    </tr>\n    <tr>\n      <th>10</th>\n      <td>V10</td>\n      <td>-24.588262</td>\n      <td>23.745136</td>\n      <td>0.001133</td>\n      <td>-0.099924</td>\n      <td>1.089362</td>\n      <td>&lt;NA&gt;</td>\n      <td>0</td>\n      <td>&lt;NA&gt;</td>\n    </tr>\n    <tr>\n      <th>11</th>\n      <td>V11</td>\n      <td>-4.797473</td>\n      <td>11.619723</td>\n      <td>-0.001210</td>\n      <td>-0.034725</td>\n      <td>1.019361</td>\n      <td>&lt;NA&gt;</td>\n      <td>0</td>\n      <td>&lt;NA&gt;</td>\n    </tr>\n    <tr>\n      <th>12</th>\n      <td>V12</td>\n      <td>-18.683715</td>\n      <td>7.848392</td>\n      <td>-0.000622</td>\n      <td>0.139833</td>\n      <td>0.997684</td>\n      <td>&lt;NA&gt;</td>\n      <td>0</td>\n      <td>&lt;NA&gt;</td>\n    </tr>\n    <tr>\n      <th>13</th>\n      <td>V13</td>\n      <td>-5.791881</td>\n      <td>4.569009</td>\n      <td>-0.000502</td>\n      <td>-0.012641</td>\n      <td>0.995935</td>\n      <td>&lt;NA&gt;</td>\n      <td>0</td>\n      <td>&lt;NA&gt;</td>\n    </tr>\n    <tr>\n      <th>14</th>\n      <td>V14</td>\n      <td>-18.822087</td>\n      <td>10.526766</td>\n      <td>0.001318</td>\n      <td>0.042567</td>\n      <td>0.956507</td>\n      <td>&lt;NA&gt;</td>\n      <td>0</td>\n      <td>&lt;NA&gt;</td>\n    </tr>\n    <tr>\n      <th>15</th>\n      <td>V15</td>\n      <td>-4.391307</td>\n      <td>5.784514</td>\n      <td>-0.001165</td>\n      <td>0.041404</td>\n      <td>0.915448</td>\n      <td>&lt;NA&gt;</td>\n      <td>0</td>\n      <td>&lt;NA&gt;</td>\n    </tr>\n    <tr>\n      <th>16</th>\n      <td>V16</td>\n      <td>-14.129855</td>\n      <td>8.289890</td>\n      <td>-0.000800</td>\n      <td>0.064587</td>\n      <td>0.874763</td>\n      <td>&lt;NA&gt;</td>\n      <td>0</td>\n      <td>&lt;NA&gt;</td>\n    </tr>\n    <tr>\n      <th>17</th>\n      <td>V17</td>\n      <td>-25.162799</td>\n      <td>9.253526</td>\n      <td>-0.000732</td>\n      <td>-0.068692</td>\n      <td>0.846077</td>\n      <td>&lt;NA&gt;</td>\n      <td>0</td>\n      <td>&lt;NA&gt;</td>\n    </tr>\n    <tr>\n      <th>18</th>\n      <td>V18</td>\n      <td>-9.498746</td>\n      <td>5.041069</td>\n      <td>-0.001094</td>\n      <td>-0.002809</td>\n      <td>0.837740</td>\n      <td>&lt;NA&gt;</td>\n      <td>0</td>\n      <td>&lt;NA&gt;</td>\n    </tr>\n    <tr>\n      <th>19</th>\n      <td>V19</td>\n      <td>-7.213527</td>\n      <td>5.591971</td>\n      <td>0.000869</td>\n      <td>-0.003442</td>\n      <td>0.813107</td>\n      <td>&lt;NA&gt;</td>\n      <td>0</td>\n      <td>&lt;NA&gt;</td>\n    </tr>\n    <tr>\n      <th>20</th>\n      <td>V20</td>\n      <td>-28.009635</td>\n      <td>39.420904</td>\n      <td>0.000199</td>\n      <td>-0.060962</td>\n      <td>0.761867</td>\n      <td>&lt;NA&gt;</td>\n      <td>0</td>\n      <td>&lt;NA&gt;</td>\n    </tr>\n    <tr>\n      <th>21</th>\n      <td>V21</td>\n      <td>-34.830382</td>\n      <td>27.202839</td>\n      <td>0.000315</td>\n      <td>-0.031597</td>\n      <td>0.735887</td>\n      <td>&lt;NA&gt;</td>\n      <td>0</td>\n      <td>&lt;NA&gt;</td>\n    </tr>\n    <tr>\n      <th>22</th>\n      <td>V22</td>\n      <td>-10.933144</td>\n      <td>10.503090</td>\n      <td>0.000775</td>\n      <td>0.005680</td>\n      <td>0.725350</td>\n      <td>&lt;NA&gt;</td>\n      <td>0</td>\n      <td>&lt;NA&gt;</td>\n    </tr>\n    <tr>\n      <th>23</th>\n      <td>V23</td>\n      <td>-44.807735</td>\n      <td>22.528412</td>\n      <td>-0.000453</td>\n      <td>-0.014934</td>\n      <td>0.620321</td>\n      <td>&lt;NA&gt;</td>\n      <td>0</td>\n      <td>&lt;NA&gt;</td>\n    </tr>\n    <tr>\n      <th>24</th>\n      <td>V24</td>\n      <td>-2.824849</td>\n      <td>4.022866</td>\n      <td>0.000211</td>\n      <td>0.035538</td>\n      <td>0.605292</td>\n      <td>&lt;NA&gt;</td>\n      <td>0</td>\n      <td>&lt;NA&gt;</td>\n    </tr>\n    <tr>\n      <th>25</th>\n      <td>V25</td>\n      <td>-10.295397</td>\n      <td>7.519589</td>\n      <td>0.001376</td>\n      <td>0.008024</td>\n      <td>0.520937</td>\n      <td>&lt;NA&gt;</td>\n      <td>0</td>\n      <td>&lt;NA&gt;</td>\n    </tr>\n    <tr>\n      <th>26</th>\n      <td>V26</td>\n      <td>-2.604551</td>\n      <td>3.517346</td>\n      <td>-0.000703</td>\n      <td>-0.053060</td>\n      <td>0.482274</td>\n      <td>&lt;NA&gt;</td>\n      <td>0</td>\n      <td>&lt;NA&gt;</td>\n    </tr>\n    <tr>\n      <th>27</th>\n      <td>V27</td>\n      <td>-22.565679</td>\n      <td>11.135740</td>\n      <td>-0.000671</td>\n      <td>0.000086</td>\n      <td>0.400017</td>\n      <td>&lt;NA&gt;</td>\n      <td>0</td>\n      <td>&lt;NA&gt;</td>\n    </tr>\n    <tr>\n      <th>28</th>\n      <td>V28</td>\n      <td>-11.710896</td>\n      <td>33.847808</td>\n      <td>0.000089</td>\n      <td>0.010387</td>\n      <td>0.335617</td>\n      <td>&lt;NA&gt;</td>\n      <td>0</td>\n      <td>&lt;NA&gt;</td>\n    </tr>\n    <tr>\n      <th>29</th>\n      <td>Amount</td>\n      <td>0.000000</td>\n      <td>19656.530000</td>\n      <td>88.081451</td>\n      <td>21.380000</td>\n      <td>242.432323</td>\n      <td>&lt;NA&gt;</td>\n      <td>0</td>\n      <td>&lt;NA&gt;</td>\n    </tr>\n  </tbody>\n</table>\n</div>"
     },
     "execution_count": 19,
     "metadata": {},
     "output_type": "execute_result"
    }
   ],
   "source": [
    "feature_info = bq.query(\n",
    "    query = f\"\"\"\n",
    "        SELECT *\n",
    "        FROM ML.FEATURE_INFO(MODEL `{BQ_PROJECT}.{BQ_DATASET}.{BQ_MODEL}`)\n",
    "        \"\"\"\n",
    ").to_dataframe()\n",
    "feature_info"
   ]
  },
  {
   "cell_type": "markdown",
   "id": "5bd4faa9-a5dd-49fb-a72f-e991b4e5063f",
   "metadata": {},
   "source": [
    "Review the iterations from training with [ML.TRAINING_INFO](https://cloud.google.com/bigquery-ml/docs/reference/standard-sql/bigqueryml-syntax-train):"
   ]
  },
  {
   "cell_type": "code",
   "execution_count": 20,
   "id": "6ec867ef-6044-4812-814b-2a7e274ad646",
   "metadata": {
    "ExecuteTime": {
     "end_time": "2024-03-16T15:25:18.490688Z",
     "start_time": "2024-03-16T15:25:17.348122Z"
    }
   },
   "outputs": [
    {
     "data": {
      "text/plain": "   training_run  iteration      loss  eval_loss  learning_rate  duration_ms\n0             0          1  0.464426   0.486105            0.3       133111\n1             0          2  0.333791   0.368712            0.3          103\n2             0          3  0.247041   0.306898            0.3           67\n3             0          4  0.184744   0.261040            0.3           72\n4             0          5  0.143818   0.241127            0.3           63\n5             0          6  0.110364   0.231676            0.3           74\n6             0          7  0.085761   0.218866            0.3           73\n7             0          8  0.067803   0.217479            0.3           70",
      "text/html": "<div>\n<style scoped>\n    .dataframe tbody tr th:only-of-type {\n        vertical-align: middle;\n    }\n\n    .dataframe tbody tr th {\n        vertical-align: top;\n    }\n\n    .dataframe thead th {\n        text-align: right;\n    }\n</style>\n<table border=\"1\" class=\"dataframe\">\n  <thead>\n    <tr style=\"text-align: right;\">\n      <th></th>\n      <th>training_run</th>\n      <th>iteration</th>\n      <th>loss</th>\n      <th>eval_loss</th>\n      <th>learning_rate</th>\n      <th>duration_ms</th>\n    </tr>\n  </thead>\n  <tbody>\n    <tr>\n      <th>0</th>\n      <td>0</td>\n      <td>1</td>\n      <td>0.464426</td>\n      <td>0.486105</td>\n      <td>0.3</td>\n      <td>133111</td>\n    </tr>\n    <tr>\n      <th>1</th>\n      <td>0</td>\n      <td>2</td>\n      <td>0.333791</td>\n      <td>0.368712</td>\n      <td>0.3</td>\n      <td>103</td>\n    </tr>\n    <tr>\n      <th>2</th>\n      <td>0</td>\n      <td>3</td>\n      <td>0.247041</td>\n      <td>0.306898</td>\n      <td>0.3</td>\n      <td>67</td>\n    </tr>\n    <tr>\n      <th>3</th>\n      <td>0</td>\n      <td>4</td>\n      <td>0.184744</td>\n      <td>0.261040</td>\n      <td>0.3</td>\n      <td>72</td>\n    </tr>\n    <tr>\n      <th>4</th>\n      <td>0</td>\n      <td>5</td>\n      <td>0.143818</td>\n      <td>0.241127</td>\n      <td>0.3</td>\n      <td>63</td>\n    </tr>\n    <tr>\n      <th>5</th>\n      <td>0</td>\n      <td>6</td>\n      <td>0.110364</td>\n      <td>0.231676</td>\n      <td>0.3</td>\n      <td>74</td>\n    </tr>\n    <tr>\n      <th>6</th>\n      <td>0</td>\n      <td>7</td>\n      <td>0.085761</td>\n      <td>0.218866</td>\n      <td>0.3</td>\n      <td>73</td>\n    </tr>\n    <tr>\n      <th>7</th>\n      <td>0</td>\n      <td>8</td>\n      <td>0.067803</td>\n      <td>0.217479</td>\n      <td>0.3</td>\n      <td>70</td>\n    </tr>\n  </tbody>\n</table>\n</div>"
     },
     "execution_count": 20,
     "metadata": {},
     "output_type": "execute_result"
    }
   ],
   "source": [
    "history = bq.query(\n",
    "    query = f\"\"\"\n",
    "        SELECT *\n",
    "        FROM ML.TRAINING_INFO(MODEL `{BQ_PROJECT}.{BQ_DATASET}.{BQ_MODEL}`)\n",
    "        ORDER BY iteration\"\"\"\n",
    ").to_dataframe()\n",
    "history"
   ]
  },
  {
   "cell_type": "markdown",
   "id": "aa04b6e6-8222-4d31-bd21-ddd16d4f8813",
   "metadata": {},
   "source": [
    "Plot the loss history:"
   ]
  },
  {
   "cell_type": "code",
   "execution_count": 21,
   "id": "4fbb285a-a2ef-4d76-8823-5f433fef60c2",
   "metadata": {
    "ExecuteTime": {
     "end_time": "2024-03-16T15:25:18.864743Z",
     "start_time": "2024-03-16T15:25:18.490975Z"
    }
   },
   "outputs": [
    {
     "data": {
      "text/plain": "<Axes: xlabel='iteration'>"
     },
     "execution_count": 21,
     "metadata": {},
     "output_type": "execute_result"
    },
    {
     "data": {
      "text/plain": "<Figure size 1000x500 with 1 Axes>",
      "image/png": "[encoded data removed]"
     },
     "metadata": {},
     "output_type": "display_data"
    }
   ],
   "source": [
    "history.plot(x = 'iteration', y = ['loss','eval_loss'], figsize = (10, 5), grid = True)"
   ]
  },
  {
   "cell_type": "markdown",
   "id": "66e667a0-a66e-43de-97cc-37e682d91568",
   "metadata": {},
   "source": [
    "---\n",
    "## Evaluate Model"
   ]
  },
  {
   "cell_type": "markdown",
   "id": "bd27dae2-6f4c-4783-9d57-db9e9c8c283a",
   "metadata": {},
   "source": [
    "### Metrics"
   ]
  },
  {
   "cell_type": "markdown",
   "id": "20b78725-f19a-4665-aaca-43afedc2b2bd",
   "metadata": {},
   "source": [
    "Review the model evaluation statistics on the splits with [ML.EVALUATE](https://cloud.google.com/bigquery-ml/docs/reference/standard-sql/bigqueryml-syntax-evaluate):"
   ]
  },
  {
   "cell_type": "code",
   "execution_count": 22,
   "id": "df19d1ac-48f6-4c92-842e-05a073983334",
   "metadata": {
    "ExecuteTime": {
     "end_time": "2024-03-16T15:25:22.114872Z",
     "start_time": "2024-03-16T15:25:18.787983Z"
    }
   },
   "outputs": [
    {
     "data": {
      "text/plain": "      SPLIT  precision    recall  accuracy  f1_score  log_loss   roc_auc\n0  VALIDATE   0.341880  0.869565  0.997080  0.490798  0.064017  0.980728\n1      TEST   0.349057  0.804348  0.997261  0.486842  0.063361  0.947779\n2     TRAIN   0.445312  0.997500  0.997815  0.615741  0.062626  1.000000",
      "text/html": "<div>\n<style scoped>\n    .dataframe tbody tr th:only-of-type {\n        vertical-align: middle;\n    }\n\n    .dataframe tbody tr th {\n        vertical-align: top;\n    }\n\n    .dataframe thead th {\n        text-align: right;\n    }\n</style>\n<table border=\"1\" class=\"dataframe\">\n  <thead>\n    <tr style=\"text-align: right;\">\n      <th></th>\n      <th>SPLIT</th>\n      <th>precision</th>\n      <th>recall</th>\n      <th>accuracy</th>\n      <th>f1_score</th>\n      <th>log_loss</th>\n      <th>roc_auc</th>\n    </tr>\n  </thead>\n  <tbody>\n    <tr>\n      <th>0</th>\n      <td>VALIDATE</td>\n      <td>0.341880</td>\n      <td>0.869565</td>\n      <td>0.997080</td>\n      <td>0.490798</td>\n      <td>0.064017</td>\n      <td>0.980728</td>\n    </tr>\n    <tr>\n      <th>1</th>\n      <td>TEST</td>\n      <td>0.349057</td>\n      <td>0.804348</td>\n      <td>0.997261</td>\n      <td>0.486842</td>\n      <td>0.063361</td>\n      <td>0.947779</td>\n    </tr>\n    <tr>\n      <th>2</th>\n      <td>TRAIN</td>\n      <td>0.445312</td>\n      <td>0.997500</td>\n      <td>0.997815</td>\n      <td>0.615741</td>\n      <td>0.062626</td>\n      <td>1.000000</td>\n    </tr>\n  </tbody>\n</table>\n</div>"
     },
     "execution_count": 22,
     "metadata": {},
     "output_type": "execute_result"
    }
   ],
   "source": [
    "query = f\"\"\"\n",
    "SELECT 'TEST' as SPLIT, * FROM ML.EVALUATE (MODEL `{BQ_PROJECT}.{BQ_DATASET}.{BQ_MODEL}`,\n",
    "    (SELECT * FROM `{BQ_PROJECT}.{BQ_DATASET}.{BQ_TABLE}` WHERE SPLITS='TEST'))\n",
    "UNION ALL\n",
    "SELECT 'VALIDATE' as SPLIT, * FROM ML.EVALUATE (MODEL `{BQ_PROJECT}.{BQ_DATASET}.{BQ_MODEL}`,\n",
    "    (SELECT * FROM `{BQ_PROJECT}.{BQ_DATASET}.{BQ_TABLE}` WHERE SPLITS='VALIDATE'))\n",
    "UNION ALL\n",
    "SELECT 'TRAIN' as SPLIT, * FROM ML.EVALUATE (MODEL `{BQ_PROJECT}.{BQ_DATASET}.{BQ_MODEL}`,\n",
    "    (SELECT * FROM `{BQ_PROJECT}.{BQ_DATASET}.{BQ_TABLE}` WHERE SPLITS='TRAIN'))\n",
    "\"\"\"\n",
    "bq.query(query = query).to_dataframe()"
   ]
  },
  {
   "cell_type": "markdown",
   "id": "96e6ae16-a400-4447-99d9-88f69c471bd4",
   "metadata": {},
   "source": [
    "### Confusion Matrix"
   ]
  },
  {
   "cell_type": "markdown",
   "id": "7a9acb29-f822-41d6-ac33-2a83537dced1",
   "metadata": {},
   "source": [
    "Review the confusion matrix for each split with [ML.CONFUSION_MATRIX](https://cloud.google.com/bigquery-ml/docs/reference/standard-sql/bigqueryml-syntax-confusion):"
   ]
  },
  {
   "cell_type": "code",
   "execution_count": 23,
   "id": "5dd1ff1b-a241-44c8-adae-58788988411f",
   "metadata": {
    "ExecuteTime": {
     "end_time": "2024-03-16T15:25:24.944415Z",
     "start_time": "2024-03-16T15:25:22.114104Z"
    }
   },
   "outputs": [
    {
     "data": {
      "text/plain": "   expected_label      _0   _1\n0               0  227000  497\n1               1       1  399",
      "text/html": "<div>\n<style scoped>\n    .dataframe tbody tr th:only-of-type {\n        vertical-align: middle;\n    }\n\n    .dataframe tbody tr th {\n        vertical-align: top;\n    }\n\n    .dataframe thead th {\n        text-align: right;\n    }\n</style>\n<table border=\"1\" class=\"dataframe\">\n  <thead>\n    <tr style=\"text-align: right;\">\n      <th></th>\n      <th>expected_label</th>\n      <th>_0</th>\n      <th>_1</th>\n    </tr>\n  </thead>\n  <tbody>\n    <tr>\n      <th>0</th>\n      <td>0</td>\n      <td>227000</td>\n      <td>497</td>\n    </tr>\n    <tr>\n      <th>1</th>\n      <td>1</td>\n      <td>1</td>\n      <td>399</td>\n    </tr>\n  </tbody>\n</table>\n</div>"
     },
     "execution_count": 23,
     "metadata": {},
     "output_type": "execute_result"
    }
   ],
   "source": [
    "query = f\"\"\"\n",
    "SELECT *\n",
    "FROM ML.CONFUSION_MATRIX (MODEL `{BQ_PROJECT}.{BQ_DATASET}.{BQ_MODEL}`,(\n",
    "    SELECT *\n",
    "    FROM `{BQ_PROJECT}.{BQ_DATASET}.{BQ_TABLE}`\n",
    "    WHERE splits = 'TRAIN')\n",
    "  )\n",
    "\"\"\"\n",
    "bq.query(query = query).to_dataframe()"
   ]
  },
  {
   "cell_type": "code",
   "execution_count": 24,
   "id": "743f74bb-ff13-44d0-a297-5ee03868f62a",
   "metadata": {
    "ExecuteTime": {
     "end_time": "2024-03-16T15:25:26.668156Z",
     "start_time": "2024-03-16T15:25:24.942966Z"
    }
   },
   "outputs": [
    {
     "data": {
      "text/plain": "   expected_label     _0  _1\n0               0  28306  77\n1               1      6  40",
      "text/html": "<div>\n<style scoped>\n    .dataframe tbody tr th:only-of-type {\n        vertical-align: middle;\n    }\n\n    .dataframe tbody tr th {\n        vertical-align: top;\n    }\n\n    .dataframe thead th {\n        text-align: right;\n    }\n</style>\n<table border=\"1\" class=\"dataframe\">\n  <thead>\n    <tr style=\"text-align: right;\">\n      <th></th>\n      <th>expected_label</th>\n      <th>_0</th>\n      <th>_1</th>\n    </tr>\n  </thead>\n  <tbody>\n    <tr>\n      <th>0</th>\n      <td>0</td>\n      <td>28306</td>\n      <td>77</td>\n    </tr>\n    <tr>\n      <th>1</th>\n      <td>1</td>\n      <td>6</td>\n      <td>40</td>\n    </tr>\n  </tbody>\n</table>\n</div>"
     },
     "execution_count": 24,
     "metadata": {},
     "output_type": "execute_result"
    }
   ],
   "source": [
    "query = f\"\"\"\n",
    "SELECT *\n",
    "FROM ML.CONFUSION_MATRIX (MODEL `{BQ_PROJECT}.{BQ_DATASET}.{BQ_MODEL}`,(\n",
    "    SELECT *\n",
    "    FROM `{BQ_PROJECT}.{BQ_DATASET}.{BQ_TABLE}`\n",
    "    WHERE splits = 'VALIDATE')\n",
    "  )\n",
    "\"\"\"\n",
    "bq.query(query = query).to_dataframe()"
   ]
  },
  {
   "cell_type": "code",
   "execution_count": 25,
   "id": "5a73f0a0-682d-41d6-8644-52181ea48ad2",
   "metadata": {
    "ExecuteTime": {
     "end_time": "2024-03-16T15:25:27.950309Z",
     "start_time": "2024-03-16T15:25:26.666845Z"
    }
   },
   "outputs": [
    {
     "data": {
      "text/plain": "   expected_label     _0  _1\n0               0  28366  69\n1               1      9  37",
      "text/html": "<div>\n<style scoped>\n    .dataframe tbody tr th:only-of-type {\n        vertical-align: middle;\n    }\n\n    .dataframe tbody tr th {\n        vertical-align: top;\n    }\n\n    .dataframe thead th {\n        text-align: right;\n    }\n</style>\n<table border=\"1\" class=\"dataframe\">\n  <thead>\n    <tr style=\"text-align: right;\">\n      <th></th>\n      <th>expected_label</th>\n      <th>_0</th>\n      <th>_1</th>\n    </tr>\n  </thead>\n  <tbody>\n    <tr>\n      <th>0</th>\n      <td>0</td>\n      <td>28366</td>\n      <td>69</td>\n    </tr>\n    <tr>\n      <th>1</th>\n      <td>1</td>\n      <td>9</td>\n      <td>37</td>\n    </tr>\n  </tbody>\n</table>\n</div>"
     },
     "execution_count": 25,
     "metadata": {},
     "output_type": "execute_result"
    }
   ],
   "source": [
    "query = f\"\"\"\n",
    "SELECT *\n",
    "FROM ML.CONFUSION_MATRIX (MODEL `{BQ_PROJECT}.{BQ_DATASET}.{BQ_MODEL}`,(\n",
    "    SELECT *\n",
    "    FROM `{BQ_PROJECT}.{BQ_DATASET}.{BQ_TABLE}`\n",
    "    WHERE splits = 'TEST')\n",
    "  )\n",
    "\"\"\"\n",
    "bq.query(query = query).to_dataframe()"
   ]
  },
  {
   "cell_type": "markdown",
   "id": "98779dee-3f7b-4a0f-876d-cbeec932d593",
   "metadata": {},
   "source": [
    "### ROC Curve\n",
    "\n",
    "Retrieve the ROC Curve for each split using [ML.ROC_CURVE](https://cloud.google.com/bigquery-ml/docs/reference/standard-sql/bigqueryml-syntax-roc):"
   ]
  },
  {
   "cell_type": "code",
   "execution_count": 26,
   "id": "91665b66-a8e5-445f-820a-98db9ad28957",
   "metadata": {
    "ExecuteTime": {
     "end_time": "2024-03-16T15:25:34.266979Z",
     "start_time": "2024-03-16T15:25:27.950036Z"
    }
   },
   "outputs": [
    {
     "data": {
      "text/plain": "   threshold  recall  false_positive_rate  true_positives  false_positives  \\\n0   0.960656  0.0075             0.000000               3                0   \n1   0.289916  1.0000             0.008510             400             1936   \n2   0.196484  1.0000             0.018427             400             4192   \n3   0.155796  1.0000             0.028251             400             6427   \n4   0.133028  1.0000             0.038427             400             8742   \n\n   true_negatives  false_negatives  \n0          227497              397  \n1          225561                0  \n2          223305                0  \n3          221070                0  \n4          218755                0  ",
      "text/html": "<div>\n<style scoped>\n    .dataframe tbody tr th:only-of-type {\n        vertical-align: middle;\n    }\n\n    .dataframe tbody tr th {\n        vertical-align: top;\n    }\n\n    .dataframe thead th {\n        text-align: right;\n    }\n</style>\n<table border=\"1\" class=\"dataframe\">\n  <thead>\n    <tr style=\"text-align: right;\">\n      <th></th>\n      <th>threshold</th>\n      <th>recall</th>\n      <th>false_positive_rate</th>\n      <th>true_positives</th>\n      <th>false_positives</th>\n      <th>true_negatives</th>\n      <th>false_negatives</th>\n    </tr>\n  </thead>\n  <tbody>\n    <tr>\n      <th>0</th>\n      <td>0.960656</td>\n      <td>0.0075</td>\n      <td>0.000000</td>\n      <td>3</td>\n      <td>0</td>\n      <td>227497</td>\n      <td>397</td>\n    </tr>\n    <tr>\n      <th>1</th>\n      <td>0.289916</td>\n      <td>1.0000</td>\n      <td>0.008510</td>\n      <td>400</td>\n      <td>1936</td>\n      <td>225561</td>\n      <td>0</td>\n    </tr>\n    <tr>\n      <th>2</th>\n      <td>0.196484</td>\n      <td>1.0000</td>\n      <td>0.018427</td>\n      <td>400</td>\n      <td>4192</td>\n      <td>223305</td>\n      <td>0</td>\n    </tr>\n    <tr>\n      <th>3</th>\n      <td>0.155796</td>\n      <td>1.0000</td>\n      <td>0.028251</td>\n      <td>400</td>\n      <td>6427</td>\n      <td>221070</td>\n      <td>0</td>\n    </tr>\n    <tr>\n      <th>4</th>\n      <td>0.133028</td>\n      <td>1.0000</td>\n      <td>0.038427</td>\n      <td>400</td>\n      <td>8742</td>\n      <td>218755</td>\n      <td>0</td>\n    </tr>\n  </tbody>\n</table>\n</div>"
     },
     "execution_count": 26,
     "metadata": {},
     "output_type": "execute_result"
    }
   ],
   "source": [
    "query = f\"\"\"\n",
    "SELECT *\n",
    "FROM ML.ROC_CURVE (MODEL `{BQ_PROJECT}.{BQ_DATASET}.{BQ_MODEL}`,(\n",
    "    SELECT *\n",
    "    FROM `{BQ_PROJECT}.{BQ_DATASET}.{BQ_TABLE}`\n",
    "    WHERE splits = 'TRAIN')\n",
    "  )\n",
    "ORDER BY false_positive_rate\n",
    "\"\"\"\n",
    "train_roc = bq.query(query = query).to_dataframe()\n",
    "train_roc.head()"
   ]
  },
  {
   "cell_type": "code",
   "execution_count": 27,
   "id": "d5098e14-9fb9-4cbe-af12-6877c0f4c104",
   "metadata": {
    "ExecuteTime": {
     "end_time": "2024-03-16T15:25:37.792585Z",
     "start_time": "2024-03-16T15:25:34.265148Z"
    }
   },
   "outputs": [
    {
     "data": {
      "text/plain": "   threshold    recall  false_positive_rate  true_positives  false_positives  \\\n0   0.959359  0.695652             0.000247              32                7   \n1   0.299606  0.891304             0.008491              41              241   \n2   0.196668  0.891304             0.018673              41              530   \n3   0.156970  0.913043             0.028609              42              812   \n4   0.134109  0.913043             0.038685              42             1098   \n\n   true_negatives  false_negatives  \n0           28376               14  \n1           28142                5  \n2           27853                5  \n3           27571                4  \n4           27285                4  ",
      "text/html": "<div>\n<style scoped>\n    .dataframe tbody tr th:only-of-type {\n        vertical-align: middle;\n    }\n\n    .dataframe tbody tr th {\n        vertical-align: top;\n    }\n\n    .dataframe thead th {\n        text-align: right;\n    }\n</style>\n<table border=\"1\" class=\"dataframe\">\n  <thead>\n    <tr style=\"text-align: right;\">\n      <th></th>\n      <th>threshold</th>\n      <th>recall</th>\n      <th>false_positive_rate</th>\n      <th>true_positives</th>\n      <th>false_positives</th>\n      <th>true_negatives</th>\n      <th>false_negatives</th>\n    </tr>\n  </thead>\n  <tbody>\n    <tr>\n      <th>0</th>\n      <td>0.959359</td>\n      <td>0.695652</td>\n      <td>0.000247</td>\n      <td>32</td>\n      <td>7</td>\n      <td>28376</td>\n      <td>14</td>\n    </tr>\n    <tr>\n      <th>1</th>\n      <td>0.299606</td>\n      <td>0.891304</td>\n      <td>0.008491</td>\n      <td>41</td>\n      <td>241</td>\n      <td>28142</td>\n      <td>5</td>\n    </tr>\n    <tr>\n      <th>2</th>\n      <td>0.196668</td>\n      <td>0.891304</td>\n      <td>0.018673</td>\n      <td>41</td>\n      <td>530</td>\n      <td>27853</td>\n      <td>5</td>\n    </tr>\n    <tr>\n      <th>3</th>\n      <td>0.156970</td>\n      <td>0.913043</td>\n      <td>0.028609</td>\n      <td>42</td>\n      <td>812</td>\n      <td>27571</td>\n      <td>4</td>\n    </tr>\n    <tr>\n      <th>4</th>\n      <td>0.134109</td>\n      <td>0.913043</td>\n      <td>0.038685</td>\n      <td>42</td>\n      <td>1098</td>\n      <td>27285</td>\n      <td>4</td>\n    </tr>\n  </tbody>\n</table>\n</div>"
     },
     "execution_count": 27,
     "metadata": {},
     "output_type": "execute_result"
    }
   ],
   "source": [
    "query = f\"\"\"\n",
    "SELECT *\n",
    "FROM ML.ROC_CURVE (MODEL `{BQ_PROJECT}.{BQ_DATASET}.{BQ_MODEL}`,(\n",
    "    SELECT *\n",
    "    FROM `{BQ_PROJECT}.{BQ_DATASET}.{BQ_TABLE}`\n",
    "    WHERE splits = 'VALIDATE')\n",
    "  )\n",
    "ORDER BY false_positive_rate\n",
    "\"\"\"\n",
    "val_roc = bq.query(query = query).to_dataframe()\n",
    "val_roc.head()"
   ]
  },
  {
   "cell_type": "code",
   "execution_count": 28,
   "id": "1f24a434-2c05-47d5-abc5-e8d8207be7bd",
   "metadata": {
    "ExecuteTime": {
     "end_time": "2024-03-16T15:25:40.869851Z",
     "start_time": "2024-03-16T15:25:37.791246Z"
    }
   },
   "outputs": [
    {
     "data": {
      "text/plain": "   threshold    recall  false_positive_rate  true_positives  false_positives  \\\n0   0.959535  0.021739             0.000000               1                0   \n1   0.301530  0.847826             0.008722              39              248   \n2   0.195196  0.869565             0.018569              40              528   \n3   0.153697  0.891304             0.028732              41              817   \n4   0.130197  0.891304             0.038896              41             1106   \n\n   true_negatives  false_negatives  \n0           28435               45  \n1           28187                7  \n2           27907                6  \n3           27618                5  \n4           27329                5  ",
      "text/html": "<div>\n<style scoped>\n    .dataframe tbody tr th:only-of-type {\n        vertical-align: middle;\n    }\n\n    .dataframe tbody tr th {\n        vertical-align: top;\n    }\n\n    .dataframe thead th {\n        text-align: right;\n    }\n</style>\n<table border=\"1\" class=\"dataframe\">\n  <thead>\n    <tr style=\"text-align: right;\">\n      <th></th>\n      <th>threshold</th>\n      <th>recall</th>\n      <th>false_positive_rate</th>\n      <th>true_positives</th>\n      <th>false_positives</th>\n      <th>true_negatives</th>\n      <th>false_negatives</th>\n    </tr>\n  </thead>\n  <tbody>\n    <tr>\n      <th>0</th>\n      <td>0.959535</td>\n      <td>0.021739</td>\n      <td>0.000000</td>\n      <td>1</td>\n      <td>0</td>\n      <td>28435</td>\n      <td>45</td>\n    </tr>\n    <tr>\n      <th>1</th>\n      <td>0.301530</td>\n      <td>0.847826</td>\n      <td>0.008722</td>\n      <td>39</td>\n      <td>248</td>\n      <td>28187</td>\n      <td>7</td>\n    </tr>\n    <tr>\n      <th>2</th>\n      <td>0.195196</td>\n      <td>0.869565</td>\n      <td>0.018569</td>\n      <td>40</td>\n      <td>528</td>\n      <td>27907</td>\n      <td>6</td>\n    </tr>\n    <tr>\n      <th>3</th>\n      <td>0.153697</td>\n      <td>0.891304</td>\n      <td>0.028732</td>\n      <td>41</td>\n      <td>817</td>\n      <td>27618</td>\n      <td>5</td>\n    </tr>\n    <tr>\n      <th>4</th>\n      <td>0.130197</td>\n      <td>0.891304</td>\n      <td>0.038896</td>\n      <td>41</td>\n      <td>1106</td>\n      <td>27329</td>\n      <td>5</td>\n    </tr>\n  </tbody>\n</table>\n</div>"
     },
     "execution_count": 28,
     "metadata": {},
     "output_type": "execute_result"
    }
   ],
   "source": [
    "query = f\"\"\"\n",
    "SELECT *\n",
    "FROM ML.ROC_CURVE (MODEL `{BQ_PROJECT}.{BQ_DATASET}.{BQ_MODEL}`,(\n",
    "    SELECT *\n",
    "    FROM `{BQ_PROJECT}.{BQ_DATASET}.{BQ_TABLE}`\n",
    "    WHERE splits = 'TEST')\n",
    "  )\n",
    "ORDER BY false_positive_rate\n",
    "\"\"\"\n",
    "test_roc = bq.query(query = query).to_dataframe()\n",
    "test_roc.head()"
   ]
  },
  {
   "cell_type": "code",
   "execution_count": 29,
   "id": "75a3a5a5-3376-4612-a879-f52e94e27f2e",
   "metadata": {
    "ExecuteTime": {
     "end_time": "2024-03-16T15:25:41.128590Z",
     "start_time": "2024-03-16T15:25:40.911479Z"
    }
   },
   "outputs": [
    {
     "data": {
      "text/plain": "<Figure size 1500x500 with 1 Axes>",
      "image/png": "[encoded data removed]"
     },
     "metadata": {},
     "output_type": "display_data"
    }
   ],
   "source": [
    "plt.figure(figsize=(15,5))\n",
    "plt.plot(train_roc['false_positive_rate'], train_roc['recall'], label='TRAIN')\n",
    "plt.plot(val_roc['false_positive_rate'], val_roc['recall'], label='VALIDATE')\n",
    "plt.plot(test_roc['false_positive_rate'], test_roc['recall'], label='TEST')\n",
    "plt.xlabel('False Positive Rate')\n",
    "plt.ylabel('True Positive Rate\\nRecall')\n",
    "plt.title('ROC Curves')\n",
    "plt.legend()\n",
    "plt.show()"
   ]
  },
  {
   "cell_type": "markdown",
   "id": "b4fb1259-0ca1-4baa-be5d-b41c147ccc20",
   "metadata": {},
   "source": [
    "---\n",
    "## Predictions With BigQuery ML (BQML)"
   ]
  },
  {
   "cell_type": "markdown",
   "id": "fdb927fb-9984-48f8-bf87-ba4f5d1039d8",
   "metadata": {},
   "source": [
    "Create a pandas dataframe with retrieved predictions for the test data in the table using [ML.PREDICT](https://cloud.google.com/bigquery-ml/docs/reference/standard-sql/bigqueryml-syntax-predict):"
   ]
  },
  {
   "cell_type": "code",
   "execution_count": 30,
   "id": "bc90cd6f-f087-4628-a3a8-dc4c861efb45",
   "metadata": {
    "ExecuteTime": {
     "end_time": "2024-03-16T15:26:00.454358Z",
     "start_time": "2024-03-16T15:25:41.129364Z"
    }
   },
   "outputs": [],
   "source": [
    "query = f\"\"\"\n",
    "SELECT *\n",
    "FROM ML.PREDICT (MODEL `{BQ_PROJECT}.{BQ_DATASET}.{BQ_MODEL}`,(\n",
    "    SELECT *\n",
    "    FROM `{BQ_PROJECT}.{BQ_DATASET}.{BQ_TABLE}`\n",
    "    WHERE splits = 'TEST')\n",
    "  )\n",
    "\"\"\"\n",
    "pred = bq.query(query = query).to_dataframe()"
   ]
  },
  {
   "cell_type": "markdown",
   "id": "88467a94-1172-44f4-93a0-ef80a90d2304",
   "metadata": {},
   "source": [
    "Review columns from the predictions - note that the query added columns with prefix `predicted_`"
   ]
  },
  {
   "cell_type": "code",
   "execution_count": 31,
   "id": "5c4c7dde-dfbb-4911-92c0-979afb1a2ee9",
   "metadata": {
    "ExecuteTime": {
     "end_time": "2024-03-16T15:26:00.487780Z",
     "start_time": "2024-03-16T15:26:00.457058Z"
    }
   },
   "outputs": [
    {
     "data": {
      "text/plain": "Index(['predicted_Class', 'predicted_Class_probs', 'Time', 'V1', 'V2', 'V3',\n       'V4', 'V5', 'V6', 'V7', 'V8', 'V9', 'V10', 'V11', 'V12', 'V13', 'V14',\n       'V15', 'V16', 'V17', 'V18', 'V19', 'V20', 'V21', 'V22', 'V23', 'V24',\n       'V25', 'V26', 'V27', 'V28', 'Amount', 'Class', 'transaction_id',\n       'splits'],\n      dtype='object')"
     },
     "execution_count": 31,
     "metadata": {},
     "output_type": "execute_result"
    }
   ],
   "source": [
    "pred.columns"
   ]
  },
  {
   "cell_type": "markdown",
   "id": "ff0dbd97-4cd6-4946-918e-0362cacdd5b0",
   "metadata": {},
   "source": [
    "Print the first few rows for the columns related to the actual and predicted values:"
   ]
  },
  {
   "cell_type": "code",
   "execution_count": 32,
   "id": "9e6913b3-4a03-4d42-a56b-6fc783411c65",
   "metadata": {
    "ExecuteTime": {
     "end_time": "2024-03-16T15:26:00.676064Z",
     "start_time": "2024-03-16T15:26:00.465064Z"
    }
   },
   "outputs": [
    {
     "data": {
      "text/plain": "   Class  predicted_Class                              predicted_Class_probs  \\\n0      0                0  [{'label': 1, 'prob': 0.15327179431915283}, {'...   \n1      0                0  [{'label': 1, 'prob': 0.06160210445523262}, {'...   \n2      0                0  [{'label': 1, 'prob': 0.08492770045995712}, {'...   \n3      0                0  [{'label': 1, 'prob': 0.03822149336338043}, {'...   \n4      0                0  [{'label': 1, 'prob': 0.04156460613012314}, {'...   \n\n  splits  \n0   TEST  \n1   TEST  \n2   TEST  \n3   TEST  \n4   TEST  ",
      "text/html": "<div>\n<style scoped>\n    .dataframe tbody tr th:only-of-type {\n        vertical-align: middle;\n    }\n\n    .dataframe tbody tr th {\n        vertical-align: top;\n    }\n\n    .dataframe thead th {\n        text-align: right;\n    }\n</style>\n<table border=\"1\" class=\"dataframe\">\n  <thead>\n    <tr style=\"text-align: right;\">\n      <th></th>\n      <th>Class</th>\n      <th>predicted_Class</th>\n      <th>predicted_Class_probs</th>\n      <th>splits</th>\n    </tr>\n  </thead>\n  <tbody>\n    <tr>\n      <th>0</th>\n      <td>0</td>\n      <td>0</td>\n      <td>[{'label': 1, 'prob': 0.15327179431915283}, {'...</td>\n      <td>TEST</td>\n    </tr>\n    <tr>\n      <th>1</th>\n      <td>0</td>\n      <td>0</td>\n      <td>[{'label': 1, 'prob': 0.06160210445523262}, {'...</td>\n      <td>TEST</td>\n    </tr>\n    <tr>\n      <th>2</th>\n      <td>0</td>\n      <td>0</td>\n      <td>[{'label': 1, 'prob': 0.08492770045995712}, {'...</td>\n      <td>TEST</td>\n    </tr>\n    <tr>\n      <th>3</th>\n      <td>0</td>\n      <td>0</td>\n      <td>[{'label': 1, 'prob': 0.03822149336338043}, {'...</td>\n      <td>TEST</td>\n    </tr>\n    <tr>\n      <th>4</th>\n      <td>0</td>\n      <td>0</td>\n      <td>[{'label': 1, 'prob': 0.04156460613012314}, {'...</td>\n      <td>TEST</td>\n    </tr>\n  </tbody>\n</table>\n</div>"
     },
     "execution_count": 32,
     "metadata": {},
     "output_type": "execute_result"
    }
   ],
   "source": [
    "pred[[VAR_TARGET, f'predicted_{VAR_TARGET}', f'predicted_{VAR_TARGET}_probs', 'splits']].head()"
   ]
  },
  {
   "cell_type": "markdown",
   "id": "d3cdb3c4-3fd0-49b6-980b-85d2acf35292",
   "metadata": {},
   "source": [
    "Notice the nested dictionary for predicted probabilities.  In BigQuery this is a Record type structure with nested fields for `label` and `prob`.  This is returned to the pandas dataframe as a nested dictionary.\n",
    "\n",
    "The following code sorts the dictionary for the first record by `prob`:"
   ]
  },
  {
   "cell_type": "code",
   "execution_count": 33,
   "id": "54cc03cd-29b5-4f5c-ad6c-ce8c3c41f6bb",
   "metadata": {
    "ExecuteTime": {
     "end_time": "2024-03-16T15:26:00.747284Z",
     "start_time": "2024-03-16T15:26:00.517905Z"
    }
   },
   "outputs": [
    {
     "data": {
      "text/plain": "[[{'label': 0, 'prob': 0.8467281460762024},\n  {'label': 1, 'prob': 0.15327179431915283}]]"
     },
     "execution_count": 33,
     "metadata": {},
     "output_type": "execute_result"
    }
   ],
   "source": [
    "exec('temp = pred.predicted_'+VAR_TARGET+'_probs[0]')\n",
    "[sorted(x, key = lambda x: x['label']) for x in [temp]]"
   ]
  },
  {
   "cell_type": "markdown",
   "id": "2d58cdd0-8aad-4f4f-8e9f-5cd7c74b79ee",
   "metadata": {},
   "source": [
    "---\n",
    "## Custom Eval Metrics\n",
    "Retrieve the predictions to a local dataframe and use [scikit-learn](https://scikit-learn.org/stable/index.html) metrics [fuctions](https://scikit-learn.org/stable/modules/model_evaluation.html) to do model evaluation."
   ]
  },
  {
   "cell_type": "code",
   "execution_count": 34,
   "id": "b3cc4c7c-f555-419a-aa7e-4d49e7e76d2a",
   "metadata": {
    "ExecuteTime": {
     "end_time": "2024-03-16T15:26:00.862134Z",
     "start_time": "2024-03-16T15:26:00.535191Z"
    }
   },
   "outputs": [
    {
     "data": {
      "text/plain": "array([[28366,    69],\n       [    9,    37]])"
     },
     "execution_count": 34,
     "metadata": {},
     "output_type": "execute_result"
    }
   ],
   "source": [
    "metrics.confusion_matrix(list(pred[f'{VAR_TARGET}']), list(pred[f'predicted_{VAR_TARGET}']))"
   ]
  },
  {
   "cell_type": "code",
   "execution_count": 35,
   "id": "44a6df1b-23ae-4667-8ca3-1db9cd1b4a6c",
   "metadata": {
    "ExecuteTime": {
     "end_time": "2024-03-16T15:26:01.228288Z",
     "start_time": "2024-03-16T15:26:00.578958Z"
    }
   },
   "outputs": [
    {
     "data": {
      "text/plain": "<sklearn.metrics._plot.confusion_matrix.ConfusionMatrixDisplay at 0x7fe4493152e0>"
     },
     "execution_count": 35,
     "metadata": {},
     "output_type": "execute_result"
    },
    {
     "data": {
      "text/plain": "<Figure size 640x480 with 2 Axes>",
      "image/png": "[encoded data removed]"
     },
     "metadata": {},
     "output_type": "display_data"
    }
   ],
   "source": [
    "disp = metrics.ConfusionMatrixDisplay(\n",
    "    confusion_matrix = metrics.confusion_matrix(list(pred[f'{VAR_TARGET}']), list(pred[f'predicted_{VAR_TARGET}']))\n",
    ")\n",
    "disp.plot()"
   ]
  },
  {
   "cell_type": "code",
   "execution_count": 36,
   "id": "e21eff57-c712-421c-b0a7-ccdd3c8b4e46",
   "metadata": {
    "ExecuteTime": {
     "end_time": "2024-03-16T15:26:01.232313Z",
     "start_time": "2024-03-16T15:26:00.915022Z"
    }
   },
   "outputs": [
    {
     "data": {
      "text/plain": "0.9972613321161476"
     },
     "execution_count": 36,
     "metadata": {},
     "output_type": "execute_result"
    }
   ],
   "source": [
    "metrics.accuracy_score(list(pred[f'{VAR_TARGET}']), list(pred[f'predicted_{VAR_TARGET}']))"
   ]
  },
  {
   "cell_type": "code",
   "execution_count": 37,
   "id": "0a78a680-213f-4336-b5f5-9e8b9b649266",
   "metadata": {
    "ExecuteTime": {
     "end_time": "2024-03-16T15:26:01.347630Z",
     "start_time": "2024-03-16T15:26:00.927775Z"
    }
   },
   "outputs": [
    {
     "name": "stdout",
     "output_type": "stream",
     "text": [
      "              precision    recall  f1-score   support\n",
      "\n",
      "           0       1.00      1.00      1.00     28435\n",
      "           1       0.35      0.80      0.49        46\n",
      "\n",
      "    accuracy                           1.00     28481\n",
      "   macro avg       0.67      0.90      0.74     28481\n",
      "weighted avg       1.00      1.00      1.00     28481\n"
     ]
    }
   ],
   "source": [
    "print(metrics.classification_report(list(pred[f'{VAR_TARGET}']), list(pred[f'predicted_{VAR_TARGET}'])))"
   ]
  },
  {
   "cell_type": "markdown",
   "id": "1de7942b-8d28-4017-bee4-f4e6a0e743ee",
   "metadata": {},
   "source": [
    "---\n",
    "## Explanations\n",
    "[Built-in](https://cloud.google.com/bigquery-ml/docs/reference/standard-sql/bigqueryml-syntax-xai-overview) capabilities to understand how features contributed to predictions both individually (local) and overall (global)."
   ]
  },
  {
   "cell_type": "markdown",
   "id": "5fc90ffe-cd0c-4f2b-9ed9-e2eb681366e2",
   "metadata": {},
   "source": [
    "### Local Explainability\n",
    "Retrieve feature attribution values to interpret each features contribution to a prediction relative to the baseline prediction using [ML.EXPLAIN_PREDICT](https://cloud.google.com/bigquery-ml/docs/reference/standard-sql/bigqueryml-syntax-explain-predict)."
   ]
  },
  {
   "cell_type": "code",
   "execution_count": 38,
   "id": "b466157a-e257-44dd-8847-200f3e64d8f0",
   "metadata": {
    "ExecuteTime": {
     "end_time": "2024-03-16T15:26:37.466492Z",
     "start_time": "2024-03-16T15:26:01.003840Z"
    }
   },
   "outputs": [],
   "source": [
    "query = f\"\"\"\n",
    "SELECT *\n",
    "FROM ML.EXPLAIN_PREDICT (MODEL `{BQ_PROJECT}.{BQ_DATASET}.{BQ_MODEL}`,(\n",
    "    SELECT *\n",
    "    FROM `{BQ_PROJECT}.{BQ_DATASET}.{BQ_TABLE}`\n",
    "    WHERE splits = 'TEST'), STRUCT(10 as top_k_features)\n",
    "  )\n",
    "\"\"\"\n",
    "explain = bq.query(query = query).to_dataframe()"
   ]
  },
  {
   "cell_type": "code",
   "execution_count": 39,
   "id": "61fdab2a-e4e5-4e30-b71f-672f3fe088a8",
   "metadata": {
    "ExecuteTime": {
     "end_time": "2024-03-16T15:26:37.549111Z",
     "start_time": "2024-03-16T15:26:37.488659Z"
    }
   },
   "outputs": [
    {
     "data": {
      "text/plain": "   predicted_Class  probability  \\\n0                0     0.846728   \n1                0     0.938398   \n2                0     0.915072   \n3                0     0.961779   \n4                0     0.958435   \n\n                            top_feature_attributions  \\\n0  [{'feature': 'V4', 'attribution': -0.400815516...   \n1  [{'feature': 'V14', 'attribution': 0.594072699...   \n2  [{'feature': 'V14', 'attribution': 0.422888904...   \n3  [{'feature': 'V14', 'attribution': 0.946615695...   \n4  [{'feature': 'V14', 'attribution': 0.793934583...   \n\n   baseline_prediction_value  prediction_value  approximation_error      Time  \\\n0                   0.461555          1.268456                  0.0  140315.0   \n1                   0.461555          1.588980                  0.0  171011.0   \n2                   0.461555          1.725209                  0.0   35734.0   \n3                   0.461555          2.038936                  0.0   12973.0   \n4                   0.461555          2.070153                  0.0   64268.0   \n\n         V1        V2        V3  ...       V23       V24       V25       V26  \\\n0  1.882751  0.532175  0.150708  ...  0.487635 -0.024250 -0.512936 -0.516050   \n1 -1.345222  2.280635  2.149265  ... -0.201321  0.007053  0.055551  0.580323   \n2 -2.571353 -2.286027  2.909699  ... -0.363365 -0.520853 -0.024029  1.180507   \n3  1.042687  0.224056  1.651554  ...  0.082059 -0.072716  0.148948 -0.066969   \n4  1.316193 -0.009926 -0.137555  ... -0.136149 -0.126894  0.639381  0.595106   \n\n        V27       V28  Amount  Class                        transaction_id  \\\n0  0.011179 -0.026608     0.0      0  007bcd38-0860-4140-8182-f1a19fea3aa7   \n1 -0.086456 -0.050837     0.0      0  da201b45-1c71-410e-9cb9-d3bfc82b2a15   \n2 -0.309633 -0.296332     0.0      0  47357783-5339-4ede-91f5-5ff57cbb11cd   \n3  0.024569  0.014142     0.0      0  db700585-1fc5-4747-858e-1c36de09ec2a   \n4 -0.070506 -0.010366     0.0      0  72eaec6f-9f06-4d5c-8983-27535cee2b35   \n\n   splits  \n0    TEST  \n1    TEST  \n2    TEST  \n3    TEST  \n4    TEST  \n\n[5 rows x 39 columns]",
      "text/html": "<div>\n<style scoped>\n    .dataframe tbody tr th:only-of-type {\n        vertical-align: middle;\n    }\n\n    .dataframe tbody tr th {\n        vertical-align: top;\n    }\n\n    .dataframe thead th {\n        text-align: right;\n    }\n</style>\n<table border=\"1\" class=\"dataframe\">\n  <thead>\n    <tr style=\"text-align: right;\">\n      <th></th>\n      <th>predicted_Class</th>\n      <th>probability</th>\n      <th>top_feature_attributions</th>\n      <th>baseline_prediction_value</th>\n      <th>prediction_value</th>\n      <th>approximation_error</th>\n      <th>Time</th>\n      <th>V1</th>\n      <th>V2</th>\n      <th>V3</th>\n      <th>...</th>\n      <th>V23</th>\n      <th>V24</th>\n      <th>V25</th>\n      <th>V26</th>\n      <th>V27</th>\n      <th>V28</th>\n      <th>Amount</th>\n      <th>Class</th>\n      <th>transaction_id</th>\n      <th>splits</th>\n    </tr>\n  </thead>\n  <tbody>\n    <tr>\n      <th>0</th>\n      <td>0</td>\n      <td>0.846728</td>\n      <td>[{'feature': 'V4', 'attribution': -0.400815516...</td>\n      <td>0.461555</td>\n      <td>1.268456</td>\n      <td>0.0</td>\n      <td>140315.0</td>\n      <td>1.882751</td>\n      <td>0.532175</td>\n      <td>0.150708</td>\n      <td>...</td>\n      <td>0.487635</td>\n      <td>-0.024250</td>\n      <td>-0.512936</td>\n      <td>-0.516050</td>\n      <td>0.011179</td>\n      <td>-0.026608</td>\n      <td>0.0</td>\n      <td>0</td>\n      <td>007bcd38-0860-4140-8182-f1a19fea3aa7</td>\n      <td>TEST</td>\n    </tr>\n    <tr>\n      <th>1</th>\n      <td>0</td>\n      <td>0.938398</td>\n      <td>[{'feature': 'V14', 'attribution': 0.594072699...</td>\n      <td>0.461555</td>\n      <td>1.588980</td>\n      <td>0.0</td>\n      <td>171011.0</td>\n      <td>-1.345222</td>\n      <td>2.280635</td>\n      <td>2.149265</td>\n      <td>...</td>\n      <td>-0.201321</td>\n      <td>0.007053</td>\n      <td>0.055551</td>\n      <td>0.580323</td>\n      <td>-0.086456</td>\n      <td>-0.050837</td>\n      <td>0.0</td>\n      <td>0</td>\n      <td>da201b45-1c71-410e-9cb9-d3bfc82b2a15</td>\n      <td>TEST</td>\n    </tr>\n    <tr>\n      <th>2</th>\n      <td>0</td>\n      <td>0.915072</td>\n      <td>[{'feature': 'V14', 'attribution': 0.422888904...</td>\n      <td>0.461555</td>\n      <td>1.725209</td>\n      <td>0.0</td>\n      <td>35734.0</td>\n      <td>-2.571353</td>\n      <td>-2.286027</td>\n      <td>2.909699</td>\n      <td>...</td>\n      <td>-0.363365</td>\n      <td>-0.520853</td>\n      <td>-0.024029</td>\n      <td>1.180507</td>\n      <td>-0.309633</td>\n      <td>-0.296332</td>\n      <td>0.0</td>\n      <td>0</td>\n      <td>47357783-5339-4ede-91f5-5ff57cbb11cd</td>\n      <td>TEST</td>\n    </tr>\n    <tr>\n      <th>3</th>\n      <td>0</td>\n      <td>0.961779</td>\n      <td>[{'feature': 'V14', 'attribution': 0.946615695...</td>\n      <td>0.461555</td>\n      <td>2.038936</td>\n      <td>0.0</td>\n      <td>12973.0</td>\n      <td>1.042687</td>\n      <td>0.224056</td>\n      <td>1.651554</td>\n      <td>...</td>\n      <td>0.082059</td>\n      <td>-0.072716</td>\n      <td>0.148948</td>\n      <td>-0.066969</td>\n      <td>0.024569</td>\n      <td>0.014142</td>\n      <td>0.0</td>\n      <td>0</td>\n      <td>db700585-1fc5-4747-858e-1c36de09ec2a</td>\n      <td>TEST</td>\n    </tr>\n    <tr>\n      <th>4</th>\n      <td>0</td>\n      <td>0.958435</td>\n      <td>[{'feature': 'V14', 'attribution': 0.793934583...</td>\n      <td>0.461555</td>\n      <td>2.070153</td>\n      <td>0.0</td>\n      <td>64268.0</td>\n      <td>1.316193</td>\n      <td>-0.009926</td>\n      <td>-0.137555</td>\n      <td>...</td>\n      <td>-0.136149</td>\n      <td>-0.126894</td>\n      <td>0.639381</td>\n      <td>0.595106</td>\n      <td>-0.070506</td>\n      <td>-0.010366</td>\n      <td>0.0</td>\n      <td>0</td>\n      <td>72eaec6f-9f06-4d5c-8983-27535cee2b35</td>\n      <td>TEST</td>\n    </tr>\n  </tbody>\n</table>\n<p>5 rows × 39 columns</p>\n</div>"
     },
     "execution_count": 39,
     "metadata": {},
     "output_type": "execute_result"
    }
   ],
   "source": [
    "explain.head()"
   ]
  },
  {
   "cell_type": "markdown",
   "id": "80382209-9d03-49c2-ad9c-cc95c2d3aaf1",
   "metadata": {},
   "source": [
    "Create a plot of feature attributions for a single prediction:"
   ]
  },
  {
   "cell_type": "code",
   "execution_count": 40,
   "id": "949fd6c9-3a56-479c-a4ba-a3ea327a0cf4",
   "metadata": {
    "ExecuteTime": {
     "end_time": "2024-03-16T15:26:37.581427Z",
     "start_time": "2024-03-16T15:26:37.519999Z"
    }
   },
   "outputs": [],
   "source": [
    "explanation = explain.iloc[0]['top_feature_attributions']"
   ]
  },
  {
   "cell_type": "code",
   "execution_count": 41,
   "id": "bd75ff2b-91c8-46cf-b098-7bbe007cf130",
   "metadata": {
    "ExecuteTime": {
     "end_time": "2024-03-16T15:26:38.053013Z",
     "start_time": "2024-03-16T15:26:37.566562Z"
    }
   },
   "outputs": [
    {
     "data": {
      "text/plain": "<Figure size 1500x500 with 1 Axes>",
      "image/png": "[encoded data removed]"
     },
     "metadata": {},
     "output_type": "display_data"
    }
   ],
   "source": [
    "features = []\n",
    "scores = []\n",
    "for k in explanation:\n",
    "    features.append(k['feature'])\n",
    "    scores.append(k['attribution'])\n",
    "features = [x for _, x in sorted(zip(scores, features))]\n",
    "scores = sorted(scores)\n",
    "\n",
    "plt.figure(figsize=(15,5))\n",
    "plt.barh(features, scores)\n",
    "plt.title('Feature Attribution for Prediction')\n",
    "plt.show()"
   ]
  },
  {
   "cell_type": "markdown",
   "id": "fdc1c666-d77e-437b-9035-b6170973eeeb",
   "metadata": {},
   "source": [
    "### Global Explainability\n",
    "Retrieve the influence of each feature on the model with [ML.GLOBAL_EXPLAIN](https://cloud.google.com/bigquery-ml/docs/reference/standard-sql/bigqueryml-syntax-global-explain).  "
   ]
  },
  {
   "cell_type": "code",
   "execution_count": 42,
   "id": "96d2c906-4617-49d4-aa04-f3ecc3fbe1ab",
   "metadata": {
    "ExecuteTime": {
     "end_time": "2024-03-16T15:26:38.788886Z",
     "start_time": "2024-03-16T15:26:37.870805Z"
    }
   },
   "outputs": [],
   "source": [
    "query = f\"\"\"\n",
    "SELECT *\n",
    "FROM ML.GLOBAL_EXPLAIN (MODEL `{BQ_PROJECT}.{BQ_DATASET}.{BQ_MODEL}`)\n",
    "\"\"\"\n",
    "gexplain = bq.query(query = query).to_dataframe()"
   ]
  },
  {
   "cell_type": "code",
   "execution_count": 43,
   "id": "3ae92c70-cec2-4d9e-ba77-c0b13866bf92",
   "metadata": {
    "ExecuteTime": {
     "end_time": "2024-03-16T15:26:38.899429Z",
     "start_time": "2024-03-16T15:26:38.780572Z"
    }
   },
   "outputs": [
    {
     "data": {
      "text/plain": "  feature  attribution\n0     V14     0.548058\n1     V12     0.258594\n2      V4     0.218490\n3     V11     0.150475\n4      V3     0.139557",
      "text/html": "<div>\n<style scoped>\n    .dataframe tbody tr th:only-of-type {\n        vertical-align: middle;\n    }\n\n    .dataframe tbody tr th {\n        vertical-align: top;\n    }\n\n    .dataframe thead th {\n        text-align: right;\n    }\n</style>\n<table border=\"1\" class=\"dataframe\">\n  <thead>\n    <tr style=\"text-align: right;\">\n      <th></th>\n      <th>feature</th>\n      <th>attribution</th>\n    </tr>\n  </thead>\n  <tbody>\n    <tr>\n      <th>0</th>\n      <td>V14</td>\n      <td>0.548058</td>\n    </tr>\n    <tr>\n      <th>1</th>\n      <td>V12</td>\n      <td>0.258594</td>\n    </tr>\n    <tr>\n      <th>2</th>\n      <td>V4</td>\n      <td>0.218490</td>\n    </tr>\n    <tr>\n      <th>3</th>\n      <td>V11</td>\n      <td>0.150475</td>\n    </tr>\n    <tr>\n      <th>4</th>\n      <td>V3</td>\n      <td>0.139557</td>\n    </tr>\n  </tbody>\n</table>\n</div>"
     },
     "execution_count": 43,
     "metadata": {},
     "output_type": "execute_result"
    }
   ],
   "source": [
    "gexplain.head()"
   ]
  },
  {
   "cell_type": "code",
   "execution_count": 44,
   "id": "bc37fe57-0a3d-47c2-aa9a-6dbf7e85b32e",
   "metadata": {
    "ExecuteTime": {
     "end_time": "2024-03-16T15:26:39.786030Z",
     "start_time": "2024-03-16T15:26:39.074364Z"
    }
   },
   "outputs": [
    {
     "data": {
      "text/plain": "<Figure size 1500x800 with 1 Axes>",
      "image/png": "[encoded data removed]"
     },
     "metadata": {},
     "output_type": "display_data"
    }
   ],
   "source": [
    "plt.figure(figsize=(15,8))\n",
    "plt.barh(gexplain['feature'], gexplain['attribution'])\n",
    "plt.title('Global Influence')\n",
    "plt.xlabel('Attribution')\n",
    "#plt.ylabel('Feature')\n",
    "plt.show()"
   ]
  },
  {
   "cell_type": "markdown",
   "id": "5200d162-661b-4c66-b681-74f5d5c9ec33",
   "metadata": {},
   "source": [
    "### Feature Importance\n",
    "\n",
    "Retrieve the [XGBoost feature importances](https://xgboost.readthedocs.io/en/latest/python/python_api.html#xgboost.XGBRegressor.feature_importances_) for the model using [ML.FEATURE_IMPORTANCE](https://cloud.google.com/bigquery-ml/docs/reference/standard-sql/bigqueryml-syntax-importance).\n",
    "- importance_weight: the number of splits the feature was used in across all trees\n",
    "- importance_gain: the improvement in accuracy due to splits using the feature\n",
    "- importance_cover: the number of rows of data covered by splits using the feature"
   ]
  },
  {
   "cell_type": "code",
   "execution_count": 45,
   "id": "6ee976b5-6bc1-4c82-818c-9e34d62790d5",
   "metadata": {
    "ExecuteTime": {
     "end_time": "2024-03-16T15:26:40.675147Z",
     "start_time": "2024-03-16T15:26:39.785350Z"
    }
   },
   "outputs": [],
   "source": [
    "query = f\"\"\"\n",
    "SELECT *\n",
    "FROM ML.FEATURE_IMPORTANCE (MODEL `{BQ_PROJECT}.{BQ_DATASET}.{BQ_MODEL}`)\n",
    "\"\"\"\n",
    "feature_importance = bq.query(query = query).to_dataframe()"
   ]
  },
  {
   "cell_type": "code",
   "execution_count": 46,
   "id": "153489af-58dc-48b7-a7f9-9fce646df468",
   "metadata": {
    "ExecuteTime": {
     "end_time": "2024-03-16T15:26:40.694607Z",
     "start_time": "2024-03-16T15:26:40.684623Z"
    }
   },
   "outputs": [
    {
     "data": {
      "text/plain": "   feature  importance_weight  importance_gain  importance_cover\n0     Time                 17       204.234938       2203.321157\n1       V1                 19       137.014986       7399.505926\n2       V2                  5       119.147835       6330.306834\n3       V3                 29       202.937638       7461.862380\n4       V4                 73       448.196017      10880.465663\n5       V5                 11       195.987785       1568.629215\n6       V6                  9        96.054339       1939.439774\n7       V7                 29       268.641002      11809.491764\n8       V8                 17       356.836794       2325.297615\n9       V9                 11       123.892164        640.580795\n10     V10                 32       176.934141      14086.289300\n11     V11                 28       103.649595      11116.222730\n12     V12                 60       299.333485       9563.356571\n13     V13                 15       203.343168       4309.035112\n14     V14                 59      5872.561581      22369.799290\n15     V15                 12       218.950207       1357.637713\n16     V16                 12       161.341789       4500.588833\n17     V17                 19       255.157000       9031.426642\n18     V18                 10       170.975915       1217.265951\n19     V19                 21       222.355762      10310.974526\n20     V20                 21       330.984378      13596.008293\n21     V21                 12       287.537650       1488.746024\n22     V22                  9       311.798052      13470.637709\n23     V23                  9       166.587220       8260.348310\n24     V24                  4       117.561032      11564.151877\n25     V25                 11       224.256205       2527.524867\n26     V26                 13       298.631364       6741.363647\n27     V27                  5       187.415430      10373.697312\n28     V28                 13        98.630513        973.038722\n29  Amount                 17       278.870223       7490.597608",
      "text/html": "<div>\n<style scoped>\n    .dataframe tbody tr th:only-of-type {\n        vertical-align: middle;\n    }\n\n    .dataframe tbody tr th {\n        vertical-align: top;\n    }\n\n    .dataframe thead th {\n        text-align: right;\n    }\n</style>\n<table border=\"1\" class=\"dataframe\">\n  <thead>\n    <tr style=\"text-align: right;\">\n      <th></th>\n      <th>feature</th>\n      <th>importance_weight</th>\n      <th>importance_gain</th>\n      <th>importance_cover</th>\n    </tr>\n  </thead>\n  <tbody>\n    <tr>\n      <th>0</th>\n      <td>Time</td>\n      <td>17</td>\n      <td>204.234938</td>\n      <td>2203.321157</td>\n    </tr>\n    <tr>\n      <th>1</th>\n      <td>V1</td>\n      <td>19</td>\n      <td>137.014986</td>\n      <td>7399.505926</td>\n    </tr>\n    <tr>\n      <th>2</th>\n      <td>V2</td>\n      <td>5</td>\n      <td>119.147835</td>\n      <td>6330.306834</td>\n    </tr>\n    <tr>\n      <th>3</th>\n      <td>V3</td>\n      <td>29</td>\n      <td>202.937638</td>\n      <td>7461.862380</td>\n    </tr>\n    <tr>\n      <th>4</th>\n      <td>V4</td>\n      <td>73</td>\n      <td>448.196017</td>\n      <td>10880.465663</td>\n    </tr>\n    <tr>\n      <th>5</th>\n      <td>V5</td>\n      <td>11</td>\n      <td>195.987785</td>\n      <td>1568.629215</td>\n    </tr>\n    <tr>\n      <th>6</th>\n      <td>V6</td>\n      <td>9</td>\n      <td>96.054339</td>\n      <td>1939.439774</td>\n    </tr>\n    <tr>\n      <th>7</th>\n      <td>V7</td>\n      <td>29</td>\n      <td>268.641002</td>\n      <td>11809.491764</td>\n    </tr>\n    <tr>\n      <th>8</th>\n      <td>V8</td>\n      <td>17</td>\n      <td>356.836794</td>\n      <td>2325.297615</td>\n    </tr>\n    <tr>\n      <th>9</th>\n      <td>V9</td>\n      <td>11</td>\n      <td>123.892164</td>\n      <td>640.580795</td>\n    </tr>\n    <tr>\n      <th>10</th>\n      <td>V10</td>\n      <td>32</td>\n      <td>176.934141</td>\n      <td>14086.289300</td>\n    </tr>\n    <tr>\n      <th>11</th>\n      <td>V11</td>\n      <td>28</td>\n      <td>103.649595</td>\n      <td>11116.222730</td>\n    </tr>\n    <tr>\n      <th>12</th>\n      <td>V12</td>\n      <td>60</td>\n      <td>299.333485</td>\n      <td>9563.356571</td>\n    </tr>\n    <tr>\n      <th>13</th>\n      <td>V13</td>\n      <td>15</td>\n      <td>203.343168</td>\n      <td>4309.035112</td>\n    </tr>\n    <tr>\n      <th>14</th>\n      <td>V14</td>\n      <td>59</td>\n      <td>5872.561581</td>\n      <td>22369.799290</td>\n    </tr>\n    <tr>\n      <th>15</th>\n      <td>V15</td>\n      <td>12</td>\n      <td>218.950207</td>\n      <td>1357.637713</td>\n    </tr>\n    <tr>\n      <th>16</th>\n      <td>V16</td>\n      <td>12</td>\n      <td>161.341789</td>\n      <td>4500.588833</td>\n    </tr>\n    <tr>\n      <th>17</th>\n      <td>V17</td>\n      <td>19</td>\n      <td>255.157000</td>\n      <td>9031.426642</td>\n    </tr>\n    <tr>\n      <th>18</th>\n      <td>V18</td>\n      <td>10</td>\n      <td>170.975915</td>\n      <td>1217.265951</td>\n    </tr>\n    <tr>\n      <th>19</th>\n      <td>V19</td>\n      <td>21</td>\n      <td>222.355762</td>\n      <td>10310.974526</td>\n    </tr>\n    <tr>\n      <th>20</th>\n      <td>V20</td>\n      <td>21</td>\n      <td>330.984378</td>\n      <td>13596.008293</td>\n    </tr>\n    <tr>\n      <th>21</th>\n      <td>V21</td>\n      <td>12</td>\n      <td>287.537650</td>\n      <td>1488.746024</td>\n    </tr>\n    <tr>\n      <th>22</th>\n      <td>V22</td>\n      <td>9</td>\n      <td>311.798052</td>\n      <td>13470.637709</td>\n    </tr>\n    <tr>\n      <th>23</th>\n      <td>V23</td>\n      <td>9</td>\n      <td>166.587220</td>\n      <td>8260.348310</td>\n    </tr>\n    <tr>\n      <th>24</th>\n      <td>V24</td>\n      <td>4</td>\n      <td>117.561032</td>\n      <td>11564.151877</td>\n    </tr>\n    <tr>\n      <th>25</th>\n      <td>V25</td>\n      <td>11</td>\n      <td>224.256205</td>\n      <td>2527.524867</td>\n    </tr>\n    <tr>\n      <th>26</th>\n      <td>V26</td>\n      <td>13</td>\n      <td>298.631364</td>\n      <td>6741.363647</td>\n    </tr>\n    <tr>\n      <th>27</th>\n      <td>V27</td>\n      <td>5</td>\n      <td>187.415430</td>\n      <td>10373.697312</td>\n    </tr>\n    <tr>\n      <th>28</th>\n      <td>V28</td>\n      <td>13</td>\n      <td>98.630513</td>\n      <td>973.038722</td>\n    </tr>\n    <tr>\n      <th>29</th>\n      <td>Amount</td>\n      <td>17</td>\n      <td>278.870223</td>\n      <td>7490.597608</td>\n    </tr>\n  </tbody>\n</table>\n</div>"
     },
     "execution_count": 46,
     "metadata": {},
     "output_type": "execute_result"
    }
   ],
   "source": [
    "feature_importance"
   ]
  },
  {
   "cell_type": "markdown",
   "id": "6e01a9f2-b487-4eaf-86f4-64dc0c7b02d8",
   "metadata": {},
   "source": [
    "---\n",
    "## Serving With Vertex AI (SKIP TO EXPORTING MODEL)\n",
    "\n",
    "The training options for creating the model include registering the model the Vertex AI Automatically.  This makes deploying the model to a [Vertex AI Endpoint for online serving](https://cloud.google.com/vertex-ai/docs/general/deployment) very easy."
   ]
  },
  {
   "cell_type": "markdown",
   "id": "18e20567-d5b0-41d3-90bb-cf4aae1c551a",
   "metadata": {},
   "source": [
    "### Vertex AI Model Registry - Get Model\n",
    "\n",
    "When these modes were trained in BigQuery ML they included options for registration in Vertex AI Model Registry.  This section shows how to retrieve the information from the model using the [Vertex AI Python Client](../Tips/aiplatform_notes.md).\n",
    "\n",
    "References:\n",
    "- [aiplatform.Model()](https://cloud.google.com/python/docs/reference/aiplatform/latest/google.cloud.aiplatform.Model)"
   ]
  },
  {
   "cell_type": "code",
   "execution_count": 48,
   "id": "5e975ccd-fd1a-4c15-a136-8a823a68af53",
   "metadata": {
    "ExecuteTime": {
     "end_time": "2024-03-13T22:24:59.573027Z",
     "start_time": "2024-03-13T22:24:59.021562Z"
    }
   },
   "outputs": [
    {
     "data": {
      "text/plain": "'projects/475686201061/locations/us-central1/models/bqml_bqml_boosted-tree'"
     },
     "execution_count": 48,
     "metadata": {},
     "output_type": "execute_result"
    }
   ],
   "source": [
    "vertex_model = aiplatform.Model(model_name = f'bqml_{SERIES}_{EXPERIMENT}')\n",
    "vertex_model.resource_name"
   ]
  },
  {
   "cell_type": "code",
   "execution_count": 49,
   "id": "e8851f59-6ff7-4edf-83dc-c81be31098ac",
   "metadata": {
    "ExecuteTime": {
     "end_time": "2024-03-13T22:25:00.453813Z",
     "start_time": "2024-03-13T22:24:59.557557Z"
    }
   },
   "outputs": [
    {
     "data": {
      "text/plain": "{'rows': [[42.0, 6.0], [247.0, 28085.0]],\n 'annotationSpecs': [{'displayName': '1', 'id': '0'},\n  {'displayName': '0', 'id': '1'}]}"
     },
     "execution_count": 49,
     "metadata": {},
     "output_type": "execute_result"
    }
   ],
   "source": [
    "aiplatform.ModelEvaluation(\n",
    "    evaluation_name = vertex_model.get_model_evaluation().resource_name\n",
    ").to_dict()['metrics']['confusionMatrix']"
   ]
  },
  {
   "cell_type": "code",
   "execution_count": 50,
   "id": "2354f8f0-0988-40f8-b686-5d3e256f15a0",
   "metadata": {
    "ExecuteTime": {
     "end_time": "2024-03-13T22:25:00.473693Z",
     "start_time": "2024-03-13T22:25:00.447138Z"
    }
   },
   "outputs": [],
   "source": [
    "# note: this is blank since the model is managed by BQML and container is pre-specified\n",
    "vertex_model.uri "
   ]
  },
  {
   "cell_type": "markdown",
   "id": "1281280c-be08-4003-86fb-624d2115d076",
   "metadata": {},
   "source": [
    "### Vertex AI Endpoint - Create or Retrieve\n",
    "\n",
    "References:\n",
    "- [aiplatform.Endpoint()](https://cloud.google.com/python/docs/reference/aiplatform/latest/google.cloud.aiplatform.Endpoint)"
   ]
  },
  {
   "cell_type": "code",
   "execution_count": 51,
   "id": "df14e61f-d9ec-437d-ad9f-d8c8a5c02b7d",
   "metadata": {
    "ExecuteTime": {
     "end_time": "2024-03-13T22:27:37.099994Z",
     "start_time": "2024-03-13T22:25:00.457715Z"
    }
   },
   "outputs": [
    {
     "name": "stdout",
     "output_type": "stream",
     "text": [
      "Creating Endpoint\n",
      "Create Endpoint backing LRO: projects/475686201061/locations/us-central1/endpoints/1405538699134894080/operations/7349969184228376576\n",
      "Endpoint created. Resource name: projects/475686201061/locations/us-central1/endpoints/1405538699134894080\n",
      "To use this Endpoint in another session:\n",
      "endpoint = aiplatform.Endpoint('projects/475686201061/locations/us-central1/endpoints/1405538699134894080')\n",
      "Endpoint Created: bqml\n"
     ]
    }
   ],
   "source": [
    "if not aiplatform.Endpoint.list(filter = f\"display_name={SERIES}\"):\n",
    "    endpoint = aiplatform.Endpoint.create(\n",
    "        display_name = f\"{SERIES}\",\n",
    "        labels = {'series' : f\"{SERIES}\"}\n",
    "    )\n",
    "    print(f\"Endpoint Created: {endpoint.display_name}\")\n",
    "else:\n",
    "    endpoint = aiplatform.Endpoint.list(filter = f\"display_name={SERIES}\")[0]\n",
    "    print(f\"Endpoint Found: {endpoint.display_name}\")"
   ]
  },
  {
   "cell_type": "code",
   "execution_count": 52,
   "id": "103af54f-f899-49b5-8a3a-0452346bebe0",
   "metadata": {
    "ExecuteTime": {
     "end_time": "2024-03-13T22:27:37.123545Z",
     "start_time": "2024-03-13T22:27:37.096545Z"
    }
   },
   "outputs": [
    {
     "data": {
      "text/plain": "'bqml'"
     },
     "execution_count": 52,
     "metadata": {},
     "output_type": "execute_result"
    }
   ],
   "source": [
    "endpoint.display_name"
   ]
  },
  {
   "cell_type": "code",
   "execution_count": 53,
   "id": "f07ddaa4-8cef-4186-abe7-f2b3259cb302",
   "metadata": {
    "ExecuteTime": {
     "end_time": "2024-03-13T22:27:37.400411Z",
     "start_time": "2024-03-13T22:27:37.106489Z"
    }
   },
   "outputs": [
    {
     "data": {
      "text/plain": "{}"
     },
     "execution_count": 53,
     "metadata": {},
     "output_type": "execute_result"
    }
   ],
   "source": [
    "endpoint.traffic_split"
   ]
  },
  {
   "cell_type": "code",
   "execution_count": 54,
   "id": "398404fe-5c1c-4e5f-8d4a-e043bea57e13",
   "metadata": {
    "ExecuteTime": {
     "end_time": "2024-03-13T22:27:37.667576Z",
     "start_time": "2024-03-13T22:27:37.395986Z"
    }
   },
   "outputs": [
    {
     "data": {
      "text/plain": "[]"
     },
     "execution_count": 54,
     "metadata": {},
     "output_type": "execute_result"
    }
   ],
   "source": [
    "deployed_models = endpoint.list_models()\n",
    "deployed_models"
   ]
  },
  {
   "cell_type": "markdown",
   "id": "b7cfec95-bb9c-4490-af6e-44a966966e75",
   "metadata": {},
   "source": [
    "### Deploy Model To Vertex AI Endpoint\n",
    "\n",
    "**NOTE: This can take 15+ minutes to complete.**\n",
    "\n",
    "Reference:\n",
    "- [aiplatform.Endpoint.deploy()](https://cloud.google.com/python/docs/reference/aiplatform/latest/google.cloud.aiplatform.Endpoint#google_cloud_aiplatform_Endpoint_deploy)"
   ]
  },
  {
   "cell_type": "code",
   "execution_count": 55,
   "id": "09e02a80-de95-4ea5-b8b2-1c72b200ae1b",
   "metadata": {
    "ExecuteTime": {
     "end_time": "2024-03-13T22:49:07.398923Z",
     "start_time": "2024-03-13T22:27:37.659423Z"
    }
   },
   "outputs": [
    {
     "name": "stdout",
     "output_type": "stream",
     "text": [
      "Deploying Model projects/475686201061/locations/us-central1/models/bqml_bqml_boosted-tree to Endpoint : projects/475686201061/locations/us-central1/endpoints/1405538699134894080\n",
      "Deploy Endpoint model backing LRO: projects/475686201061/locations/us-central1/endpoints/1405538699134894080/operations/5010349177809403904\n",
      "Endpoint model deployed. Resource name: projects/475686201061/locations/us-central1/endpoints/1405538699134894080\n"
     ]
    }
   ],
   "source": [
    "endpoint.deploy(\n",
    "    model = vertex_model,\n",
    "    deployed_model_display_name = vertex_model.display_name,\n",
    "    traffic_percentage = 100,\n",
    "    machine_type = 'n1-standard-2',\n",
    "    min_replica_count = 1,\n",
    "    max_replica_count = 1\n",
    ")"
   ]
  },
  {
   "cell_type": "code",
   "execution_count": 56,
   "id": "a159d976-22ae-4e77-aa6e-a26561942aff",
   "metadata": {
    "ExecuteTime": {
     "end_time": "2024-03-13T22:49:07.655220Z",
     "start_time": "2024-03-13T22:49:07.394337Z"
    }
   },
   "outputs": [
    {
     "data": {
      "text/plain": "[dedicated_resources {\n   machine_spec {\n     machine_type: \"n1-standard-2\"\n   }\n   min_replica_count: 1\n   max_replica_count: 1\n }\n id: \"4805848776776351744\"\n model: \"projects/475686201061/locations/us-central1/models/bqml_bqml_boosted-tree\"\n model_version_id: \"1\"\n display_name: \"bqml_bqml_boosted-tree\"\n create_time {\n   seconds: 1710368858\n   nanos: 27843000\n }\n explanation_spec {\n   parameters {\n     sampled_shapley_attribution {\n       path_count: 5\n     }\n   }\n   metadata {\n     inputs {\n       key: \"V9\"\n       value {\n       }\n     }\n     inputs {\n       key: \"V8\"\n       value {\n       }\n     }\n     inputs {\n       key: \"V7\"\n       value {\n       }\n     }\n     inputs {\n       key: \"V6\"\n       value {\n       }\n     }\n     inputs {\n       key: \"V5\"\n       value {\n       }\n     }\n     inputs {\n       key: \"V4\"\n       value {\n       }\n     }\n     inputs {\n       key: \"V3\"\n       value {\n       }\n     }\n     inputs {\n       key: \"V2\"\n       value {\n       }\n     }\n     inputs {\n       key: \"V28\"\n       value {\n       }\n     }\n     inputs {\n       key: \"V27\"\n       value {\n       }\n     }\n     inputs {\n       key: \"V26\"\n       value {\n       }\n     }\n     inputs {\n       key: \"V25\"\n       value {\n       }\n     }\n     inputs {\n       key: \"V24\"\n       value {\n       }\n     }\n     inputs {\n       key: \"V23\"\n       value {\n       }\n     }\n     inputs {\n       key: \"V22\"\n       value {\n       }\n     }\n     inputs {\n       key: \"V21\"\n       value {\n       }\n     }\n     inputs {\n       key: \"V20\"\n       value {\n       }\n     }\n     inputs {\n       key: \"V1\"\n       value {\n       }\n     }\n     inputs {\n       key: \"V19\"\n       value {\n       }\n     }\n     inputs {\n       key: \"V18\"\n       value {\n       }\n     }\n     inputs {\n       key: \"V17\"\n       value {\n       }\n     }\n     inputs {\n       key: \"V16\"\n       value {\n       }\n     }\n     inputs {\n       key: \"V15\"\n       value {\n       }\n     }\n     inputs {\n       key: \"V14\"\n       value {\n       }\n     }\n     inputs {\n       key: \"V13\"\n       value {\n       }\n     }\n     inputs {\n       key: \"V12\"\n       value {\n       }\n     }\n     inputs {\n       key: \"V11\"\n       value {\n       }\n     }\n     inputs {\n       key: \"V10\"\n       value {\n       }\n     }\n     inputs {\n       key: \"Time\"\n       value {\n       }\n     }\n     inputs {\n       key: \"Amount\"\n       value {\n       }\n     }\n     outputs {\n       key: \"label_probs\"\n       value {\n       }\n     }\n   }\n }\n disable_container_logging: true]"
     },
     "execution_count": 56,
     "metadata": {},
     "output_type": "execute_result"
    }
   ],
   "source": [
    "endpoint.list_models()"
   ]
  },
  {
   "cell_type": "markdown",
   "id": "c562a5d4-bac0-4ebf-816a-e9bb70593caf",
   "metadata": {},
   "source": [
    "### Remove Deployed Models without Traffic"
   ]
  },
  {
   "cell_type": "code",
   "execution_count": 57,
   "id": "fe58b0cb-c738-41bd-a292-522c99706b60",
   "metadata": {
    "ExecuteTime": {
     "end_time": "2024-03-13T22:49:08.444724Z",
     "start_time": "2024-03-13T22:49:07.651582Z"
    }
   },
   "outputs": [
    {
     "name": "stdout",
     "output_type": "stream",
     "text": [
      "Model bqml_bqml_boosted-tree with version 1 has traffic = 100\n"
     ]
    }
   ],
   "source": [
    "for deployed_model in endpoint.list_models():\n",
    "    if deployed_model.id in endpoint.traffic_split:\n",
    "        print(f\"Model {deployed_model.display_name} with version {deployed_model.model_version_id} has traffic = {endpoint.traffic_split[deployed_model.id]}\")\n",
    "    else:\n",
    "        endpoint.undeploy(deployed_model_id = deployed_model.id)\n",
    "        print(f\"Undeploying {deployed_model.display_name} with version {deployed_model.model_version_id} because it has no traffic.\")"
   ]
  },
  {
   "cell_type": "code",
   "execution_count": 58,
   "id": "f2d29b17-140f-4acb-aa10-249f68bc64de",
   "metadata": {
    "ExecuteTime": {
     "end_time": "2024-03-13T22:49:08.744669Z",
     "start_time": "2024-03-13T22:49:08.444560Z"
    }
   },
   "outputs": [
    {
     "data": {
      "text/plain": "{'4805848776776351744': 100}"
     },
     "execution_count": 58,
     "metadata": {},
     "output_type": "execute_result"
    }
   ],
   "source": [
    "endpoint.traffic_split"
   ]
  },
  {
   "cell_type": "code",
   "execution_count": 59,
   "id": "86721169-d2c1-4765-8d65-91bed57c43e0",
   "metadata": {
    "ExecuteTime": {
     "end_time": "2024-03-13T22:49:08.752373Z",
     "start_time": "2024-03-13T22:49:08.744417Z"
    }
   },
   "outputs": [],
   "source": [
    "#endpoint.list_models()"
   ]
  },
  {
   "cell_type": "markdown",
   "id": "ed0dba75-2c9d-4414-abae-bd74f2632e27",
   "metadata": {},
   "source": [
    "---\n",
    "## Predictions With Vertex AI Endpoint"
   ]
  },
  {
   "cell_type": "markdown",
   "id": "c75e8385-30a2-43f7-8224-791cd8f27dd6",
   "metadata": {},
   "source": [
    "### Retrieve Records For Prediction"
   ]
  },
  {
   "cell_type": "code",
   "execution_count": 72,
   "id": "164dd112-dc41-49f2-96a6-59787024ee47",
   "metadata": {
    "ExecuteTime": {
     "end_time": "2024-03-13T23:00:44.670576Z",
     "start_time": "2024-03-13T23:00:43.876828Z"
    }
   },
   "outputs": [],
   "source": [
    "n = 10\n",
    "pred = bq.query(\n",
    "    query = f\"\"\"\n",
    "        SELECT * EXCEPT({VAR_TARGET}, {VAR_OMIT}, splits)\n",
    "        FROM `fraud-mlops.fraud.prepped-data`\n",
    "        WHERE splits='TEST'\n",
    "        LIMIT {n}\n",
    "        \"\"\"\n",
    ").to_dataframe()"
   ]
  },
  {
   "cell_type": "markdown",
   "id": "91ab48c1-0baa-41b5-801c-b8355331ac6e",
   "metadata": {},
   "source": [
    "Shape as instances: dictionaries of key:value pairs for only features used in model"
   ]
  },
  {
   "cell_type": "code",
   "execution_count": 73,
   "id": "63378a3d-cb6e-4343-a220-6aff86df3b2b",
   "metadata": {
    "ExecuteTime": {
     "end_time": "2024-03-13T23:00:44.987410Z",
     "start_time": "2024-03-13T23:00:44.879258Z"
    }
   },
   "outputs": [],
   "source": [
    "newobs = pred.to_dict(orient = 'records')"
   ]
  },
  {
   "cell_type": "code",
   "execution_count": 74,
   "id": "6dfdac6d-190b-447b-8f0e-58efa2d9ba6b",
   "metadata": {
    "ExecuteTime": {
     "end_time": "2024-03-13T23:00:46.175102Z",
     "start_time": "2024-03-13T23:00:45.991478Z"
    }
   },
   "outputs": [
    {
     "data": {
      "text/plain": "{'Time': 150507.0,\n 'V1': -0.320711951113694,\n 'V2': 0.190001208182974,\n 'V3': -0.784519993317997,\n 'V4': -0.517795423988923,\n 'V5': 2.44686116365359,\n 'V6': -1.6251062448868998,\n 'V7': 1.49088413415217,\n 'V8': -0.6203606851645429,\n 'V9': -0.590075348177317,\n 'V10': -0.215880650236486,\n 'V11': -1.64030060493209,\n 'V12': -0.9054885664221359,\n 'V13': -0.9481104557780791,\n 'V14': 0.640967797550166,\n 'V15': -0.42127830802827393,\n 'V16': -0.668913658036255,\n 'V17': -0.46692268934006,\n 'V18': -0.32424603372268496,\n 'V19': 0.0269228667579115,\n 'V20': 0.0347612513167279,\n 'V21': 0.249582167156359,\n 'V22': 0.7506371941583979,\n 'V23': -0.5714810709439571,\n 'V24': -0.7000869679654661,\n 'V25': 1.00559441003115,\n 'V26': 0.753549984154904,\n 'V27': -0.31805994232169105,\n 'V28': -0.28622782158056503,\n 'Amount': 0.0}"
     },
     "execution_count": 74,
     "metadata": {},
     "output_type": "execute_result"
    }
   ],
   "source": [
    "newobs[0]"
   ]
  },
  {
   "cell_type": "markdown",
   "id": "90154c52-5fff-47de-86fc-7ee209ab6d5d",
   "metadata": {},
   "source": [
    "### Get Predictions: Python Client"
   ]
  },
  {
   "cell_type": "code",
   "execution_count": 75,
   "id": "ce1e89df-12c4-4cb9-9c85-f048364f7914",
   "metadata": {
    "ExecuteTime": {
     "end_time": "2024-03-13T23:00:49.585862Z",
     "start_time": "2024-03-13T23:00:49.203302Z"
    }
   },
   "outputs": [
    {
     "data": {
      "text/plain": "Prediction(predictions=[{'predicted_Class': '0', 'Class_values': ['1', '0'], 'Class_probs': [0.04074341058731079, 0.9592565894126892]}], deployed_model_id='4805848776776351744', model_version_id='1', model_resource_name='projects/475686201061/locations/us-central1/models/bqml_bqml_boosted-tree', explanations=None)"
     },
     "execution_count": 75,
     "metadata": {},
     "output_type": "execute_result"
    }
   ],
   "source": [
    "prediction = endpoint.predict(instances = newobs[0:1])\n",
    "prediction"
   ]
  },
  {
   "cell_type": "code",
   "execution_count": 76,
   "id": "3c0427fe-d2cc-4560-bff0-8e6d1d51ab58",
   "metadata": {
    "ExecuteTime": {
     "end_time": "2024-03-13T23:01:04.629543Z",
     "start_time": "2024-03-13T23:01:04.485159Z"
    }
   },
   "outputs": [
    {
     "data": {
      "text/plain": "{'predicted_Class': '0',\n 'Class_values': ['1', '0'],\n 'Class_probs': [0.04074341058731079, 0.9592565894126892]}"
     },
     "execution_count": 76,
     "metadata": {},
     "output_type": "execute_result"
    }
   ],
   "source": [
    "prediction.predictions[0]"
   ]
  },
  {
   "cell_type": "code",
   "execution_count": 77,
   "id": "3dd0d8e2-7866-49c0-bd14-9770eb9518ef",
   "metadata": {
    "ExecuteTime": {
     "end_time": "2024-03-13T23:01:07.856448Z",
     "start_time": "2024-03-13T23:01:07.772075Z"
    }
   },
   "outputs": [
    {
     "data": {
      "text/plain": "0"
     },
     "execution_count": 77,
     "metadata": {},
     "output_type": "execute_result"
    }
   ],
   "source": [
    "np.argmax(prediction.predictions[0])"
   ]
  },
  {
   "cell_type": "markdown",
   "id": "d5fccd1c-bbc2-4199-8249-dd0126258e79",
   "metadata": {},
   "source": [
    "### Get Predictions: REST\n",
    "Reference:\n",
    "- [POST https://{REGION}-aiplatform.googleapis.com/v1/{endpoint}:predict](https://cloud.google.com/python/docs/reference/aiplatform/latest/google.cloud.aiplatform_v1.services.prediction_service.PredictionServiceClient#google_cloud_aiplatform_v1_services_prediction_service_PredictionServiceClient_predict)"
   ]
  },
  {
   "cell_type": "markdown",
   "id": "8d596de6-90d1-4a0f-8a11-90e9fda2f862",
   "metadata": {},
   "source": [
    "Prepare request:"
   ]
  },
  {
   "cell_type": "code",
   "execution_count": 78,
   "id": "c8c84567-2c5f-47a1-889a-6eb2d364129e",
   "metadata": {
    "ExecuteTime": {
     "end_time": "2024-03-13T23:01:16.844527Z",
     "start_time": "2024-03-13T23:01:16.764177Z"
    }
   },
   "outputs": [],
   "source": [
    "with open(f'{DIR}/request.json','w') as file:\n",
    "    file.write(json.dumps({\"instances\": newobs[0:1]}))"
   ]
  },
  {
   "cell_type": "markdown",
   "id": "092595da-b68b-437a-93e9-8e108ee1b33c",
   "metadata": {},
   "source": [
    "Prediction:"
   ]
  },
  {
   "cell_type": "code",
   "execution_count": 79,
   "id": "ddc883c7-cf67-4ad7-b2bf-21f526844b37",
   "metadata": {
    "ExecuteTime": {
     "end_time": "2024-03-13T23:01:22.038292Z",
     "start_time": "2024-03-13T23:01:18.994675Z"
    }
   },
   "outputs": [
    {
     "data": {
      "text/plain": "['  % Total    % Received % Xferd  Average Speed   Time    Time     Time  Current',\n '                                 Dload  Upload   Total   Spent    Left  Speed',\n '',\n '  0     0    0     0    0     0      0      0 --:--:-- --:--:-- --:--:--     0',\n '100  1220    0   421  100   799   1725   3275 --:--:-- --:--:-- --:--:--  5020',\n '{',\n '  \"predictions\": [',\n '    {',\n '      \"Class_probs\": [',\n '        0.040743410587310791,',\n '        0.95925658941268921',\n '      ],',\n '      \"predicted_Class\": \"0\",',\n '      \"Class_values\": [',\n '        \"1\",',\n '        \"0\"',\n '      ]',\n '    }',\n '  ],',\n '  \"deployedModelId\": \"4805848776776351744\",',\n '  \"model\": \"projects/475686201061/locations/us-central1/models/bqml_bqml_boosted-tree\",',\n '  \"modelDisplayName\": \"bqml_bqml_boosted-tree\",',\n '  \"modelVersionId\": \"1\"',\n '}']"
     },
     "execution_count": 79,
     "metadata": {},
     "output_type": "execute_result"
    }
   ],
   "source": [
    "prediction = !curl -X POST \\\n",
    "-H \"Authorization: Bearer \"$(gcloud auth application-default print-access-token) \\\n",
    "-H \"Content-Type: application/json; charset=utf-8\" \\\n",
    "-d @{DIR}/request.json \\\n",
    "https://{REGION}-aiplatform.googleapis.com/v1/{endpoint.resource_name}:predict\n",
    "\n",
    "prediction"
   ]
  },
  {
   "cell_type": "markdown",
   "id": "e24b5bac-ef80-461a-a1a9-6ace4d358043",
   "metadata": {},
   "source": [
    "Format raw prediction response using JSON:"
   ]
  },
  {
   "cell_type": "markdown",
   "id": "af3be5c7-6676-4215-a7b4-0b0cfa542b87",
   "metadata": {},
   "source": [
    "### Get Predictions: gcloud (CLI)\n",
    "Reference:\n",
    "- [gcloud ai endpoints predict](https://cloud.google.com/sdk/gcloud/reference/ai/endpoints/predict)"
   ]
  },
  {
   "cell_type": "markdown",
   "id": "6dcd8732-cafb-4a95-90e3-0e916ec33ad3",
   "metadata": {},
   "source": [
    "Prepare request:"
   ]
  },
  {
   "cell_type": "code",
   "execution_count": 80,
   "id": "8a20f17b-9e48-4b9c-8668-b705602b414e",
   "metadata": {
    "ExecuteTime": {
     "end_time": "2024-03-13T23:01:27.108212Z",
     "start_time": "2024-03-13T23:01:27.020424Z"
    }
   },
   "outputs": [],
   "source": [
    "with open(f'{DIR}/request.json','w') as file:\n",
    "    file.write(json.dumps({\"instances\": newobs[0:1]}))"
   ]
  },
  {
   "cell_type": "markdown",
   "id": "4b52d0eb-cd66-46db-a314-3a7a0421d82e",
   "metadata": {},
   "source": [
    "Prediction:"
   ]
  },
  {
   "cell_type": "code",
   "execution_count": 81,
   "id": "321e5f95-a587-4254-ab2d-566b6f261e6f",
   "metadata": {
    "ExecuteTime": {
     "end_time": "2024-03-13T23:01:31.024477Z",
     "start_time": "2024-03-13T23:01:28.324906Z"
    }
   },
   "outputs": [
    {
     "data": {
      "text/plain": "['You do not currently have this command group installed.  Using it ',\n 'requires the installation of components: [beta]',\n '',\n '',\n 'Your current Google Cloud CLI version is: 463.0.0',\n 'Installing components from version: 463.0.0',\n '',\n '┌─────────────────────────────────────────────┐',\n '│     These components will be installed.     │',\n '├──────────────────────┬────────────┬─────────┤',\n '│         Name         │  Version   │   Size  │',\n '├──────────────────────┼────────────┼─────────┤',\n '│ gcloud Beta Commands │ 2024.02.02 │ < 1 MiB │',\n '└──────────────────────┴────────────┴─────────┘',\n '',\n 'For the latest full release notes, please visit:',\n '  https://cloud.google.com/sdk/release_notes',\n '',\n 'Do you want to continue (Y/n)?  ',\n 'ERROR: (gcloud) This prompt could not be answered because you are not in an interactive session.  You can re-run the command with the --quiet flag to accept default answers for all prompts.']"
     },
     "execution_count": 81,
     "metadata": {},
     "output_type": "execute_result"
    }
   ],
   "source": [
    "prediction = !gcloud beta ai endpoints predict {endpoint.name.rsplit('/',1)[-1]} --region={REGION} --json-request={DIR}/request.json\n",
    "prediction"
   ]
  },
  {
   "cell_type": "markdown",
   "id": "b9c68129-b73d-4ec2-b9a7-bfbe55724432",
   "metadata": {},
   "source": [
    "---\n",
    "## Export Model\n",
    "\n",
    "The model created in BigQuery ML can be exported to their native model types save files.  This process saves the model artifacts in GCS where they can be use anywhere they are needed.  For instance, they could be imported into the Vertex AI Model Registry for use in online and batch serving - however, this process is automated with the training options use above."
   ]
  },
  {
   "cell_type": "markdown",
   "id": "e28d53c4-1c66-44ab-9373-153e268925ca",
   "metadata": {},
   "source": [
    "### Export the BigQuery Model\n",
    "\n",
    "\n",
    "The models trained in BQML can be exported from BigQuery to GCS:\n",
    "\n",
    "Reference:\n",
    "- [Exporting Models](https://cloud.google.com/bigquery-ml/docs/exporting-models)"
   ]
  },
  {
   "cell_type": "code",
   "execution_count": 47,
   "id": "16adea4c-460a-4b93-92d6-4f912c5496ad",
   "metadata": {
    "ExecuteTime": {
     "end_time": "2024-03-16T15:27:36.531904Z",
     "start_time": "2024-03-16T15:27:33.872392Z"
    }
   },
   "outputs": [
    {
     "data": {
      "text/plain": "<google.cloud.bigquery.table._EmptyRowIterator at 0x7fe44937eb20>"
     },
     "execution_count": 47,
     "metadata": {},
     "output_type": "execute_result"
    }
   ],
   "source": [
    "query = f\"\"\"\n",
    "EXPORT MODEL `{BQ_PROJECT}.{BQ_DATASET}.{BQ_MODEL}`\n",
    "    OPTIONS (URI = 'gs://{BUCKET}/{SERIES}/{EXPERIMENT}/models/{TIMESTAMP}/model')\n",
    "\"\"\"\n",
    "export = bq.query(query = query)\n",
    "export.result()"
   ]
  },
  {
   "cell_type": "code",
   "execution_count": 48,
   "id": "4ad38564-1561-4d28-8feb-c28243e98b94",
   "metadata": {
    "ExecuteTime": {
     "end_time": "2024-03-16T15:27:36.588196Z",
     "start_time": "2024-03-16T15:27:36.474654Z"
    }
   },
   "outputs": [
    {
     "data": {
      "text/plain": "1.85"
     },
     "execution_count": 48,
     "metadata": {},
     "output_type": "execute_result"
    }
   ],
   "source": [
    "(export.ended - export.started).total_seconds()"
   ]
  },
  {
   "cell_type": "code",
   "execution_count": 49,
   "id": "0e166efe-1356-4496-9448-0bec67c8a18e",
   "metadata": {
    "ExecuteTime": {
     "end_time": "2024-03-16T15:27:37.903007Z",
     "start_time": "2024-03-16T15:27:37.759667Z"
    }
   },
   "outputs": [
    {
     "name": "stdout",
     "output_type": "stream",
     "text": [
      "View the export in the console:\n",
      "https://console.cloud.google.com/storage/browser/e2e-fraud-detection/bqml/boosted-tree/models/20240316101833/model?project=e2e-fraud-detection\n"
     ]
    }
   ],
   "source": [
    "print(f\"View the export in the console:\\nhttps://console.cloud.google.com/storage/browser/{BUCKET}/{SERIES}/{EXPERIMENT}/models/{TIMESTAMP}/model?project={PROJECT_ID}\")"
   ]
  },
  {
   "cell_type": "markdown",
   "id": "82484a1e-1b9f-4319-9853-aa87fc62bec4",
   "metadata": {},
   "source": [
    "### Detect The Model Types Framework"
   ]
  },
  {
   "cell_type": "code",
   "outputs": [
    {
     "name": "stdout",
     "output_type": "stream",
     "text": [
      "Model framework determined: XGBoost\n"
     ]
    }
   ],
   "source": [
    "def determine_model_framework(bucket_name, prefix, service_account_path):\n",
    "    \"\"\"\n",
    "    Lists objects in a specified GCS bucket path, identifies model framework based on file extensions,\n",
    "    and ensures a single model framework is present.\n",
    "\n",
    "    Args:\n",
    "        bucket_name (str): The name of the GCS bucket.\n",
    "        prefix (str): The GCS path prefix to list objects from.\n",
    "        service_account_path (str): The file path to the service account key file.\n",
    "    \n",
    "    Returns:\n",
    "        The model framework if determined uniquely, otherwise raises an error.\n",
    "    \"\"\"\n",
    "    from google.oauth2 import service_account\n",
    "    from google.cloud import storage\n",
    "    # Authenticate with the service account\n",
    "    credentials = service_account.Credentials.from_service_account_file(service_account_path)\n",
    "    storage_client = storage.Client(credentials=credentials)\n",
    "    bucket = storage_client.bucket(bucket_name)\n",
    "\n",
    "    # Mapping of file extensions to model frameworks\n",
    "    filetype = {'pb': 'TensorFlow', 'bst': 'XGBoost'}\n",
    "\n",
    "    # List objects in the bucket with the specified prefix\n",
    "    blobs = bucket.list_blobs(prefix=prefix)\n",
    "    filenames = [blob.name for blob in blobs]\n",
    "\n",
    "    # Determine model frameworks based on file extensions in the listing\n",
    "    filetypes = [filetype[os.path.splitext(f)[1][1:]] for f in filenames if os.path.splitext(f)[1][1:] in filetype]\n",
    "\n",
    "    # Ensure a single model framework is present\n",
    "    if len(set(filetypes)) == 1:\n",
    "        framework = filetypes[0]\n",
    "        print(f'Model framework determined: {framework}')\n",
    "        return framework\n",
    "    else:\n",
    "        error_msg = f\"Model Type Undetermined! Multiple or no model frameworks found: {set(filetypes)}\"\n",
    "        raise TypeError(error_msg)\n",
    "\n",
    "# Example usage\n",
    "bucket_name = BUCKET\n",
    "prefix = f'{SERIES}/{EXPERIMENT}/models/{TIMESTAMP}/model'\n",
    "service_account_path = GOOGLE_APPLICATION_CREDENTIALS\n",
    "\n",
    "try:\n",
    "    framework = determine_model_framework(bucket_name, prefix, service_account_path)\n",
    "except TypeError as e:\n",
    "    print(e)\n"
   ],
   "metadata": {
    "collapsed": false,
    "ExecuteTime": {
     "end_time": "2024-03-16T15:28:11.759464Z",
     "start_time": "2024-03-16T15:28:11.342500Z"
    }
   },
   "id": "53f7732320c0c4f7",
   "execution_count": 51
  },
  {
   "cell_type": "markdown",
   "id": "5d069bc0-6de0-445f-a4c2-35adf44155ad",
   "metadata": {},
   "source": [
    "---\n",
    "## Remove Resources\n",
    "\n",
    "The following cells have commented out statements that can be used to remove resources created by this notebook.  Other notebooks in the repository will reusue the same endpoint so it may be desired to not remove the endpoint if you plan to run additional notebooks.  Otherwise, please removed the endpoint to prevent ongoing cost from hosting the models on Vertex AI Endpoints.\n",
    "\n",
    "Similarly, if you want to remove the model from BQML to prevent the minimal storage cost it will automatically be removed from Vertex AI Model Registry as well."
   ]
  },
  {
   "cell_type": "code",
   "execution_count": null,
   "id": "476608a9-6559-4952-81b8-229b53f80598",
   "metadata": {
    "ExecuteTime": {
     "start_time": "2024-03-13T22:49:09.694776Z"
    }
   },
   "outputs": [],
   "source": [
    "# delete endpoint, use `force` incase models are deployed or undeploy them first\n",
    "#endpoint.delete(force = True)"
   ]
  },
  {
   "cell_type": "code",
   "execution_count": null,
   "id": "cd38e082-4376-48f3-a0d2-54f35de71052",
   "metadata": {
    "ExecuteTime": {
     "start_time": "2024-03-13T22:49:09.694870Z"
    }
   },
   "outputs": [],
   "source": [
    "# delete models created in BQ with BQML - this also removes them from Vertex AI Model Registry\n",
    "#bq.delete_model(model)"
   ]
  }
 ],
 "metadata": {
  "environment": {
   "kernel": "python3",
   "name": "tf2-gpu.2-11.m104",
   "type": "gcloud",
   "uri": "gcr.io/deeplearning-platform-release/tf2-gpu.2-11:m104"
  },
  "kernelspec": {
   "display_name": "Python 3 (ipykernel)",
   "language": "python",
   "name": "python3"
  },
  "language_info": {
   "codemirror_mode": {
    "name": "ipython",
    "version": 3
   },
   "file_extension": ".py",
   "mimetype": "text/x-python",
   "name": "python",
   "nbconvert_exporter": "python",
   "pygments_lexer": "ipython3",
   "version": "3.7.12"
  }
 },
 "nbformat": 4,
 "nbformat_minor": 5
}
