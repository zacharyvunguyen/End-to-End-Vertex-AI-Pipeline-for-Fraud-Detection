{
 "cells": [
  {
   "cell_type": "markdown",
   "id": "b3ccbadc",
   "metadata": {},
   "source": [
    "# 03a - BigQuery ML (BQML) - Logistic Regression For Classification\n",
    "\n",
    "\n",
    "In this notebook, BigQuery ML (BQML) is used to create a logistic regression model.\n",
    "\n",
    "**Logistic Regression**\n",
    "\n",
    "Logistic Regression is a statistical model for the probability, `p`, of a class.  This is accomplished by fitting a linear combination of the features to the log-odds of the class.  The log-odds is called the logit and is the logarithm ($ln$) of the odds ($\\frac{p}{1-p}$).  This is a supervised learning approach where the labels, classes, are learned as function of the features.  While the model is estimating the probability of a class `p` which might be considered regression, the probabilities are used to assign a class which is classification.\n",
    "\n"
   ]
  },
  {
   "cell_type": "markdown",
   "id": "9efb7249",
   "metadata": {},
   "source": [
    "---\n",
    "## Setup"
   ]
  },
  {
   "cell_type": "markdown",
   "id": "5120acf8",
   "metadata": {},
   "source": [
    "inputs:"
   ]
  },
  {
   "cell_type": "code",
   "outputs": [],
   "source": [
    "import os\n",
    "GOOGLE_APPLICATION_CREDENTIALS = \"/Users/zacharynguyen/Documents/GitHub/2024/End-to-End-Vertex-AI-Pipeline-for-Fraud-Detection/key/e2e-fraud-detection-debf1c9863af.json\"\n",
    "os.environ[\"GOOGLE_APPLICATION_CREDENTIALS\"] = GOOGLE_APPLICATION_CREDENTIALS"
   ],
   "metadata": {
    "collapsed": false,
    "ExecuteTime": {
     "end_time": "2024-03-16T14:22:08.001949Z",
     "start_time": "2024-03-16T14:22:07.994598Z"
    }
   },
   "id": "798ea8bea92e71f2",
   "execution_count": 1
  },
  {
   "cell_type": "code",
   "execution_count": 2,
   "id": "d7e73d29",
   "metadata": {
    "ExecuteTime": {
     "end_time": "2024-03-16T14:22:48.634386Z",
     "start_time": "2024-03-16T14:22:48.549837Z"
    }
   },
   "outputs": [],
   "source": [
    "PROJECT_ID = 'e2e-fraud-detection'\n",
    "REGION = 'us-central1'\n",
    "EXPERIMENT = 'logistic-regression'\n",
    "SERIES = 'bqml'\n",
    "\n",
    "# source data\n",
    "BQ_PROJECT = PROJECT_ID\n",
    "BQ_DATASET = 'fraud_dataset'\n",
    "BQ_TABLE = 'prepped-data'\n",
    "\n",
    "# Resources for serving BigQuery Model Exports\n",
    "TF_DEPLOY_IMAGE = 'us-docker.pkg.dev/vertex-ai/prediction/tf2-cpu.2-3:latest'\n",
    "XGB_DEPLOY_IMAGE = 'us-docker.pkg.dev/vertex-ai/prediction/xgboost-cpu.0-82:latest'\n",
    "\n",
    "# Resources for serving BigQuery Model Exports\n",
    "DEPLOY_COMPUTE = 'n1-standard-4'\n",
    "\n",
    "# Model Training\n",
    "VAR_TARGET = 'Class'\n",
    "VAR_OMIT = 'transaction_id' # add more variables to the string with space delimiters"
   ]
  },
  {
   "cell_type": "markdown",
   "id": "4aa71004",
   "metadata": {},
   "source": [
    "packages:"
   ]
  },
  {
   "cell_type": "code",
   "execution_count": 3,
   "id": "4aa7cd23",
   "metadata": {
    "ExecuteTime": {
     "end_time": "2024-03-16T14:22:56.342202Z",
     "start_time": "2024-03-16T14:22:51.840569Z"
    }
   },
   "outputs": [],
   "source": [
    "from google.cloud import bigquery\n",
    "from google.cloud import aiplatform\n",
    "from datetime import datetime\n",
    "import matplotlib.pyplot as plt\n",
    "from sklearn import metrics\n",
    "import numpy as np\n",
    "\n",
    "from google.api import httpbody_pb2\n",
    "import json"
   ]
  },
  {
   "cell_type": "markdown",
   "id": "dbe01073",
   "metadata": {},
   "source": [
    "clients:"
   ]
  },
  {
   "cell_type": "code",
   "execution_count": 4,
   "id": "3baa671e",
   "metadata": {
    "ExecuteTime": {
     "end_time": "2024-03-16T14:22:56.365241Z",
     "start_time": "2024-03-16T14:22:56.340368Z"
    }
   },
   "outputs": [],
   "source": [
    "bq = bigquery.Client(project = PROJECT_ID)\n",
    "aiplatform.init(project = PROJECT_ID, location = REGION)"
   ]
  },
  {
   "cell_type": "markdown",
   "id": "bb3081f4-addd-4ea5-b192-e0649eadd511",
   "metadata": {},
   "source": [
    "parameters:"
   ]
  },
  {
   "cell_type": "code",
   "execution_count": 5,
   "id": "8b9b5149-0f20-4a44-8d5b-debba31c2d17",
   "metadata": {
    "ExecuteTime": {
     "end_time": "2024-03-16T14:23:15.223163Z",
     "start_time": "2024-03-16T14:23:15.140492Z"
    }
   },
   "outputs": [],
   "source": [
    "TIMESTAMP = datetime.now().strftime(\"%Y%m%d%H%M%S\")\n",
    "BUCKET = PROJECT_ID\n",
    "URI = f\"gs://{BUCKET}/{SERIES}/{EXPERIMENT}\"\n",
    "RUN_NAME = f'run-{TIMESTAMP}'\n",
    "\n",
    "BQ_MODEL = f'{SERIES}_{EXPERIMENT}_{TIMESTAMP}'"
   ]
  },
  {
   "cell_type": "markdown",
   "id": "ef28426e-6ee5-4a97-8de2-83a13d2bd6c9",
   "metadata": {},
   "source": [
    "environment:"
   ]
  },
  {
   "cell_type": "code",
   "execution_count": 6,
   "id": "cc2f1b43",
   "metadata": {
    "ExecuteTime": {
     "end_time": "2024-03-16T14:23:19.794471Z",
     "start_time": "2024-03-16T14:23:19.362384Z"
    }
   },
   "outputs": [],
   "source": [
    "DIR = f\"temp/{EXPERIMENT}\"\n",
    "\n",
    "!rm -rf {DIR}\n",
    "!mkdir -p {DIR}"
   ]
  },
  {
   "cell_type": "markdown",
   "id": "3e24d41f-35b9-4f66-b287-3608f02f842d",
   "metadata": {},
   "source": [
    "Review the number of records for each level of Class (VAR_TARGET) for each of the data splits:"
   ]
  },
  {
   "cell_type": "code",
   "execution_count": 7,
   "id": "ff09e056-b0f5-414e-8e82-d4d3c12159c7",
   "metadata": {
    "ExecuteTime": {
     "end_time": "2024-03-16T14:23:24.457495Z",
     "start_time": "2024-03-16T14:23:24.346505Z"
    }
   },
   "outputs": [
    {
     "name": "stdout",
     "output_type": "stream",
     "text": [
      "\n",
      "    SELECT splits, Class, count(*) as n\n",
      "    FROM `e2e-fraud-detection.fraud_dataset.prepped-data`\n",
      "    GROUP BY splits, Class\n"
     ]
    }
   ],
   "source": [
    "query = f\"\"\"\n",
    "    SELECT splits, {VAR_TARGET}, count(*) as n\n",
    "    FROM `{BQ_PROJECT}.{BQ_DATASET}.{BQ_TABLE}`\n",
    "    GROUP BY splits, {VAR_TARGET}\n",
    "\"\"\"\n",
    "print(query)"
   ]
  },
  {
   "cell_type": "code",
   "execution_count": 8,
   "id": "77201e7c-6b76-46fa-be3e-758f0b59641e",
   "metadata": {
    "ExecuteTime": {
     "end_time": "2024-03-16T14:23:37.280339Z",
     "start_time": "2024-03-16T14:23:35.883942Z"
    }
   },
   "outputs": [
    {
     "data": {
      "text/plain": "     splits  Class       n\n0      TEST      0   28435\n1      TEST      1      46\n2     TRAIN      0  227497\n3     TRAIN      1     400\n4  VALIDATE      0   28383\n5  VALIDATE      1      46",
      "text/html": "<div>\n<style scoped>\n    .dataframe tbody tr th:only-of-type {\n        vertical-align: middle;\n    }\n\n    .dataframe tbody tr th {\n        vertical-align: top;\n    }\n\n    .dataframe thead th {\n        text-align: right;\n    }\n</style>\n<table border=\"1\" class=\"dataframe\">\n  <thead>\n    <tr style=\"text-align: right;\">\n      <th></th>\n      <th>splits</th>\n      <th>Class</th>\n      <th>n</th>\n    </tr>\n  </thead>\n  <tbody>\n    <tr>\n      <th>0</th>\n      <td>TEST</td>\n      <td>0</td>\n      <td>28435</td>\n    </tr>\n    <tr>\n      <th>1</th>\n      <td>TEST</td>\n      <td>1</td>\n      <td>46</td>\n    </tr>\n    <tr>\n      <th>2</th>\n      <td>TRAIN</td>\n      <td>0</td>\n      <td>227497</td>\n    </tr>\n    <tr>\n      <th>3</th>\n      <td>TRAIN</td>\n      <td>1</td>\n      <td>400</td>\n    </tr>\n    <tr>\n      <th>4</th>\n      <td>VALIDATE</td>\n      <td>0</td>\n      <td>28383</td>\n    </tr>\n    <tr>\n      <th>5</th>\n      <td>VALIDATE</td>\n      <td>1</td>\n      <td>46</td>\n    </tr>\n  </tbody>\n</table>\n</div>"
     },
     "execution_count": 8,
     "metadata": {},
     "output_type": "execute_result"
    }
   ],
   "source": [
    "bq.query(query = query).to_dataframe()"
   ]
  },
  {
   "cell_type": "markdown",
   "id": "aed9c61c-3c3c-46a4-b533-4010993b9d41",
   "metadata": {},
   "source": [
    "Further review the balance of the target variable (VAR_TARGET) for each split as a percentage of the split:"
   ]
  },
  {
   "cell_type": "code",
   "execution_count": 9,
   "id": "09b42087-032c-4775-97da-5e074bb4baa7",
   "metadata": {
    "ExecuteTime": {
     "end_time": "2024-03-16T14:23:39.212365Z",
     "start_time": "2024-03-16T14:23:39.116114Z"
    }
   },
   "outputs": [
    {
     "name": "stdout",
     "output_type": "stream",
     "text": [
      "\n",
      "    WITH\n",
      "        COUNTS as (SELECT splits, Class, count(*) as n FROM `e2e-fraud-detection.fraud_dataset.prepped-data` GROUP BY splits, Class)\n",
      "\n",
      "    SELECT *,\n",
      "        SUM(n) OVER() as total,\n",
      "        SAFE_DIVIDE(n, SUM(n) OVER(PARTITION BY Class)) as n_pct_class,\n",
      "        SAFE_DIVIDE(n, SUM(n) OVER(PARTITION BY splits)) as n_pct_split,\n",
      "        SAFE_DIVIDE(SUM(n) OVER(PARTITION BY Class), SUM(n) OVER()) as class_pct_total\n",
      "    FROM COUNTS\n"
     ]
    }
   ],
   "source": [
    "query = f\"\"\"\n",
    "    WITH\n",
    "        COUNTS as (SELECT splits, {VAR_TARGET}, count(*) as n FROM `{BQ_PROJECT}.{BQ_DATASET}.{BQ_TABLE}` GROUP BY splits, {VAR_TARGET})\n",
    "\n",
    "    SELECT *,\n",
    "        SUM(n) OVER() as total,\n",
    "        SAFE_DIVIDE(n, SUM(n) OVER(PARTITION BY {VAR_TARGET})) as n_pct_class,\n",
    "        SAFE_DIVIDE(n, SUM(n) OVER(PARTITION BY splits)) as n_pct_split,\n",
    "        SAFE_DIVIDE(SUM(n) OVER(PARTITION BY {VAR_TARGET}), SUM(n) OVER()) as class_pct_total\n",
    "    FROM COUNTS\n",
    "\"\"\"\n",
    "print(query)"
   ]
  },
  {
   "cell_type": "code",
   "execution_count": 10,
   "id": "28a82539-813d-4e27-a7a7-ad80566a835f",
   "metadata": {
    "ExecuteTime": {
     "end_time": "2024-03-16T14:23:42.540942Z",
     "start_time": "2024-03-16T14:23:40.732646Z"
    }
   },
   "outputs": [
    {
     "data": {
      "text/plain": "     splits  Class       n   total  n_pct_class  n_pct_split  class_pct_total\n0  VALIDATE      0   28383  284807     0.099829     0.998382         0.998273\n1  VALIDATE      1      46  284807     0.093496     0.001618         0.001727\n2      TEST      0   28435  284807     0.100012     0.998385         0.998273\n3      TEST      1      46  284807     0.093496     0.001615         0.001727\n4     TRAIN      0  227497  284807     0.800158     0.998245         0.998273\n5     TRAIN      1     400  284807     0.813008     0.001755         0.001727",
      "text/html": "<div>\n<style scoped>\n    .dataframe tbody tr th:only-of-type {\n        vertical-align: middle;\n    }\n\n    .dataframe tbody tr th {\n        vertical-align: top;\n    }\n\n    .dataframe thead th {\n        text-align: right;\n    }\n</style>\n<table border=\"1\" class=\"dataframe\">\n  <thead>\n    <tr style=\"text-align: right;\">\n      <th></th>\n      <th>splits</th>\n      <th>Class</th>\n      <th>n</th>\n      <th>total</th>\n      <th>n_pct_class</th>\n      <th>n_pct_split</th>\n      <th>class_pct_total</th>\n    </tr>\n  </thead>\n  <tbody>\n    <tr>\n      <th>0</th>\n      <td>VALIDATE</td>\n      <td>0</td>\n      <td>28383</td>\n      <td>284807</td>\n      <td>0.099829</td>\n      <td>0.998382</td>\n      <td>0.998273</td>\n    </tr>\n    <tr>\n      <th>1</th>\n      <td>VALIDATE</td>\n      <td>1</td>\n      <td>46</td>\n      <td>284807</td>\n      <td>0.093496</td>\n      <td>0.001618</td>\n      <td>0.001727</td>\n    </tr>\n    <tr>\n      <th>2</th>\n      <td>TEST</td>\n      <td>0</td>\n      <td>28435</td>\n      <td>284807</td>\n      <td>0.100012</td>\n      <td>0.998385</td>\n      <td>0.998273</td>\n    </tr>\n    <tr>\n      <th>3</th>\n      <td>TEST</td>\n      <td>1</td>\n      <td>46</td>\n      <td>284807</td>\n      <td>0.093496</td>\n      <td>0.001615</td>\n      <td>0.001727</td>\n    </tr>\n    <tr>\n      <th>4</th>\n      <td>TRAIN</td>\n      <td>0</td>\n      <td>227497</td>\n      <td>284807</td>\n      <td>0.800158</td>\n      <td>0.998245</td>\n      <td>0.998273</td>\n    </tr>\n    <tr>\n      <th>5</th>\n      <td>TRAIN</td>\n      <td>1</td>\n      <td>400</td>\n      <td>284807</td>\n      <td>0.813008</td>\n      <td>0.001755</td>\n      <td>0.001727</td>\n    </tr>\n  </tbody>\n</table>\n</div>"
     },
     "execution_count": 10,
     "metadata": {},
     "output_type": "execute_result"
    }
   ],
   "source": [
    "review = bq.query(query = query).to_dataframe()\n",
    "review"
   ]
  },
  {
   "cell_type": "markdown",
   "id": "1a532dad-3eb4-4fd7-b1f6-eb60278e15eb",
   "metadata": {},
   "source": [
    "---\n",
    "## This Run"
   ]
  },
  {
   "cell_type": "code",
   "execution_count": 12,
   "id": "4bc58c52-2d51-4298-a0f6-74be71f5e1f7",
   "metadata": {
    "ExecuteTime": {
     "end_time": "2024-03-16T14:24:14.900797Z",
     "start_time": "2024-03-16T14:24:14.820836Z"
    }
   },
   "outputs": [
    {
     "name": "stdout",
     "output_type": "stream",
     "text": [
      "This run will create BQML model: e2e-fraud-detection.fraud_dataset.bqml_logistic-regression_20240316092315\n",
      "This run will create Vertex AI model: e2e-fraud-detection.fraud_dataset.bqml_logistic-regression\n",
      "The runs timestamp Is: 20240316092315\n"
     ]
    }
   ],
   "source": [
    "print(f'This run will create BQML model: {BQ_PROJECT}.{BQ_DATASET}.{BQ_MODEL}')\n",
    "print(f'This run will create Vertex AI model: {BQ_PROJECT}.{BQ_DATASET}.{SERIES}_{EXPERIMENT}')\n",
    "print(f'The runs timestamp Is: {TIMESTAMP}')"
   ]
  },
  {
   "cell_type": "markdown",
   "id": "5686a4bb",
   "metadata": {},
   "source": [
    "---\n",
    "## Train Model\n",
    "\n",
    "Use BigQuery ML to train multiclass logistic regression model:\n",
    "- [Logistic Regression](https://cloud.google.com/bigquery-ml/docs/reference/standard-sql/bigqueryml-syntax-create-glm) with BigQuery ML (BQML)\n",
    "- This uses the `splits` column that notebook `01` created\n",
    "- `data_split_method = CUSTOM` uses the column in `data_split_col` to assign training data for `FALSE` values and evaluation data for `TRUE` values.\n",
    "    - in this example the `WHERE splits != 'TEST'` statement filters out the test data and\n",
    "    - the `CASE` statement maps training data to FALSE and validation data to TRUE\n",
    "    \n",
    "This example includes the [training options](https://cloud.google.com/bigquery-ml/docs/create_vertex) to register the resulting model in the [Vertex AI Model Registry](https://cloud.google.com/vertex-ai/docs/model-registry/introduction)."
   ]
  },
  {
   "cell_type": "code",
   "execution_count": 13,
   "id": "8ec35834",
   "metadata": {
    "ExecuteTime": {
     "end_time": "2024-03-16T14:24:45.209392Z",
     "start_time": "2024-03-16T14:24:45.131810Z"
    }
   },
   "outputs": [
    {
     "name": "stdout",
     "output_type": "stream",
     "text": [
      "\n",
      "CREATE OR REPLACE MODEL `e2e-fraud-detection.fraud_dataset.bqml_logistic-regression_20240316092315`\n",
      "OPTIONS (\n",
      "        model_type = 'LOGISTIC_REG',\n",
      "        auto_class_weights = TRUE,\n",
      "        calculate_p_values = TRUE,\n",
      "        CATEGORY_ENCODING_METHOD = 'DUMMY_ENCODING',\n",
      "        input_label_cols = ['Class'],\n",
      "        enable_global_explain = TRUE,\n",
      "        data_split_col = 'custom_splits',\n",
      "        data_split_method = 'CUSTOM',\n",
      "        MODEL_REGISTRY = 'VERTEX_AI',\n",
      "        VERTEX_AI_MODEL_ID = 'bqml_logistic-regression',\n",
      "        VERTEX_AI_MODEL_VERSION_ALIASES = ['run-20240316092315']\n",
      "    ) AS\n",
      "SELECT * EXCEPT(transaction_id, splits),\n",
      "    CASE\n",
      "        WHEN splits = 'TRAIN' THEN FALSE\n",
      "        ELSE TRUE\n",
      "    END AS custom_splits\n",
      "FROM `e2e-fraud-detection.fraud_dataset.prepped-data`\n",
      "WHERE splits != 'TEST'\n"
     ]
    }
   ],
   "source": [
    "query = f\"\"\"\n",
    "CREATE OR REPLACE MODEL `{BQ_PROJECT}.{BQ_DATASET}.{BQ_MODEL}`\n",
    "OPTIONS (\n",
    "        model_type = 'LOGISTIC_REG',\n",
    "        auto_class_weights = TRUE,\n",
    "        calculate_p_values = TRUE,\n",
    "        CATEGORY_ENCODING_METHOD = 'DUMMY_ENCODING',\n",
    "        input_label_cols = ['{VAR_TARGET}'],\n",
    "        enable_global_explain = TRUE,\n",
    "        data_split_col = 'custom_splits',\n",
    "        data_split_method = 'CUSTOM',\n",
    "        MODEL_REGISTRY = 'VERTEX_AI',\n",
    "        VERTEX_AI_MODEL_ID = '{SERIES}_{EXPERIMENT}',\n",
    "        VERTEX_AI_MODEL_VERSION_ALIASES = ['{RUN_NAME}']\n",
    "    ) AS\n",
    "SELECT * EXCEPT({','.join(VAR_OMIT.split())}, splits),\n",
    "    CASE\n",
    "        WHEN splits = 'TRAIN' THEN FALSE\n",
    "        ELSE TRUE\n",
    "    END AS custom_splits\n",
    "FROM `{BQ_PROJECT}.{BQ_DATASET}.{BQ_TABLE}`\n",
    "WHERE splits != 'TEST'\n",
    "\"\"\"\n",
    "print(query)"
   ]
  },
  {
   "cell_type": "code",
   "execution_count": 14,
   "id": "118cf076-90f1-403c-9d8e-1ae6b1907426",
   "metadata": {
    "ExecuteTime": {
     "end_time": "2024-03-16T14:28:18.565877Z",
     "start_time": "2024-03-16T14:25:04.291713Z"
    }
   },
   "outputs": [
    {
     "data": {
      "text/plain": "<google.cloud.bigquery.table._EmptyRowIterator at 0x7f84e03e08b0>"
     },
     "execution_count": 14,
     "metadata": {},
     "output_type": "execute_result"
    }
   ],
   "source": [
    "job = bq.query(query = query)\n",
    "job.result()"
   ]
  },
  {
   "cell_type": "code",
   "execution_count": 15,
   "id": "e3a6b5f1",
   "metadata": {
    "ExecuteTime": {
     "end_time": "2024-03-16T14:28:18.594471Z",
     "start_time": "2024-03-16T14:28:18.563447Z"
    }
   },
   "outputs": [
    {
     "data": {
      "text/plain": "193.462"
     },
     "execution_count": 15,
     "metadata": {},
     "output_type": "execute_result"
    }
   ],
   "source": [
    "(job.ended-job.started).total_seconds()"
   ]
  },
  {
   "cell_type": "code",
   "execution_count": 16,
   "id": "de17d955-6c31-46e6-8fb5-f9fc44be2257",
   "metadata": {
    "ExecuteTime": {
     "end_time": "2024-03-16T14:28:18.611390Z",
     "start_time": "2024-03-16T14:28:18.570476Z"
    }
   },
   "outputs": [
    {
     "data": {
      "text/plain": "72682591"
     },
     "execution_count": 16,
     "metadata": {},
     "output_type": "execute_result"
    }
   ],
   "source": [
    "job.total_bytes_processed"
   ]
  },
  {
   "cell_type": "markdown",
   "id": "d0c79c71-963c-4aa0-a95c-f773c4dc5d82",
   "metadata": {},
   "source": [
    "Add labels to the model in BigQuery:"
   ]
  },
  {
   "cell_type": "code",
   "execution_count": 17,
   "id": "13d696f2-a277-422c-9cb0-f2ea8b5b242f",
   "metadata": {
    "ExecuteTime": {
     "end_time": "2024-03-16T14:28:18.916697Z",
     "start_time": "2024-03-16T14:28:18.580212Z"
    }
   },
   "outputs": [],
   "source": [
    "model = bq.get_model(f'{BQ_PROJECT}.{BQ_DATASET}.{BQ_MODEL}')\n",
    "model.labels = {'series' : f'{SERIES}', 'experiment' : f'{EXPERIMENT}','timestamp' : f'{TIMESTAMP}'}\n",
    "model = bq.update_model(model, ['labels'])"
   ]
  },
  {
   "cell_type": "markdown",
   "id": "e993eee1-1a45-4fee-9c32-5b9412b4c88f",
   "metadata": {},
   "source": [
    "### Check out this model in BigQuery Console:\n",
    "- Make sure project selected is the one from this notebook\n",
    "- Under Explore, expand this project and dataset\n",
    "- Expand Models and select the model create here"
   ]
  },
  {
   "cell_type": "code",
   "execution_count": 18,
   "id": "2e612ea8-ff94-4100-8293-5e2d691cfc69",
   "metadata": {
    "ExecuteTime": {
     "end_time": "2024-03-16T14:28:18.947361Z",
     "start_time": "2024-03-16T14:28:18.917714Z"
    }
   },
   "outputs": [
    {
     "name": "stdout",
     "output_type": "stream",
     "text": [
      "BigQuery Console for Project:\n",
      "https://console.cloud.google.com/bigquery?project=e2e-fraud-detection\n"
     ]
    }
   ],
   "source": [
    "print(f'BigQuery Console for Project:\\nhttps://console.cloud.google.com/bigquery?project={PROJECT_ID}')"
   ]
  },
  {
   "cell_type": "code",
   "execution_count": 19,
   "id": "a70136c5-da05-4083-b45e-1c19d4a32c3c",
   "metadata": {
    "ExecuteTime": {
     "end_time": "2024-03-16T14:28:18.964517Z",
     "start_time": "2024-03-16T14:28:18.923695Z"
    }
   },
   "outputs": [
    {
     "name": "stdout",
     "output_type": "stream",
     "text": [
      "Direct link to the model in BigQuery:\n",
      "https://console.cloud.google.com/bigquery?project=e2e-fraud-detection&ws=!1m5!1m4!5m3!1se2e-fraud-detection!2sfraud_dataset!3sbqml_logistic-regression_20240316092315\n"
     ]
    }
   ],
   "source": [
    "print(f'Direct link to the model in BigQuery:\\nhttps://console.cloud.google.com/bigquery?project={PROJECT_ID}&ws=!1m5!1m4!5m3!1s{PROJECT_ID}!2s{BQ_DATASET}!3s{BQ_MODEL}')"
   ]
  },
  {
   "cell_type": "markdown",
   "id": "b4b7ad17-4ced-407a-a262-833c298b4ff2",
   "metadata": {},
   "source": [
    "### Check out this model in the Vertex AI Model Registry"
   ]
  },
  {
   "cell_type": "code",
   "execution_count": 20,
   "id": "c3a7c3c4-b473-4dcb-8e00-b399982a0673",
   "metadata": {
    "ExecuteTime": {
     "end_time": "2024-03-16T14:28:18.971297Z",
     "start_time": "2024-03-16T14:28:18.929700Z"
    }
   },
   "outputs": [
    {
     "name": "stdout",
     "output_type": "stream",
     "text": [
      "Review the model in the Vertex AI Model Registry:\n",
      "https://console.cloud.google.com/vertex-ai/locations/us-central1/models/bqml_bqml_logistic-regression_20240316092315?project=e2e-fraud-detection\n"
     ]
    }
   ],
   "source": [
    "print(f'Review the model in the Vertex AI Model Registry:\\nhttps://console.cloud.google.com/vertex-ai/locations/{REGION}/models/bqml_{BQ_MODEL}?project={PROJECT_ID}')"
   ]
  },
  {
   "cell_type": "markdown",
   "id": "6d68fbdd-fb42-4446-a480-978db75db396",
   "metadata": {},
   "source": [
    "### Feature and Training Review"
   ]
  },
  {
   "cell_type": "markdown",
   "id": "f22f31dc-0704-48a3-9820-db6b4b480029",
   "metadata": {},
   "source": [
    "Review the Model Inputs, the feature information, with [ML.FEATURE_INFO](https://cloud.google.com/bigquery-ml/docs/reference/standard-sql/bigqueryml-syntax-feature):"
   ]
  },
  {
   "cell_type": "code",
   "execution_count": 21,
   "id": "1100435a-f279-4ebe-9fd0-85d6eb88b225",
   "metadata": {
    "ExecuteTime": {
     "end_time": "2024-03-16T14:28:20.023153Z",
     "start_time": "2024-03-16T14:28:18.937837Z"
    }
   },
   "outputs": [
    {
     "data": {
      "text/plain": "     input        min            max          mean        median  \\\n0     Time   0.000000  172792.000000  94822.243593  85960.000000   \n1       V1 -56.407510       2.446505     -0.000736      0.027965   \n2       V2 -72.715728      22.057729     -0.000056      0.078188   \n3       V3 -32.965346       9.382558      0.000062      0.185541   \n4       V4  -5.683171      16.875344      0.002923     -0.030966   \n5       V5 -42.147898      34.801666      0.002895     -0.056720   \n6       V6 -26.160506      23.917837     -0.002217     -0.273283   \n7       V7 -43.557242      44.054461      0.001489      0.036336   \n8       V8 -73.216718      20.007208     -0.000523      0.021653   \n9       V9 -13.434066      15.594995     -0.001416     -0.060086   \n10     V10 -24.588262      23.745136      0.001133     -0.101618   \n11     V11  -4.797473      11.619723     -0.001210     -0.034597   \n12     V12 -18.683715       7.848392     -0.000622      0.140743   \n13     V13  -5.791881       4.569009     -0.000502     -0.013188   \n14     V14 -18.822087      10.526766      0.001318      0.045368   \n15     V15  -4.391307       5.784514     -0.001165      0.038754   \n16     V16 -14.129855       8.289890     -0.000800      0.061957   \n17     V17 -25.162799       9.253526     -0.000732     -0.076408   \n18     V18  -9.498746       5.041069     -0.001094     -0.010731   \n19     V19  -7.213527       5.591971      0.000869      0.001088   \n20     V20 -28.009635      39.420904      0.000199     -0.062112   \n21     V21 -34.830382      27.202839      0.000315     -0.032236   \n22     V22 -10.933144      10.503090      0.000775      0.009174   \n23     V23 -44.807735      22.528412     -0.000453     -0.013678   \n24     V24  -2.824849       4.022866      0.000211      0.037213   \n25     V25 -10.295397       7.519589      0.001376      0.008946   \n26     V26  -2.604551       3.517346     -0.000703     -0.053060   \n27     V27 -22.565679      11.135740     -0.000671      0.000866   \n28     V28 -11.710896      33.847808      0.000089      0.010626   \n29  Amount   0.000000   19656.530000     88.081451     21.380000   \n\n          stddev  category_count  null_count  dimension  \n0   47468.021107            <NA>           0       <NA>  \n1       1.960462            <NA>           0       <NA>  \n2       1.654712            <NA>           0       <NA>  \n3       1.513369            <NA>           0       <NA>  \n4       1.417278            <NA>           0       <NA>  \n5       1.362772            <NA>           0       <NA>  \n6       1.324232            <NA>           0       <NA>  \n7       1.214252            <NA>           0       <NA>  \n8       1.193520            <NA>           0       <NA>  \n9       1.098525            <NA>           0       <NA>  \n10      1.089362            <NA>           0       <NA>  \n11      1.019361            <NA>           0       <NA>  \n12      0.997684            <NA>           0       <NA>  \n13      0.995935            <NA>           0       <NA>  \n14      0.956507            <NA>           0       <NA>  \n15      0.915448            <NA>           0       <NA>  \n16      0.874763            <NA>           0       <NA>  \n17      0.846077            <NA>           0       <NA>  \n18      0.837740            <NA>           0       <NA>  \n19      0.813107            <NA>           0       <NA>  \n20      0.761867            <NA>           0       <NA>  \n21      0.735887            <NA>           0       <NA>  \n22      0.725350            <NA>           0       <NA>  \n23      0.620321            <NA>           0       <NA>  \n24      0.605292            <NA>           0       <NA>  \n25      0.520937            <NA>           0       <NA>  \n26      0.482274            <NA>           0       <NA>  \n27      0.400017            <NA>           0       <NA>  \n28      0.335617            <NA>           0       <NA>  \n29    242.432323            <NA>           0       <NA>  ",
      "text/html": "<div>\n<style scoped>\n    .dataframe tbody tr th:only-of-type {\n        vertical-align: middle;\n    }\n\n    .dataframe tbody tr th {\n        vertical-align: top;\n    }\n\n    .dataframe thead th {\n        text-align: right;\n    }\n</style>\n<table border=\"1\" class=\"dataframe\">\n  <thead>\n    <tr style=\"text-align: right;\">\n      <th></th>\n      <th>input</th>\n      <th>min</th>\n      <th>max</th>\n      <th>mean</th>\n      <th>median</th>\n      <th>stddev</th>\n      <th>category_count</th>\n      <th>null_count</th>\n      <th>dimension</th>\n    </tr>\n  </thead>\n  <tbody>\n    <tr>\n      <th>0</th>\n      <td>Time</td>\n      <td>0.000000</td>\n      <td>172792.000000</td>\n      <td>94822.243593</td>\n      <td>85960.000000</td>\n      <td>47468.021107</td>\n      <td>&lt;NA&gt;</td>\n      <td>0</td>\n      <td>&lt;NA&gt;</td>\n    </tr>\n    <tr>\n      <th>1</th>\n      <td>V1</td>\n      <td>-56.407510</td>\n      <td>2.446505</td>\n      <td>-0.000736</td>\n      <td>0.027965</td>\n      <td>1.960462</td>\n      <td>&lt;NA&gt;</td>\n      <td>0</td>\n      <td>&lt;NA&gt;</td>\n    </tr>\n    <tr>\n      <th>2</th>\n      <td>V2</td>\n      <td>-72.715728</td>\n      <td>22.057729</td>\n      <td>-0.000056</td>\n      <td>0.078188</td>\n      <td>1.654712</td>\n      <td>&lt;NA&gt;</td>\n      <td>0</td>\n      <td>&lt;NA&gt;</td>\n    </tr>\n    <tr>\n      <th>3</th>\n      <td>V3</td>\n      <td>-32.965346</td>\n      <td>9.382558</td>\n      <td>0.000062</td>\n      <td>0.185541</td>\n      <td>1.513369</td>\n      <td>&lt;NA&gt;</td>\n      <td>0</td>\n      <td>&lt;NA&gt;</td>\n    </tr>\n    <tr>\n      <th>4</th>\n      <td>V4</td>\n      <td>-5.683171</td>\n      <td>16.875344</td>\n      <td>0.002923</td>\n      <td>-0.030966</td>\n      <td>1.417278</td>\n      <td>&lt;NA&gt;</td>\n      <td>0</td>\n      <td>&lt;NA&gt;</td>\n    </tr>\n    <tr>\n      <th>5</th>\n      <td>V5</td>\n      <td>-42.147898</td>\n      <td>34.801666</td>\n      <td>0.002895</td>\n      <td>-0.056720</td>\n      <td>1.362772</td>\n      <td>&lt;NA&gt;</td>\n      <td>0</td>\n      <td>&lt;NA&gt;</td>\n    </tr>\n    <tr>\n      <th>6</th>\n      <td>V6</td>\n      <td>-26.160506</td>\n      <td>23.917837</td>\n      <td>-0.002217</td>\n      <td>-0.273283</td>\n      <td>1.324232</td>\n      <td>&lt;NA&gt;</td>\n      <td>0</td>\n      <td>&lt;NA&gt;</td>\n    </tr>\n    <tr>\n      <th>7</th>\n      <td>V7</td>\n      <td>-43.557242</td>\n      <td>44.054461</td>\n      <td>0.001489</td>\n      <td>0.036336</td>\n      <td>1.214252</td>\n      <td>&lt;NA&gt;</td>\n      <td>0</td>\n      <td>&lt;NA&gt;</td>\n    </tr>\n    <tr>\n      <th>8</th>\n      <td>V8</td>\n      <td>-73.216718</td>\n      <td>20.007208</td>\n      <td>-0.000523</td>\n      <td>0.021653</td>\n      <td>1.193520</td>\n      <td>&lt;NA&gt;</td>\n      <td>0</td>\n      <td>&lt;NA&gt;</td>\n    </tr>\n    <tr>\n      <th>9</th>\n      <td>V9</td>\n      <td>-13.434066</td>\n      <td>15.594995</td>\n      <td>-0.001416</td>\n      <td>-0.060086</td>\n      <td>1.098525</td>\n      <td>&lt;NA&gt;</td>\n      <td>0</td>\n      <td>&lt;NA&gt;</td>\n    </tr>\n    <tr>\n      <th>10</th>\n      <td>V10</td>\n      <td>-24.588262</td>\n      <td>23.745136</td>\n      <td>0.001133</td>\n      <td>-0.101618</td>\n      <td>1.089362</td>\n      <td>&lt;NA&gt;</td>\n      <td>0</td>\n      <td>&lt;NA&gt;</td>\n    </tr>\n    <tr>\n      <th>11</th>\n      <td>V11</td>\n      <td>-4.797473</td>\n      <td>11.619723</td>\n      <td>-0.001210</td>\n      <td>-0.034597</td>\n      <td>1.019361</td>\n      <td>&lt;NA&gt;</td>\n      <td>0</td>\n      <td>&lt;NA&gt;</td>\n    </tr>\n    <tr>\n      <th>12</th>\n      <td>V12</td>\n      <td>-18.683715</td>\n      <td>7.848392</td>\n      <td>-0.000622</td>\n      <td>0.140743</td>\n      <td>0.997684</td>\n      <td>&lt;NA&gt;</td>\n      <td>0</td>\n      <td>&lt;NA&gt;</td>\n    </tr>\n    <tr>\n      <th>13</th>\n      <td>V13</td>\n      <td>-5.791881</td>\n      <td>4.569009</td>\n      <td>-0.000502</td>\n      <td>-0.013188</td>\n      <td>0.995935</td>\n      <td>&lt;NA&gt;</td>\n      <td>0</td>\n      <td>&lt;NA&gt;</td>\n    </tr>\n    <tr>\n      <th>14</th>\n      <td>V14</td>\n      <td>-18.822087</td>\n      <td>10.526766</td>\n      <td>0.001318</td>\n      <td>0.045368</td>\n      <td>0.956507</td>\n      <td>&lt;NA&gt;</td>\n      <td>0</td>\n      <td>&lt;NA&gt;</td>\n    </tr>\n    <tr>\n      <th>15</th>\n      <td>V15</td>\n      <td>-4.391307</td>\n      <td>5.784514</td>\n      <td>-0.001165</td>\n      <td>0.038754</td>\n      <td>0.915448</td>\n      <td>&lt;NA&gt;</td>\n      <td>0</td>\n      <td>&lt;NA&gt;</td>\n    </tr>\n    <tr>\n      <th>16</th>\n      <td>V16</td>\n      <td>-14.129855</td>\n      <td>8.289890</td>\n      <td>-0.000800</td>\n      <td>0.061957</td>\n      <td>0.874763</td>\n      <td>&lt;NA&gt;</td>\n      <td>0</td>\n      <td>&lt;NA&gt;</td>\n    </tr>\n    <tr>\n      <th>17</th>\n      <td>V17</td>\n      <td>-25.162799</td>\n      <td>9.253526</td>\n      <td>-0.000732</td>\n      <td>-0.076408</td>\n      <td>0.846077</td>\n      <td>&lt;NA&gt;</td>\n      <td>0</td>\n      <td>&lt;NA&gt;</td>\n    </tr>\n    <tr>\n      <th>18</th>\n      <td>V18</td>\n      <td>-9.498746</td>\n      <td>5.041069</td>\n      <td>-0.001094</td>\n      <td>-0.010731</td>\n      <td>0.837740</td>\n      <td>&lt;NA&gt;</td>\n      <td>0</td>\n      <td>&lt;NA&gt;</td>\n    </tr>\n    <tr>\n      <th>19</th>\n      <td>V19</td>\n      <td>-7.213527</td>\n      <td>5.591971</td>\n      <td>0.000869</td>\n      <td>0.001088</td>\n      <td>0.813107</td>\n      <td>&lt;NA&gt;</td>\n      <td>0</td>\n      <td>&lt;NA&gt;</td>\n    </tr>\n    <tr>\n      <th>20</th>\n      <td>V20</td>\n      <td>-28.009635</td>\n      <td>39.420904</td>\n      <td>0.000199</td>\n      <td>-0.062112</td>\n      <td>0.761867</td>\n      <td>&lt;NA&gt;</td>\n      <td>0</td>\n      <td>&lt;NA&gt;</td>\n    </tr>\n    <tr>\n      <th>21</th>\n      <td>V21</td>\n      <td>-34.830382</td>\n      <td>27.202839</td>\n      <td>0.000315</td>\n      <td>-0.032236</td>\n      <td>0.735887</td>\n      <td>&lt;NA&gt;</td>\n      <td>0</td>\n      <td>&lt;NA&gt;</td>\n    </tr>\n    <tr>\n      <th>22</th>\n      <td>V22</td>\n      <td>-10.933144</td>\n      <td>10.503090</td>\n      <td>0.000775</td>\n      <td>0.009174</td>\n      <td>0.725350</td>\n      <td>&lt;NA&gt;</td>\n      <td>0</td>\n      <td>&lt;NA&gt;</td>\n    </tr>\n    <tr>\n      <th>23</th>\n      <td>V23</td>\n      <td>-44.807735</td>\n      <td>22.528412</td>\n      <td>-0.000453</td>\n      <td>-0.013678</td>\n      <td>0.620321</td>\n      <td>&lt;NA&gt;</td>\n      <td>0</td>\n      <td>&lt;NA&gt;</td>\n    </tr>\n    <tr>\n      <th>24</th>\n      <td>V24</td>\n      <td>-2.824849</td>\n      <td>4.022866</td>\n      <td>0.000211</td>\n      <td>0.037213</td>\n      <td>0.605292</td>\n      <td>&lt;NA&gt;</td>\n      <td>0</td>\n      <td>&lt;NA&gt;</td>\n    </tr>\n    <tr>\n      <th>25</th>\n      <td>V25</td>\n      <td>-10.295397</td>\n      <td>7.519589</td>\n      <td>0.001376</td>\n      <td>0.008946</td>\n      <td>0.520937</td>\n      <td>&lt;NA&gt;</td>\n      <td>0</td>\n      <td>&lt;NA&gt;</td>\n    </tr>\n    <tr>\n      <th>26</th>\n      <td>V26</td>\n      <td>-2.604551</td>\n      <td>3.517346</td>\n      <td>-0.000703</td>\n      <td>-0.053060</td>\n      <td>0.482274</td>\n      <td>&lt;NA&gt;</td>\n      <td>0</td>\n      <td>&lt;NA&gt;</td>\n    </tr>\n    <tr>\n      <th>27</th>\n      <td>V27</td>\n      <td>-22.565679</td>\n      <td>11.135740</td>\n      <td>-0.000671</td>\n      <td>0.000866</td>\n      <td>0.400017</td>\n      <td>&lt;NA&gt;</td>\n      <td>0</td>\n      <td>&lt;NA&gt;</td>\n    </tr>\n    <tr>\n      <th>28</th>\n      <td>V28</td>\n      <td>-11.710896</td>\n      <td>33.847808</td>\n      <td>0.000089</td>\n      <td>0.010626</td>\n      <td>0.335617</td>\n      <td>&lt;NA&gt;</td>\n      <td>0</td>\n      <td>&lt;NA&gt;</td>\n    </tr>\n    <tr>\n      <th>29</th>\n      <td>Amount</td>\n      <td>0.000000</td>\n      <td>19656.530000</td>\n      <td>88.081451</td>\n      <td>21.380000</td>\n      <td>242.432323</td>\n      <td>&lt;NA&gt;</td>\n      <td>0</td>\n      <td>&lt;NA&gt;</td>\n    </tr>\n  </tbody>\n</table>\n</div>"
     },
     "execution_count": 21,
     "metadata": {},
     "output_type": "execute_result"
    }
   ],
   "source": [
    "feature_info = bq.query(\n",
    "    query = f\"\"\"\n",
    "        SELECT *\n",
    "        FROM ML.FEATURE_INFO(MODEL `{BQ_PROJECT}.{BQ_DATASET}.{BQ_MODEL}`)\n",
    "        \"\"\"\n",
    ").to_dataframe()\n",
    "feature_info"
   ]
  },
  {
   "cell_type": "markdown",
   "id": "c30f3d34",
   "metadata": {},
   "source": [
    "Review the iterations from training with [ML.TRAINING_INFO](https://cloud.google.com/bigquery-ml/docs/reference/standard-sql/bigqueryml-syntax-train):"
   ]
  },
  {
   "cell_type": "code",
   "execution_count": 22,
   "id": "14d2757d",
   "metadata": {
    "ExecuteTime": {
     "end_time": "2024-03-16T14:28:21.189671Z",
     "start_time": "2024-03-16T14:28:20.023022Z"
    }
   },
   "outputs": [
    {
     "data": {
      "text/plain": "   training_run  iteration      loss  eval_loss  learning_rate  duration_ms\n0             0          0  0.682802   0.686216            0.2         9035\n1             0          1  0.644327   0.647838            0.4         9373\n2             0          2  0.575911   0.579565            0.8         8807\n3             0          3  0.467513   0.471337            1.6        10159\n4             0          4  0.330227   0.334226            3.2         9269\n5             0          5  0.211390   0.215643            6.4         8965\n6             0          6  0.151702   0.156511           12.8        10350\n7             0          7  0.112325   0.117264           25.6        10999",
      "text/html": "<div>\n<style scoped>\n    .dataframe tbody tr th:only-of-type {\n        vertical-align: middle;\n    }\n\n    .dataframe tbody tr th {\n        vertical-align: top;\n    }\n\n    .dataframe thead th {\n        text-align: right;\n    }\n</style>\n<table border=\"1\" class=\"dataframe\">\n  <thead>\n    <tr style=\"text-align: right;\">\n      <th></th>\n      <th>training_run</th>\n      <th>iteration</th>\n      <th>loss</th>\n      <th>eval_loss</th>\n      <th>learning_rate</th>\n      <th>duration_ms</th>\n    </tr>\n  </thead>\n  <tbody>\n    <tr>\n      <th>0</th>\n      <td>0</td>\n      <td>0</td>\n      <td>0.682802</td>\n      <td>0.686216</td>\n      <td>0.2</td>\n      <td>9035</td>\n    </tr>\n    <tr>\n      <th>1</th>\n      <td>0</td>\n      <td>1</td>\n      <td>0.644327</td>\n      <td>0.647838</td>\n      <td>0.4</td>\n      <td>9373</td>\n    </tr>\n    <tr>\n      <th>2</th>\n      <td>0</td>\n      <td>2</td>\n      <td>0.575911</td>\n      <td>0.579565</td>\n      <td>0.8</td>\n      <td>8807</td>\n    </tr>\n    <tr>\n      <th>3</th>\n      <td>0</td>\n      <td>3</td>\n      <td>0.467513</td>\n      <td>0.471337</td>\n      <td>1.6</td>\n      <td>10159</td>\n    </tr>\n    <tr>\n      <th>4</th>\n      <td>0</td>\n      <td>4</td>\n      <td>0.330227</td>\n      <td>0.334226</td>\n      <td>3.2</td>\n      <td>9269</td>\n    </tr>\n    <tr>\n      <th>5</th>\n      <td>0</td>\n      <td>5</td>\n      <td>0.211390</td>\n      <td>0.215643</td>\n      <td>6.4</td>\n      <td>8965</td>\n    </tr>\n    <tr>\n      <th>6</th>\n      <td>0</td>\n      <td>6</td>\n      <td>0.151702</td>\n      <td>0.156511</td>\n      <td>12.8</td>\n      <td>10350</td>\n    </tr>\n    <tr>\n      <th>7</th>\n      <td>0</td>\n      <td>7</td>\n      <td>0.112325</td>\n      <td>0.117264</td>\n      <td>25.6</td>\n      <td>10999</td>\n    </tr>\n  </tbody>\n</table>\n</div>"
     },
     "execution_count": 22,
     "metadata": {},
     "output_type": "execute_result"
    }
   ],
   "source": [
    "history = bq.query(\n",
    "    query = f\"\"\"\n",
    "        SELECT *\n",
    "        FROM ML.TRAINING_INFO(MODEL `{BQ_PROJECT}.{BQ_DATASET}.{BQ_MODEL}`)\n",
    "        ORDER BY iteration\"\"\"\n",
    ").to_dataframe()\n",
    "history"
   ]
  },
  {
   "cell_type": "markdown",
   "id": "e95fa43e-076c-4c59-a848-1107930c81f9",
   "metadata": {},
   "source": [
    "Plot the loss history:"
   ]
  },
  {
   "cell_type": "code",
   "execution_count": 23,
   "id": "7b20cc72-f5c1-4ed0-95d2-89d7a6ff4a6a",
   "metadata": {
    "ExecuteTime": {
     "end_time": "2024-03-16T14:28:21.426341Z",
     "start_time": "2024-03-16T14:28:21.175781Z"
    }
   },
   "outputs": [
    {
     "data": {
      "text/plain": "<Axes: xlabel='iteration'>"
     },
     "execution_count": 23,
     "metadata": {},
     "output_type": "execute_result"
    },
    {
     "data": {
      "text/plain": "<Figure size 1000x500 with 1 Axes>",
      "image/png": "[encoded data removed]"
     },
     "metadata": {},
     "output_type": "display_data"
    }
   ],
   "source": [
    "history.plot(x = 'iteration', y = ['loss','eval_loss'], figsize = (10, 5), grid = True)"
   ]
  },
  {
   "cell_type": "markdown",
   "id": "944d5ab3-d9d4-4e36-b46f-d55f0eab91f6",
   "metadata": {},
   "source": [
    "### Model Weights Review"
   ]
  },
  {
   "cell_type": "markdown",
   "id": "77f549fe-0b18-4ed4-86e2-217b472fd758",
   "metadata": {},
   "source": [
    "Retrieve the model parameters with [ML.WEIGHTS](https://cloud.google.com/bigquery-ml/docs/reference/standard-sql/bigqueryml-syntax-weights)."
   ]
  },
  {
   "cell_type": "code",
   "execution_count": 24,
   "id": "940c2cc6-91c7-4d53-9fa3-e3fbf0262133",
   "metadata": {
    "ExecuteTime": {
     "end_time": "2024-03-16T14:28:22.426937Z",
     "start_time": "2024-03-16T14:28:21.426091Z"
    }
   },
   "outputs": [
    {
     "data": {
      "text/plain": "   processed_input    weight category_weights\n0             Time -0.000006               []\n1               V1  0.009915               []\n2               V2  0.032729               []\n3               V3 -0.151392               []\n4               V4  0.562450               []\n5               V5  0.115395               []\n6               V6 -0.180883               []\n7               V7  0.001054               []\n8               V8 -0.187624               []\n9               V9 -0.116906               []\n10             V10 -0.257696               []\n11             V11  0.159544               []\n12             V12 -0.588626               []\n13             V13 -0.238550               []\n14             V14 -0.668065               []\n15             V15 -0.067684               []\n16             V16 -0.334902               []\n17             V17 -0.134905               []\n18             V18 -0.021292               []\n19             V19  0.021674               []\n20             V20 -0.103397               []\n21             V21  0.152765               []\n22             V22  0.366992               []\n23             V23 -0.062861               []\n24             V24 -0.046797               []\n25             V25 -0.050164               []\n26             V26 -0.393279               []\n27             V27  0.395045               []\n28             V28  0.245136               []\n29          Amount  0.001003               []\n30   __INTERCEPT__ -2.290698               []",
      "text/html": "<div>\n<style scoped>\n    .dataframe tbody tr th:only-of-type {\n        vertical-align: middle;\n    }\n\n    .dataframe tbody tr th {\n        vertical-align: top;\n    }\n\n    .dataframe thead th {\n        text-align: right;\n    }\n</style>\n<table border=\"1\" class=\"dataframe\">\n  <thead>\n    <tr style=\"text-align: right;\">\n      <th></th>\n      <th>processed_input</th>\n      <th>weight</th>\n      <th>category_weights</th>\n    </tr>\n  </thead>\n  <tbody>\n    <tr>\n      <th>0</th>\n      <td>Time</td>\n      <td>-0.000006</td>\n      <td>[]</td>\n    </tr>\n    <tr>\n      <th>1</th>\n      <td>V1</td>\n      <td>0.009915</td>\n      <td>[]</td>\n    </tr>\n    <tr>\n      <th>2</th>\n      <td>V2</td>\n      <td>0.032729</td>\n      <td>[]</td>\n    </tr>\n    <tr>\n      <th>3</th>\n      <td>V3</td>\n      <td>-0.151392</td>\n      <td>[]</td>\n    </tr>\n    <tr>\n      <th>4</th>\n      <td>V4</td>\n      <td>0.562450</td>\n      <td>[]</td>\n    </tr>\n    <tr>\n      <th>5</th>\n      <td>V5</td>\n      <td>0.115395</td>\n      <td>[]</td>\n    </tr>\n    <tr>\n      <th>6</th>\n      <td>V6</td>\n      <td>-0.180883</td>\n      <td>[]</td>\n    </tr>\n    <tr>\n      <th>7</th>\n      <td>V7</td>\n      <td>0.001054</td>\n      <td>[]</td>\n    </tr>\n    <tr>\n      <th>8</th>\n      <td>V8</td>\n      <td>-0.187624</td>\n      <td>[]</td>\n    </tr>\n    <tr>\n      <th>9</th>\n      <td>V9</td>\n      <td>-0.116906</td>\n      <td>[]</td>\n    </tr>\n    <tr>\n      <th>10</th>\n      <td>V10</td>\n      <td>-0.257696</td>\n      <td>[]</td>\n    </tr>\n    <tr>\n      <th>11</th>\n      <td>V11</td>\n      <td>0.159544</td>\n      <td>[]</td>\n    </tr>\n    <tr>\n      <th>12</th>\n      <td>V12</td>\n      <td>-0.588626</td>\n      <td>[]</td>\n    </tr>\n    <tr>\n      <th>13</th>\n      <td>V13</td>\n      <td>-0.238550</td>\n      <td>[]</td>\n    </tr>\n    <tr>\n      <th>14</th>\n      <td>V14</td>\n      <td>-0.668065</td>\n      <td>[]</td>\n    </tr>\n    <tr>\n      <th>15</th>\n      <td>V15</td>\n      <td>-0.067684</td>\n      <td>[]</td>\n    </tr>\n    <tr>\n      <th>16</th>\n      <td>V16</td>\n      <td>-0.334902</td>\n      <td>[]</td>\n    </tr>\n    <tr>\n      <th>17</th>\n      <td>V17</td>\n      <td>-0.134905</td>\n      <td>[]</td>\n    </tr>\n    <tr>\n      <th>18</th>\n      <td>V18</td>\n      <td>-0.021292</td>\n      <td>[]</td>\n    </tr>\n    <tr>\n      <th>19</th>\n      <td>V19</td>\n      <td>0.021674</td>\n      <td>[]</td>\n    </tr>\n    <tr>\n      <th>20</th>\n      <td>V20</td>\n      <td>-0.103397</td>\n      <td>[]</td>\n    </tr>\n    <tr>\n      <th>21</th>\n      <td>V21</td>\n      <td>0.152765</td>\n      <td>[]</td>\n    </tr>\n    <tr>\n      <th>22</th>\n      <td>V22</td>\n      <td>0.366992</td>\n      <td>[]</td>\n    </tr>\n    <tr>\n      <th>23</th>\n      <td>V23</td>\n      <td>-0.062861</td>\n      <td>[]</td>\n    </tr>\n    <tr>\n      <th>24</th>\n      <td>V24</td>\n      <td>-0.046797</td>\n      <td>[]</td>\n    </tr>\n    <tr>\n      <th>25</th>\n      <td>V25</td>\n      <td>-0.050164</td>\n      <td>[]</td>\n    </tr>\n    <tr>\n      <th>26</th>\n      <td>V26</td>\n      <td>-0.393279</td>\n      <td>[]</td>\n    </tr>\n    <tr>\n      <th>27</th>\n      <td>V27</td>\n      <td>0.395045</td>\n      <td>[]</td>\n    </tr>\n    <tr>\n      <th>28</th>\n      <td>V28</td>\n      <td>0.245136</td>\n      <td>[]</td>\n    </tr>\n    <tr>\n      <th>29</th>\n      <td>Amount</td>\n      <td>0.001003</td>\n      <td>[]</td>\n    </tr>\n    <tr>\n      <th>30</th>\n      <td>__INTERCEPT__</td>\n      <td>-2.290698</td>\n      <td>[]</td>\n    </tr>\n  </tbody>\n</table>\n</div>"
     },
     "execution_count": 24,
     "metadata": {},
     "output_type": "execute_result"
    }
   ],
   "source": [
    "weights = bq.query(\n",
    "    query = f\"\"\"\n",
    "        SELECT *\n",
    "        FROM ML.WEIGHTS(MODEL `{BQ_PROJECT}.{BQ_DATASET}.{BQ_MODEL}`)\n",
    "    \"\"\"\n",
    ").to_dataframe()\n",
    "weights"
   ]
  },
  {
   "cell_type": "markdown",
   "id": "405ef2e8-9af3-4b55-afc6-6c9ada7f6f76",
   "metadata": {},
   "source": [
    "This logistic regression model was trained with the option`calculate_p_values = TRUE` so the [ML.ADVANCED_WEIGHTS](https://cloud.google.com/bigquery-ml/docs/reference/standard-sql/bigqueryml-syntax-advanced-weights) function can be used to retireve weights with associated p-values:"
   ]
  },
  {
   "cell_type": "code",
   "execution_count": 25,
   "id": "9eb41a54-992c-4c7b-bfa7-f6620824809e",
   "metadata": {
    "ExecuteTime": {
     "end_time": "2024-03-16T14:28:23.880255Z",
     "start_time": "2024-03-16T14:28:22.426145Z"
    }
   },
   "outputs": [
    {
     "data": {
      "text/plain": "   processed_input category    weight  standard_error       p_value\n0             Time     None -0.000006    2.343172e-07  4.440892e-16\n1               V1     None  0.009915    1.388515e-02  4.750656e-01\n2               V2     None  0.032729    1.597660e-02  4.017918e-02\n3               V3     None -0.151392    2.932818e-02  7.677315e-06\n4               V4     None  0.562450    1.776576e-02  0.000000e+00\n5               V5     None  0.115395    2.131419e-02  4.062894e-06\n6               V6     None -0.180883    1.033163e-02  8.060219e-14\n7               V7     None  0.001054    3.852621e-02  9.784139e-01\n8               V8     None -0.187624    1.168485e-02  3.164136e-13\n9               V9     None -0.116906    1.996049e-02  1.384866e-06\n10             V10     None -0.257696    4.323067e-02  1.083641e-06\n11             V11     None  0.159544    3.073824e-02  7.139482e-06\n12             V12     None -0.588626    5.411102e-02  1.401308e-10\n13             V13     None -0.238550    7.667702e-03  0.000000e+00\n14             V14     None -0.668065    5.605121e-02  3.392264e-11\n15             V15     None -0.067684    8.554165e-03  1.788170e-08\n16             V16     None -0.334902    5.122491e-02  2.929572e-07\n17             V17     None -0.134905    9.171022e-02  1.411912e-01\n18             V18     None -0.021292    3.537307e-02  5.468710e-01\n19             V19     None  0.021674    1.453619e-02  1.358173e-01\n20             V20     None -0.103397    1.555018e-02  2.297925e-07\n21             V21     None  0.152765    1.262273e-02  2.673506e-11\n22             V22     None  0.366992    1.183783e-02  0.000000e+00\n23             V23     None -0.062861    1.108841e-02  2.171616e-06\n24             V24     None -0.046797    1.413483e-02  1.293668e-03\n25             V25     None -0.050164    1.563827e-02  1.740919e-03\n26             V26     None -0.393279    1.838876e-02  3.330669e-15\n27             V27     None  0.395045    2.299711e-02  1.090239e-13\n28             V28     None  0.245136    2.202503e-02  9.831891e-11\n29          Amount     None  0.001003    9.334621e-05  1.703200e-10\n30   __INTERCEPT__     None -2.290698    2.535601e-02  0.000000e+00",
      "text/html": "<div>\n<style scoped>\n    .dataframe tbody tr th:only-of-type {\n        vertical-align: middle;\n    }\n\n    .dataframe tbody tr th {\n        vertical-align: top;\n    }\n\n    .dataframe thead th {\n        text-align: right;\n    }\n</style>\n<table border=\"1\" class=\"dataframe\">\n  <thead>\n    <tr style=\"text-align: right;\">\n      <th></th>\n      <th>processed_input</th>\n      <th>category</th>\n      <th>weight</th>\n      <th>standard_error</th>\n      <th>p_value</th>\n    </tr>\n  </thead>\n  <tbody>\n    <tr>\n      <th>0</th>\n      <td>Time</td>\n      <td>None</td>\n      <td>-0.000006</td>\n      <td>2.343172e-07</td>\n      <td>4.440892e-16</td>\n    </tr>\n    <tr>\n      <th>1</th>\n      <td>V1</td>\n      <td>None</td>\n      <td>0.009915</td>\n      <td>1.388515e-02</td>\n      <td>4.750656e-01</td>\n    </tr>\n    <tr>\n      <th>2</th>\n      <td>V2</td>\n      <td>None</td>\n      <td>0.032729</td>\n      <td>1.597660e-02</td>\n      <td>4.017918e-02</td>\n    </tr>\n    <tr>\n      <th>3</th>\n      <td>V3</td>\n      <td>None</td>\n      <td>-0.151392</td>\n      <td>2.932818e-02</td>\n      <td>7.677315e-06</td>\n    </tr>\n    <tr>\n      <th>4</th>\n      <td>V4</td>\n      <td>None</td>\n      <td>0.562450</td>\n      <td>1.776576e-02</td>\n      <td>0.000000e+00</td>\n    </tr>\n    <tr>\n      <th>5</th>\n      <td>V5</td>\n      <td>None</td>\n      <td>0.115395</td>\n      <td>2.131419e-02</td>\n      <td>4.062894e-06</td>\n    </tr>\n    <tr>\n      <th>6</th>\n      <td>V6</td>\n      <td>None</td>\n      <td>-0.180883</td>\n      <td>1.033163e-02</td>\n      <td>8.060219e-14</td>\n    </tr>\n    <tr>\n      <th>7</th>\n      <td>V7</td>\n      <td>None</td>\n      <td>0.001054</td>\n      <td>3.852621e-02</td>\n      <td>9.784139e-01</td>\n    </tr>\n    <tr>\n      <th>8</th>\n      <td>V8</td>\n      <td>None</td>\n      <td>-0.187624</td>\n      <td>1.168485e-02</td>\n      <td>3.164136e-13</td>\n    </tr>\n    <tr>\n      <th>9</th>\n      <td>V9</td>\n      <td>None</td>\n      <td>-0.116906</td>\n      <td>1.996049e-02</td>\n      <td>1.384866e-06</td>\n    </tr>\n    <tr>\n      <th>10</th>\n      <td>V10</td>\n      <td>None</td>\n      <td>-0.257696</td>\n      <td>4.323067e-02</td>\n      <td>1.083641e-06</td>\n    </tr>\n    <tr>\n      <th>11</th>\n      <td>V11</td>\n      <td>None</td>\n      <td>0.159544</td>\n      <td>3.073824e-02</td>\n      <td>7.139482e-06</td>\n    </tr>\n    <tr>\n      <th>12</th>\n      <td>V12</td>\n      <td>None</td>\n      <td>-0.588626</td>\n      <td>5.411102e-02</td>\n      <td>1.401308e-10</td>\n    </tr>\n    <tr>\n      <th>13</th>\n      <td>V13</td>\n      <td>None</td>\n      <td>-0.238550</td>\n      <td>7.667702e-03</td>\n      <td>0.000000e+00</td>\n    </tr>\n    <tr>\n      <th>14</th>\n      <td>V14</td>\n      <td>None</td>\n      <td>-0.668065</td>\n      <td>5.605121e-02</td>\n      <td>3.392264e-11</td>\n    </tr>\n    <tr>\n      <th>15</th>\n      <td>V15</td>\n      <td>None</td>\n      <td>-0.067684</td>\n      <td>8.554165e-03</td>\n      <td>1.788170e-08</td>\n    </tr>\n    <tr>\n      <th>16</th>\n      <td>V16</td>\n      <td>None</td>\n      <td>-0.334902</td>\n      <td>5.122491e-02</td>\n      <td>2.929572e-07</td>\n    </tr>\n    <tr>\n      <th>17</th>\n      <td>V17</td>\n      <td>None</td>\n      <td>-0.134905</td>\n      <td>9.171022e-02</td>\n      <td>1.411912e-01</td>\n    </tr>\n    <tr>\n      <th>18</th>\n      <td>V18</td>\n      <td>None</td>\n      <td>-0.021292</td>\n      <td>3.537307e-02</td>\n      <td>5.468710e-01</td>\n    </tr>\n    <tr>\n      <th>19</th>\n      <td>V19</td>\n      <td>None</td>\n      <td>0.021674</td>\n      <td>1.453619e-02</td>\n      <td>1.358173e-01</td>\n    </tr>\n    <tr>\n      <th>20</th>\n      <td>V20</td>\n      <td>None</td>\n      <td>-0.103397</td>\n      <td>1.555018e-02</td>\n      <td>2.297925e-07</td>\n    </tr>\n    <tr>\n      <th>21</th>\n      <td>V21</td>\n      <td>None</td>\n      <td>0.152765</td>\n      <td>1.262273e-02</td>\n      <td>2.673506e-11</td>\n    </tr>\n    <tr>\n      <th>22</th>\n      <td>V22</td>\n      <td>None</td>\n      <td>0.366992</td>\n      <td>1.183783e-02</td>\n      <td>0.000000e+00</td>\n    </tr>\n    <tr>\n      <th>23</th>\n      <td>V23</td>\n      <td>None</td>\n      <td>-0.062861</td>\n      <td>1.108841e-02</td>\n      <td>2.171616e-06</td>\n    </tr>\n    <tr>\n      <th>24</th>\n      <td>V24</td>\n      <td>None</td>\n      <td>-0.046797</td>\n      <td>1.413483e-02</td>\n      <td>1.293668e-03</td>\n    </tr>\n    <tr>\n      <th>25</th>\n      <td>V25</td>\n      <td>None</td>\n      <td>-0.050164</td>\n      <td>1.563827e-02</td>\n      <td>1.740919e-03</td>\n    </tr>\n    <tr>\n      <th>26</th>\n      <td>V26</td>\n      <td>None</td>\n      <td>-0.393279</td>\n      <td>1.838876e-02</td>\n      <td>3.330669e-15</td>\n    </tr>\n    <tr>\n      <th>27</th>\n      <td>V27</td>\n      <td>None</td>\n      <td>0.395045</td>\n      <td>2.299711e-02</td>\n      <td>1.090239e-13</td>\n    </tr>\n    <tr>\n      <th>28</th>\n      <td>V28</td>\n      <td>None</td>\n      <td>0.245136</td>\n      <td>2.202503e-02</td>\n      <td>9.831891e-11</td>\n    </tr>\n    <tr>\n      <th>29</th>\n      <td>Amount</td>\n      <td>None</td>\n      <td>0.001003</td>\n      <td>9.334621e-05</td>\n      <td>1.703200e-10</td>\n    </tr>\n    <tr>\n      <th>30</th>\n      <td>__INTERCEPT__</td>\n      <td>None</td>\n      <td>-2.290698</td>\n      <td>2.535601e-02</td>\n      <td>0.000000e+00</td>\n    </tr>\n  </tbody>\n</table>\n</div>"
     },
     "execution_count": 25,
     "metadata": {},
     "output_type": "execute_result"
    }
   ],
   "source": [
    "weights = bq.query(\n",
    "    query = f\"\"\"\n",
    "        SELECT *\n",
    "        FROM ML.ADVANCED_WEIGHTS(MODEL `{BQ_PROJECT}.{BQ_DATASET}.{BQ_MODEL}`)\n",
    "    \"\"\"\n",
    ").to_dataframe()\n",
    "weights"
   ]
  },
  {
   "cell_type": "markdown",
   "id": "3801418e",
   "metadata": {},
   "source": [
    "---\n",
    "## Evaluate Model"
   ]
  },
  {
   "cell_type": "markdown",
   "id": "ad2510dd-e9b3-460d-ae57-e7b32b8455cb",
   "metadata": {},
   "source": [
    "### Metrics"
   ]
  },
  {
   "cell_type": "markdown",
   "id": "e7820b93",
   "metadata": {},
   "source": [
    "Review the model evaluation statistics on the splits with [ML.EVALUATE](https://cloud.google.com/bigquery-ml/docs/reference/standard-sql/bigqueryml-syntax-evaluate):"
   ]
  },
  {
   "cell_type": "code",
   "execution_count": 26,
   "id": "cc215352",
   "metadata": {
    "ExecuteTime": {
     "end_time": "2024-03-16T14:28:29.026434Z",
     "start_time": "2024-03-16T14:28:23.557332Z"
    }
   },
   "outputs": [
    {
     "data": {
      "text/plain": "      SPLIT  precision    recall  accuracy  f1_score  log_loss   roc_auc\n0  VALIDATE   0.086598  0.913043  0.984277  0.158192  0.117263  0.991805\n1      TEST   0.084388  0.869565  0.984551  0.153846  0.110271  0.978643\n2     TRAIN   0.096577  0.910000  0.984901  0.174622  0.112325  0.985369",
      "text/html": "<div>\n<style scoped>\n    .dataframe tbody tr th:only-of-type {\n        vertical-align: middle;\n    }\n\n    .dataframe tbody tr th {\n        vertical-align: top;\n    }\n\n    .dataframe thead th {\n        text-align: right;\n    }\n</style>\n<table border=\"1\" class=\"dataframe\">\n  <thead>\n    <tr style=\"text-align: right;\">\n      <th></th>\n      <th>SPLIT</th>\n      <th>precision</th>\n      <th>recall</th>\n      <th>accuracy</th>\n      <th>f1_score</th>\n      <th>log_loss</th>\n      <th>roc_auc</th>\n    </tr>\n  </thead>\n  <tbody>\n    <tr>\n      <th>0</th>\n      <td>VALIDATE</td>\n      <td>0.086598</td>\n      <td>0.913043</td>\n      <td>0.984277</td>\n      <td>0.158192</td>\n      <td>0.117263</td>\n      <td>0.991805</td>\n    </tr>\n    <tr>\n      <th>1</th>\n      <td>TEST</td>\n      <td>0.084388</td>\n      <td>0.869565</td>\n      <td>0.984551</td>\n      <td>0.153846</td>\n      <td>0.110271</td>\n      <td>0.978643</td>\n    </tr>\n    <tr>\n      <th>2</th>\n      <td>TRAIN</td>\n      <td>0.096577</td>\n      <td>0.910000</td>\n      <td>0.984901</td>\n      <td>0.174622</td>\n      <td>0.112325</td>\n      <td>0.985369</td>\n    </tr>\n  </tbody>\n</table>\n</div>"
     },
     "execution_count": 26,
     "metadata": {},
     "output_type": "execute_result"
    }
   ],
   "source": [
    "query = f\"\"\"\n",
    "SELECT 'TEST' as SPLIT, * FROM ML.EVALUATE (MODEL `{BQ_PROJECT}.{BQ_DATASET}.{BQ_MODEL}`,\n",
    "    (SELECT * FROM `{BQ_PROJECT}.{BQ_DATASET}.{BQ_TABLE}` WHERE SPLITS='TEST'))\n",
    "UNION ALL\n",
    "SELECT 'VALIDATE' as SPLIT, * FROM ML.EVALUATE (MODEL `{BQ_PROJECT}.{BQ_DATASET}.{BQ_MODEL}`,\n",
    "    (SELECT * FROM `{BQ_PROJECT}.{BQ_DATASET}.{BQ_TABLE}` WHERE SPLITS='VALIDATE'))\n",
    "UNION ALL\n",
    "SELECT 'TRAIN' as SPLIT, * FROM ML.EVALUATE (MODEL `{BQ_PROJECT}.{BQ_DATASET}.{BQ_MODEL}`,\n",
    "    (SELECT * FROM `{BQ_PROJECT}.{BQ_DATASET}.{BQ_TABLE}` WHERE SPLITS='TRAIN'))\n",
    "\"\"\"\n",
    "bq.query(query = query).to_dataframe()"
   ]
  },
  {
   "cell_type": "markdown",
   "id": "49d81406-68ac-467d-a470-54f7d80a5129",
   "metadata": {},
   "source": [
    "### Confusion Matrix"
   ]
  },
  {
   "cell_type": "markdown",
   "id": "51559961",
   "metadata": {},
   "source": [
    "Review the confusion matrix for each split with [ML.CONFUSION_MATRIX](https://cloud.google.com/bigquery-ml/docs/reference/standard-sql/bigqueryml-syntax-confusion):"
   ]
  },
  {
   "cell_type": "code",
   "execution_count": 27,
   "id": "0feb32e9",
   "metadata": {
    "ExecuteTime": {
     "end_time": "2024-03-16T14:28:31.481567Z",
     "start_time": "2024-03-16T14:28:29.025994Z"
    }
   },
   "outputs": [
    {
     "data": {
      "text/plain": "   expected_label      _0    _1\n0               0  224092  3405\n1               1      36   364",
      "text/html": "<div>\n<style scoped>\n    .dataframe tbody tr th:only-of-type {\n        vertical-align: middle;\n    }\n\n    .dataframe tbody tr th {\n        vertical-align: top;\n    }\n\n    .dataframe thead th {\n        text-align: right;\n    }\n</style>\n<table border=\"1\" class=\"dataframe\">\n  <thead>\n    <tr style=\"text-align: right;\">\n      <th></th>\n      <th>expected_label</th>\n      <th>_0</th>\n      <th>_1</th>\n    </tr>\n  </thead>\n  <tbody>\n    <tr>\n      <th>0</th>\n      <td>0</td>\n      <td>224092</td>\n      <td>3405</td>\n    </tr>\n    <tr>\n      <th>1</th>\n      <td>1</td>\n      <td>36</td>\n      <td>364</td>\n    </tr>\n  </tbody>\n</table>\n</div>"
     },
     "execution_count": 27,
     "metadata": {},
     "output_type": "execute_result"
    }
   ],
   "source": [
    "query = f\"\"\"\n",
    "SELECT *\n",
    "FROM ML.CONFUSION_MATRIX (MODEL `{BQ_PROJECT}.{BQ_DATASET}.{BQ_MODEL}`,(\n",
    "    SELECT *\n",
    "    FROM `{BQ_PROJECT}.{BQ_DATASET}.{BQ_TABLE}`\n",
    "    WHERE splits = 'TRAIN')\n",
    "  )\n",
    "\"\"\"\n",
    "bq.query(query = query).to_dataframe()"
   ]
  },
  {
   "cell_type": "code",
   "execution_count": 28,
   "id": "b26c799e",
   "metadata": {
    "ExecuteTime": {
     "end_time": "2024-03-16T14:28:32.876672Z",
     "start_time": "2024-03-16T14:28:31.475679Z"
    }
   },
   "outputs": [
    {
     "data": {
      "text/plain": "   expected_label     _0   _1\n0               0  27940  443\n1               1      4   42",
      "text/html": "<div>\n<style scoped>\n    .dataframe tbody tr th:only-of-type {\n        vertical-align: middle;\n    }\n\n    .dataframe tbody tr th {\n        vertical-align: top;\n    }\n\n    .dataframe thead th {\n        text-align: right;\n    }\n</style>\n<table border=\"1\" class=\"dataframe\">\n  <thead>\n    <tr style=\"text-align: right;\">\n      <th></th>\n      <th>expected_label</th>\n      <th>_0</th>\n      <th>_1</th>\n    </tr>\n  </thead>\n  <tbody>\n    <tr>\n      <th>0</th>\n      <td>0</td>\n      <td>27940</td>\n      <td>443</td>\n    </tr>\n    <tr>\n      <th>1</th>\n      <td>1</td>\n      <td>4</td>\n      <td>42</td>\n    </tr>\n  </tbody>\n</table>\n</div>"
     },
     "execution_count": 28,
     "metadata": {},
     "output_type": "execute_result"
    }
   ],
   "source": [
    "query = f\"\"\"\n",
    "SELECT *\n",
    "FROM ML.CONFUSION_MATRIX (MODEL `{BQ_PROJECT}.{BQ_DATASET}.{BQ_MODEL}`,(\n",
    "    SELECT *\n",
    "    FROM `{BQ_PROJECT}.{BQ_DATASET}.{BQ_TABLE}`\n",
    "    WHERE splits = 'VALIDATE')\n",
    "  )\n",
    "\"\"\"\n",
    "bq.query(query = query).to_dataframe()"
   ]
  },
  {
   "cell_type": "code",
   "execution_count": 29,
   "id": "c1251bc5",
   "metadata": {
    "ExecuteTime": {
     "end_time": "2024-03-16T14:28:34.553261Z",
     "start_time": "2024-03-16T14:28:32.876039Z"
    }
   },
   "outputs": [
    {
     "data": {
      "text/plain": "   expected_label     _0   _1\n0               0  28001  434\n1               1      6   40",
      "text/html": "<div>\n<style scoped>\n    .dataframe tbody tr th:only-of-type {\n        vertical-align: middle;\n    }\n\n    .dataframe tbody tr th {\n        vertical-align: top;\n    }\n\n    .dataframe thead th {\n        text-align: right;\n    }\n</style>\n<table border=\"1\" class=\"dataframe\">\n  <thead>\n    <tr style=\"text-align: right;\">\n      <th></th>\n      <th>expected_label</th>\n      <th>_0</th>\n      <th>_1</th>\n    </tr>\n  </thead>\n  <tbody>\n    <tr>\n      <th>0</th>\n      <td>0</td>\n      <td>28001</td>\n      <td>434</td>\n    </tr>\n    <tr>\n      <th>1</th>\n      <td>1</td>\n      <td>6</td>\n      <td>40</td>\n    </tr>\n  </tbody>\n</table>\n</div>"
     },
     "execution_count": 29,
     "metadata": {},
     "output_type": "execute_result"
    }
   ],
   "source": [
    "query = f\"\"\"\n",
    "SELECT *\n",
    "FROM ML.CONFUSION_MATRIX (MODEL `{BQ_PROJECT}.{BQ_DATASET}.{BQ_MODEL}`,(\n",
    "    SELECT *\n",
    "    FROM `{BQ_PROJECT}.{BQ_DATASET}.{BQ_TABLE}`\n",
    "    WHERE splits = 'TEST')\n",
    "  )\n",
    "\"\"\"\n",
    "bq.query(query = query).to_dataframe()"
   ]
  },
  {
   "cell_type": "markdown",
   "id": "4c0727f7-dd27-4f83-9ffe-1f7018f8402a",
   "metadata": {},
   "source": [
    "### ROC Curve\n",
    "\n",
    "Retrieve the ROC Curve for each split using [ML.ROC_CURVE](https://cloud.google.com/bigquery-ml/docs/reference/standard-sql/bigqueryml-syntax-roc):"
   ]
  },
  {
   "cell_type": "code",
   "execution_count": 30,
   "id": "fedf624f-6749-4648-9b0f-64fc3f9edfb8",
   "metadata": {
    "ExecuteTime": {
     "end_time": "2024-03-16T14:28:40.789947Z",
     "start_time": "2024-03-16T14:28:34.228437Z"
    }
   },
   "outputs": [
    {
     "data": {
      "text/plain": "   threshold  recall  false_positive_rate  true_positives  false_positives  \\\n0   1.000000  0.0200             0.000000               8                0   \n1   0.655591  0.8925             0.008624             357             1962   \n2   0.452014  0.9200             0.018541             368             4218   \n3   0.370221  0.9250             0.028290             370             6436   \n4   0.319897  0.9350             0.038370             374             8729   \n\n   true_negatives  false_negatives  \n0          227497              392  \n1          225535               43  \n2          223279               32  \n3          221061               30  \n4          218768               26  ",
      "text/html": "<div>\n<style scoped>\n    .dataframe tbody tr th:only-of-type {\n        vertical-align: middle;\n    }\n\n    .dataframe tbody tr th {\n        vertical-align: top;\n    }\n\n    .dataframe thead th {\n        text-align: right;\n    }\n</style>\n<table border=\"1\" class=\"dataframe\">\n  <thead>\n    <tr style=\"text-align: right;\">\n      <th></th>\n      <th>threshold</th>\n      <th>recall</th>\n      <th>false_positive_rate</th>\n      <th>true_positives</th>\n      <th>false_positives</th>\n      <th>true_negatives</th>\n      <th>false_negatives</th>\n    </tr>\n  </thead>\n  <tbody>\n    <tr>\n      <th>0</th>\n      <td>1.000000</td>\n      <td>0.0200</td>\n      <td>0.000000</td>\n      <td>8</td>\n      <td>0</td>\n      <td>227497</td>\n      <td>392</td>\n    </tr>\n    <tr>\n      <th>1</th>\n      <td>0.655591</td>\n      <td>0.8925</td>\n      <td>0.008624</td>\n      <td>357</td>\n      <td>1962</td>\n      <td>225535</td>\n      <td>43</td>\n    </tr>\n    <tr>\n      <th>2</th>\n      <td>0.452014</td>\n      <td>0.9200</td>\n      <td>0.018541</td>\n      <td>368</td>\n      <td>4218</td>\n      <td>223279</td>\n      <td>32</td>\n    </tr>\n    <tr>\n      <th>3</th>\n      <td>0.370221</td>\n      <td>0.9250</td>\n      <td>0.028290</td>\n      <td>370</td>\n      <td>6436</td>\n      <td>221061</td>\n      <td>30</td>\n    </tr>\n    <tr>\n      <th>4</th>\n      <td>0.319897</td>\n      <td>0.9350</td>\n      <td>0.038370</td>\n      <td>374</td>\n      <td>8729</td>\n      <td>218768</td>\n      <td>26</td>\n    </tr>\n  </tbody>\n</table>\n</div>"
     },
     "execution_count": 30,
     "metadata": {},
     "output_type": "execute_result"
    }
   ],
   "source": [
    "query = f\"\"\"\n",
    "SELECT *\n",
    "FROM ML.ROC_CURVE (MODEL `{BQ_PROJECT}.{BQ_DATASET}.{BQ_MODEL}`,(\n",
    "    SELECT *\n",
    "    FROM `{BQ_PROJECT}.{BQ_DATASET}.{BQ_TABLE}`\n",
    "    WHERE splits = 'TRAIN')\n",
    "  )\n",
    "ORDER BY false_positive_rate\n",
    "\"\"\"\n",
    "train_roc = bq.query(query = query).to_dataframe()\n",
    "train_roc.head()"
   ]
  },
  {
   "cell_type": "code",
   "execution_count": 31,
   "id": "dbdba57b-c3c7-4f99-b658-026608f57037",
   "metadata": {
    "ExecuteTime": {
     "end_time": "2024-03-16T14:28:43.939101Z",
     "start_time": "2024-03-16T14:28:40.786644Z"
    }
   },
   "outputs": [
    {
     "data": {
      "text/plain": "   threshold    recall  false_positive_rate  true_positives  false_positives  \\\n0   1.000000  0.021739             0.000000               1                0   \n1   0.680289  0.847826             0.008597              39              244   \n2   0.459541  0.913043             0.018673              42              530   \n3   0.369913  0.956522             0.028609              44              812   \n4   0.322698  0.956522             0.038544              44             1094   \n\n   true_negatives  false_negatives  \n0           28383               45  \n1           28139                7  \n2           27853                4  \n3           27571                2  \n4           27289                2  ",
      "text/html": "<div>\n<style scoped>\n    .dataframe tbody tr th:only-of-type {\n        vertical-align: middle;\n    }\n\n    .dataframe tbody tr th {\n        vertical-align: top;\n    }\n\n    .dataframe thead th {\n        text-align: right;\n    }\n</style>\n<table border=\"1\" class=\"dataframe\">\n  <thead>\n    <tr style=\"text-align: right;\">\n      <th></th>\n      <th>threshold</th>\n      <th>recall</th>\n      <th>false_positive_rate</th>\n      <th>true_positives</th>\n      <th>false_positives</th>\n      <th>true_negatives</th>\n      <th>false_negatives</th>\n    </tr>\n  </thead>\n  <tbody>\n    <tr>\n      <th>0</th>\n      <td>1.000000</td>\n      <td>0.021739</td>\n      <td>0.000000</td>\n      <td>1</td>\n      <td>0</td>\n      <td>28383</td>\n      <td>45</td>\n    </tr>\n    <tr>\n      <th>1</th>\n      <td>0.680289</td>\n      <td>0.847826</td>\n      <td>0.008597</td>\n      <td>39</td>\n      <td>244</td>\n      <td>28139</td>\n      <td>7</td>\n    </tr>\n    <tr>\n      <th>2</th>\n      <td>0.459541</td>\n      <td>0.913043</td>\n      <td>0.018673</td>\n      <td>42</td>\n      <td>530</td>\n      <td>27853</td>\n      <td>4</td>\n    </tr>\n    <tr>\n      <th>3</th>\n      <td>0.369913</td>\n      <td>0.956522</td>\n      <td>0.028609</td>\n      <td>44</td>\n      <td>812</td>\n      <td>27571</td>\n      <td>2</td>\n    </tr>\n    <tr>\n      <th>4</th>\n      <td>0.322698</td>\n      <td>0.956522</td>\n      <td>0.038544</td>\n      <td>44</td>\n      <td>1094</td>\n      <td>27289</td>\n      <td>2</td>\n    </tr>\n  </tbody>\n</table>\n</div>"
     },
     "execution_count": 31,
     "metadata": {},
     "output_type": "execute_result"
    }
   ],
   "source": [
    "query = f\"\"\"\n",
    "SELECT *\n",
    "FROM ML.ROC_CURVE (MODEL `{BQ_PROJECT}.{BQ_DATASET}.{BQ_MODEL}`,(\n",
    "    SELECT *\n",
    "    FROM `{BQ_PROJECT}.{BQ_DATASET}.{BQ_TABLE}`\n",
    "    WHERE splits = 'VALIDATE')\n",
    "  )\n",
    "ORDER BY false_positive_rate\n",
    "\"\"\"\n",
    "val_roc = bq.query(query = query).to_dataframe()\n",
    "val_roc.head()"
   ]
  },
  {
   "cell_type": "code",
   "execution_count": 32,
   "id": "c8127f09-ce81-4f6d-8e81-e7c569eb39db",
   "metadata": {
    "ExecuteTime": {
     "end_time": "2024-03-16T14:28:46.746829Z",
     "start_time": "2024-03-16T14:28:43.935458Z"
    }
   },
   "outputs": [
    {
     "data": {
      "text/plain": "   threshold    recall  false_positive_rate  true_positives  false_positives  \\\n0   1.000000  0.043478             0.000000               2                0   \n1   0.665312  0.847826             0.008827              39              251   \n2   0.452143  0.869565             0.018780              40              534   \n3   0.374490  0.869565             0.028556              40              812   \n4   0.319276  0.869565             0.038790              40             1103   \n\n   true_negatives  false_negatives  \n0           28435               44  \n1           28184                7  \n2           27901                6  \n3           27623                6  \n4           27332                6  ",
      "text/html": "<div>\n<style scoped>\n    .dataframe tbody tr th:only-of-type {\n        vertical-align: middle;\n    }\n\n    .dataframe tbody tr th {\n        vertical-align: top;\n    }\n\n    .dataframe thead th {\n        text-align: right;\n    }\n</style>\n<table border=\"1\" class=\"dataframe\">\n  <thead>\n    <tr style=\"text-align: right;\">\n      <th></th>\n      <th>threshold</th>\n      <th>recall</th>\n      <th>false_positive_rate</th>\n      <th>true_positives</th>\n      <th>false_positives</th>\n      <th>true_negatives</th>\n      <th>false_negatives</th>\n    </tr>\n  </thead>\n  <tbody>\n    <tr>\n      <th>0</th>\n      <td>1.000000</td>\n      <td>0.043478</td>\n      <td>0.000000</td>\n      <td>2</td>\n      <td>0</td>\n      <td>28435</td>\n      <td>44</td>\n    </tr>\n    <tr>\n      <th>1</th>\n      <td>0.665312</td>\n      <td>0.847826</td>\n      <td>0.008827</td>\n      <td>39</td>\n      <td>251</td>\n      <td>28184</td>\n      <td>7</td>\n    </tr>\n    <tr>\n      <th>2</th>\n      <td>0.452143</td>\n      <td>0.869565</td>\n      <td>0.018780</td>\n      <td>40</td>\n      <td>534</td>\n      <td>27901</td>\n      <td>6</td>\n    </tr>\n    <tr>\n      <th>3</th>\n      <td>0.374490</td>\n      <td>0.869565</td>\n      <td>0.028556</td>\n      <td>40</td>\n      <td>812</td>\n      <td>27623</td>\n      <td>6</td>\n    </tr>\n    <tr>\n      <th>4</th>\n      <td>0.319276</td>\n      <td>0.869565</td>\n      <td>0.038790</td>\n      <td>40</td>\n      <td>1103</td>\n      <td>27332</td>\n      <td>6</td>\n    </tr>\n  </tbody>\n</table>\n</div>"
     },
     "execution_count": 32,
     "metadata": {},
     "output_type": "execute_result"
    }
   ],
   "source": [
    "query = f\"\"\"\n",
    "SELECT *\n",
    "FROM ML.ROC_CURVE (MODEL `{BQ_PROJECT}.{BQ_DATASET}.{BQ_MODEL}`,(\n",
    "    SELECT *\n",
    "    FROM `{BQ_PROJECT}.{BQ_DATASET}.{BQ_TABLE}`\n",
    "    WHERE splits = 'TEST')\n",
    "  )\n",
    "ORDER BY false_positive_rate\n",
    "\"\"\"\n",
    "test_roc = bq.query(query = query).to_dataframe()\n",
    "test_roc.head()"
   ]
  },
  {
   "cell_type": "code",
   "execution_count": 33,
   "id": "473cb999-eae9-425b-ade6-ec8c183baa6c",
   "metadata": {
    "ExecuteTime": {
     "end_time": "2024-03-16T14:28:47.048791Z",
     "start_time": "2024-03-16T14:28:46.773438Z"
    }
   },
   "outputs": [
    {
     "data": {
      "text/plain": "<Figure size 1500x500 with 1 Axes>",
      "image/png": "[encoded data removed]"
     },
     "metadata": {},
     "output_type": "display_data"
    }
   ],
   "source": [
    "plt.figure(figsize=(15,5))\n",
    "plt.plot(train_roc['false_positive_rate'], train_roc['recall'], label='TRAIN')\n",
    "plt.plot(val_roc['false_positive_rate'], val_roc['recall'], label='VALIDATE')\n",
    "plt.plot(test_roc['false_positive_rate'], test_roc['recall'], label='TEST')\n",
    "plt.xlabel('False Positive Rate')\n",
    "plt.ylabel('True Positive Rate\\nRecall')\n",
    "plt.title('ROC Curves')\n",
    "plt.legend()\n",
    "plt.show()"
   ]
  },
  {
   "cell_type": "markdown",
   "id": "567d51f8",
   "metadata": {},
   "source": [
    "---\n",
    "## Predictions With BigQuery ML (BQML)"
   ]
  },
  {
   "cell_type": "markdown",
   "id": "0d0065d0",
   "metadata": {},
   "source": [
    "Create a pandas dataframe with retrieved predictions for the test data in the table using [ML.PREDICT](https://cloud.google.com/bigquery-ml/docs/reference/standard-sql/bigqueryml-syntax-predict):"
   ]
  },
  {
   "cell_type": "code",
   "execution_count": 34,
   "id": "11007445",
   "metadata": {
    "ExecuteTime": {
     "end_time": "2024-03-16T14:29:05.261611Z",
     "start_time": "2024-03-16T14:28:47.017652Z"
    }
   },
   "outputs": [],
   "source": [
    "query = f\"\"\"\n",
    "SELECT *\n",
    "FROM ML.PREDICT (MODEL `{BQ_PROJECT}.{BQ_DATASET}.{BQ_MODEL}`,(\n",
    "    SELECT *\n",
    "    FROM `{BQ_PROJECT}.{BQ_DATASET}.{BQ_TABLE}`\n",
    "    WHERE splits = 'TEST')\n",
    "  )\n",
    "\"\"\"\n",
    "pred = bq.query(query = query).to_dataframe()"
   ]
  },
  {
   "cell_type": "markdown",
   "id": "39907308",
   "metadata": {},
   "source": [
    "Review columns from the predictions - note that the query added columns with prefix `predicted_`"
   ]
  },
  {
   "cell_type": "code",
   "execution_count": 35,
   "id": "78c44b1f",
   "metadata": {
    "ExecuteTime": {
     "end_time": "2024-03-16T14:29:05.274060Z",
     "start_time": "2024-03-16T14:29:05.263142Z"
    }
   },
   "outputs": [
    {
     "data": {
      "text/plain": "Index(['predicted_Class', 'predicted_Class_probs', 'Time', 'V1', 'V2', 'V3',\n       'V4', 'V5', 'V6', 'V7', 'V8', 'V9', 'V10', 'V11', 'V12', 'V13', 'V14',\n       'V15', 'V16', 'V17', 'V18', 'V19', 'V20', 'V21', 'V22', 'V23', 'V24',\n       'V25', 'V26', 'V27', 'V28', 'Amount', 'Class', 'transaction_id',\n       'splits'],\n      dtype='object')"
     },
     "execution_count": 35,
     "metadata": {},
     "output_type": "execute_result"
    }
   ],
   "source": [
    "pred.columns"
   ]
  },
  {
   "cell_type": "markdown",
   "id": "4b072761",
   "metadata": {},
   "source": [
    "Print the first few rows for the columns related to the actual and predicted values:"
   ]
  },
  {
   "cell_type": "code",
   "execution_count": 36,
   "id": "c66df846",
   "metadata": {
    "ExecuteTime": {
     "end_time": "2024-03-16T14:29:05.301602Z",
     "start_time": "2024-03-16T14:29:05.268721Z"
    }
   },
   "outputs": [
    {
     "data": {
      "text/plain": "   Class  predicted_Class                              predicted_Class_probs  \\\n0      0                0  [{'label': 1, 'prob': 0.1075252936911701}, {'l...   \n1      0                0  [{'label': 1, 'prob': 0.24131627035963504}, {'...   \n2      0                0  [{'label': 1, 'prob': 0.11756581347047092}, {'...   \n3      0                0  [{'label': 1, 'prob': 0.18860839162234785}, {'...   \n4      0                0  [{'label': 1, 'prob': 0.1283615890983487}, {'l...   \n\n  splits  \n0   TEST  \n1   TEST  \n2   TEST  \n3   TEST  \n4   TEST  ",
      "text/html": "<div>\n<style scoped>\n    .dataframe tbody tr th:only-of-type {\n        vertical-align: middle;\n    }\n\n    .dataframe tbody tr th {\n        vertical-align: top;\n    }\n\n    .dataframe thead th {\n        text-align: right;\n    }\n</style>\n<table border=\"1\" class=\"dataframe\">\n  <thead>\n    <tr style=\"text-align: right;\">\n      <th></th>\n      <th>Class</th>\n      <th>predicted_Class</th>\n      <th>predicted_Class_probs</th>\n      <th>splits</th>\n    </tr>\n  </thead>\n  <tbody>\n    <tr>\n      <th>0</th>\n      <td>0</td>\n      <td>0</td>\n      <td>[{'label': 1, 'prob': 0.1075252936911701}, {'l...</td>\n      <td>TEST</td>\n    </tr>\n    <tr>\n      <th>1</th>\n      <td>0</td>\n      <td>0</td>\n      <td>[{'label': 1, 'prob': 0.24131627035963504}, {'...</td>\n      <td>TEST</td>\n    </tr>\n    <tr>\n      <th>2</th>\n      <td>0</td>\n      <td>0</td>\n      <td>[{'label': 1, 'prob': 0.11756581347047092}, {'...</td>\n      <td>TEST</td>\n    </tr>\n    <tr>\n      <th>3</th>\n      <td>0</td>\n      <td>0</td>\n      <td>[{'label': 1, 'prob': 0.18860839162234785}, {'...</td>\n      <td>TEST</td>\n    </tr>\n    <tr>\n      <th>4</th>\n      <td>0</td>\n      <td>0</td>\n      <td>[{'label': 1, 'prob': 0.1283615890983487}, {'l...</td>\n      <td>TEST</td>\n    </tr>\n  </tbody>\n</table>\n</div>"
     },
     "execution_count": 36,
     "metadata": {},
     "output_type": "execute_result"
    }
   ],
   "source": [
    "pred[[VAR_TARGET, f'predicted_{VAR_TARGET}', f'predicted_{VAR_TARGET}_probs', 'splits']].head()"
   ]
  },
  {
   "cell_type": "markdown",
   "id": "abcf9a35",
   "metadata": {},
   "source": [
    "Notice the nested dictionary for predicted probabilities.  In BigQuery this is a Record type structure with nested fields for `label` and `prob`.  This is returned to the pandas dataframe as a nested dictionary.\n",
    "\n",
    "The following code sorts the dictionary for the first record by `prob`:"
   ]
  },
  {
   "cell_type": "code",
   "execution_count": 37,
   "id": "b213c1f7",
   "metadata": {
    "ExecuteTime": {
     "end_time": "2024-03-16T14:29:05.429655Z",
     "start_time": "2024-03-16T14:29:05.285053Z"
    }
   },
   "outputs": [
    {
     "data": {
      "text/plain": "[[{'label': 0, 'prob': 0.8924747063088299},\n  {'label': 1, 'prob': 0.1075252936911701}]]"
     },
     "execution_count": 37,
     "metadata": {},
     "output_type": "execute_result"
    }
   ],
   "source": [
    "exec('temp = pred.predicted_'+VAR_TARGET+'_probs[0]')\n",
    "[sorted(x, key = lambda x: x['label']) for x in [temp]]"
   ]
  },
  {
   "cell_type": "markdown",
   "id": "c34160fc-acde-457d-b1d7-b461aea9b77a",
   "metadata": {},
   "source": [
    "---\n",
    "## Custom Eval Metrics\n",
    "Retrieve the predictions to a local dataframe and use [scikit-learn](https://scikit-learn.org/stable/index.html) metrics [fuctions](https://scikit-learn.org/stable/modules/model_evaluation.html) to do model evaluation."
   ]
  },
  {
   "cell_type": "code",
   "execution_count": 38,
   "id": "f5597c51-0624-4655-a1d8-84e39c163a15",
   "metadata": {
    "ExecuteTime": {
     "end_time": "2024-03-16T14:29:05.460076Z",
     "start_time": "2024-03-16T14:29:05.298476Z"
    }
   },
   "outputs": [
    {
     "data": {
      "text/plain": "array([[28001,   434],\n       [    6,    40]])"
     },
     "execution_count": 38,
     "metadata": {},
     "output_type": "execute_result"
    }
   ],
   "source": [
    "metrics.confusion_matrix(list(pred[f'{VAR_TARGET}']), list(pred[f'predicted_{VAR_TARGET}']))"
   ]
  },
  {
   "cell_type": "code",
   "execution_count": 39,
   "id": "fc2de447-e779-4b86-8a20-d7a724767255",
   "metadata": {
    "ExecuteTime": {
     "end_time": "2024-03-16T14:29:05.695935Z",
     "start_time": "2024-03-16T14:29:05.316219Z"
    }
   },
   "outputs": [
    {
     "data": {
      "text/plain": "<sklearn.metrics._plot.confusion_matrix.ConfusionMatrixDisplay at 0x7f84d0ed5250>"
     },
     "execution_count": 39,
     "metadata": {},
     "output_type": "execute_result"
    },
    {
     "data": {
      "text/plain": "<Figure size 640x480 with 2 Axes>",
      "image/png": "[encoded data removed]"
     },
     "metadata": {},
     "output_type": "display_data"
    }
   ],
   "source": [
    "disp = metrics.ConfusionMatrixDisplay(\n",
    "    confusion_matrix = metrics.confusion_matrix(list(pred[f'{VAR_TARGET}']), list(pred[f'predicted_{VAR_TARGET}']))\n",
    ")\n",
    "disp.plot()"
   ]
  },
  {
   "cell_type": "code",
   "execution_count": 40,
   "id": "f12fc9e8-621e-4aa8-a0c2-fdcafce4a78c",
   "metadata": {
    "ExecuteTime": {
     "end_time": "2024-03-16T14:29:05.721224Z",
     "start_time": "2024-03-16T14:29:05.535474Z"
    }
   },
   "outputs": [
    {
     "data": {
      "text/plain": "0.9845511042449352"
     },
     "execution_count": 40,
     "metadata": {},
     "output_type": "execute_result"
    }
   ],
   "source": [
    "metrics.accuracy_score(list(pred[f'{VAR_TARGET}']), list(pred[f'predicted_{VAR_TARGET}']))"
   ]
  },
  {
   "cell_type": "code",
   "execution_count": 41,
   "id": "01edc1f5-bb23-4dab-833c-c1489d4ad355",
   "metadata": {
    "ExecuteTime": {
     "end_time": "2024-03-16T14:29:05.878232Z",
     "start_time": "2024-03-16T14:29:05.573424Z"
    }
   },
   "outputs": [
    {
     "name": "stdout",
     "output_type": "stream",
     "text": [
      "              precision    recall  f1-score   support\n",
      "\n",
      "           0       1.00      0.98      0.99     28435\n",
      "           1       0.08      0.87      0.15        46\n",
      "\n",
      "    accuracy                           0.98     28481\n",
      "   macro avg       0.54      0.93      0.57     28481\n",
      "weighted avg       1.00      0.98      0.99     28481\n"
     ]
    }
   ],
   "source": [
    "print(metrics.classification_report(list(pred[f'{VAR_TARGET}']), list(pred[f'predicted_{VAR_TARGET}'])))"
   ]
  },
  {
   "cell_type": "markdown",
   "id": "e3d40959-4812-4094-a2f9-5452d7273c89",
   "metadata": {},
   "source": [
    "---\n",
    "## Explanations\n",
    "[Built-in](https://cloud.google.com/bigquery-ml/docs/reference/standard-sql/bigqueryml-syntax-xai-overview) capabilities to understand how features contributed to predictions both individually (local) and overall (global)."
   ]
  },
  {
   "cell_type": "markdown",
   "id": "6e7ce029-5baf-4019-b680-29f8e6c5f989",
   "metadata": {},
   "source": [
    "### Local Explainability\n",
    "Retrieve feature attribution values to interpret each features contribution to a prediction relative to the baseline prediction using [ML.EXPLAIN_PREDICT](https://cloud.google.com/bigquery-ml/docs/reference/standard-sql/bigqueryml-syntax-explain-predict)."
   ]
  },
  {
   "cell_type": "code",
   "execution_count": 42,
   "id": "219fd574-6971-4e8a-8805-fdd2d3514a69",
   "metadata": {
    "ExecuteTime": {
     "end_time": "2024-03-16T14:29:35.978557Z",
     "start_time": "2024-03-16T14:29:05.636152Z"
    }
   },
   "outputs": [],
   "source": [
    "query = f\"\"\"\n",
    "SELECT *\n",
    "FROM ML.EXPLAIN_PREDICT (MODEL `{BQ_PROJECT}.{BQ_DATASET}.{BQ_MODEL}`,(\n",
    "    SELECT *\n",
    "    FROM `{BQ_PROJECT}.{BQ_DATASET}.{BQ_TABLE}`\n",
    "    WHERE splits = 'TEST'), STRUCT(10 as top_k_features)\n",
    "  )\n",
    "\"\"\"\n",
    "explain = bq.query(query = query).to_dataframe()"
   ]
  },
  {
   "cell_type": "code",
   "execution_count": 43,
   "id": "6b9e6324-b1c5-477d-95c8-c3338738fec0",
   "metadata": {
    "ExecuteTime": {
     "end_time": "2024-03-16T14:29:36.030906Z",
     "start_time": "2024-03-16T14:29:35.973520Z"
    }
   },
   "outputs": [
    {
     "data": {
      "text/plain": "   predicted_Class  probability  \\\n0                0     0.892475   \n1                0     0.758684   \n2                0     0.882434   \n3                0     0.811392   \n4                0     0.871638   \n\n                            top_feature_attributions  \\\n0  [{'feature': 'V4', 'attribution': 2.1859897110...   \n1  [{'feature': 'V4', 'attribution': 2.5102084227...   \n2  [{'feature': 'V14', 'attribution': 0.547825872...   \n3  [{'feature': 'V4', 'attribution': 1.5487438098...   \n4  [{'feature': 'V12', 'attribution': 0.762221531...   \n\n   baseline_prediction_value  prediction_value  approximation_error      Time  \\\n0                  -2.737137         -2.116272                  0.0  140315.0   \n1                  -2.737137         -1.145477                  0.0  171011.0   \n2                  -2.737137         -2.015686                  0.0   35734.0   \n3                  -2.737137         -1.459078                  0.0   12973.0   \n4                  -2.737137         -1.915523                  0.0   64268.0   \n\n         V1        V2        V3  ...       V23       V24       V25       V26  \\\n0  1.882751  0.532175  0.150708  ...  0.487635 -0.024250 -0.512936 -0.516050   \n1 -1.345222  2.280635  2.149265  ... -0.201321  0.007053  0.055551  0.580323   \n2 -2.571353 -2.286027  2.909699  ... -0.363365 -0.520853 -0.024029  1.180507   \n3  1.042687  0.224056  1.651554  ...  0.082059 -0.072716  0.148948 -0.066969   \n4  1.316193 -0.009926 -0.137555  ... -0.136149 -0.126894  0.639381  0.595106   \n\n        V27       V28  Amount  Class                        transaction_id  \\\n0  0.011179 -0.026608     0.0      0  007bcd38-0860-4140-8182-f1a19fea3aa7   \n1 -0.086456 -0.050837     0.0      0  da201b45-1c71-410e-9cb9-d3bfc82b2a15   \n2 -0.309633 -0.296332     0.0      0  47357783-5339-4ede-91f5-5ff57cbb11cd   \n3  0.024569  0.014142     0.0      0  db700585-1fc5-4747-858e-1c36de09ec2a   \n4 -0.070506 -0.010366     0.0      0  72eaec6f-9f06-4d5c-8983-27535cee2b35   \n\n   splits  \n0    TEST  \n1    TEST  \n2    TEST  \n3    TEST  \n4    TEST  \n\n[5 rows x 39 columns]",
      "text/html": "<div>\n<style scoped>\n    .dataframe tbody tr th:only-of-type {\n        vertical-align: middle;\n    }\n\n    .dataframe tbody tr th {\n        vertical-align: top;\n    }\n\n    .dataframe thead th {\n        text-align: right;\n    }\n</style>\n<table border=\"1\" class=\"dataframe\">\n  <thead>\n    <tr style=\"text-align: right;\">\n      <th></th>\n      <th>predicted_Class</th>\n      <th>probability</th>\n      <th>top_feature_attributions</th>\n      <th>baseline_prediction_value</th>\n      <th>prediction_value</th>\n      <th>approximation_error</th>\n      <th>Time</th>\n      <th>V1</th>\n      <th>V2</th>\n      <th>V3</th>\n      <th>...</th>\n      <th>V23</th>\n      <th>V24</th>\n      <th>V25</th>\n      <th>V26</th>\n      <th>V27</th>\n      <th>V28</th>\n      <th>Amount</th>\n      <th>Class</th>\n      <th>transaction_id</th>\n      <th>splits</th>\n    </tr>\n  </thead>\n  <tbody>\n    <tr>\n      <th>0</th>\n      <td>0</td>\n      <td>0.892475</td>\n      <td>[{'feature': 'V4', 'attribution': 2.1859897110...</td>\n      <td>-2.737137</td>\n      <td>-2.116272</td>\n      <td>0.0</td>\n      <td>140315.0</td>\n      <td>1.882751</td>\n      <td>0.532175</td>\n      <td>0.150708</td>\n      <td>...</td>\n      <td>0.487635</td>\n      <td>-0.024250</td>\n      <td>-0.512936</td>\n      <td>-0.516050</td>\n      <td>0.011179</td>\n      <td>-0.026608</td>\n      <td>0.0</td>\n      <td>0</td>\n      <td>007bcd38-0860-4140-8182-f1a19fea3aa7</td>\n      <td>TEST</td>\n    </tr>\n    <tr>\n      <th>1</th>\n      <td>0</td>\n      <td>0.758684</td>\n      <td>[{'feature': 'V4', 'attribution': 2.5102084227...</td>\n      <td>-2.737137</td>\n      <td>-1.145477</td>\n      <td>0.0</td>\n      <td>171011.0</td>\n      <td>-1.345222</td>\n      <td>2.280635</td>\n      <td>2.149265</td>\n      <td>...</td>\n      <td>-0.201321</td>\n      <td>0.007053</td>\n      <td>0.055551</td>\n      <td>0.580323</td>\n      <td>-0.086456</td>\n      <td>-0.050837</td>\n      <td>0.0</td>\n      <td>0</td>\n      <td>da201b45-1c71-410e-9cb9-d3bfc82b2a15</td>\n      <td>TEST</td>\n    </tr>\n    <tr>\n      <th>2</th>\n      <td>0</td>\n      <td>0.882434</td>\n      <td>[{'feature': 'V14', 'attribution': 0.547825872...</td>\n      <td>-2.737137</td>\n      <td>-2.015686</td>\n      <td>0.0</td>\n      <td>35734.0</td>\n      <td>-2.571353</td>\n      <td>-2.286027</td>\n      <td>2.909699</td>\n      <td>...</td>\n      <td>-0.363365</td>\n      <td>-0.520853</td>\n      <td>-0.024029</td>\n      <td>1.180507</td>\n      <td>-0.309633</td>\n      <td>-0.296332</td>\n      <td>0.0</td>\n      <td>0</td>\n      <td>47357783-5339-4ede-91f5-5ff57cbb11cd</td>\n      <td>TEST</td>\n    </tr>\n    <tr>\n      <th>3</th>\n      <td>0</td>\n      <td>0.811392</td>\n      <td>[{'feature': 'V4', 'attribution': 1.5487438098...</td>\n      <td>-2.737137</td>\n      <td>-1.459078</td>\n      <td>0.0</td>\n      <td>12973.0</td>\n      <td>1.042687</td>\n      <td>0.224056</td>\n      <td>1.651554</td>\n      <td>...</td>\n      <td>0.082059</td>\n      <td>-0.072716</td>\n      <td>0.148948</td>\n      <td>-0.066969</td>\n      <td>0.024569</td>\n      <td>0.014142</td>\n      <td>0.0</td>\n      <td>0</td>\n      <td>db700585-1fc5-4747-858e-1c36de09ec2a</td>\n      <td>TEST</td>\n    </tr>\n    <tr>\n      <th>4</th>\n      <td>0</td>\n      <td>0.871638</td>\n      <td>[{'feature': 'V12', 'attribution': 0.762221531...</td>\n      <td>-2.737137</td>\n      <td>-1.915523</td>\n      <td>0.0</td>\n      <td>64268.0</td>\n      <td>1.316193</td>\n      <td>-0.009926</td>\n      <td>-0.137555</td>\n      <td>...</td>\n      <td>-0.136149</td>\n      <td>-0.126894</td>\n      <td>0.639381</td>\n      <td>0.595106</td>\n      <td>-0.070506</td>\n      <td>-0.010366</td>\n      <td>0.0</td>\n      <td>0</td>\n      <td>72eaec6f-9f06-4d5c-8983-27535cee2b35</td>\n      <td>TEST</td>\n    </tr>\n  </tbody>\n</table>\n<p>5 rows × 39 columns</p>\n</div>"
     },
     "execution_count": 43,
     "metadata": {},
     "output_type": "execute_result"
    }
   ],
   "source": [
    "explain.head()"
   ]
  },
  {
   "cell_type": "markdown",
   "id": "50496e64-0841-4a63-833e-34ae6102c50a",
   "metadata": {},
   "source": [
    "Create a plot of feature attributions for a single prediction:"
   ]
  },
  {
   "cell_type": "code",
   "execution_count": 44,
   "id": "d9d6f625-5d5b-4017-b7b0-ccb59148ee62",
   "metadata": {
    "ExecuteTime": {
     "end_time": "2024-03-16T14:29:36.053622Z",
     "start_time": "2024-03-16T14:29:36.008316Z"
    }
   },
   "outputs": [],
   "source": [
    "explanation = explain.iloc[0]['top_feature_attributions']"
   ]
  },
  {
   "cell_type": "code",
   "execution_count": 45,
   "id": "3645d9e5-b411-40f2-953a-c45a2c160664",
   "metadata": {
    "ExecuteTime": {
     "end_time": "2024-03-16T14:29:36.279726Z",
     "start_time": "2024-03-16T14:29:36.058054Z"
    }
   },
   "outputs": [
    {
     "data": {
      "text/plain": "<Figure size 1500x500 with 1 Axes>",
      "image/png": "[encoded data removed]"
     },
     "metadata": {},
     "output_type": "display_data"
    }
   ],
   "source": [
    "features = []\n",
    "scores = []\n",
    "for k in explanation:\n",
    "    features.append(k['feature'])\n",
    "    scores.append(k['attribution'])\n",
    "features = [x for _, x in sorted(zip(scores, features))]\n",
    "scores = sorted(scores)\n",
    "\n",
    "plt.figure(figsize=(15,5))\n",
    "plt.barh(features, scores)\n",
    "plt.title('Feature Attribution for Prediction')\n",
    "plt.show()"
   ]
  },
  {
   "cell_type": "markdown",
   "id": "a1dfafa7-2404-471d-921f-3e239102ea39",
   "metadata": {},
   "source": [
    "### Global Explainability\n",
    "Retrieve the influence of each feature on the model with [ML.GLOBAL_EXPLAIN](https://cloud.google.com/bigquery-ml/docs/reference/standard-sql/bigqueryml-syntax-global-explain).  "
   ]
  },
  {
   "cell_type": "code",
   "execution_count": 46,
   "id": "c8175a73-b86a-403e-8692-66aad5131512",
   "metadata": {
    "ExecuteTime": {
     "end_time": "2024-03-16T14:29:37.212028Z",
     "start_time": "2024-03-16T14:29:36.232799Z"
    }
   },
   "outputs": [],
   "source": [
    "query = f\"\"\"\n",
    "SELECT *\n",
    "FROM ML.GLOBAL_EXPLAIN (MODEL `{BQ_PROJECT}.{BQ_DATASET}.{BQ_MODEL}`)\n",
    "\"\"\"\n",
    "gexplain = bq.query(query = query).to_dataframe()"
   ]
  },
  {
   "cell_type": "code",
   "execution_count": 47,
   "id": "f9cba8b6-2117-4c16-b8e2-c0bd3a3249b1",
   "metadata": {
    "ExecuteTime": {
     "end_time": "2024-03-16T14:29:37.280600Z",
     "start_time": "2024-03-16T14:29:37.221567Z"
    }
   },
   "outputs": [
    {
     "data": {
      "text/plain": "  feature  attribution\n0      V4     0.609498\n1     V14     0.454990\n2     V12     0.435927\n3    Time     0.248053\n4     V16     0.231627",
      "text/html": "<div>\n<style scoped>\n    .dataframe tbody tr th:only-of-type {\n        vertical-align: middle;\n    }\n\n    .dataframe tbody tr th {\n        vertical-align: top;\n    }\n\n    .dataframe thead th {\n        text-align: right;\n    }\n</style>\n<table border=\"1\" class=\"dataframe\">\n  <thead>\n    <tr style=\"text-align: right;\">\n      <th></th>\n      <th>feature</th>\n      <th>attribution</th>\n    </tr>\n  </thead>\n  <tbody>\n    <tr>\n      <th>0</th>\n      <td>V4</td>\n      <td>0.609498</td>\n    </tr>\n    <tr>\n      <th>1</th>\n      <td>V14</td>\n      <td>0.454990</td>\n    </tr>\n    <tr>\n      <th>2</th>\n      <td>V12</td>\n      <td>0.435927</td>\n    </tr>\n    <tr>\n      <th>3</th>\n      <td>Time</td>\n      <td>0.248053</td>\n    </tr>\n    <tr>\n      <th>4</th>\n      <td>V16</td>\n      <td>0.231627</td>\n    </tr>\n  </tbody>\n</table>\n</div>"
     },
     "execution_count": 47,
     "metadata": {},
     "output_type": "execute_result"
    }
   ],
   "source": [
    "gexplain.head()"
   ]
  },
  {
   "cell_type": "code",
   "execution_count": 48,
   "id": "e1529486-9a8d-4587-9ec0-4f5e2d39b3d4",
   "metadata": {
    "ExecuteTime": {
     "end_time": "2024-03-16T14:29:37.787036Z",
     "start_time": "2024-03-16T14:29:37.267090Z"
    }
   },
   "outputs": [
    {
     "data": {
      "text/plain": "<Figure size 1500x800 with 1 Axes>",
      "image/png": "[encoded data removed]"
     },
     "metadata": {},
     "output_type": "display_data"
    }
   ],
   "source": [
    "plt.figure(figsize=(15,8))\n",
    "plt.barh(gexplain['feature'], gexplain['attribution'])\n",
    "plt.title('Global Influence')\n",
    "plt.xlabel('Attribution')\n",
    "#plt.ylabel('Feature')\n",
    "plt.show()"
   ]
  },
  {
   "cell_type": "markdown",
   "id": "c26329f6-87f9-4ee4-a1c9-24fbdf9b844c",
   "metadata": {},
   "source": [
    "---\n",
    "## Serving With Vertex AI\n",
    "\n",
    "The training options for creating the model include registering the model the Vertex AI Automatically.  This makes deploying the model to a [Vertex AI Endpoint for online serving](https://cloud.google.com/vertex-ai/docs/general/deployment) very easy."
   ]
  },
  {
   "cell_type": "markdown",
   "id": "ffe20dff-a902-4354-972f-ed6eed5a47bf",
   "metadata": {},
   "source": [
    "### Vertex AI Model Registry - Get Model\n",
    "\n",
    "When these modes were trained in BigQuery ML they included options for registration in Vertex AI Model Registry.  This section shows how to retrieve the information from the model using the [Vertex AI Python Client](../Tips/aiplatform_notes.md).\n",
    "\n",
    "References:\n",
    "- [aiplatform.Model()](https://cloud.google.com/python/docs/reference/aiplatform/latest/google.cloud.aiplatform.Model)"
   ]
  },
  {
   "cell_type": "code",
   "execution_count": 50,
   "id": "1ea3cfa4-71b4-456a-b489-0137656f2f86",
   "metadata": {
    "ExecuteTime": {
     "end_time": "2024-03-16T14:31:03.810673Z",
     "start_time": "2024-03-16T14:31:03.397965Z"
    }
   },
   "outputs": [
    {
     "data": {
      "text/plain": "'projects/993073267534/locations/us-central1/models/bqml_logistic-regression'"
     },
     "execution_count": 50,
     "metadata": {},
     "output_type": "execute_result"
    }
   ],
   "source": [
    "vertex_model = aiplatform.Model(model_name = f'{SERIES}_{EXPERIMENT}')\n",
    "vertex_model.resource_name"
   ]
  },
  {
   "cell_type": "code",
   "execution_count": 51,
   "id": "3d34b828-fef6-4301-8b6d-2922bfa1d08c",
   "metadata": {
    "ExecuteTime": {
     "end_time": "2024-03-16T14:31:06.702310Z",
     "start_time": "2024-03-16T14:31:05.904824Z"
    }
   },
   "outputs": [
    {
     "data": {
      "text/plain": "{'rows': [[42.0, 4.0], [532.0, 27851.0]],\n 'annotationSpecs': [{'displayName': '1', 'id': '0'},\n  {'displayName': '0', 'id': '1'}]}"
     },
     "execution_count": 51,
     "metadata": {},
     "output_type": "execute_result"
    }
   ],
   "source": [
    "aiplatform.ModelEvaluation(\n",
    "    evaluation_name = vertex_model.get_model_evaluation().resource_name\n",
    ").to_dict()['metrics']['confusionMatrix']"
   ]
  },
  {
   "cell_type": "code",
   "execution_count": 52,
   "id": "80739fa5-e9c3-4246-bc1a-91a12798f4c7",
   "metadata": {
    "ExecuteTime": {
     "end_time": "2024-03-16T14:31:08.522692Z",
     "start_time": "2024-03-16T14:31:08.416331Z"
    }
   },
   "outputs": [],
   "source": [
    "# note: this is blank since the model is managed by BQML and container is pre-specified\n",
    "vertex_model.uri "
   ]
  },
  {
   "cell_type": "markdown",
   "id": "111b6c2e-74ba-4266-a924-e1d01aa32966",
   "metadata": {},
   "source": [
    "### Vertex AI Endpoint - Create or Retrieve\n",
    "\n",
    "References:\n",
    "- [aiplatform.Endpoint()](https://cloud.google.com/python/docs/reference/aiplatform/latest/google.cloud.aiplatform.Endpoint)"
   ]
  },
  {
   "cell_type": "code",
   "execution_count": 53,
   "id": "c8508e8b-2724-43a8-8d23-2b6a1c19c016",
   "metadata": {
    "ExecuteTime": {
     "end_time": "2024-03-16T14:33:43.682700Z",
     "start_time": "2024-03-16T14:31:10.012208Z"
    }
   },
   "outputs": [
    {
     "name": "stdout",
     "output_type": "stream",
     "text": [
      "Creating Endpoint\n",
      "Create Endpoint backing LRO: projects/993073267534/locations/us-central1/endpoints/5892812777856172032/operations/5633617239618879488\n",
      "Endpoint created. Resource name: projects/993073267534/locations/us-central1/endpoints/5892812777856172032\n",
      "To use this Endpoint in another session:\n",
      "endpoint = aiplatform.Endpoint('projects/993073267534/locations/us-central1/endpoints/5892812777856172032')\n",
      "Endpoint Created: bqml\n"
     ]
    }
   ],
   "source": [
    "if not aiplatform.Endpoint.list(filter = f\"display_name={SERIES}\"):\n",
    "    endpoint = aiplatform.Endpoint.create(\n",
    "        display_name = f\"{SERIES}\",\n",
    "        labels = {'series' : f\"{SERIES}\"}\n",
    "    )\n",
    "    print(f\"Endpoint Created: {endpoint.display_name}\")\n",
    "else:\n",
    "    endpoint = aiplatform.Endpoint.list(filter = f\"display_name={SERIES}\")[0]\n",
    "    print(f\"Endpoint Found: {endpoint.display_name}\")"
   ]
  },
  {
   "cell_type": "code",
   "execution_count": 54,
   "id": "a0509598-69eb-445a-ba83-2c24af46a141",
   "metadata": {
    "ExecuteTime": {
     "end_time": "2024-03-16T14:33:43.706410Z",
     "start_time": "2024-03-16T14:33:43.679412Z"
    }
   },
   "outputs": [
    {
     "data": {
      "text/plain": "'bqml'"
     },
     "execution_count": 54,
     "metadata": {},
     "output_type": "execute_result"
    }
   ],
   "source": [
    "endpoint.display_name"
   ]
  },
  {
   "cell_type": "code",
   "execution_count": 55,
   "id": "310c5fdc-b403-45fc-baa8-6fb8c5e7e220",
   "metadata": {
    "ExecuteTime": {
     "end_time": "2024-03-16T14:33:44.009354Z",
     "start_time": "2024-03-16T14:33:43.686772Z"
    }
   },
   "outputs": [
    {
     "data": {
      "text/plain": "{}"
     },
     "execution_count": 55,
     "metadata": {},
     "output_type": "execute_result"
    }
   ],
   "source": [
    "endpoint.traffic_split"
   ]
  },
  {
   "cell_type": "code",
   "execution_count": 56,
   "id": "3de11572-b5e9-4d1b-9668-8490c01e400f",
   "metadata": {
    "ExecuteTime": {
     "end_time": "2024-03-16T14:33:44.334302Z",
     "start_time": "2024-03-16T14:33:44.007662Z"
    }
   },
   "outputs": [
    {
     "data": {
      "text/plain": "[]"
     },
     "execution_count": 56,
     "metadata": {},
     "output_type": "execute_result"
    }
   ],
   "source": [
    "deployed_models = endpoint.list_models()\n",
    "deployed_models"
   ]
  },
  {
   "cell_type": "markdown",
   "id": "25e67617-fa79-4e74-85e5-f58f0b2384f2",
   "metadata": {},
   "source": [
    "### Deploy Model To Vertex AI Endpoint\n",
    "\n",
    "**NOTE: This can take 15+ minutes to complete.**\n",
    "\n",
    "Reference:\n",
    "- [aiplatform.Endpoint.deploy()](https://cloud.google.com/python/docs/reference/aiplatform/latest/google.cloud.aiplatform.Endpoint#google_cloud_aiplatform_Endpoint_deploy)\n",
    "\n",
    "### UI Manual "
   ]
  },
  {
   "cell_type": "code",
   "execution_count": 59,
   "id": "d749ec48-d977-4bc0-9ca8-eb707dd8df14",
   "metadata": {
    "ExecuteTime": {
     "end_time": "2024-03-16T14:49:10.820799Z",
     "start_time": "2024-03-16T14:49:10.717215Z"
    }
   },
   "outputs": [],
   "source": [
    "#endpoint.deploy(\n",
    "#    model = vertex_model,\n",
    "#    deployed_model_display_name = vertex_model.display_name,\n",
    "#    traffic_percentage = 100,\n",
    "#    machine_type = 'n1-standard-2',\n",
    "#    min_replica_count = 1,\n",
    "#    max_replica_count = 1\n",
    "#)"
   ]
  },
  {
   "cell_type": "code",
   "outputs": [
    {
     "name": "stdout",
     "output_type": "stream",
     "text": [
      "Endpoint Found: bqml\n"
     ]
    }
   ],
   "source": [
    "if not aiplatform.Endpoint.list(filter = f\"display_name={SERIES}\"):\n",
    "    endpoint = aiplatform.Endpoint.create(\n",
    "        display_name = f\"{SERIES}\",\n",
    "        labels = {'series' : f\"{SERIES}\"}\n",
    "    )\n",
    "    print(f\"Endpoint Created: {endpoint.display_name}\")\n",
    "else:\n",
    "    endpoint = aiplatform.Endpoint.list(filter = f\"display_name={SERIES}\")[0]\n",
    "    print(f\"Endpoint Found: {endpoint.display_name}\")"
   ],
   "metadata": {
    "collapsed": false,
    "ExecuteTime": {
     "end_time": "2024-03-16T15:03:17.100072Z",
     "start_time": "2024-03-16T15:03:16.438263Z"
    }
   },
   "id": "e600f96101248f9c",
   "execution_count": 64
  },
  {
   "cell_type": "code",
   "execution_count": 65,
   "id": "ba7019a3-1c98-4819-9a6b-f845e7290cac",
   "metadata": {
    "ExecuteTime": {
     "end_time": "2024-03-16T15:03:17.650033Z",
     "start_time": "2024-03-16T15:03:17.294747Z"
    }
   },
   "outputs": [
    {
     "data": {
      "text/plain": "[dedicated_resources {\n   machine_spec {\n     machine_type: \"n1-standard-2\"\n   }\n   min_replica_count: 1\n   max_replica_count: 1\n }\n id: \"2082859852077465600\"\n model: \"projects/993073267534/locations/us-central1/models/bqml_logistic-regression\"\n model_version_id: \"1\"\n display_name: \"bqml_logistic-regression\"\n create_time {\n   seconds: 1710600641\n   nanos: 154889000\n }\n service_account: \"zacharynguyen@e2e-fraud-detection.iam.gserviceaccount.com\"\n disable_container_logging: true\n enable_access_logging: true]"
     },
     "execution_count": 65,
     "metadata": {},
     "output_type": "execute_result"
    }
   ],
   "source": [
    "endpoint.list_models()"
   ]
  },
  {
   "cell_type": "markdown",
   "id": "2127cdf1-a5a2-45bf-a0f0-1995aa0e7128",
   "metadata": {},
   "source": [
    "### Remove Deployed Models without Traffic"
   ]
  },
  {
   "cell_type": "code",
   "execution_count": 66,
   "id": "f347f281-1ce2-4e74-bde2-b8e74c709144",
   "metadata": {
    "ExecuteTime": {
     "end_time": "2024-03-16T15:03:33.249482Z",
     "start_time": "2024-03-16T15:03:32.278097Z"
    }
   },
   "outputs": [
    {
     "name": "stdout",
     "output_type": "stream",
     "text": [
      "Model bqml_logistic-regression with version 1 has traffic = 100\n"
     ]
    }
   ],
   "source": [
    "for deployed_model in endpoint.list_models():\n",
    "    if deployed_model.id in endpoint.traffic_split:\n",
    "        print(f\"Model {deployed_model.display_name} with version {deployed_model.model_version_id} has traffic = {endpoint.traffic_split[deployed_model.id]}\")\n",
    "    else:\n",
    "        endpoint.undeploy(deployed_model_id = deployed_model.id)\n",
    "        print(f\"Undeploying {deployed_model.display_name} with version {deployed_model.model_version_id} because it has no traffic.\")"
   ]
  },
  {
   "cell_type": "code",
   "execution_count": 67,
   "id": "fd47dd42-fc0c-4a13-ab42-ebe63fcd658e",
   "metadata": {
    "ExecuteTime": {
     "end_time": "2024-03-16T15:03:33.629994Z",
     "start_time": "2024-03-16T15:03:33.247061Z"
    }
   },
   "outputs": [
    {
     "data": {
      "text/plain": "{'2082859852077465600': 100}"
     },
     "execution_count": 67,
     "metadata": {},
     "output_type": "execute_result"
    }
   ],
   "source": [
    "endpoint.traffic_split"
   ]
  },
  {
   "cell_type": "code",
   "execution_count": 68,
   "id": "c4dd99d8-2ecf-41a5-855b-2d5ca0deb5af",
   "metadata": {
    "ExecuteTime": {
     "end_time": "2024-03-16T15:03:33.651752Z",
     "start_time": "2024-03-16T15:03:33.570017Z"
    }
   },
   "outputs": [],
   "source": [
    "#endpoint.list_models()"
   ]
  },
  {
   "cell_type": "markdown",
   "id": "78227561-eb64-4800-8b3e-c679e6b445e0",
   "metadata": {},
   "source": [
    "---\n",
    "## Predictions With Vertex AI Endpoint"
   ]
  },
  {
   "cell_type": "markdown",
   "id": "7fe31c44-a4c6-4988-a24c-ee744438572f",
   "metadata": {},
   "source": [
    "### Retrieve Records For Prediction"
   ]
  },
  {
   "cell_type": "code",
   "execution_count": 73,
   "id": "8f14e7e9-60bf-425a-97a6-e38636a3ac5d",
   "metadata": {
    "ExecuteTime": {
     "end_time": "2024-03-16T15:05:55.470522Z",
     "start_time": "2024-03-16T15:05:54.342280Z"
    }
   },
   "outputs": [],
   "source": [
    "n = 10\n",
    "pred = bq.query(\n",
    "    query = f\"\"\"\n",
    "        SELECT * EXCEPT({VAR_TARGET}, {VAR_OMIT}, splits)\n",
    "        FROM `{PROJECT_ID}.{BQ_DATASET}.prepped-data`\n",
    "        WHERE splits='TEST'\n",
    "        LIMIT {n}\n",
    "        \"\"\"\n",
    ").to_dataframe()"
   ]
  },
  {
   "cell_type": "markdown",
   "id": "cffc3ca9-2d74-4dac-a133-544cd5638680",
   "metadata": {},
   "source": [
    "Shape as instances: dictionaries of key:value pairs for only features used in model"
   ]
  },
  {
   "cell_type": "code",
   "execution_count": 74,
   "id": "c30fc1dc-e0d9-498a-adb4-33de987a47ac",
   "metadata": {
    "ExecuteTime": {
     "end_time": "2024-03-16T15:06:01.313551Z",
     "start_time": "2024-03-16T15:06:01.208499Z"
    }
   },
   "outputs": [],
   "source": [
    "newobs = pred.to_dict(orient = 'records')"
   ]
  },
  {
   "cell_type": "code",
   "execution_count": 75,
   "id": "fa845eb3-7f5d-40fd-999c-ea87bce527b7",
   "metadata": {
    "ExecuteTime": {
     "end_time": "2024-03-16T15:06:02.279131Z",
     "start_time": "2024-03-16T15:06:02.200616Z"
    }
   },
   "outputs": [
    {
     "data": {
      "text/plain": "{'Time': 140315.0,\n 'V1': 1.88275144365981,\n 'V2': 0.5321745574787371,\n 'V3': 0.150708356622915,\n 'V4': 3.8894693444449104,\n 'V5': 0.0110367165296031,\n 'V6': 0.10161692045463001,\n 'V7': -0.105079317724247,\n 'V8': -0.0276783367013348,\n 'V9': -0.649422331552985,\n 'V10': 1.2760161964761398,\n 'V11': -1.0975780754147801,\n 'V12': 0.7253332584452471,\n 'V13': 1.30091293887403,\n 'V14': -0.404936212520168,\n 'V15': -1.26229079100372,\n 'V16': 0.872501700920738,\n 'V17': -0.762329639638684,\n 'V18': -0.954372139279484,\n 'V19': -1.26536709127823,\n 'V20': -0.22555835884440698,\n 'V21': -0.401006076766849,\n 'V22': -1.01558064776831,\n 'V23': 0.487634612397945,\n 'V24': -0.0242502150262368,\n 'V25': -0.512936399003697,\n 'V26': -0.51604963380311,\n 'V27': 0.0111793306485451,\n 'V28': -0.0266076514394325,\n 'Amount': 0.0}"
     },
     "execution_count": 75,
     "metadata": {},
     "output_type": "execute_result"
    }
   ],
   "source": [
    "newobs[0]"
   ]
  },
  {
   "cell_type": "markdown",
   "id": "854fea6a-e1ea-4669-b337-ccd090348ff4",
   "metadata": {},
   "source": [
    "### Get Predictions: Python Client"
   ]
  },
  {
   "cell_type": "code",
   "execution_count": 76,
   "id": "020d6feb-567e-413d-b39e-38d1c39333f7",
   "metadata": {
    "ExecuteTime": {
     "end_time": "2024-03-16T15:06:05.486798Z",
     "start_time": "2024-03-16T15:06:04.917018Z"
    }
   },
   "outputs": [
    {
     "data": {
      "text/plain": "Prediction(predictions=[{'predicted_Class': ['0'], 'Class_values': ['1', '0'], 'Class_probs': [0.107525295341668, 0.892474704658332]}], deployed_model_id='2082859852077465600', model_version_id='1', model_resource_name='projects/993073267534/locations/us-central1/models/bqml_logistic-regression', explanations=None)"
     },
     "execution_count": 76,
     "metadata": {},
     "output_type": "execute_result"
    }
   ],
   "source": [
    "prediction = endpoint.predict(instances = newobs[0:1])\n",
    "prediction"
   ]
  },
  {
   "cell_type": "code",
   "execution_count": 77,
   "id": "0d3966e5-f45c-4bd6-88a5-108318075c4b",
   "metadata": {
    "ExecuteTime": {
     "end_time": "2024-03-16T15:06:05.856784Z",
     "start_time": "2024-03-16T15:06:05.782619Z"
    }
   },
   "outputs": [
    {
     "data": {
      "text/plain": "{'predicted_Class': ['0'],\n 'Class_values': ['1', '0'],\n 'Class_probs': [0.107525295341668, 0.892474704658332]}"
     },
     "execution_count": 77,
     "metadata": {},
     "output_type": "execute_result"
    }
   ],
   "source": [
    "prediction.predictions[0]"
   ]
  },
  {
   "cell_type": "code",
   "execution_count": 78,
   "id": "fc8e8b4e-36b2-47b0-8010-37f704cff7b1",
   "metadata": {
    "ExecuteTime": {
     "end_time": "2024-03-16T15:06:06.465591Z",
     "start_time": "2024-03-16T15:06:06.353610Z"
    }
   },
   "outputs": [
    {
     "data": {
      "text/plain": "0"
     },
     "execution_count": 78,
     "metadata": {},
     "output_type": "execute_result"
    }
   ],
   "source": [
    "np.argmax(prediction.predictions[0])"
   ]
  },
  {
   "cell_type": "markdown",
   "id": "a7931fd6-8b40-406c-9462-883f2489ab81",
   "metadata": {},
   "source": [
    "### Get Predictions: REST\n",
    "Reference:\n",
    "- [POST https://{REGION}-aiplatform.googleapis.com/v1/{endpoint}:predict](https://cloud.google.com/python/docs/reference/aiplatform/latest/google.cloud.aiplatform_v1.services.prediction_service.PredictionServiceClient#google_cloud_aiplatform_v1_services_prediction_service_PredictionServiceClient_predict)"
   ]
  },
  {
   "cell_type": "markdown",
   "id": "2fac942f-5b93-4032-b6af-3b25b69b6c20",
   "metadata": {},
   "source": [
    "Prepare request:"
   ]
  },
  {
   "cell_type": "code",
   "execution_count": 79,
   "id": "6a66d90a-9a02-422a-b182-9006fc3e51bc",
   "metadata": {
    "ExecuteTime": {
     "end_time": "2024-03-16T15:06:08.715528Z",
     "start_time": "2024-03-16T15:06:08.570717Z"
    }
   },
   "outputs": [],
   "source": [
    "with open(f'{DIR}/request.json','w') as file:\n",
    "    file.write(json.dumps({\"instances\": newobs[0:1]}))"
   ]
  },
  {
   "cell_type": "markdown",
   "id": "e7d17b0e-b03b-4a6a-8579-9c90a5696a42",
   "metadata": {},
   "source": [
    "Prediction:"
   ]
  },
  {
   "cell_type": "code",
   "execution_count": 80,
   "id": "b05edb4c-a97c-4d7a-b668-5f9598fb6b30",
   "metadata": {
    "ExecuteTime": {
     "end_time": "2024-03-16T15:06:17.983099Z",
     "start_time": "2024-03-16T15:06:09.391788Z"
    }
   },
   "outputs": [
    {
     "data": {
      "text/plain": "['  % Total    % Received % Xferd  Average Speed   Time    Time     Time  Current',\n '                                 Dload  Upload   Total   Spent    Left  Speed',\n '',\n '  0     0    0     0    0     0      0      0 --:--:-- --:--:-- --:--:--     0',\n '100  1231    0   438  100   793   1614   2922 --:--:-- --:--:-- --:--:--  4542',\n '{',\n '  \"predictions\": [',\n '    {',\n '      \"Class_values\": [',\n '        \"1\",',\n '        \"0\"',\n '      ],',\n '      \"predicted_Class\": [',\n '        \"0\"',\n '      ],',\n '      \"Class_probs\": [',\n '        0.107525295341668,',\n '        0.892474704658332',\n '      ]',\n '    }',\n '  ],',\n '  \"deployedModelId\": \"2082859852077465600\",',\n '  \"model\": \"projects/993073267534/locations/us-central1/models/bqml_logistic-regression\",',\n '  \"modelDisplayName\": \"bqml_logistic-regression\",',\n '  \"modelVersionId\": \"1\"',\n '}']"
     },
     "execution_count": 80,
     "metadata": {},
     "output_type": "execute_result"
    }
   ],
   "source": [
    "prediction = !curl -X POST \\\n",
    "-H \"Authorization: Bearer \"$(gcloud auth application-default print-access-token) \\\n",
    "-H \"Content-Type: application/json; charset=utf-8\" \\\n",
    "-d @{DIR}/request.json \\\n",
    "https://{REGION}-aiplatform.googleapis.com/v1/{endpoint.resource_name}:predict\n",
    "\n",
    "prediction"
   ]
  },
  {
   "cell_type": "markdown",
   "id": "463f9f13-615d-406a-9fe0-5c10313fdc53",
   "metadata": {},
   "source": [
    "Format raw prediction response using JSON:"
   ]
  },
  {
   "cell_type": "markdown",
   "id": "5f65a64b-a7ae-4382-a97b-e559f74ca790",
   "metadata": {},
   "source": [
    "### Get Predictions: gcloud (CLI)\n",
    "Reference:\n",
    "- [gcloud ai endpoints predict](https://cloud.google.com/sdk/gcloud/reference/ai/endpoints/predict)"
   ]
  },
  {
   "cell_type": "markdown",
   "id": "54716fd6-8185-4a9e-9a90-fc8f2a2c5a39",
   "metadata": {},
   "source": [
    "Prepare request:"
   ]
  },
  {
   "cell_type": "code",
   "execution_count": 81,
   "id": "1b72c8d2-ca52-45eb-b89b-723e21a4fb64",
   "metadata": {
    "ExecuteTime": {
     "end_time": "2024-03-16T15:06:18.020374Z",
     "start_time": "2024-03-16T15:06:17.982395Z"
    }
   },
   "outputs": [],
   "source": [
    "with open(f'{DIR}/request.json','w') as file:\n",
    "    file.write(json.dumps({\"instances\": newobs[0:1]}))"
   ]
  },
  {
   "cell_type": "markdown",
   "id": "692f1b38-c7b3-4415-98cb-6204fb9e62ae",
   "metadata": {},
   "source": [
    "Prediction:"
   ]
  },
  {
   "cell_type": "code",
   "execution_count": 82,
   "id": "9d83a53d-a94a-47b0-b93c-2f53b21c0ff1",
   "metadata": {
    "ExecuteTime": {
     "end_time": "2024-03-16T15:06:20.333613Z",
     "start_time": "2024-03-16T15:06:17.991974Z"
    }
   },
   "outputs": [
    {
     "data": {
      "text/plain": "['You do not currently have this command group installed.  Using it ',\n 'requires the installation of components: [beta]',\n '',\n '',\n 'Your current Google Cloud CLI version is: 463.0.0',\n 'Installing components from version: 463.0.0',\n '',\n '┌─────────────────────────────────────────────┐',\n '│     These components will be installed.     │',\n '├──────────────────────┬────────────┬─────────┤',\n '│         Name         │  Version   │   Size  │',\n '├──────────────────────┼────────────┼─────────┤',\n '│ gcloud Beta Commands │ 2024.02.02 │ < 1 MiB │',\n '└──────────────────────┴────────────┴─────────┘',\n '',\n 'For the latest full release notes, please visit:',\n '  https://cloud.google.com/sdk/release_notes',\n '',\n 'Do you want to continue (Y/n)?  ',\n 'ERROR: (gcloud) This prompt could not be answered because you are not in an interactive session.  You can re-run the command with the --quiet flag to accept default answers for all prompts.']"
     },
     "execution_count": 82,
     "metadata": {},
     "output_type": "execute_result"
    }
   ],
   "source": [
    "prediction = !gcloud beta ai endpoints predict {endpoint.name.rsplit('/',1)[-1]} --region={REGION} --json-request={DIR}/request.json\n",
    "prediction"
   ]
  },
  {
   "cell_type": "markdown",
   "id": "920ad164-98d4-4d81-8ccc-b54af6ef567e",
   "metadata": {},
   "source": [
    "---\n",
    "## Export Model\n",
    "\n",
    "The model created in BigQuery ML can be exported to their native model types save files.  This process saves the model artifacts in GCS where they can be use anywhere they are needed.  For instance, they could be imported into the Vertex AI Model Registry for use in online and batch serving - however, this process is automated with the training options use above."
   ]
  },
  {
   "cell_type": "markdown",
   "id": "03d5b4a5-4696-41c5-a6c8-920bab32d41c",
   "metadata": {},
   "source": [
    "### Export the BigQuery Model\n",
    "\n",
    "\n",
    "The models trained in BQML can be exported from BigQuery to GCS:\n",
    "\n",
    "Reference:\n",
    "- [Exporting Models](https://cloud.google.com/bigquery-ml/docs/exporting-models)"
   ]
  },
  {
   "cell_type": "code",
   "execution_count": 83,
   "id": "b1101869-7067-496c-a913-6da79e536c62",
   "metadata": {
    "ExecuteTime": {
     "end_time": "2024-03-16T15:06:38.946374Z",
     "start_time": "2024-03-16T15:06:20.333920Z"
    }
   },
   "outputs": [
    {
     "data": {
      "text/plain": "<google.cloud.bigquery.table._EmptyRowIterator at 0x7f84e1e3cbb0>"
     },
     "execution_count": 83,
     "metadata": {},
     "output_type": "execute_result"
    }
   ],
   "source": [
    "query = f\"\"\"\n",
    "EXPORT MODEL `{BQ_PROJECT}.{BQ_DATASET}.{BQ_MODEL}`\n",
    "    OPTIONS (URI = 'gs://{BUCKET}/{SERIES}/{EXPERIMENT}/models/{TIMESTAMP}/model')\n",
    "\"\"\"\n",
    "export = bq.query(query = query)\n",
    "export.result()"
   ]
  },
  {
   "cell_type": "code",
   "execution_count": 84,
   "id": "8f763ae4-565a-452f-921f-d0795c229315",
   "metadata": {
    "ExecuteTime": {
     "end_time": "2024-03-16T15:06:38.951815Z",
     "start_time": "2024-03-16T15:06:38.872558Z"
    }
   },
   "outputs": [
    {
     "data": {
      "text/plain": "17.754"
     },
     "execution_count": 84,
     "metadata": {},
     "output_type": "execute_result"
    }
   ],
   "source": [
    "(export.ended - export.started).total_seconds()"
   ]
  },
  {
   "cell_type": "code",
   "execution_count": 85,
   "id": "8c523ecb-b0da-4590-9a60-4da94da1051e",
   "metadata": {
    "ExecuteTime": {
     "end_time": "2024-03-16T15:06:38.974083Z",
     "start_time": "2024-03-16T15:06:38.894732Z"
    }
   },
   "outputs": [
    {
     "name": "stdout",
     "output_type": "stream",
     "text": [
      "View the export in the console:\n",
      "https://console.cloud.google.com/storage/browser/e2e-fraud-detection/bqml/logistic-regression/models/20240316092315/model?project=e2e-fraud-detection\n"
     ]
    }
   ],
   "source": [
    "print(f\"View the export in the console:\\nhttps://console.cloud.google.com/storage/browser/{BUCKET}/{SERIES}/{EXPERIMENT}/models/{TIMESTAMP}/model?project={PROJECT_ID}\")"
   ]
  },
  {
   "cell_type": "markdown",
   "id": "778eb0f5-0be5-4439-952d-83d7281ac24d",
   "metadata": {},
   "source": [
    "### Detect The Model Types Framework"
   ]
  },
  {
   "cell_type": "code",
   "execution_count": 88,
   "id": "8db83a4c-2ea0-486d-aee3-ba39331bbad1",
   "metadata": {
    "ExecuteTime": {
     "end_time": "2024-03-16T15:08:07.749352Z",
     "start_time": "2024-03-16T15:08:07.399955Z"
    }
   },
   "outputs": [
    {
     "name": "stdout",
     "output_type": "stream",
     "text": [
      "Model framework determined: TensorFlow\n"
     ]
    }
   ],
   "source": [
    "def determine_model_framework(bucket_name, prefix, service_account_path):\n",
    "    \"\"\"\n",
    "    Lists objects in a specified GCS bucket path, identifies model framework based on file extensions,\n",
    "    and ensures a single model framework is present.\n",
    "\n",
    "    Args:\n",
    "        bucket_name (str): The name of the GCS bucket.\n",
    "        prefix (str): The GCS path prefix to list objects from.\n",
    "        service_account_path (str): The file path to the service account key file.\n",
    "    \n",
    "    Returns:\n",
    "        The model framework if determined uniquely, otherwise raises an error.\n",
    "    \"\"\"\n",
    "    from google.oauth2 import service_account\n",
    "    from google.cloud import storage\n",
    "    # Authenticate with the service account\n",
    "    credentials = service_account.Credentials.from_service_account_file(service_account_path)\n",
    "    storage_client = storage.Client(credentials=credentials)\n",
    "    bucket = storage_client.bucket(bucket_name)\n",
    "\n",
    "    # Mapping of file extensions to model frameworks\n",
    "    filetype = {'pb': 'TensorFlow', 'bst': 'XGBoost'}\n",
    "\n",
    "    # List objects in the bucket with the specified prefix\n",
    "    blobs = bucket.list_blobs(prefix=prefix)\n",
    "    filenames = [blob.name for blob in blobs]\n",
    "\n",
    "    # Determine model frameworks based on file extensions in the listing\n",
    "    filetypes = [filetype[os.path.splitext(f)[1][1:]] for f in filenames if os.path.splitext(f)[1][1:] in filetype]\n",
    "\n",
    "    # Ensure a single model framework is present\n",
    "    if len(set(filetypes)) == 1:\n",
    "        framework = filetypes[0]\n",
    "        print(f'Model framework determined: {framework}')\n",
    "        return framework\n",
    "    else:\n",
    "        error_msg = f\"Model Type Undetermined! Multiple or no model frameworks found: {set(filetypes)}\"\n",
    "        raise TypeError(error_msg)\n",
    "\n",
    "# Example usage\n",
    "bucket_name = BUCKET\n",
    "prefix = f'{SERIES}/{EXPERIMENT}/models/{TIMESTAMP}/model'\n",
    "service_account_path = GOOGLE_APPLICATION_CREDENTIALS\n",
    "\n",
    "try:\n",
    "    framework = determine_model_framework(bucket_name, prefix, service_account_path)\n",
    "except TypeError as e:\n",
    "    print(e)\n"
   ]
  },
  {
   "cell_type": "markdown",
   "id": "123de839",
   "metadata": {},
   "source": [
    "---\n",
    "## Remove Resources\n",
    "\n",
    "The following cells have commented out statements that can be used to remove resources created by this notebook.  Other notebooks in the repository will reusue the same endpoint so it may be desired to not remove the endpoint if you plan to run additional notebooks.  Otherwise, please removed the endpoint to prevent ongoing cost from hosting the models on Vertex AI Endpoints.\n",
    "\n",
    "Similarly, if you want to remove the model from BQML to prevent the minimal storage cost it will automatically be removed from Vertex AI Model Registry as well."
   ]
  },
  {
   "cell_type": "code",
   "execution_count": 87,
   "id": "c384a8ed-f513-46b3-9ff4-f4773a61d33e",
   "metadata": {
    "ExecuteTime": {
     "end_time": "2024-03-16T15:06:39.297423Z",
     "start_time": "2024-03-16T15:06:39.259928Z"
    }
   },
   "outputs": [],
   "source": [
    "# delete endpoint, use `force` incase models are deployed or undeploy them first\n",
    "#endpoint.delete(force = True)"
   ]
  },
  {
   "cell_type": "code",
   "execution_count": null,
   "id": "4574595b-3b47-42b8-8edb-73639205e0e2",
   "metadata": {
    "ExecuteTime": {
     "start_time": "2024-03-16T14:37:46.810523Z"
    }
   },
   "outputs": [],
   "source": [
    "# delete models created in BQ with BQML - this also removes them from Vertex AI Model Registry\n",
    "#bq.delete_model(model)"
   ]
  },
  {
   "cell_type": "code",
   "execution_count": null,
   "id": "f0276fe2-49b4-4c87-9e1f-52707dbd47ad",
   "metadata": {},
   "outputs": [],
   "source": []
  }
 ],
 "metadata": {
  "environment": {
   "kernel": "python3",
   "name": "tf2-gpu.2-11.m104",
   "type": "gcloud",
   "uri": "gcr.io/deeplearning-platform-release/tf2-gpu.2-11:m104"
  },
  "kernelspec": {
   "display_name": "Python 3 (ipykernel)",
   "language": "python",
   "name": "python3"
  },
  "language_info": {
   "codemirror_mode": {
    "name": "ipython",
    "version": 3
   },
   "file_extension": ".py",
   "mimetype": "text/x-python",
   "name": "python",
   "nbconvert_exporter": "python",
   "pygments_lexer": "ipython3",
   "version": "3.7.12"
  }
 },
 "nbformat": 4,
 "nbformat_minor": 5
}
