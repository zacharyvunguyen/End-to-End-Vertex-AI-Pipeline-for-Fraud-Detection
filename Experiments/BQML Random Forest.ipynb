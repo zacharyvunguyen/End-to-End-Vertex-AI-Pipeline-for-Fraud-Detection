{
 "cells": [
  {
   "cell_type": "markdown",
   "id": "423ed02a-f6fd-4a0c-b251-eeae4ed3dda9",
   "metadata": {},
   "source": [
    "# 03c - BigQuery ML (BQML) - Random Forest For Classification\n",
    "\n",
    "In this notebook, BigQuery ML (BQML) is used to create a random forest model (using XGBoost).\n",
    "\n",
    "**Random Forest**\n",
    "\n",
    "A random forest model is an ensemble of decision trees using bagging:\n",
    "- Decision Tree: A supervised learning approach which finds splits in features that represent decisions on predicted level of the target variable.\n",
    "- Ensemble of Trees: Combining trees to form the sum of predictions from multiple trees \n",
    "- Bagging: Parallel training on a random subset of data (observations and features) done with replacement (each subset is randomly sampled from the full set)"
   ]
  },
  {
   "cell_type": "markdown",
   "id": "25e47252-397c-4c3a-a614-620af1e2c4a2",
   "metadata": {},
   "source": [
    "---\n",
    "## Setup"
   ]
  },
  {
   "cell_type": "markdown",
   "id": "01f73f31-8117-4032-8fe9-52e7c2e976dd",
   "metadata": {},
   "source": [
    "inputs:"
   ]
  },
  {
   "cell_type": "code",
   "outputs": [],
   "source": [
    "import os\n",
    "GOOGLE_APPLICATION_CREDENTIALS = \"/Users/zacharynguyen/Documents/GitHub/2024/End-to-End-Vertex-AI-Pipeline-for-Fraud-Detection/key/e2e-fraud-detection-debf1c9863af.json\"\n",
    "os.environ[\"GOOGLE_APPLICATION_CREDENTIALS\"] = GOOGLE_APPLICATION_CREDENTIALS"
   ],
   "metadata": {
    "collapsed": false,
    "ExecuteTime": {
     "end_time": "2024-03-15T22:54:18.074326Z",
     "start_time": "2024-03-15T22:54:18.062946Z"
    }
   },
   "id": "11da2375f1e47a70",
   "execution_count": 1
  },
  {
   "cell_type": "code",
   "execution_count": 7,
   "id": "f0a63657-961f-4d6f-90b2-617154abd515",
   "metadata": {
    "ExecuteTime": {
     "end_time": "2024-03-15T22:56:41.145488Z",
     "start_time": "2024-03-15T22:56:41.083095Z"
    }
   },
   "outputs": [],
   "source": [
    "PROJECT_ID = 'e2e-fraud-detection'\n",
    "REGION = 'us-central1'\n",
    "EXPERIMENT = 'random-forest'\n",
    "SERIES = 'bqml'\n",
    "\n",
    "# source data\n",
    "BQ_PROJECT = PROJECT_ID\n",
    "BQ_DATASET = 'fraud_dataset'\n",
    "BQ_TABLE = 'prepped-data'\n",
    "\n",
    "# Resources for serving BigQuery Model Exports\n",
    "TF_DEPLOY_IMAGE = 'us-docker.pkg.dev/vertex-ai/prediction/tf2-cpu.2-3:latest'\n",
    "XGB_DEPLOY_IMAGE = 'us-docker.pkg.dev/vertex-ai/prediction/xgboost-cpu.0-82:latest'\n",
    "\n",
    "# Resources for serving BigQuery Model Exports\n",
    "DEPLOY_COMPUTE = 'n1-standard-4'\n",
    "\n",
    "# Model Training\n",
    "VAR_TARGET = 'Class'\n",
    "VAR_OMIT = 'transaction_id' # add more variables to the string with space delimiters"
   ]
  },
  {
   "cell_type": "markdown",
   "id": "c82de065-bfd9-4107-a71a-731727129a3f",
   "metadata": {},
   "source": [
    "packages:"
   ]
  },
  {
   "cell_type": "code",
   "execution_count": 8,
   "id": "a6431936-35e5-49d9-a905-ec76ac36c6d8",
   "metadata": {
    "ExecuteTime": {
     "end_time": "2024-03-15T22:56:42.674895Z",
     "start_time": "2024-03-15T22:56:42.598201Z"
    }
   },
   "outputs": [],
   "source": [
    "from google.cloud import bigquery\n",
    "from google.cloud import aiplatform\n",
    "from datetime import datetime\n",
    "import matplotlib.pyplot as plt\n",
    "from sklearn import metrics\n",
    "import numpy as np\n",
    "\n",
    "from google.api import httpbody_pb2\n",
    "import json"
   ]
  },
  {
   "cell_type": "markdown",
   "id": "d733d37c-2801-4bf5-a266-c4a7fe5357ed",
   "metadata": {},
   "source": [
    "clients:"
   ]
  },
  {
   "cell_type": "code",
   "execution_count": 9,
   "id": "ffc52eaf-fd70-4e76-a08f-af32dfe8bed6",
   "metadata": {
    "ExecuteTime": {
     "end_time": "2024-03-15T22:56:44.142427Z",
     "start_time": "2024-03-15T22:56:44.039548Z"
    }
   },
   "outputs": [],
   "source": [
    "bq = bigquery.Client(project = PROJECT_ID)\n",
    "aiplatform.init(project = PROJECT_ID, location = REGION)"
   ]
  },
  {
   "cell_type": "markdown",
   "id": "b9514028-bb15-4412-920e-9e813e98afc3",
   "metadata": {},
   "source": [
    "parameters:"
   ]
  },
  {
   "cell_type": "code",
   "execution_count": 10,
   "id": "bb4d3bff-9bf9-43e1-ac3b-c4b511b427dd",
   "metadata": {
    "ExecuteTime": {
     "end_time": "2024-03-15T22:56:45.894517Z",
     "start_time": "2024-03-15T22:56:45.663600Z"
    }
   },
   "outputs": [],
   "source": [
    "TIMESTAMP = datetime.now().strftime(\"%Y%m%d%H%M%S\")\n",
    "BUCKET = PROJECT_ID\n",
    "URI = f\"gs://{BUCKET}/{SERIES}/{EXPERIMENT}\"\n",
    "RUN_NAME = f'run-{TIMESTAMP}'\n",
    "\n",
    "BQ_MODEL = f'{SERIES}_{EXPERIMENT}_{TIMESTAMP}'\n"
   ]
  },
  {
   "cell_type": "code",
   "outputs": [
    {
     "name": "stdout",
     "output_type": "stream",
     "text": [
      "Project and Environment Details:\n",
      "- PROJECT_ID: e2e-fraud-detection\n",
      "- REGION: us-central1\n",
      "- EXPERIMENT: random-forest\n",
      "- SERIES: bqml\n",
      "\n",
      "BigQuery Source Data:\n",
      "- BQ_PROJECT: e2e-fraud-detection\n",
      "- BQ_DATASET: fraud_dataset\n",
      "- BQ_TABLE: prepped-data\n",
      "\n",
      "Resources for Model Deployment:\n",
      "- TF_DEPLOY_IMAGE: us-docker.pkg.dev/vertex-ai/prediction/tf2-cpu.2-3:latest\n",
      "- XGB_DEPLOY_IMAGE: us-docker.pkg.dev/vertex-ai/prediction/xgboost-cpu.0-82:latest\n",
      "- DEPLOY_COMPUTE: n1-standard-4\n",
      "\n",
      "Model Training Details:\n",
      "- VAR_TARGET: Class\n",
      "- VAR_OMIT: transaction_id\n",
      "\n",
      "Generated Names and URIs:\n",
      "- TIMESTAMP: 20240315175645\n",
      "- BUCKET: e2e-fraud-detection\n",
      "- URI: gs://e2e-fraud-detection/bqml/random-forest\n",
      "- RUN_NAME: run-20240315175645\n",
      "- BQ_MODEL: bqml_random-forest_20240315175645\n"
     ]
    }
   ],
   "source": [
    "print(f\"Project and Environment Details:\\n- PROJECT_ID: {PROJECT_ID}\\n- REGION: {REGION}\\n- EXPERIMENT: {EXPERIMENT}\\n- SERIES: {SERIES}\\n\")\n",
    "print(f\"BigQuery Source Data:\\n- BQ_PROJECT: {BQ_PROJECT}\\n- BQ_DATASET: {BQ_DATASET}\\n- BQ_TABLE: {BQ_TABLE}\\n\")\n",
    "print(f\"Resources for Model Deployment:\\n- TF_DEPLOY_IMAGE: {TF_DEPLOY_IMAGE}\\n- XGB_DEPLOY_IMAGE: {XGB_DEPLOY_IMAGE}\\n- DEPLOY_COMPUTE: {DEPLOY_COMPUTE}\\n\")\n",
    "print(f\"Model Training Details:\\n- VAR_TARGET: {VAR_TARGET}\\n- VAR_OMIT: {VAR_OMIT}\\n\")\n",
    "print(f\"Generated Names and URIs:\\n- TIMESTAMP: {TIMESTAMP}\\n- BUCKET: {BUCKET}\\n- URI: {URI}\\n- RUN_NAME: {RUN_NAME}\\n- BQ_MODEL: {BQ_MODEL}\\n\")"
   ],
   "metadata": {
    "collapsed": false,
    "ExecuteTime": {
     "end_time": "2024-03-15T22:56:47.324438Z",
     "start_time": "2024-03-15T22:56:47.203859Z"
    }
   },
   "id": "9c5aa0b095a47480",
   "execution_count": 11
  },
  {
   "cell_type": "markdown",
   "id": "4045e724-e46c-47b6-847a-935d0e039f6b",
   "metadata": {},
   "source": [
    "environment:"
   ]
  },
  {
   "cell_type": "code",
   "execution_count": 12,
   "id": "85512469-b11f-465c-b237-3427ba6a6f7e",
   "metadata": {
    "ExecuteTime": {
     "end_time": "2024-03-15T23:01:37.991858Z",
     "start_time": "2024-03-15T23:01:37.633812Z"
    }
   },
   "outputs": [],
   "source": [
    "DIR = f\"temp/{EXPERIMENT}\"\n",
    "\n",
    "!rm -rf {DIR}\n",
    "!mkdir -p {DIR}"
   ]
  },
  {
   "cell_type": "markdown",
   "id": "477616f4-83f9-4a98-8916-f283e33ccde6",
   "metadata": {},
   "source": [
    "Review the number of records for each level of Class (VAR_TARGET) for each of the data splits:"
   ]
  },
  {
   "cell_type": "code",
   "execution_count": 13,
   "id": "1850803a-7de6-4a95-8f82-a64593210beb",
   "metadata": {
    "ExecuteTime": {
     "end_time": "2024-03-15T23:01:43.460019Z",
     "start_time": "2024-03-15T23:01:41.311287Z"
    }
   },
   "outputs": [
    {
     "data": {
      "text/plain": "     splits  Class       n\n0      TEST      0   28435\n1      TEST      1      46\n2     TRAIN      0  227497\n3     TRAIN      1     400\n4  VALIDATE      0   28383\n5  VALIDATE      1      46",
      "text/html": "<div>\n<style scoped>\n    .dataframe tbody tr th:only-of-type {\n        vertical-align: middle;\n    }\n\n    .dataframe tbody tr th {\n        vertical-align: top;\n    }\n\n    .dataframe thead th {\n        text-align: right;\n    }\n</style>\n<table border=\"1\" class=\"dataframe\">\n  <thead>\n    <tr style=\"text-align: right;\">\n      <th></th>\n      <th>splits</th>\n      <th>Class</th>\n      <th>n</th>\n    </tr>\n  </thead>\n  <tbody>\n    <tr>\n      <th>0</th>\n      <td>TEST</td>\n      <td>0</td>\n      <td>28435</td>\n    </tr>\n    <tr>\n      <th>1</th>\n      <td>TEST</td>\n      <td>1</td>\n      <td>46</td>\n    </tr>\n    <tr>\n      <th>2</th>\n      <td>TRAIN</td>\n      <td>0</td>\n      <td>227497</td>\n    </tr>\n    <tr>\n      <th>3</th>\n      <td>TRAIN</td>\n      <td>1</td>\n      <td>400</td>\n    </tr>\n    <tr>\n      <th>4</th>\n      <td>VALIDATE</td>\n      <td>0</td>\n      <td>28383</td>\n    </tr>\n    <tr>\n      <th>5</th>\n      <td>VALIDATE</td>\n      <td>1</td>\n      <td>46</td>\n    </tr>\n  </tbody>\n</table>\n</div>"
     },
     "execution_count": 13,
     "metadata": {},
     "output_type": "execute_result"
    }
   ],
   "source": [
    "query = f\"\"\"\n",
    "SELECT splits, {VAR_TARGET}, count(*) as n\n",
    "FROM `{BQ_PROJECT}.{BQ_DATASET}.{BQ_TABLE}`\n",
    "GROUP BY splits, {VAR_TARGET}\n",
    "\"\"\"\n",
    "bq.query(query = query).to_dataframe()"
   ]
  },
  {
   "cell_type": "markdown",
   "id": "b18b1556-be4e-440d-b839-4bb160d450a1",
   "metadata": {},
   "source": [
    "Further review the balance of the target variable (VAR_TARGET) for each split as a percentage of the split:"
   ]
  },
  {
   "cell_type": "code",
   "execution_count": 14,
   "id": "ea363ce8-c793-4233-9727-96e6573d99e8",
   "metadata": {
    "ExecuteTime": {
     "end_time": "2024-03-15T23:02:06.033838Z",
     "start_time": "2024-03-15T23:02:03.442499Z"
    }
   },
   "outputs": [
    {
     "data": {
      "text/plain": "     splits  Class       n   total  n_pct_class  n_pct_split  class_pct_total\n0     TRAIN      0  227497  284807     0.800158     0.998245         0.998273\n1     TRAIN      1     400  284807     0.813008     0.001755         0.001727\n2      TEST      0   28435  284807     0.100012     0.998385         0.998273\n3      TEST      1      46  284807     0.093496     0.001615         0.001727\n4  VALIDATE      0   28383  284807     0.099829     0.998382         0.998273\n5  VALIDATE      1      46  284807     0.093496     0.001618         0.001727",
      "text/html": "<div>\n<style scoped>\n    .dataframe tbody tr th:only-of-type {\n        vertical-align: middle;\n    }\n\n    .dataframe tbody tr th {\n        vertical-align: top;\n    }\n\n    .dataframe thead th {\n        text-align: right;\n    }\n</style>\n<table border=\"1\" class=\"dataframe\">\n  <thead>\n    <tr style=\"text-align: right;\">\n      <th></th>\n      <th>splits</th>\n      <th>Class</th>\n      <th>n</th>\n      <th>total</th>\n      <th>n_pct_class</th>\n      <th>n_pct_split</th>\n      <th>class_pct_total</th>\n    </tr>\n  </thead>\n  <tbody>\n    <tr>\n      <th>0</th>\n      <td>TRAIN</td>\n      <td>0</td>\n      <td>227497</td>\n      <td>284807</td>\n      <td>0.800158</td>\n      <td>0.998245</td>\n      <td>0.998273</td>\n    </tr>\n    <tr>\n      <th>1</th>\n      <td>TRAIN</td>\n      <td>1</td>\n      <td>400</td>\n      <td>284807</td>\n      <td>0.813008</td>\n      <td>0.001755</td>\n      <td>0.001727</td>\n    </tr>\n    <tr>\n      <th>2</th>\n      <td>TEST</td>\n      <td>0</td>\n      <td>28435</td>\n      <td>284807</td>\n      <td>0.100012</td>\n      <td>0.998385</td>\n      <td>0.998273</td>\n    </tr>\n    <tr>\n      <th>3</th>\n      <td>TEST</td>\n      <td>1</td>\n      <td>46</td>\n      <td>284807</td>\n      <td>0.093496</td>\n      <td>0.001615</td>\n      <td>0.001727</td>\n    </tr>\n    <tr>\n      <th>4</th>\n      <td>VALIDATE</td>\n      <td>0</td>\n      <td>28383</td>\n      <td>284807</td>\n      <td>0.099829</td>\n      <td>0.998382</td>\n      <td>0.998273</td>\n    </tr>\n    <tr>\n      <th>5</th>\n      <td>VALIDATE</td>\n      <td>1</td>\n      <td>46</td>\n      <td>284807</td>\n      <td>0.093496</td>\n      <td>0.001618</td>\n      <td>0.001727</td>\n    </tr>\n  </tbody>\n</table>\n</div>"
     },
     "execution_count": 14,
     "metadata": {},
     "output_type": "execute_result"
    }
   ],
   "source": [
    "query = f\"\"\"\n",
    "WITH\n",
    "    COUNTS as (SELECT splits, {VAR_TARGET}, count(*) as n FROM `{BQ_PROJECT}.{BQ_DATASET}.{BQ_TABLE}` GROUP BY splits, {VAR_TARGET})\n",
    "    \n",
    "SELECT *,\n",
    "    SUM(n) OVER() as total,\n",
    "    SAFE_DIVIDE(n, SUM(n) OVER(PARTITION BY {VAR_TARGET})) as n_pct_class,\n",
    "    SAFE_DIVIDE(n, SUM(n) OVER(PARTITION BY splits)) as n_pct_split,\n",
    "    SAFE_DIVIDE(SUM(n) OVER(PARTITION BY {VAR_TARGET}), SUM(n) OVER()) as class_pct_total\n",
    "FROM COUNTS\n",
    "\"\"\"\n",
    "review = bq.query(query = query).to_dataframe()\n",
    "review"
   ]
  },
  {
   "cell_type": "markdown",
   "id": "a4e476e3-124c-4539-b9d3-5570f737bfcf",
   "metadata": {},
   "source": [
    "---\n",
    "## This Run"
   ]
  },
  {
   "cell_type": "code",
   "execution_count": 15,
   "id": "851a0776-ba51-484f-80ed-4f7b42778510",
   "metadata": {
    "ExecuteTime": {
     "end_time": "2024-03-15T23:02:06.061955Z",
     "start_time": "2024-03-15T23:02:06.030875Z"
    }
   },
   "outputs": [
    {
     "name": "stdout",
     "output_type": "stream",
     "text": [
      "This run will create BQML model: e2e-fraud-detection.fraud_dataset.bqml_random-forest_20240315175645\n",
      "This run will create Vertex AI model: e2e-fraud-detection.fraud_dataset.bqml_random-forest\n",
      "The runs timestamp Is: 20240315175645\n"
     ]
    }
   ],
   "source": [
    "print(f'This run will create BQML model: {BQ_PROJECT}.{BQ_DATASET}.{BQ_MODEL}')\n",
    "print(f'This run will create Vertex AI model: {BQ_PROJECT}.{BQ_DATASET}.{SERIES}_{EXPERIMENT}')\n",
    "print(f'The runs timestamp Is: {TIMESTAMP}')"
   ]
  },
  {
   "cell_type": "markdown",
   "id": "632a0d6f-e4fa-40e8-a4ed-813404c3f026",
   "metadata": {},
   "source": [
    "---\n",
    "## Train Model\n",
    "\n",
    "Use BigQuery ML to train multiclass random forest model using XGBoost:\n",
    "- [Random Forest](https://cloud.google.com/bigquery-ml/docs/reference/standard-sql/bigqueryml-syntax-create-random-forest) with BigQuery ML (BQML)\n",
    "- This uses the `splits` column that notebook `01` created\n",
    "- `data_split_method = CUSTOM` uses the column in `data_split_col` to assign training data for `FALSE` values and evaluation data for `TRUE` values.\n",
    "    - in this example the `WHERE splits != 'TEST'` statement filters out the test data and\n",
    "    - the `CASE` statement maps training data to FALSE and validation data to TRUE\n",
    "    \n",
    "This example includes the [training options](https://cloud.google.com/bigquery-ml/docs/create_vertex) to register the resulting model in the [Vertex AI Model Registry](https://cloud.google.com/vertex-ai/docs/model-registry/introduction)."
   ]
  },
  {
   "cell_type": "code",
   "execution_count": 16,
   "id": "c73ea6dd-7ec8-46dd-aca2-699f6c72ef8e",
   "metadata": {
    "ExecuteTime": {
     "end_time": "2024-03-15T23:02:08.392141Z",
     "start_time": "2024-03-15T23:02:08.286159Z"
    }
   },
   "outputs": [
    {
     "name": "stdout",
     "output_type": "stream",
     "text": [
      "\n",
      "CREATE OR REPLACE MODEL `e2e-fraud-detection.fraud_dataset.bqml_random-forest_20240315175645`\n",
      "OPTIONS\n",
      "    (model_type = 'RANDOM_FOREST_CLASSIFIER',\n",
      "        auto_class_weights = TRUE,\n",
      "        input_label_cols = ['Class'],\n",
      "        enable_global_explain = TRUE,\n",
      "        data_split_col = 'custom_splits',\n",
      "        data_split_method = 'CUSTOM',\n",
      "        num_parallel_tree = 200,\n",
      "        #early_stop = TRUE,\n",
      "        #min_rel_progress = 0.01,\n",
      "        tree_method = 'HIST',\n",
      "        subsample = 0.85,\n",
      "        colsample_bytree = 0.9,\n",
      "        MODEL_REGISTRY = 'VERTEX_AI',\n",
      "        VERTEX_AI_MODEL_ID = 'bqml_random-forest',\n",
      "        VERTEX_AI_MODEL_VERSION_ALIASES = ['run-20240315175645']\n",
      "    ) AS\n",
      "SELECT * EXCEPT(transaction_id, splits),\n",
      "    CASE\n",
      "        WHEN splits = 'TRAIN' THEN FALSE\n",
      "        ELSE TRUE\n",
      "    END AS custom_splits\n",
      "FROM `e2e-fraud-detection.fraud_dataset.prepped-data`\n",
      "WHERE splits != 'TEST'\n"
     ]
    }
   ],
   "source": [
    "query = f\"\"\"\n",
    "CREATE OR REPLACE MODEL `{BQ_PROJECT}.{BQ_DATASET}.{BQ_MODEL}`\n",
    "OPTIONS\n",
    "    (model_type = 'RANDOM_FOREST_CLASSIFIER',\n",
    "        auto_class_weights = TRUE,\n",
    "        input_label_cols = ['{VAR_TARGET}'],\n",
    "        enable_global_explain = TRUE,\n",
    "        data_split_col = 'custom_splits',\n",
    "        data_split_method = 'CUSTOM',\n",
    "        num_parallel_tree = 200,\n",
    "        #early_stop = TRUE,\n",
    "        #min_rel_progress = 0.01,\n",
    "        tree_method = 'HIST',\n",
    "        subsample = 0.85,\n",
    "        colsample_bytree = 0.9,\n",
    "        MODEL_REGISTRY = 'VERTEX_AI',\n",
    "        VERTEX_AI_MODEL_ID = '{SERIES}_{EXPERIMENT}',\n",
    "        VERTEX_AI_MODEL_VERSION_ALIASES = ['{RUN_NAME}']\n",
    "    ) AS\n",
    "SELECT * EXCEPT({','.join(VAR_OMIT.split())}, splits),\n",
    "    CASE\n",
    "        WHEN splits = 'TRAIN' THEN FALSE\n",
    "        ELSE TRUE\n",
    "    END AS custom_splits\n",
    "FROM `{BQ_PROJECT}.{BQ_DATASET}.{BQ_TABLE}`\n",
    "WHERE splits != 'TEST'\n",
    "\"\"\"\n",
    "print(query)"
   ]
  },
  {
   "cell_type": "code",
   "execution_count": 17,
   "id": "118cf076-90f1-403c-9d8e-1ae6b1907426",
   "metadata": {
    "ExecuteTime": {
     "end_time": "2024-03-15T23:11:11.967034Z",
     "start_time": "2024-03-15T23:02:09.403883Z"
    }
   },
   "outputs": [
    {
     "data": {
      "text/plain": "<google.cloud.bigquery.table._EmptyRowIterator at 0x7fb33b5b01f0>"
     },
     "execution_count": 17,
     "metadata": {},
     "output_type": "execute_result"
    }
   ],
   "source": [
    "job = bq.query(query = query)\n",
    "job.result()"
   ]
  },
  {
   "cell_type": "code",
   "execution_count": 18,
   "id": "e3a6b5f1",
   "metadata": {
    "ExecuteTime": {
     "end_time": "2024-03-15T23:11:11.997423Z",
     "start_time": "2024-03-15T23:11:11.965176Z"
    }
   },
   "outputs": [
    {
     "data": {
      "text/plain": "527.542"
     },
     "execution_count": 18,
     "metadata": {},
     "output_type": "execute_result"
    }
   ],
   "source": [
    "(job.ended-job.started).total_seconds()"
   ]
  },
  {
   "cell_type": "code",
   "execution_count": 19,
   "id": "de17d955-6c31-46e6-8fb5-f9fc44be2257",
   "metadata": {
    "ExecuteTime": {
     "end_time": "2024-03-15T23:11:12.038824Z",
     "start_time": "2024-03-15T23:11:11.970797Z"
    }
   },
   "outputs": [
    {
     "data": {
      "text/plain": "19921332932"
     },
     "execution_count": 19,
     "metadata": {},
     "output_type": "execute_result"
    }
   ],
   "source": [
    "job.total_bytes_processed"
   ]
  },
  {
   "cell_type": "markdown",
   "id": "9803c8a1-441c-48d3-b01d-126e8d93d6bf",
   "metadata": {},
   "source": [
    "Add labels to the model in BigQuery:"
   ]
  },
  {
   "cell_type": "code",
   "execution_count": 20,
   "id": "13d696f2-a277-422c-9cb0-f2ea8b5b242f",
   "metadata": {
    "ExecuteTime": {
     "end_time": "2024-03-15T23:11:12.302173Z",
     "start_time": "2024-03-15T23:11:11.979049Z"
    }
   },
   "outputs": [],
   "source": [
    "model = bq.get_model(f'{BQ_PROJECT}.{BQ_DATASET}.{BQ_MODEL}')\n",
    "model.labels = {'series' : f'{SERIES}', 'experiment' : f'{EXPERIMENT}','timestamp' : f'{TIMESTAMP}'}\n",
    "model = bq.update_model(model, ['labels'])"
   ]
  },
  {
   "cell_type": "markdown",
   "id": "295f79dc-efe3-4c1f-a2a5-8493f42f060f",
   "metadata": {},
   "source": [
    "### Check out this model in BigQuery Console:\n",
    "- Make sure project selected is the one from this notebook\n",
    "- Under Explore, expand this project and dataset\n",
    "- Expand Models and select the model create here"
   ]
  },
  {
   "cell_type": "code",
   "execution_count": 21,
   "id": "2e612ea8-ff94-4100-8293-5e2d691cfc69",
   "metadata": {
    "ExecuteTime": {
     "end_time": "2024-03-15T23:11:12.331458Z",
     "start_time": "2024-03-15T23:11:12.304079Z"
    }
   },
   "outputs": [
    {
     "name": "stdout",
     "output_type": "stream",
     "text": [
      "BigQuery Console for Project:\n",
      "https://console.cloud.google.com/bigquery?project=e2e-fraud-detection\n"
     ]
    }
   ],
   "source": [
    "print(f'BigQuery Console for Project:\\nhttps://console.cloud.google.com/bigquery?project={PROJECT_ID}')"
   ]
  },
  {
   "cell_type": "code",
   "execution_count": 22,
   "id": "a70136c5-da05-4083-b45e-1c19d4a32c3c",
   "metadata": {
    "ExecuteTime": {
     "end_time": "2024-03-15T23:11:12.339457Z",
     "start_time": "2024-03-15T23:11:12.308199Z"
    }
   },
   "outputs": [
    {
     "name": "stdout",
     "output_type": "stream",
     "text": [
      "Direct link to the model in BigQuery:\n",
      "https://console.cloud.google.com/bigquery?project=e2e-fraud-detection&ws=!1m5!1m4!5m3!1se2e-fraud-detection!2sfraud_dataset!3sbqml_random-forest_20240315175645\n"
     ]
    }
   ],
   "source": [
    "print(f'Direct link to the model in BigQuery:\\nhttps://console.cloud.google.com/bigquery?project={PROJECT_ID}&ws=!1m5!1m4!5m3!1s{PROJECT_ID}!2s{BQ_DATASET}!3s{BQ_MODEL}')"
   ]
  },
  {
   "cell_type": "markdown",
   "id": "986583a9-ba11-4631-81e4-fe00e599df34",
   "metadata": {},
   "source": [
    "### Check out this model in the Vertex AI Model Registry"
   ]
  },
  {
   "cell_type": "code",
   "execution_count": 23,
   "id": "c3a7c3c4-b473-4dcb-8e00-b399982a0673",
   "metadata": {
    "ExecuteTime": {
     "end_time": "2024-03-15T23:11:12.357248Z",
     "start_time": "2024-03-15T23:11:12.316222Z"
    }
   },
   "outputs": [],
   "source": [
    "#print(f'Review the model in the Vertex AI Model Registry:\\nhttps://console.cloud.google.com/vertex-ai/locations/{REGION}/models/{BQ_MODEL}?project={PROJECT_ID}')"
   ]
  },
  {
   "cell_type": "markdown",
   "id": "63b9817b-76ae-4689-84ac-d1d027f82462",
   "metadata": {},
   "source": [
    "### Feature and Training Review"
   ]
  },
  {
   "cell_type": "markdown",
   "id": "1973a992-b888-48b5-9f5d-9947a1ab89bc",
   "metadata": {},
   "source": [
    "Review the Model Inputs, the feature information, with [ML.FEATURE_INFO](https://cloud.google.com/bigquery-ml/docs/reference/standard-sql/bigqueryml-syntax-feature):"
   ]
  },
  {
   "cell_type": "code",
   "execution_count": 24,
   "id": "36427328-d9da-48ef-9747-daa093bd7793",
   "metadata": {
    "ExecuteTime": {
     "end_time": "2024-03-15T23:11:13.477461Z",
     "start_time": "2024-03-15T23:11:12.321317Z"
    }
   },
   "outputs": [
    {
     "data": {
      "text/plain": "     input        min            max          mean        median  \\\n0     Time   0.000000  172792.000000  94822.243592  85057.000000   \n1       V1 -56.407510       2.446505     -0.000736      0.049426   \n2       V2 -72.715728      22.057729     -0.000056      0.072494   \n3       V3 -32.965346       9.382558      0.000062      0.185541   \n4       V4  -5.683171      16.875344      0.002923     -0.035098   \n5       V5 -42.147898      34.801666      0.002895     -0.055980   \n6       V6 -26.160506      23.917837     -0.002217     -0.279390   \n7       V7 -43.557242      44.054461      0.001489      0.036415   \n8       V8 -73.216718      20.007208     -0.000523      0.019409   \n9       V9 -13.434066      15.594995     -0.001416     -0.061607   \n10     V10 -24.588262      23.745136      0.001133     -0.098959   \n11     V11  -4.797473      11.619723     -0.001210     -0.034597   \n12     V12 -18.683715       7.848392     -0.000622      0.136940   \n13     V13  -5.791881       4.569009     -0.000502     -0.011233   \n14     V14 -18.822087      10.526766      0.001318      0.042688   \n15     V15  -4.391307       5.784514     -0.001165      0.037725   \n16     V16 -14.129855       8.289890     -0.000800      0.064271   \n17     V17 -25.162799       9.253526     -0.000732     -0.071329   \n18     V18  -9.498746       5.041069     -0.001094     -0.006473   \n19     V19  -7.213527       5.591971      0.000869     -0.002998   \n20     V20 -28.009635      39.420904      0.000199     -0.061892   \n21     V21 -34.830382      27.202839      0.000315     -0.033546   \n22     V22 -10.933144      10.503090      0.000775      0.010605   \n23     V23 -44.807735      22.528412     -0.000453     -0.012481   \n24     V24  -2.824849       4.022866      0.000211      0.038500   \n25     V25 -10.295397       7.519589      0.001376      0.009221   \n26     V26  -2.604551       3.517346     -0.000703     -0.053060   \n27     V27 -22.565679      11.135740     -0.000671      0.000330   \n28     V28 -11.710896      33.847808      0.000089      0.011169   \n29  Amount   0.000000   19656.530000     88.081451     21.380000   \n\n          stddev  category_count  null_count  dimension  \n0   47468.021107            <NA>           0       <NA>  \n1       1.960462            <NA>           0       <NA>  \n2       1.654712            <NA>           0       <NA>  \n3       1.513369            <NA>           0       <NA>  \n4       1.417278            <NA>           0       <NA>  \n5       1.362772            <NA>           0       <NA>  \n6       1.324232            <NA>           0       <NA>  \n7       1.214252            <NA>           0       <NA>  \n8       1.193520            <NA>           0       <NA>  \n9       1.098525            <NA>           0       <NA>  \n10      1.089362            <NA>           0       <NA>  \n11      1.019361            <NA>           0       <NA>  \n12      0.997684            <NA>           0       <NA>  \n13      0.995935            <NA>           0       <NA>  \n14      0.956507            <NA>           0       <NA>  \n15      0.915448            <NA>           0       <NA>  \n16      0.874763            <NA>           0       <NA>  \n17      0.846077            <NA>           0       <NA>  \n18      0.837740            <NA>           0       <NA>  \n19      0.813107            <NA>           0       <NA>  \n20      0.761867            <NA>           0       <NA>  \n21      0.735887            <NA>           0       <NA>  \n22      0.725350            <NA>           0       <NA>  \n23      0.620321            <NA>           0       <NA>  \n24      0.605292            <NA>           0       <NA>  \n25      0.520937            <NA>           0       <NA>  \n26      0.482274            <NA>           0       <NA>  \n27      0.400017            <NA>           0       <NA>  \n28      0.335617            <NA>           0       <NA>  \n29    242.432323            <NA>           0       <NA>  ",
      "text/html": "<div>\n<style scoped>\n    .dataframe tbody tr th:only-of-type {\n        vertical-align: middle;\n    }\n\n    .dataframe tbody tr th {\n        vertical-align: top;\n    }\n\n    .dataframe thead th {\n        text-align: right;\n    }\n</style>\n<table border=\"1\" class=\"dataframe\">\n  <thead>\n    <tr style=\"text-align: right;\">\n      <th></th>\n      <th>input</th>\n      <th>min</th>\n      <th>max</th>\n      <th>mean</th>\n      <th>median</th>\n      <th>stddev</th>\n      <th>category_count</th>\n      <th>null_count</th>\n      <th>dimension</th>\n    </tr>\n  </thead>\n  <tbody>\n    <tr>\n      <th>0</th>\n      <td>Time</td>\n      <td>0.000000</td>\n      <td>172792.000000</td>\n      <td>94822.243592</td>\n      <td>85057.000000</td>\n      <td>47468.021107</td>\n      <td>&lt;NA&gt;</td>\n      <td>0</td>\n      <td>&lt;NA&gt;</td>\n    </tr>\n    <tr>\n      <th>1</th>\n      <td>V1</td>\n      <td>-56.407510</td>\n      <td>2.446505</td>\n      <td>-0.000736</td>\n      <td>0.049426</td>\n      <td>1.960462</td>\n      <td>&lt;NA&gt;</td>\n      <td>0</td>\n      <td>&lt;NA&gt;</td>\n    </tr>\n    <tr>\n      <th>2</th>\n      <td>V2</td>\n      <td>-72.715728</td>\n      <td>22.057729</td>\n      <td>-0.000056</td>\n      <td>0.072494</td>\n      <td>1.654712</td>\n      <td>&lt;NA&gt;</td>\n      <td>0</td>\n      <td>&lt;NA&gt;</td>\n    </tr>\n    <tr>\n      <th>3</th>\n      <td>V3</td>\n      <td>-32.965346</td>\n      <td>9.382558</td>\n      <td>0.000062</td>\n      <td>0.185541</td>\n      <td>1.513369</td>\n      <td>&lt;NA&gt;</td>\n      <td>0</td>\n      <td>&lt;NA&gt;</td>\n    </tr>\n    <tr>\n      <th>4</th>\n      <td>V4</td>\n      <td>-5.683171</td>\n      <td>16.875344</td>\n      <td>0.002923</td>\n      <td>-0.035098</td>\n      <td>1.417278</td>\n      <td>&lt;NA&gt;</td>\n      <td>0</td>\n      <td>&lt;NA&gt;</td>\n    </tr>\n    <tr>\n      <th>5</th>\n      <td>V5</td>\n      <td>-42.147898</td>\n      <td>34.801666</td>\n      <td>0.002895</td>\n      <td>-0.055980</td>\n      <td>1.362772</td>\n      <td>&lt;NA&gt;</td>\n      <td>0</td>\n      <td>&lt;NA&gt;</td>\n    </tr>\n    <tr>\n      <th>6</th>\n      <td>V6</td>\n      <td>-26.160506</td>\n      <td>23.917837</td>\n      <td>-0.002217</td>\n      <td>-0.279390</td>\n      <td>1.324232</td>\n      <td>&lt;NA&gt;</td>\n      <td>0</td>\n      <td>&lt;NA&gt;</td>\n    </tr>\n    <tr>\n      <th>7</th>\n      <td>V7</td>\n      <td>-43.557242</td>\n      <td>44.054461</td>\n      <td>0.001489</td>\n      <td>0.036415</td>\n      <td>1.214252</td>\n      <td>&lt;NA&gt;</td>\n      <td>0</td>\n      <td>&lt;NA&gt;</td>\n    </tr>\n    <tr>\n      <th>8</th>\n      <td>V8</td>\n      <td>-73.216718</td>\n      <td>20.007208</td>\n      <td>-0.000523</td>\n      <td>0.019409</td>\n      <td>1.193520</td>\n      <td>&lt;NA&gt;</td>\n      <td>0</td>\n      <td>&lt;NA&gt;</td>\n    </tr>\n    <tr>\n      <th>9</th>\n      <td>V9</td>\n      <td>-13.434066</td>\n      <td>15.594995</td>\n      <td>-0.001416</td>\n      <td>-0.061607</td>\n      <td>1.098525</td>\n      <td>&lt;NA&gt;</td>\n      <td>0</td>\n      <td>&lt;NA&gt;</td>\n    </tr>\n    <tr>\n      <th>10</th>\n      <td>V10</td>\n      <td>-24.588262</td>\n      <td>23.745136</td>\n      <td>0.001133</td>\n      <td>-0.098959</td>\n      <td>1.089362</td>\n      <td>&lt;NA&gt;</td>\n      <td>0</td>\n      <td>&lt;NA&gt;</td>\n    </tr>\n    <tr>\n      <th>11</th>\n      <td>V11</td>\n      <td>-4.797473</td>\n      <td>11.619723</td>\n      <td>-0.001210</td>\n      <td>-0.034597</td>\n      <td>1.019361</td>\n      <td>&lt;NA&gt;</td>\n      <td>0</td>\n      <td>&lt;NA&gt;</td>\n    </tr>\n    <tr>\n      <th>12</th>\n      <td>V12</td>\n      <td>-18.683715</td>\n      <td>7.848392</td>\n      <td>-0.000622</td>\n      <td>0.136940</td>\n      <td>0.997684</td>\n      <td>&lt;NA&gt;</td>\n      <td>0</td>\n      <td>&lt;NA&gt;</td>\n    </tr>\n    <tr>\n      <th>13</th>\n      <td>V13</td>\n      <td>-5.791881</td>\n      <td>4.569009</td>\n      <td>-0.000502</td>\n      <td>-0.011233</td>\n      <td>0.995935</td>\n      <td>&lt;NA&gt;</td>\n      <td>0</td>\n      <td>&lt;NA&gt;</td>\n    </tr>\n    <tr>\n      <th>14</th>\n      <td>V14</td>\n      <td>-18.822087</td>\n      <td>10.526766</td>\n      <td>0.001318</td>\n      <td>0.042688</td>\n      <td>0.956507</td>\n      <td>&lt;NA&gt;</td>\n      <td>0</td>\n      <td>&lt;NA&gt;</td>\n    </tr>\n    <tr>\n      <th>15</th>\n      <td>V15</td>\n      <td>-4.391307</td>\n      <td>5.784514</td>\n      <td>-0.001165</td>\n      <td>0.037725</td>\n      <td>0.915448</td>\n      <td>&lt;NA&gt;</td>\n      <td>0</td>\n      <td>&lt;NA&gt;</td>\n    </tr>\n    <tr>\n      <th>16</th>\n      <td>V16</td>\n      <td>-14.129855</td>\n      <td>8.289890</td>\n      <td>-0.000800</td>\n      <td>0.064271</td>\n      <td>0.874763</td>\n      <td>&lt;NA&gt;</td>\n      <td>0</td>\n      <td>&lt;NA&gt;</td>\n    </tr>\n    <tr>\n      <th>17</th>\n      <td>V17</td>\n      <td>-25.162799</td>\n      <td>9.253526</td>\n      <td>-0.000732</td>\n      <td>-0.071329</td>\n      <td>0.846077</td>\n      <td>&lt;NA&gt;</td>\n      <td>0</td>\n      <td>&lt;NA&gt;</td>\n    </tr>\n    <tr>\n      <th>18</th>\n      <td>V18</td>\n      <td>-9.498746</td>\n      <td>5.041069</td>\n      <td>-0.001094</td>\n      <td>-0.006473</td>\n      <td>0.837740</td>\n      <td>&lt;NA&gt;</td>\n      <td>0</td>\n      <td>&lt;NA&gt;</td>\n    </tr>\n    <tr>\n      <th>19</th>\n      <td>V19</td>\n      <td>-7.213527</td>\n      <td>5.591971</td>\n      <td>0.000869</td>\n      <td>-0.002998</td>\n      <td>0.813107</td>\n      <td>&lt;NA&gt;</td>\n      <td>0</td>\n      <td>&lt;NA&gt;</td>\n    </tr>\n    <tr>\n      <th>20</th>\n      <td>V20</td>\n      <td>-28.009635</td>\n      <td>39.420904</td>\n      <td>0.000199</td>\n      <td>-0.061892</td>\n      <td>0.761867</td>\n      <td>&lt;NA&gt;</td>\n      <td>0</td>\n      <td>&lt;NA&gt;</td>\n    </tr>\n    <tr>\n      <th>21</th>\n      <td>V21</td>\n      <td>-34.830382</td>\n      <td>27.202839</td>\n      <td>0.000315</td>\n      <td>-0.033546</td>\n      <td>0.735887</td>\n      <td>&lt;NA&gt;</td>\n      <td>0</td>\n      <td>&lt;NA&gt;</td>\n    </tr>\n    <tr>\n      <th>22</th>\n      <td>V22</td>\n      <td>-10.933144</td>\n      <td>10.503090</td>\n      <td>0.000775</td>\n      <td>0.010605</td>\n      <td>0.725350</td>\n      <td>&lt;NA&gt;</td>\n      <td>0</td>\n      <td>&lt;NA&gt;</td>\n    </tr>\n    <tr>\n      <th>23</th>\n      <td>V23</td>\n      <td>-44.807735</td>\n      <td>22.528412</td>\n      <td>-0.000453</td>\n      <td>-0.012481</td>\n      <td>0.620321</td>\n      <td>&lt;NA&gt;</td>\n      <td>0</td>\n      <td>&lt;NA&gt;</td>\n    </tr>\n    <tr>\n      <th>24</th>\n      <td>V24</td>\n      <td>-2.824849</td>\n      <td>4.022866</td>\n      <td>0.000211</td>\n      <td>0.038500</td>\n      <td>0.605292</td>\n      <td>&lt;NA&gt;</td>\n      <td>0</td>\n      <td>&lt;NA&gt;</td>\n    </tr>\n    <tr>\n      <th>25</th>\n      <td>V25</td>\n      <td>-10.295397</td>\n      <td>7.519589</td>\n      <td>0.001376</td>\n      <td>0.009221</td>\n      <td>0.520937</td>\n      <td>&lt;NA&gt;</td>\n      <td>0</td>\n      <td>&lt;NA&gt;</td>\n    </tr>\n    <tr>\n      <th>26</th>\n      <td>V26</td>\n      <td>-2.604551</td>\n      <td>3.517346</td>\n      <td>-0.000703</td>\n      <td>-0.053060</td>\n      <td>0.482274</td>\n      <td>&lt;NA&gt;</td>\n      <td>0</td>\n      <td>&lt;NA&gt;</td>\n    </tr>\n    <tr>\n      <th>27</th>\n      <td>V27</td>\n      <td>-22.565679</td>\n      <td>11.135740</td>\n      <td>-0.000671</td>\n      <td>0.000330</td>\n      <td>0.400017</td>\n      <td>&lt;NA&gt;</td>\n      <td>0</td>\n      <td>&lt;NA&gt;</td>\n    </tr>\n    <tr>\n      <th>28</th>\n      <td>V28</td>\n      <td>-11.710896</td>\n      <td>33.847808</td>\n      <td>0.000089</td>\n      <td>0.011169</td>\n      <td>0.335617</td>\n      <td>&lt;NA&gt;</td>\n      <td>0</td>\n      <td>&lt;NA&gt;</td>\n    </tr>\n    <tr>\n      <th>29</th>\n      <td>Amount</td>\n      <td>0.000000</td>\n      <td>19656.530000</td>\n      <td>88.081451</td>\n      <td>21.380000</td>\n      <td>242.432323</td>\n      <td>&lt;NA&gt;</td>\n      <td>0</td>\n      <td>&lt;NA&gt;</td>\n    </tr>\n  </tbody>\n</table>\n</div>"
     },
     "execution_count": 24,
     "metadata": {},
     "output_type": "execute_result"
    }
   ],
   "source": [
    "feature_info = bq.query(\n",
    "    query = f\"\"\"\n",
    "        SELECT *\n",
    "        FROM ML.FEATURE_INFO(MODEL `{BQ_PROJECT}.{BQ_DATASET}.{BQ_MODEL}`)\n",
    "        \"\"\"\n",
    ").to_dataframe()\n",
    "feature_info"
   ]
  },
  {
   "cell_type": "markdown",
   "id": "f5dae2f8-5cd7-42d2-a10d-46cf22eb8974",
   "metadata": {},
   "source": [
    "Review the iterations from training with [ML.TRAINING_INFO](https://cloud.google.com/bigquery-ml/docs/reference/standard-sql/bigqueryml-syntax-train):"
   ]
  },
  {
   "cell_type": "code",
   "execution_count": 25,
   "id": "7626f61a-feae-45d6-a166-4209105875aa",
   "metadata": {
    "ExecuteTime": {
     "end_time": "2024-03-15T23:11:14.812335Z",
     "start_time": "2024-03-15T23:11:13.476164Z"
    }
   },
   "outputs": [
    {
     "data": {
      "text/plain": "   training_run  iteration      loss  eval_loss  learning_rate  duration_ms\n0             0          1  0.137319   0.290063            1.0       256257",
      "text/html": "<div>\n<style scoped>\n    .dataframe tbody tr th:only-of-type {\n        vertical-align: middle;\n    }\n\n    .dataframe tbody tr th {\n        vertical-align: top;\n    }\n\n    .dataframe thead th {\n        text-align: right;\n    }\n</style>\n<table border=\"1\" class=\"dataframe\">\n  <thead>\n    <tr style=\"text-align: right;\">\n      <th></th>\n      <th>training_run</th>\n      <th>iteration</th>\n      <th>loss</th>\n      <th>eval_loss</th>\n      <th>learning_rate</th>\n      <th>duration_ms</th>\n    </tr>\n  </thead>\n  <tbody>\n    <tr>\n      <th>0</th>\n      <td>0</td>\n      <td>1</td>\n      <td>0.137319</td>\n      <td>0.290063</td>\n      <td>1.0</td>\n      <td>256257</td>\n    </tr>\n  </tbody>\n</table>\n</div>"
     },
     "execution_count": 25,
     "metadata": {},
     "output_type": "execute_result"
    }
   ],
   "source": [
    "history = bq.query(\n",
    "    query = f\"\"\"\n",
    "        SELECT *\n",
    "        FROM ML.TRAINING_INFO(MODEL `{BQ_PROJECT}.{BQ_DATASET}.{BQ_MODEL}`)\n",
    "        ORDER BY iteration\"\"\"\n",
    ").to_dataframe()\n",
    "history"
   ]
  },
  {
   "cell_type": "markdown",
   "id": "ce0360da-8191-4a63-8bf8-f85444931cd7",
   "metadata": {},
   "source": [
    "---\n",
    "## Evaluate Model"
   ]
  },
  {
   "cell_type": "markdown",
   "id": "8d57880e-58a4-4540-89a2-feb29601b3a3",
   "metadata": {},
   "source": [
    "### Metrics"
   ]
  },
  {
   "cell_type": "markdown",
   "id": "e57755ea-9bd2-4ae4-a466-edd5d8f0eb45",
   "metadata": {},
   "source": [
    "Review the model evaluation statistics on the splits with [ML.EVALUATE](https://cloud.google.com/bigquery-ml/docs/reference/standard-sql/bigqueryml-syntax-evaluate):"
   ]
  },
  {
   "cell_type": "code",
   "execution_count": 26,
   "id": "fe52da8e-2cdb-4292-9698-1c5b74522508",
   "metadata": {
    "ExecuteTime": {
     "end_time": "2024-03-15T23:11:30.274115Z",
     "start_time": "2024-03-15T23:11:14.814107Z"
    }
   },
   "outputs": [
    {
     "data": {
      "text/plain": "      SPLIT  precision    recall  accuracy  f1_score  log_loss   roc_auc\n0  VALIDATE   0.725490  0.804348  0.999191  0.762887  0.130068  0.989983\n1      TEST   0.782609  0.782609  0.999298  0.782609  0.129597  0.975133\n2     TRAIN   0.854701  1.000000  0.999702  0.921659  0.129017  1.000000",
      "text/html": "<div>\n<style scoped>\n    .dataframe tbody tr th:only-of-type {\n        vertical-align: middle;\n    }\n\n    .dataframe tbody tr th {\n        vertical-align: top;\n    }\n\n    .dataframe thead th {\n        text-align: right;\n    }\n</style>\n<table border=\"1\" class=\"dataframe\">\n  <thead>\n    <tr style=\"text-align: right;\">\n      <th></th>\n      <th>SPLIT</th>\n      <th>precision</th>\n      <th>recall</th>\n      <th>accuracy</th>\n      <th>f1_score</th>\n      <th>log_loss</th>\n      <th>roc_auc</th>\n    </tr>\n  </thead>\n  <tbody>\n    <tr>\n      <th>0</th>\n      <td>VALIDATE</td>\n      <td>0.725490</td>\n      <td>0.804348</td>\n      <td>0.999191</td>\n      <td>0.762887</td>\n      <td>0.130068</td>\n      <td>0.989983</td>\n    </tr>\n    <tr>\n      <th>1</th>\n      <td>TEST</td>\n      <td>0.782609</td>\n      <td>0.782609</td>\n      <td>0.999298</td>\n      <td>0.782609</td>\n      <td>0.129597</td>\n      <td>0.975133</td>\n    </tr>\n    <tr>\n      <th>2</th>\n      <td>TRAIN</td>\n      <td>0.854701</td>\n      <td>1.000000</td>\n      <td>0.999702</td>\n      <td>0.921659</td>\n      <td>0.129017</td>\n      <td>1.000000</td>\n    </tr>\n  </tbody>\n</table>\n</div>"
     },
     "execution_count": 26,
     "metadata": {},
     "output_type": "execute_result"
    }
   ],
   "source": [
    "query = f\"\"\"\n",
    "SELECT 'TEST' as SPLIT, * FROM ML.EVALUATE (MODEL `{BQ_PROJECT}.{BQ_DATASET}.{BQ_MODEL}`,\n",
    "    (SELECT * FROM `{BQ_PROJECT}.{BQ_DATASET}.{BQ_TABLE}` WHERE SPLITS='TEST'))\n",
    "UNION ALL\n",
    "SELECT 'VALIDATE' as SPLIT, * FROM ML.EVALUATE (MODEL `{BQ_PROJECT}.{BQ_DATASET}.{BQ_MODEL}`,\n",
    "    (SELECT * FROM `{BQ_PROJECT}.{BQ_DATASET}.{BQ_TABLE}` WHERE SPLITS='VALIDATE'))\n",
    "UNION ALL\n",
    "SELECT 'TRAIN' as SPLIT, * FROM ML.EVALUATE (MODEL `{BQ_PROJECT}.{BQ_DATASET}.{BQ_MODEL}`,\n",
    "    (SELECT * FROM `{BQ_PROJECT}.{BQ_DATASET}.{BQ_TABLE}` WHERE SPLITS='TRAIN'))\n",
    "\"\"\"\n",
    "bq.query(query = query).to_dataframe()"
   ]
  },
  {
   "cell_type": "markdown",
   "id": "e179723a-dce6-444f-9f19-bb1fcee1efe3",
   "metadata": {},
   "source": [
    "### Confusion Matrix"
   ]
  },
  {
   "cell_type": "markdown",
   "id": "a8f0c1ff-7c7f-4722-b325-168ac9362e23",
   "metadata": {},
   "source": [
    "Review the confusion matrix for each split with [ML.CONFUSION_MATRIX](https://cloud.google.com/bigquery-ml/docs/reference/standard-sql/bigqueryml-syntax-confusion):"
   ]
  },
  {
   "cell_type": "code",
   "execution_count": 27,
   "id": "6ee513cd-3205-4419-a380-f687d8504cc1",
   "metadata": {
    "ExecuteTime": {
     "end_time": "2024-03-15T23:11:44.531443Z",
     "start_time": "2024-03-15T23:11:30.278562Z"
    }
   },
   "outputs": [
    {
     "data": {
      "text/plain": "   expected_label      _0   _1\n0               0  227429   68\n1               1       0  400",
      "text/html": "<div>\n<style scoped>\n    .dataframe tbody tr th:only-of-type {\n        vertical-align: middle;\n    }\n\n    .dataframe tbody tr th {\n        vertical-align: top;\n    }\n\n    .dataframe thead th {\n        text-align: right;\n    }\n</style>\n<table border=\"1\" class=\"dataframe\">\n  <thead>\n    <tr style=\"text-align: right;\">\n      <th></th>\n      <th>expected_label</th>\n      <th>_0</th>\n      <th>_1</th>\n    </tr>\n  </thead>\n  <tbody>\n    <tr>\n      <th>0</th>\n      <td>0</td>\n      <td>227429</td>\n      <td>68</td>\n    </tr>\n    <tr>\n      <th>1</th>\n      <td>1</td>\n      <td>0</td>\n      <td>400</td>\n    </tr>\n  </tbody>\n</table>\n</div>"
     },
     "execution_count": 27,
     "metadata": {},
     "output_type": "execute_result"
    }
   ],
   "source": [
    "query = f\"\"\"\n",
    "SELECT *\n",
    "FROM ML.CONFUSION_MATRIX (MODEL `{BQ_PROJECT}.{BQ_DATASET}.{BQ_MODEL}`,(\n",
    "    SELECT *\n",
    "    FROM `{BQ_PROJECT}.{BQ_DATASET}.{BQ_TABLE}`\n",
    "    WHERE splits = 'TRAIN')\n",
    "  )\n",
    "\"\"\"\n",
    "bq.query(query = query).to_dataframe()"
   ]
  },
  {
   "cell_type": "code",
   "execution_count": 28,
   "id": "df9f248a-e612-4f21-b261-89a13cd30309",
   "metadata": {
    "ExecuteTime": {
     "end_time": "2024-03-15T23:11:46.715880Z",
     "start_time": "2024-03-15T23:11:44.530709Z"
    }
   },
   "outputs": [
    {
     "data": {
      "text/plain": "   expected_label     _0  _1\n0               0  28369  14\n1               1      9  37",
      "text/html": "<div>\n<style scoped>\n    .dataframe tbody tr th:only-of-type {\n        vertical-align: middle;\n    }\n\n    .dataframe tbody tr th {\n        vertical-align: top;\n    }\n\n    .dataframe thead th {\n        text-align: right;\n    }\n</style>\n<table border=\"1\" class=\"dataframe\">\n  <thead>\n    <tr style=\"text-align: right;\">\n      <th></th>\n      <th>expected_label</th>\n      <th>_0</th>\n      <th>_1</th>\n    </tr>\n  </thead>\n  <tbody>\n    <tr>\n      <th>0</th>\n      <td>0</td>\n      <td>28369</td>\n      <td>14</td>\n    </tr>\n    <tr>\n      <th>1</th>\n      <td>1</td>\n      <td>9</td>\n      <td>37</td>\n    </tr>\n  </tbody>\n</table>\n</div>"
     },
     "execution_count": 28,
     "metadata": {},
     "output_type": "execute_result"
    }
   ],
   "source": [
    "query = f\"\"\"\n",
    "SELECT *\n",
    "FROM ML.CONFUSION_MATRIX (MODEL `{BQ_PROJECT}.{BQ_DATASET}.{BQ_MODEL}`,(\n",
    "    SELECT *\n",
    "    FROM `{BQ_PROJECT}.{BQ_DATASET}.{BQ_TABLE}`\n",
    "    WHERE splits = 'VALIDATE')\n",
    "  )\n",
    "\"\"\"\n",
    "bq.query(query = query).to_dataframe()"
   ]
  },
  {
   "cell_type": "code",
   "execution_count": 29,
   "id": "b6b9c391-9e6b-434b-9eb0-b22e967d90ce",
   "metadata": {
    "ExecuteTime": {
     "end_time": "2024-03-15T23:11:49.601819Z",
     "start_time": "2024-03-15T23:11:46.714156Z"
    }
   },
   "outputs": [
    {
     "data": {
      "text/plain": "   expected_label     _0  _1\n0               0  28425  10\n1               1     10  36",
      "text/html": "<div>\n<style scoped>\n    .dataframe tbody tr th:only-of-type {\n        vertical-align: middle;\n    }\n\n    .dataframe tbody tr th {\n        vertical-align: top;\n    }\n\n    .dataframe thead th {\n        text-align: right;\n    }\n</style>\n<table border=\"1\" class=\"dataframe\">\n  <thead>\n    <tr style=\"text-align: right;\">\n      <th></th>\n      <th>expected_label</th>\n      <th>_0</th>\n      <th>_1</th>\n    </tr>\n  </thead>\n  <tbody>\n    <tr>\n      <th>0</th>\n      <td>0</td>\n      <td>28425</td>\n      <td>10</td>\n    </tr>\n    <tr>\n      <th>1</th>\n      <td>1</td>\n      <td>10</td>\n      <td>36</td>\n    </tr>\n  </tbody>\n</table>\n</div>"
     },
     "execution_count": 29,
     "metadata": {},
     "output_type": "execute_result"
    }
   ],
   "source": [
    "query = f\"\"\"\n",
    "SELECT *\n",
    "FROM ML.CONFUSION_MATRIX (MODEL `{BQ_PROJECT}.{BQ_DATASET}.{BQ_MODEL}`,(\n",
    "    SELECT *\n",
    "    FROM `{BQ_PROJECT}.{BQ_DATASET}.{BQ_TABLE}`\n",
    "    WHERE splits = 'TEST')\n",
    "  )\n",
    "\"\"\"\n",
    "bq.query(query = query).to_dataframe()"
   ]
  },
  {
   "cell_type": "markdown",
   "id": "a67e9c22-06fb-40ec-891b-0d06e520007e",
   "metadata": {},
   "source": [
    "### ROC Curve\n",
    "\n",
    "Retrieve the ROC Curve for each split using [ML.ROC_CURVE](https://cloud.google.com/bigquery-ml/docs/reference/standard-sql/bigqueryml-syntax-roc):"
   ]
  },
  {
   "cell_type": "code",
   "execution_count": 30,
   "id": "49d1bf40-95b0-4905-9cca-4bfd0bf262cc",
   "metadata": {
    "ExecuteTime": {
     "end_time": "2024-03-15T23:12:04.992556Z",
     "start_time": "2024-03-15T23:11:49.600216Z"
    }
   },
   "outputs": [
    {
     "data": {
      "text/plain": "   threshold  recall  false_positive_rate  true_positives  false_positives  \\\n0   0.880576  0.5375             0.000149             215               34   \n1   0.146895  1.0000             0.008259             400             1879   \n2   0.132152  1.0000             0.018312             400             4166   \n3   0.127580  1.0000             0.028356             400             6451   \n4   0.125178  1.0000             0.038427             400             8742   \n\n   true_negatives  false_negatives  \n0          227463              185  \n1          225618                0  \n2          223331                0  \n3          221046                0  \n4          218755                0  ",
      "text/html": "<div>\n<style scoped>\n    .dataframe tbody tr th:only-of-type {\n        vertical-align: middle;\n    }\n\n    .dataframe tbody tr th {\n        vertical-align: top;\n    }\n\n    .dataframe thead th {\n        text-align: right;\n    }\n</style>\n<table border=\"1\" class=\"dataframe\">\n  <thead>\n    <tr style=\"text-align: right;\">\n      <th></th>\n      <th>threshold</th>\n      <th>recall</th>\n      <th>false_positive_rate</th>\n      <th>true_positives</th>\n      <th>false_positives</th>\n      <th>true_negatives</th>\n      <th>false_negatives</th>\n    </tr>\n  </thead>\n  <tbody>\n    <tr>\n      <th>0</th>\n      <td>0.880576</td>\n      <td>0.5375</td>\n      <td>0.000149</td>\n      <td>215</td>\n      <td>34</td>\n      <td>227463</td>\n      <td>185</td>\n    </tr>\n    <tr>\n      <th>1</th>\n      <td>0.146895</td>\n      <td>1.0000</td>\n      <td>0.008259</td>\n      <td>400</td>\n      <td>1879</td>\n      <td>225618</td>\n      <td>0</td>\n    </tr>\n    <tr>\n      <th>2</th>\n      <td>0.132152</td>\n      <td>1.0000</td>\n      <td>0.018312</td>\n      <td>400</td>\n      <td>4166</td>\n      <td>223331</td>\n      <td>0</td>\n    </tr>\n    <tr>\n      <th>3</th>\n      <td>0.127580</td>\n      <td>1.0000</td>\n      <td>0.028356</td>\n      <td>400</td>\n      <td>6451</td>\n      <td>221046</td>\n      <td>0</td>\n    </tr>\n    <tr>\n      <th>4</th>\n      <td>0.125178</td>\n      <td>1.0000</td>\n      <td>0.038427</td>\n      <td>400</td>\n      <td>8742</td>\n      <td>218755</td>\n      <td>0</td>\n    </tr>\n  </tbody>\n</table>\n</div>"
     },
     "execution_count": 30,
     "metadata": {},
     "output_type": "execute_result"
    }
   ],
   "source": [
    "query = f\"\"\"\n",
    "SELECT *\n",
    "FROM ML.ROC_CURVE (MODEL `{BQ_PROJECT}.{BQ_DATASET}.{BQ_MODEL}`,(\n",
    "    SELECT *\n",
    "    FROM `{BQ_PROJECT}.{BQ_DATASET}.{BQ_TABLE}`\n",
    "    WHERE splits = 'TRAIN')\n",
    "  )\n",
    "ORDER BY false_positive_rate\n",
    "\"\"\"\n",
    "train_roc = bq.query(query = query).to_dataframe()\n",
    "train_roc.head()"
   ]
  },
  {
   "cell_type": "code",
   "execution_count": 31,
   "id": "526e8047-1204-468d-8ab9-d73e2c3e9230",
   "metadata": {
    "ExecuteTime": {
     "end_time": "2024-03-15T23:12:19.021589Z",
     "start_time": "2024-03-15T23:12:04.988681Z"
    }
   },
   "outputs": [
    {
     "data": {
      "text/plain": "   threshold    recall  false_positive_rate  true_positives  false_positives  \\\n0   0.880576  0.543478             0.000211              25                6   \n1   0.150899  0.869565             0.008808              40              250   \n2   0.134115  0.891304             0.018532              41              526   \n3   0.128858  0.913043             0.028644              42              813   \n4   0.126016  0.913043             0.038685              42             1098   \n\n   true_negatives  false_negatives  \n0           28377               21  \n1           28133                6  \n2           27857                5  \n3           27570                4  \n4           27285                4  ",
      "text/html": "<div>\n<style scoped>\n    .dataframe tbody tr th:only-of-type {\n        vertical-align: middle;\n    }\n\n    .dataframe tbody tr th {\n        vertical-align: top;\n    }\n\n    .dataframe thead th {\n        text-align: right;\n    }\n</style>\n<table border=\"1\" class=\"dataframe\">\n  <thead>\n    <tr style=\"text-align: right;\">\n      <th></th>\n      <th>threshold</th>\n      <th>recall</th>\n      <th>false_positive_rate</th>\n      <th>true_positives</th>\n      <th>false_positives</th>\n      <th>true_negatives</th>\n      <th>false_negatives</th>\n    </tr>\n  </thead>\n  <tbody>\n    <tr>\n      <th>0</th>\n      <td>0.880576</td>\n      <td>0.543478</td>\n      <td>0.000211</td>\n      <td>25</td>\n      <td>6</td>\n      <td>28377</td>\n      <td>21</td>\n    </tr>\n    <tr>\n      <th>1</th>\n      <td>0.150899</td>\n      <td>0.869565</td>\n      <td>0.008808</td>\n      <td>40</td>\n      <td>250</td>\n      <td>28133</td>\n      <td>6</td>\n    </tr>\n    <tr>\n      <th>2</th>\n      <td>0.134115</td>\n      <td>0.891304</td>\n      <td>0.018532</td>\n      <td>41</td>\n      <td>526</td>\n      <td>27857</td>\n      <td>5</td>\n    </tr>\n    <tr>\n      <th>3</th>\n      <td>0.128858</td>\n      <td>0.913043</td>\n      <td>0.028644</td>\n      <td>42</td>\n      <td>813</td>\n      <td>27570</td>\n      <td>4</td>\n    </tr>\n    <tr>\n      <th>4</th>\n      <td>0.126016</td>\n      <td>0.913043</td>\n      <td>0.038685</td>\n      <td>42</td>\n      <td>1098</td>\n      <td>27285</td>\n      <td>4</td>\n    </tr>\n  </tbody>\n</table>\n</div>"
     },
     "execution_count": 31,
     "metadata": {},
     "output_type": "execute_result"
    }
   ],
   "source": [
    "query = f\"\"\"\n",
    "SELECT *\n",
    "FROM ML.ROC_CURVE (MODEL `{BQ_PROJECT}.{BQ_DATASET}.{BQ_MODEL}`,(\n",
    "    SELECT *\n",
    "    FROM `{BQ_PROJECT}.{BQ_DATASET}.{BQ_TABLE}`\n",
    "    WHERE splits = 'VALIDATE')\n",
    "  )\n",
    "ORDER BY false_positive_rate\n",
    "\"\"\"\n",
    "val_roc = bq.query(query = query).to_dataframe()\n",
    "val_roc.head()"
   ]
  },
  {
   "cell_type": "code",
   "execution_count": 32,
   "id": "0f11e5ff-6427-4a24-bd9d-d14959090a83",
   "metadata": {
    "ExecuteTime": {
     "end_time": "2024-03-15T23:12:19.111325Z",
     "start_time": "2024-03-15T23:12:10.141637Z"
    }
   },
   "outputs": [
    {
     "data": {
      "text/plain": "   threshold    recall  false_positive_rate  true_positives  false_positives  \\\n0   0.880576  0.456522             0.000035              21                1   \n1   0.146641  0.869565             0.008651              40              246   \n2   0.132755  0.869565             0.018639              40              530   \n3   0.128210  0.869565             0.028662              40              815   \n4   0.125817  0.869565             0.038614              40             1098   \n\n   true_negatives  false_negatives  \n0           28434               25  \n1           28189                6  \n2           27905                6  \n3           27620                6  \n4           27337                6  ",
      "text/html": "<div>\n<style scoped>\n    .dataframe tbody tr th:only-of-type {\n        vertical-align: middle;\n    }\n\n    .dataframe tbody tr th {\n        vertical-align: top;\n    }\n\n    .dataframe thead th {\n        text-align: right;\n    }\n</style>\n<table border=\"1\" class=\"dataframe\">\n  <thead>\n    <tr style=\"text-align: right;\">\n      <th></th>\n      <th>threshold</th>\n      <th>recall</th>\n      <th>false_positive_rate</th>\n      <th>true_positives</th>\n      <th>false_positives</th>\n      <th>true_negatives</th>\n      <th>false_negatives</th>\n    </tr>\n  </thead>\n  <tbody>\n    <tr>\n      <th>0</th>\n      <td>0.880576</td>\n      <td>0.456522</td>\n      <td>0.000035</td>\n      <td>21</td>\n      <td>1</td>\n      <td>28434</td>\n      <td>25</td>\n    </tr>\n    <tr>\n      <th>1</th>\n      <td>0.146641</td>\n      <td>0.869565</td>\n      <td>0.008651</td>\n      <td>40</td>\n      <td>246</td>\n      <td>28189</td>\n      <td>6</td>\n    </tr>\n    <tr>\n      <th>2</th>\n      <td>0.132755</td>\n      <td>0.869565</td>\n      <td>0.018639</td>\n      <td>40</td>\n      <td>530</td>\n      <td>27905</td>\n      <td>6</td>\n    </tr>\n    <tr>\n      <th>3</th>\n      <td>0.128210</td>\n      <td>0.869565</td>\n      <td>0.028662</td>\n      <td>40</td>\n      <td>815</td>\n      <td>27620</td>\n      <td>6</td>\n    </tr>\n    <tr>\n      <th>4</th>\n      <td>0.125817</td>\n      <td>0.869565</td>\n      <td>0.038614</td>\n      <td>40</td>\n      <td>1098</td>\n      <td>27337</td>\n      <td>6</td>\n    </tr>\n  </tbody>\n</table>\n</div>"
     },
     "execution_count": 32,
     "metadata": {},
     "output_type": "execute_result"
    }
   ],
   "source": [
    "query = f\"\"\"\n",
    "SELECT *\n",
    "FROM ML.ROC_CURVE (MODEL `{BQ_PROJECT}.{BQ_DATASET}.{BQ_MODEL}`,(\n",
    "    SELECT *\n",
    "    FROM `{BQ_PROJECT}.{BQ_DATASET}.{BQ_TABLE}`\n",
    "    WHERE splits = 'TEST')\n",
    "  )\n",
    "ORDER BY false_positive_rate\n",
    "\"\"\"\n",
    "test_roc = bq.query(query = query).to_dataframe()\n",
    "test_roc.head()"
   ]
  },
  {
   "cell_type": "code",
   "execution_count": 33,
   "id": "cad414b4-cbc5-4698-a986-77965aac942b",
   "metadata": {
    "ExecuteTime": {
     "end_time": "2024-03-15T23:12:19.142575Z",
     "start_time": "2024-03-15T23:12:16.109439Z"
    }
   },
   "outputs": [
    {
     "data": {
      "text/plain": "<Figure size 1500x500 with 1 Axes>",
      "image/png": "[encoded data removed]"
     },
     "metadata": {},
     "output_type": "display_data"
    }
   ],
   "source": [
    "plt.figure(figsize=(15,5))\n",
    "plt.plot(train_roc['false_positive_rate'], train_roc['recall'], label='TRAIN')\n",
    "plt.plot(val_roc['false_positive_rate'], val_roc['recall'], label='VALIDATE')\n",
    "plt.plot(test_roc['false_positive_rate'], test_roc['recall'], label='TEST')\n",
    "plt.xlabel('False Positive Rate')\n",
    "plt.ylabel('True Positive Rate\\nRecall')\n",
    "plt.title('ROC Curves')\n",
    "plt.legend()\n",
    "plt.show()"
   ]
  },
  {
   "cell_type": "markdown",
   "id": "cf3e47a4-8263-418a-94a2-4281eeb75474",
   "metadata": {},
   "source": [
    "---\n",
    "## Predictions With BigQuery ML (BQML)"
   ]
  },
  {
   "cell_type": "markdown",
   "id": "0c67fd17-b3e3-4bbd-9dbf-adb5065b3022",
   "metadata": {},
   "source": [
    "Create a pandas dataframe with retrieved predictions for the test data in the table using [ML.PREDICT](https://cloud.google.com/bigquery-ml/docs/reference/standard-sql/bigqueryml-syntax-predict):"
   ]
  },
  {
   "cell_type": "code",
   "execution_count": 34,
   "id": "6ef98b8e-35b9-4a51-966f-992d681991b2",
   "metadata": {
    "ExecuteTime": {
     "end_time": "2024-03-15T23:12:35.976996Z",
     "start_time": "2024-03-15T23:12:16.382496Z"
    }
   },
   "outputs": [],
   "source": [
    "query = f\"\"\"\n",
    "SELECT *\n",
    "FROM ML.PREDICT (MODEL `{BQ_PROJECT}.{BQ_DATASET}.{BQ_MODEL}`,(\n",
    "    SELECT *\n",
    "    FROM `{BQ_PROJECT}.{BQ_DATASET}.{BQ_TABLE}`\n",
    "    WHERE splits = 'TEST')\n",
    "  )\n",
    "\"\"\"\n",
    "pred = bq.query(query = query).to_dataframe()"
   ]
  },
  {
   "cell_type": "markdown",
   "id": "375a6918-e62e-41c2-871d-b1745a6d19aa",
   "metadata": {},
   "source": [
    "Review columns from the predictions - note that the query added columns with prefix `predicted_`"
   ]
  },
  {
   "cell_type": "code",
   "execution_count": 35,
   "id": "0696049a-f85c-4417-888b-edc75a460164",
   "metadata": {
    "ExecuteTime": {
     "end_time": "2024-03-15T23:12:36.000655Z",
     "start_time": "2024-03-15T23:12:35.980473Z"
    }
   },
   "outputs": [
    {
     "data": {
      "text/plain": "Index(['predicted_Class', 'predicted_Class_probs', 'Time', 'V1', 'V2', 'V3',\n       'V4', 'V5', 'V6', 'V7', 'V8', 'V9', 'V10', 'V11', 'V12', 'V13', 'V14',\n       'V15', 'V16', 'V17', 'V18', 'V19', 'V20', 'V21', 'V22', 'V23', 'V24',\n       'V25', 'V26', 'V27', 'V28', 'Amount', 'Class', 'transaction_id',\n       'splits'],\n      dtype='object')"
     },
     "execution_count": 35,
     "metadata": {},
     "output_type": "execute_result"
    }
   ],
   "source": [
    "pred.columns"
   ]
  },
  {
   "cell_type": "markdown",
   "id": "ab0d0f78-811e-49cd-bfb6-56ba8d6f560b",
   "metadata": {},
   "source": [
    "Print the first few rows for the columns related to the actual and predicted values:"
   ]
  },
  {
   "cell_type": "code",
   "execution_count": 36,
   "id": "b5d027fd-e036-4774-8712-059ed91272eb",
   "metadata": {
    "ExecuteTime": {
     "end_time": "2024-03-15T23:12:36.133911Z",
     "start_time": "2024-03-15T23:12:35.986435Z"
    }
   },
   "outputs": [
    {
     "data": {
      "text/plain": "   Class  predicted_Class                              predicted_Class_probs  \\\n0      0                0  [{'label': 1, 'prob': 0.1213923841714859}, {'l...   \n1      0                0  [{'label': 1, 'prob': 0.11968179792165756}, {'...   \n2      0                0  [{'label': 1, 'prob': 0.12087191641330719}, {'...   \n3      0                0  [{'label': 1, 'prob': 0.12069028615951538}, {'...   \n4      0                0  [{'label': 1, 'prob': 0.11923614144325256}, {'...   \n\n  splits  \n0   TEST  \n1   TEST  \n2   TEST  \n3   TEST  \n4   TEST  ",
      "text/html": "<div>\n<style scoped>\n    .dataframe tbody tr th:only-of-type {\n        vertical-align: middle;\n    }\n\n    .dataframe tbody tr th {\n        vertical-align: top;\n    }\n\n    .dataframe thead th {\n        text-align: right;\n    }\n</style>\n<table border=\"1\" class=\"dataframe\">\n  <thead>\n    <tr style=\"text-align: right;\">\n      <th></th>\n      <th>Class</th>\n      <th>predicted_Class</th>\n      <th>predicted_Class_probs</th>\n      <th>splits</th>\n    </tr>\n  </thead>\n  <tbody>\n    <tr>\n      <th>0</th>\n      <td>0</td>\n      <td>0</td>\n      <td>[{'label': 1, 'prob': 0.1213923841714859}, {'l...</td>\n      <td>TEST</td>\n    </tr>\n    <tr>\n      <th>1</th>\n      <td>0</td>\n      <td>0</td>\n      <td>[{'label': 1, 'prob': 0.11968179792165756}, {'...</td>\n      <td>TEST</td>\n    </tr>\n    <tr>\n      <th>2</th>\n      <td>0</td>\n      <td>0</td>\n      <td>[{'label': 1, 'prob': 0.12087191641330719}, {'...</td>\n      <td>TEST</td>\n    </tr>\n    <tr>\n      <th>3</th>\n      <td>0</td>\n      <td>0</td>\n      <td>[{'label': 1, 'prob': 0.12069028615951538}, {'...</td>\n      <td>TEST</td>\n    </tr>\n    <tr>\n      <th>4</th>\n      <td>0</td>\n      <td>0</td>\n      <td>[{'label': 1, 'prob': 0.11923614144325256}, {'...</td>\n      <td>TEST</td>\n    </tr>\n  </tbody>\n</table>\n</div>"
     },
     "execution_count": 36,
     "metadata": {},
     "output_type": "execute_result"
    }
   ],
   "source": [
    "pred[[VAR_TARGET, f'predicted_{VAR_TARGET}', f'predicted_{VAR_TARGET}_probs', 'splits']].head()"
   ]
  },
  {
   "cell_type": "markdown",
   "id": "85cd8a9d-a526-4b96-8d42-a8cc6ad83abc",
   "metadata": {},
   "source": [
    "Notice the nested dictionary for predicted probabilities.  In BigQuery this is a Record type structure with nested fields for `label` and `prob`.  This is returned to the pandas dataframe as a nested dictionary.\n",
    "\n",
    "The following code sorts the dictionary for the first record by `prob`:"
   ]
  },
  {
   "cell_type": "code",
   "execution_count": 37,
   "id": "20ffaa54-cb02-46b7-b53d-e87dfeddeca9",
   "metadata": {
    "ExecuteTime": {
     "end_time": "2024-03-15T23:12:36.162541Z",
     "start_time": "2024-03-15T23:12:36.006280Z"
    }
   },
   "outputs": [
    {
     "data": {
      "text/plain": "[[{'label': 0, 'prob': 0.8786076307296753},\n  {'label': 1, 'prob': 0.1213923841714859}]]"
     },
     "execution_count": 37,
     "metadata": {},
     "output_type": "execute_result"
    }
   ],
   "source": [
    "exec('temp = pred.predicted_'+VAR_TARGET+'_probs[0]')\n",
    "[sorted(x, key = lambda x: x['label']) for x in [temp]]"
   ]
  },
  {
   "cell_type": "markdown",
   "id": "d6393e79-cd78-427e-a9a7-45fa43658921",
   "metadata": {},
   "source": [
    "---\n",
    "## Custom Eval Metrics\n",
    "Retrieve the predictions to a local dataframe and use [scikit-learn](https://scikit-learn.org/stable/index.html) metrics [fuctions](https://scikit-learn.org/stable/modules/model_evaluation.html) to do model evaluation."
   ]
  },
  {
   "cell_type": "code",
   "execution_count": 38,
   "id": "2646ff28-4991-4d82-b32b-9f25f311edae",
   "metadata": {
    "ExecuteTime": {
     "end_time": "2024-03-15T23:12:36.283571Z",
     "start_time": "2024-03-15T23:12:36.023882Z"
    }
   },
   "outputs": [
    {
     "data": {
      "text/plain": "array([[28425,    10],\n       [   10,    36]])"
     },
     "execution_count": 38,
     "metadata": {},
     "output_type": "execute_result"
    }
   ],
   "source": [
    "metrics.confusion_matrix(list(pred[f'{VAR_TARGET}']), list(pred[f'predicted_{VAR_TARGET}']))"
   ]
  },
  {
   "cell_type": "code",
   "execution_count": 39,
   "id": "9648d9fa-7739-4e10-90eb-5956ee5dbb0d",
   "metadata": {
    "ExecuteTime": {
     "end_time": "2024-03-15T23:12:36.601868Z",
     "start_time": "2024-03-15T23:12:36.054614Z"
    }
   },
   "outputs": [
    {
     "data": {
      "text/plain": "<sklearn.metrics._plot.confusion_matrix.ConfusionMatrixDisplay at 0x7fb33b611dc0>"
     },
     "execution_count": 39,
     "metadata": {},
     "output_type": "execute_result"
    },
    {
     "data": {
      "text/plain": "<Figure size 640x480 with 2 Axes>",
      "image/png": "[encoded data removed]"
     },
     "metadata": {},
     "output_type": "display_data"
    }
   ],
   "source": [
    "disp = metrics.ConfusionMatrixDisplay(\n",
    "    confusion_matrix = metrics.confusion_matrix(list(pred[f'{VAR_TARGET}']), list(pred[f'predicted_{VAR_TARGET}']))\n",
    ")\n",
    "disp.plot()"
   ]
  },
  {
   "cell_type": "code",
   "execution_count": 40,
   "id": "7594f48a-4d3c-4e99-8c18-be0b402a36b1",
   "metadata": {
    "ExecuteTime": {
     "end_time": "2024-03-15T23:12:36.674346Z",
     "start_time": "2024-03-15T23:12:36.428086Z"
    }
   },
   "outputs": [
    {
     "data": {
      "text/plain": "0.9992977774656788"
     },
     "execution_count": 40,
     "metadata": {},
     "output_type": "execute_result"
    }
   ],
   "source": [
    "metrics.accuracy_score(list(pred[f'{VAR_TARGET}']), list(pred[f'predicted_{VAR_TARGET}']))"
   ]
  },
  {
   "cell_type": "code",
   "execution_count": 41,
   "id": "75d2c4d7-6622-4629-bc8b-8c1bb4632e27",
   "metadata": {
    "ExecuteTime": {
     "end_time": "2024-03-15T23:12:36.763059Z",
     "start_time": "2024-03-15T23:12:36.456745Z"
    }
   },
   "outputs": [
    {
     "name": "stdout",
     "output_type": "stream",
     "text": [
      "              precision    recall  f1-score   support\n",
      "\n",
      "           0       1.00      1.00      1.00     28435\n",
      "           1       0.78      0.78      0.78        46\n",
      "\n",
      "    accuracy                           1.00     28481\n",
      "   macro avg       0.89      0.89      0.89     28481\n",
      "weighted avg       1.00      1.00      1.00     28481\n"
     ]
    }
   ],
   "source": [
    "print(metrics.classification_report(list(pred[f'{VAR_TARGET}']), list(pred[f'predicted_{VAR_TARGET}'])))"
   ]
  },
  {
   "cell_type": "markdown",
   "id": "099691b5-a7b9-4b9e-be4b-ec00b751c142",
   "metadata": {},
   "source": [
    "---\n",
    "## Explanations\n",
    "[Built-in](https://cloud.google.com/bigquery-ml/docs/reference/standard-sql/bigqueryml-syntax-xai-overview) capabilities to understand how features contributed to predictions both individually (local) and overall (global)."
   ]
  },
  {
   "cell_type": "markdown",
   "id": "9f97d19f-163d-4121-9c77-39fceafab2c1",
   "metadata": {},
   "source": [
    "### Local Explainability\n",
    "Retrieve feature attribution values to interpret each features contribution to a prediction relative to the baseline prediction using [ML.EXPLAIN_PREDICT](https://cloud.google.com/bigquery-ml/docs/reference/standard-sql/bigqueryml-syntax-explain-predict)."
   ]
  },
  {
   "cell_type": "code",
   "execution_count": 42,
   "id": "5fd7e17a-d5db-47b0-8371-1681b42be3f1",
   "metadata": {
    "ExecuteTime": {
     "end_time": "2024-03-15T23:23:24.835619Z",
     "start_time": "2024-03-15T23:12:36.518462Z"
    }
   },
   "outputs": [],
   "source": [
    "query = f\"\"\"\n",
    "SELECT *\n",
    "FROM ML.EXPLAIN_PREDICT (MODEL `{BQ_PROJECT}.{BQ_DATASET}.{BQ_MODEL}`,(\n",
    "    SELECT *\n",
    "    FROM `{BQ_PROJECT}.{BQ_DATASET}.{BQ_TABLE}`\n",
    "    WHERE splits = 'TEST'), STRUCT(10 as top_k_features)\n",
    "  )\n",
    "\"\"\"\n",
    "explain = bq.query(query = query).to_dataframe()"
   ]
  },
  {
   "cell_type": "code",
   "execution_count": 43,
   "id": "5ae65dbb-7059-4c4b-ae48-7bc7b3c53ba1",
   "metadata": {
    "ExecuteTime": {
     "end_time": "2024-03-15T23:23:24.908772Z",
     "start_time": "2024-03-15T23:23:24.868833Z"
    }
   },
   "outputs": [
    {
     "data": {
      "text/plain": "   predicted_Class  probability  \\\n0                0     0.878608   \n1                0     0.880318   \n2                0     0.879128   \n3                0     0.879310   \n4                0     0.880764   \n\n                            top_feature_attributions  \\\n0  [{'feature': 'V12', 'attribution': 0.237204149...   \n1  [{'feature': 'V14', 'attribution': 0.267520725...   \n2  [{'feature': 'V3', 'attribution': 0.2277190834...   \n3  [{'feature': 'V14', 'attribution': 0.446202248...   \n4  [{'feature': 'V14', 'attribution': 0.301815271...   \n\n   baseline_prediction_value  prediction_value  approximation_error      Time  \\\n0                   0.500399          1.485385                  0.0  140315.0   \n1                   0.500399          1.498006                  0.0  171011.0   \n2                   0.500399          1.495791                  0.0   35734.0   \n3                   0.500399          1.488215                  0.0   12973.0   \n4                   0.500399          1.499758                  0.0   64268.0   \n\n         V1        V2        V3  ...       V23       V24       V25       V26  \\\n0  1.882751  0.532175  0.150708  ...  0.487635 -0.024250 -0.512936 -0.516050   \n1 -1.345222  2.280635  2.149265  ... -0.201321  0.007053  0.055551  0.580323   \n2 -2.571353 -2.286027  2.909699  ... -0.363365 -0.520853 -0.024029  1.180507   \n3  1.042687  0.224056  1.651554  ...  0.082059 -0.072716  0.148948 -0.066969   \n4  1.316193 -0.009926 -0.137555  ... -0.136149 -0.126894  0.639381  0.595106   \n\n        V27       V28  Amount  Class                        transaction_id  \\\n0  0.011179 -0.026608     0.0      0  007bcd38-0860-4140-8182-f1a19fea3aa7   \n1 -0.086456 -0.050837     0.0      0  da201b45-1c71-410e-9cb9-d3bfc82b2a15   \n2 -0.309633 -0.296332     0.0      0  47357783-5339-4ede-91f5-5ff57cbb11cd   \n3  0.024569  0.014142     0.0      0  db700585-1fc5-4747-858e-1c36de09ec2a   \n4 -0.070506 -0.010366     0.0      0  72eaec6f-9f06-4d5c-8983-27535cee2b35   \n\n   splits  \n0    TEST  \n1    TEST  \n2    TEST  \n3    TEST  \n4    TEST  \n\n[5 rows x 39 columns]",
      "text/html": "<div>\n<style scoped>\n    .dataframe tbody tr th:only-of-type {\n        vertical-align: middle;\n    }\n\n    .dataframe tbody tr th {\n        vertical-align: top;\n    }\n\n    .dataframe thead th {\n        text-align: right;\n    }\n</style>\n<table border=\"1\" class=\"dataframe\">\n  <thead>\n    <tr style=\"text-align: right;\">\n      <th></th>\n      <th>predicted_Class</th>\n      <th>probability</th>\n      <th>top_feature_attributions</th>\n      <th>baseline_prediction_value</th>\n      <th>prediction_value</th>\n      <th>approximation_error</th>\n      <th>Time</th>\n      <th>V1</th>\n      <th>V2</th>\n      <th>V3</th>\n      <th>...</th>\n      <th>V23</th>\n      <th>V24</th>\n      <th>V25</th>\n      <th>V26</th>\n      <th>V27</th>\n      <th>V28</th>\n      <th>Amount</th>\n      <th>Class</th>\n      <th>transaction_id</th>\n      <th>splits</th>\n    </tr>\n  </thead>\n  <tbody>\n    <tr>\n      <th>0</th>\n      <td>0</td>\n      <td>0.878608</td>\n      <td>[{'feature': 'V12', 'attribution': 0.237204149...</td>\n      <td>0.500399</td>\n      <td>1.485385</td>\n      <td>0.0</td>\n      <td>140315.0</td>\n      <td>1.882751</td>\n      <td>0.532175</td>\n      <td>0.150708</td>\n      <td>...</td>\n      <td>0.487635</td>\n      <td>-0.024250</td>\n      <td>-0.512936</td>\n      <td>-0.516050</td>\n      <td>0.011179</td>\n      <td>-0.026608</td>\n      <td>0.0</td>\n      <td>0</td>\n      <td>007bcd38-0860-4140-8182-f1a19fea3aa7</td>\n      <td>TEST</td>\n    </tr>\n    <tr>\n      <th>1</th>\n      <td>0</td>\n      <td>0.880318</td>\n      <td>[{'feature': 'V14', 'attribution': 0.267520725...</td>\n      <td>0.500399</td>\n      <td>1.498006</td>\n      <td>0.0</td>\n      <td>171011.0</td>\n      <td>-1.345222</td>\n      <td>2.280635</td>\n      <td>2.149265</td>\n      <td>...</td>\n      <td>-0.201321</td>\n      <td>0.007053</td>\n      <td>0.055551</td>\n      <td>0.580323</td>\n      <td>-0.086456</td>\n      <td>-0.050837</td>\n      <td>0.0</td>\n      <td>0</td>\n      <td>da201b45-1c71-410e-9cb9-d3bfc82b2a15</td>\n      <td>TEST</td>\n    </tr>\n    <tr>\n      <th>2</th>\n      <td>0</td>\n      <td>0.879128</td>\n      <td>[{'feature': 'V3', 'attribution': 0.2277190834...</td>\n      <td>0.500399</td>\n      <td>1.495791</td>\n      <td>0.0</td>\n      <td>35734.0</td>\n      <td>-2.571353</td>\n      <td>-2.286027</td>\n      <td>2.909699</td>\n      <td>...</td>\n      <td>-0.363365</td>\n      <td>-0.520853</td>\n      <td>-0.024029</td>\n      <td>1.180507</td>\n      <td>-0.309633</td>\n      <td>-0.296332</td>\n      <td>0.0</td>\n      <td>0</td>\n      <td>47357783-5339-4ede-91f5-5ff57cbb11cd</td>\n      <td>TEST</td>\n    </tr>\n    <tr>\n      <th>3</th>\n      <td>0</td>\n      <td>0.879310</td>\n      <td>[{'feature': 'V14', 'attribution': 0.446202248...</td>\n      <td>0.500399</td>\n      <td>1.488215</td>\n      <td>0.0</td>\n      <td>12973.0</td>\n      <td>1.042687</td>\n      <td>0.224056</td>\n      <td>1.651554</td>\n      <td>...</td>\n      <td>0.082059</td>\n      <td>-0.072716</td>\n      <td>0.148948</td>\n      <td>-0.066969</td>\n      <td>0.024569</td>\n      <td>0.014142</td>\n      <td>0.0</td>\n      <td>0</td>\n      <td>db700585-1fc5-4747-858e-1c36de09ec2a</td>\n      <td>TEST</td>\n    </tr>\n    <tr>\n      <th>4</th>\n      <td>0</td>\n      <td>0.880764</td>\n      <td>[{'feature': 'V14', 'attribution': 0.301815271...</td>\n      <td>0.500399</td>\n      <td>1.499758</td>\n      <td>0.0</td>\n      <td>64268.0</td>\n      <td>1.316193</td>\n      <td>-0.009926</td>\n      <td>-0.137555</td>\n      <td>...</td>\n      <td>-0.136149</td>\n      <td>-0.126894</td>\n      <td>0.639381</td>\n      <td>0.595106</td>\n      <td>-0.070506</td>\n      <td>-0.010366</td>\n      <td>0.0</td>\n      <td>0</td>\n      <td>72eaec6f-9f06-4d5c-8983-27535cee2b35</td>\n      <td>TEST</td>\n    </tr>\n  </tbody>\n</table>\n<p>5 rows × 39 columns</p>\n</div>"
     },
     "execution_count": 43,
     "metadata": {},
     "output_type": "execute_result"
    }
   ],
   "source": [
    "explain.head()"
   ]
  },
  {
   "cell_type": "markdown",
   "id": "c75e7fa0-af70-4371-bd7b-2bbd65dcacb9",
   "metadata": {},
   "source": [
    "Create a plot of feature attributions for a single prediction:"
   ]
  },
  {
   "cell_type": "code",
   "execution_count": 44,
   "id": "09ff4fc8-a20f-429f-bfd2-2c0dbaeea325",
   "metadata": {
    "ExecuteTime": {
     "end_time": "2024-03-15T23:23:24.962528Z",
     "start_time": "2024-03-15T23:23:24.882156Z"
    }
   },
   "outputs": [],
   "source": [
    "explanation = explain.iloc[0]['top_feature_attributions']"
   ]
  },
  {
   "cell_type": "code",
   "execution_count": 45,
   "id": "8ff1a952-885b-48e4-83fb-7586d41a8c21",
   "metadata": {
    "ExecuteTime": {
     "end_time": "2024-03-15T23:23:25.357663Z",
     "start_time": "2024-03-15T23:23:24.901699Z"
    }
   },
   "outputs": [
    {
     "data": {
      "text/plain": "<Figure size 1500x500 with 1 Axes>",
      "image/png": "[encoded data removed]"
     },
     "metadata": {},
     "output_type": "display_data"
    }
   ],
   "source": [
    "features = []\n",
    "scores = []\n",
    "for k in explanation:\n",
    "    features.append(k['feature'])\n",
    "    scores.append(k['attribution'])\n",
    "features = [x for _, x in sorted(zip(scores, features))]\n",
    "scores = sorted(scores)\n",
    "\n",
    "plt.figure(figsize=(15,5))\n",
    "plt.barh(features, scores)\n",
    "plt.title('Feature Attribution for Prediction')\n",
    "plt.show()"
   ]
  },
  {
   "cell_type": "markdown",
   "id": "030b067b-33b2-427d-a509-a094a5d56e64",
   "metadata": {},
   "source": [
    "### Global Explainability\n",
    "Retrieve the influence of each feature on the model with [ML.GLOBAL_EXPLAIN](https://cloud.google.com/bigquery-ml/docs/reference/standard-sql/bigqueryml-syntax-global-explain).  "
   ]
  },
  {
   "cell_type": "code",
   "execution_count": 46,
   "id": "3ef61160-5723-421e-bd81-1bbc388a8562",
   "metadata": {
    "ExecuteTime": {
     "end_time": "2024-03-15T23:23:26.456946Z",
     "start_time": "2024-03-15T23:23:25.164649Z"
    }
   },
   "outputs": [],
   "source": [
    "query = f\"\"\"\n",
    "SELECT *\n",
    "FROM ML.GLOBAL_EXPLAIN (MODEL `{BQ_PROJECT}.{BQ_DATASET}.{BQ_MODEL}`)\n",
    "\"\"\"\n",
    "gexplain = bq.query(query = query).to_dataframe()"
   ]
  },
  {
   "cell_type": "code",
   "execution_count": 47,
   "id": "e576d895-17a5-4103-be98-414eb40f2f40",
   "metadata": {
    "ExecuteTime": {
     "end_time": "2024-03-15T23:23:26.460778Z",
     "start_time": "2024-03-15T23:23:26.226343Z"
    }
   },
   "outputs": [
    {
     "data": {
      "text/plain": "  feature  attribution\n0     V14     0.514680\n1     V10     0.193411\n2      V4     0.132737\n3     V12     0.078117\n4     V17     0.053619",
      "text/html": "<div>\n<style scoped>\n    .dataframe tbody tr th:only-of-type {\n        vertical-align: middle;\n    }\n\n    .dataframe tbody tr th {\n        vertical-align: top;\n    }\n\n    .dataframe thead th {\n        text-align: right;\n    }\n</style>\n<table border=\"1\" class=\"dataframe\">\n  <thead>\n    <tr style=\"text-align: right;\">\n      <th></th>\n      <th>feature</th>\n      <th>attribution</th>\n    </tr>\n  </thead>\n  <tbody>\n    <tr>\n      <th>0</th>\n      <td>V14</td>\n      <td>0.514680</td>\n    </tr>\n    <tr>\n      <th>1</th>\n      <td>V10</td>\n      <td>0.193411</td>\n    </tr>\n    <tr>\n      <th>2</th>\n      <td>V4</td>\n      <td>0.132737</td>\n    </tr>\n    <tr>\n      <th>3</th>\n      <td>V12</td>\n      <td>0.078117</td>\n    </tr>\n    <tr>\n      <th>4</th>\n      <td>V17</td>\n      <td>0.053619</td>\n    </tr>\n  </tbody>\n</table>\n</div>"
     },
     "execution_count": 47,
     "metadata": {},
     "output_type": "execute_result"
    }
   ],
   "source": [
    "gexplain.head()"
   ]
  },
  {
   "cell_type": "code",
   "execution_count": 48,
   "id": "1724a6f0-e15c-4f91-96ec-a0472689c608",
   "metadata": {
    "ExecuteTime": {
     "end_time": "2024-03-15T23:23:26.943291Z",
     "start_time": "2024-03-15T23:23:26.235406Z"
    }
   },
   "outputs": [
    {
     "data": {
      "text/plain": "<Figure size 1500x800 with 1 Axes>",
      "image/png": "[encoded data removed]"
     },
     "metadata": {},
     "output_type": "display_data"
    }
   ],
   "source": [
    "plt.figure(figsize=(15,8))\n",
    "plt.barh(gexplain['feature'], gexplain['attribution'])\n",
    "plt.title('Global Influence')\n",
    "plt.xlabel('Attribution')\n",
    "#plt.ylabel('Feature')\n",
    "plt.show()"
   ]
  },
  {
   "cell_type": "markdown",
   "id": "94e0b28f-268b-4dce-83ad-be02229f002b",
   "metadata": {},
   "source": [
    "### Feature Importance\n",
    "\n",
    "Retrieve the [XGBoost feature importances](https://xgboost.readthedocs.io/en/latest/python/python_api.html#xgboost.XGBRegressor.feature_importances_) for the model using [ML.FEATURE_IMPORTANCE](https://cloud.google.com/bigquery-ml/docs/reference/standard-sql/bigqueryml-syntax-importance).\n",
    "- importance_weight: the number of splits the feature was used in across all trees\n",
    "- importance_gain: the improvement in accuracy due to splits using the feature\n",
    "- importance_cover: the number of rows of data covered by splits using the feature"
   ]
  },
  {
   "cell_type": "code",
   "execution_count": 49,
   "id": "ea3fbd20-aace-463c-a581-5c9eb82d18f6",
   "metadata": {
    "ExecuteTime": {
     "end_time": "2024-03-15T23:23:27.842499Z",
     "start_time": "2024-03-15T23:23:26.885702Z"
    }
   },
   "outputs": [],
   "source": [
    "query = f\"\"\"\n",
    "SELECT *\n",
    "FROM ML.FEATURE_IMPORTANCE (MODEL `{BQ_PROJECT}.{BQ_DATASET}.{BQ_MODEL}`)\n",
    "\"\"\"\n",
    "feature_importance = bq.query(query = query).to_dataframe()"
   ]
  },
  {
   "cell_type": "code",
   "execution_count": 50,
   "id": "04e8a31f-5e9f-41b1-9987-ea8537976f34",
   "metadata": {
    "ExecuteTime": {
     "end_time": "2024-03-15T23:23:27.862150Z",
     "start_time": "2024-03-15T23:23:27.821039Z"
    }
   },
   "outputs": [
    {
     "data": {
      "text/plain": "   feature  importance_weight  importance_gain  importance_cover\n0     Time               1823       138.855537       3320.903101\n1       V1               1807       133.753737       3202.119457\n2       V2                936       114.792515       3934.010586\n3       V3               1818       270.434569       8599.242970\n4       V4               2394       898.989281      13093.053776\n5       V5               1115       226.052285       1473.374258\n6       V6               1147       165.553836       1945.051246\n7       V7               1507       296.002764      11940.095893\n8       V8               1251       317.091746       2297.418455\n9       V9               1070       142.475194       4450.759499\n10     V10               1491      4471.922805      17701.223623\n11     V11               1839       240.261016      10138.501345\n12     V12               2187      1097.647469      12999.121233\n13     V13               1818       197.308729       3631.789823\n14     V14               2240      8801.700779      24182.366545\n15     V15               1327       176.382241       3539.773500\n16     V16               1217       193.424441       3380.993784\n17     V17               1370       662.281531      13336.636915\n18     V18               1244       178.931208       1890.252218\n19     V19               1484       262.871194       6126.758211\n20     V20                930       460.342133      15443.204432\n21     V21                737       232.621190       5053.700366\n22     V22                776       260.349167       7647.102174\n23     V23                897       248.769482       6613.658807\n24     V24               1119        87.317334       3323.369120\n25     V25               1375       161.909063       3530.000459\n26     V26               1432       251.508654       4870.508927\n27     V27                854       119.426601       2630.229941\n28     V28               1107       141.324503       1685.758771\n29  Amount               1180       260.890556       9026.326925",
      "text/html": "<div>\n<style scoped>\n    .dataframe tbody tr th:only-of-type {\n        vertical-align: middle;\n    }\n\n    .dataframe tbody tr th {\n        vertical-align: top;\n    }\n\n    .dataframe thead th {\n        text-align: right;\n    }\n</style>\n<table border=\"1\" class=\"dataframe\">\n  <thead>\n    <tr style=\"text-align: right;\">\n      <th></th>\n      <th>feature</th>\n      <th>importance_weight</th>\n      <th>importance_gain</th>\n      <th>importance_cover</th>\n    </tr>\n  </thead>\n  <tbody>\n    <tr>\n      <th>0</th>\n      <td>Time</td>\n      <td>1823</td>\n      <td>138.855537</td>\n      <td>3320.903101</td>\n    </tr>\n    <tr>\n      <th>1</th>\n      <td>V1</td>\n      <td>1807</td>\n      <td>133.753737</td>\n      <td>3202.119457</td>\n    </tr>\n    <tr>\n      <th>2</th>\n      <td>V2</td>\n      <td>936</td>\n      <td>114.792515</td>\n      <td>3934.010586</td>\n    </tr>\n    <tr>\n      <th>3</th>\n      <td>V3</td>\n      <td>1818</td>\n      <td>270.434569</td>\n      <td>8599.242970</td>\n    </tr>\n    <tr>\n      <th>4</th>\n      <td>V4</td>\n      <td>2394</td>\n      <td>898.989281</td>\n      <td>13093.053776</td>\n    </tr>\n    <tr>\n      <th>5</th>\n      <td>V5</td>\n      <td>1115</td>\n      <td>226.052285</td>\n      <td>1473.374258</td>\n    </tr>\n    <tr>\n      <th>6</th>\n      <td>V6</td>\n      <td>1147</td>\n      <td>165.553836</td>\n      <td>1945.051246</td>\n    </tr>\n    <tr>\n      <th>7</th>\n      <td>V7</td>\n      <td>1507</td>\n      <td>296.002764</td>\n      <td>11940.095893</td>\n    </tr>\n    <tr>\n      <th>8</th>\n      <td>V8</td>\n      <td>1251</td>\n      <td>317.091746</td>\n      <td>2297.418455</td>\n    </tr>\n    <tr>\n      <th>9</th>\n      <td>V9</td>\n      <td>1070</td>\n      <td>142.475194</td>\n      <td>4450.759499</td>\n    </tr>\n    <tr>\n      <th>10</th>\n      <td>V10</td>\n      <td>1491</td>\n      <td>4471.922805</td>\n      <td>17701.223623</td>\n    </tr>\n    <tr>\n      <th>11</th>\n      <td>V11</td>\n      <td>1839</td>\n      <td>240.261016</td>\n      <td>10138.501345</td>\n    </tr>\n    <tr>\n      <th>12</th>\n      <td>V12</td>\n      <td>2187</td>\n      <td>1097.647469</td>\n      <td>12999.121233</td>\n    </tr>\n    <tr>\n      <th>13</th>\n      <td>V13</td>\n      <td>1818</td>\n      <td>197.308729</td>\n      <td>3631.789823</td>\n    </tr>\n    <tr>\n      <th>14</th>\n      <td>V14</td>\n      <td>2240</td>\n      <td>8801.700779</td>\n      <td>24182.366545</td>\n    </tr>\n    <tr>\n      <th>15</th>\n      <td>V15</td>\n      <td>1327</td>\n      <td>176.382241</td>\n      <td>3539.773500</td>\n    </tr>\n    <tr>\n      <th>16</th>\n      <td>V16</td>\n      <td>1217</td>\n      <td>193.424441</td>\n      <td>3380.993784</td>\n    </tr>\n    <tr>\n      <th>17</th>\n      <td>V17</td>\n      <td>1370</td>\n      <td>662.281531</td>\n      <td>13336.636915</td>\n    </tr>\n    <tr>\n      <th>18</th>\n      <td>V18</td>\n      <td>1244</td>\n      <td>178.931208</td>\n      <td>1890.252218</td>\n    </tr>\n    <tr>\n      <th>19</th>\n      <td>V19</td>\n      <td>1484</td>\n      <td>262.871194</td>\n      <td>6126.758211</td>\n    </tr>\n    <tr>\n      <th>20</th>\n      <td>V20</td>\n      <td>930</td>\n      <td>460.342133</td>\n      <td>15443.204432</td>\n    </tr>\n    <tr>\n      <th>21</th>\n      <td>V21</td>\n      <td>737</td>\n      <td>232.621190</td>\n      <td>5053.700366</td>\n    </tr>\n    <tr>\n      <th>22</th>\n      <td>V22</td>\n      <td>776</td>\n      <td>260.349167</td>\n      <td>7647.102174</td>\n    </tr>\n    <tr>\n      <th>23</th>\n      <td>V23</td>\n      <td>897</td>\n      <td>248.769482</td>\n      <td>6613.658807</td>\n    </tr>\n    <tr>\n      <th>24</th>\n      <td>V24</td>\n      <td>1119</td>\n      <td>87.317334</td>\n      <td>3323.369120</td>\n    </tr>\n    <tr>\n      <th>25</th>\n      <td>V25</td>\n      <td>1375</td>\n      <td>161.909063</td>\n      <td>3530.000459</td>\n    </tr>\n    <tr>\n      <th>26</th>\n      <td>V26</td>\n      <td>1432</td>\n      <td>251.508654</td>\n      <td>4870.508927</td>\n    </tr>\n    <tr>\n      <th>27</th>\n      <td>V27</td>\n      <td>854</td>\n      <td>119.426601</td>\n      <td>2630.229941</td>\n    </tr>\n    <tr>\n      <th>28</th>\n      <td>V28</td>\n      <td>1107</td>\n      <td>141.324503</td>\n      <td>1685.758771</td>\n    </tr>\n    <tr>\n      <th>29</th>\n      <td>Amount</td>\n      <td>1180</td>\n      <td>260.890556</td>\n      <td>9026.326925</td>\n    </tr>\n  </tbody>\n</table>\n</div>"
     },
     "execution_count": 50,
     "metadata": {},
     "output_type": "execute_result"
    }
   ],
   "source": [
    "feature_importance"
   ]
  },
  {
   "cell_type": "markdown",
   "source": [],
   "metadata": {
    "collapsed": false
   },
   "id": "1cafe06172c70ca0"
  },
  {
   "cell_type": "markdown",
   "id": "e1c5b147-a9ec-4251-9155-512a38aff7f7",
   "metadata": {},
   "source": [
    "---\n",
    "## Serving With Vertex AI\n",
    "\n",
    "The training options for creating the model include registering the model the Vertex AI Automatically.  This makes deploying the model to a [Vertex AI Endpoint for online serving](https://cloud.google.com/vertex-ai/docs/general/deployment) very easy."
   ]
  },
  {
   "cell_type": "markdown",
   "id": "af3469ad-e3b9-4f88-b26c-5576ac235953",
   "metadata": {},
   "source": [
    "### Vertex AI Model Registry - Get Model\n",
    "\n",
    "When these modes were trained in BigQuery ML they included options for registration in Vertex AI Model Registry.  This section shows how to retrieve the information from the model using the [Vertex AI Python Client](../Tips/aiplatform_notes.md).\n",
    "\n",
    "References:\n",
    "- [aiplatform.Model()](https://cloud.google.com/python/docs/reference/aiplatform/latest/google.cloud.aiplatform.Model)"
   ]
  },
  {
   "cell_type": "code",
   "execution_count": 51,
   "id": "67ef0ccf-5c06-405d-93c0-88bcb6b7af78",
   "metadata": {
    "ExecuteTime": {
     "end_time": "2024-03-15T23:23:44.689429Z",
     "start_time": "2024-03-15T23:23:44.164464Z"
    }
   },
   "outputs": [
    {
     "data": {
      "text/plain": "'projects/993073267534/locations/us-central1/models/bqml_random-forest'"
     },
     "execution_count": 51,
     "metadata": {},
     "output_type": "execute_result"
    }
   ],
   "source": [
    "vertex_model = aiplatform.Model(model_name = f'{SERIES}_{EXPERIMENT}')\n",
    "vertex_model.resource_name"
   ]
  },
  {
   "cell_type": "code",
   "execution_count": 52,
   "id": "0e33688f-6921-4967-9697-e6f2636502a4",
   "metadata": {
    "ExecuteTime": {
     "end_time": "2024-03-15T23:23:47.628138Z",
     "start_time": "2024-03-15T23:23:46.729669Z"
    }
   },
   "outputs": [
    {
     "data": {
      "text/plain": "{'rows': [[40.0, 6.0], [243.0, 28140.0]],\n 'annotationSpecs': [{'displayName': '1', 'id': '0'},\n  {'displayName': '0', 'id': '1'}]}"
     },
     "execution_count": 52,
     "metadata": {},
     "output_type": "execute_result"
    }
   ],
   "source": [
    "aiplatform.ModelEvaluation(\n",
    "    evaluation_name = vertex_model.get_model_evaluation().resource_name\n",
    ").to_dict()['metrics']['confusionMatrix']"
   ]
  },
  {
   "cell_type": "code",
   "execution_count": 53,
   "id": "4ffdc177-f523-45f7-848b-76a6049cfff1",
   "metadata": {
    "ExecuteTime": {
     "end_time": "2024-03-15T23:24:24.905006Z",
     "start_time": "2024-03-15T23:24:24.828767Z"
    }
   },
   "outputs": [],
   "source": [
    "# note: this is blank since the model is managed by BQML and container is pre-specified\n",
    "vertex_model.uri "
   ]
  },
  {
   "cell_type": "markdown",
   "id": "ef9c10ad-171c-4544-9304-cd3f02470a2d",
   "metadata": {},
   "source": [
    "### SKIP Vertex AI Endpoint - Create or Retrieve\n",
    "\n",
    "References:\n",
    "- [aiplatform.Endpoint()](https://cloud.google.com/python/docs/reference/aiplatform/latest/google.cloud.aiplatform.Endpoint)"
   ]
  },
  {
   "cell_type": "code",
   "execution_count": 49,
   "id": "3cde7f56-e07f-42fd-bec1-4e1d12bdd591",
   "metadata": {},
   "outputs": [
    {
     "name": "stdout",
     "output_type": "stream",
     "text": [
      "Endpoint Found: bqml\n"
     ]
    }
   ],
   "source": [
    "if not aiplatform.Endpoint.list(filter = f\"display_name={SERIES}\"):\n",
    "    endpoint = aiplatform.Endpoint.create(\n",
    "        display_name = f\"{SERIES}\",\n",
    "        labels = {'series' : f\"{SERIES}\"}\n",
    "    )\n",
    "    print(f\"Endpoint Created: {endpoint.display_name}\")\n",
    "else:\n",
    "    endpoint = aiplatform.Endpoint.list(filter = f\"display_name={SERIES}\")[0]\n",
    "    print(f\"Endpoint Found: {endpoint.display_name}\")"
   ]
  },
  {
   "cell_type": "code",
   "execution_count": 50,
   "id": "26272c00-32a4-47e9-89e4-356eca1b77c2",
   "metadata": {},
   "outputs": [
    {
     "data": {
      "text/plain": [
       "'bqml'"
      ]
     },
     "execution_count": 50,
     "metadata": {},
     "output_type": "execute_result"
    }
   ],
   "source": [
    "endpoint.display_name"
   ]
  },
  {
   "cell_type": "code",
   "execution_count": 51,
   "id": "8c8f410e-ce0f-4fd3-9706-f48e98ad310e",
   "metadata": {},
   "outputs": [
    {
     "data": {
      "text/plain": [
       "{'175871282909282304': 100}"
      ]
     },
     "execution_count": 51,
     "metadata": {},
     "output_type": "execute_result"
    }
   ],
   "source": [
    "endpoint.traffic_split"
   ]
  },
  {
   "cell_type": "code",
   "execution_count": 52,
   "id": "7d707ba4-8c1c-41b0-8cf9-5bf5eb3cf806",
   "metadata": {},
   "outputs": [
    {
     "data": {
      "text/plain": [
       "[id: \"175871282909282304\"\n",
       " model: \"projects/1026793852137/locations/us-central1/models/bqml_bqml_boosted-tree\"\n",
       " display_name: \"bqml_bqml_boosted-tree\"\n",
       " create_time {\n",
       "   seconds: 1687881570\n",
       "   nanos: 906486000\n",
       " }\n",
       " dedicated_resources {\n",
       "   machine_spec {\n",
       "     machine_type: \"n1-standard-2\"\n",
       "   }\n",
       "   min_replica_count: 1\n",
       "   max_replica_count: 1\n",
       " }\n",
       " explanation_spec {\n",
       "   parameters {\n",
       "     sampled_shapley_attribution {\n",
       "       path_count: 5\n",
       "     }\n",
       "   }\n",
       "   metadata {\n",
       "     inputs {\n",
       "       key: \"Amount\"\n",
       "       value {\n",
       "       }\n",
       "     }\n",
       "     inputs {\n",
       "       key: \"Time\"\n",
       "       value {\n",
       "       }\n",
       "     }\n",
       "     inputs {\n",
       "       key: \"V1\"\n",
       "       value {\n",
       "       }\n",
       "     }\n",
       "     inputs {\n",
       "       key: \"V10\"\n",
       "       value {\n",
       "       }\n",
       "     }\n",
       "     inputs {\n",
       "       key: \"V11\"\n",
       "       value {\n",
       "       }\n",
       "     }\n",
       "     inputs {\n",
       "       key: \"V12\"\n",
       "       value {\n",
       "       }\n",
       "     }\n",
       "     inputs {\n",
       "       key: \"V13\"\n",
       "       value {\n",
       "       }\n",
       "     }\n",
       "     inputs {\n",
       "       key: \"V14\"\n",
       "       value {\n",
       "       }\n",
       "     }\n",
       "     inputs {\n",
       "       key: \"V15\"\n",
       "       value {\n",
       "       }\n",
       "     }\n",
       "     inputs {\n",
       "       key: \"V16\"\n",
       "       value {\n",
       "       }\n",
       "     }\n",
       "     inputs {\n",
       "       key: \"V17\"\n",
       "       value {\n",
       "       }\n",
       "     }\n",
       "     inputs {\n",
       "       key: \"V18\"\n",
       "       value {\n",
       "       }\n",
       "     }\n",
       "     inputs {\n",
       "       key: \"V19\"\n",
       "       value {\n",
       "       }\n",
       "     }\n",
       "     inputs {\n",
       "       key: \"V2\"\n",
       "       value {\n",
       "       }\n",
       "     }\n",
       "     inputs {\n",
       "       key: \"V20\"\n",
       "       value {\n",
       "       }\n",
       "     }\n",
       "     inputs {\n",
       "       key: \"V21\"\n",
       "       value {\n",
       "       }\n",
       "     }\n",
       "     inputs {\n",
       "       key: \"V22\"\n",
       "       value {\n",
       "       }\n",
       "     }\n",
       "     inputs {\n",
       "       key: \"V23\"\n",
       "       value {\n",
       "       }\n",
       "     }\n",
       "     inputs {\n",
       "       key: \"V24\"\n",
       "       value {\n",
       "       }\n",
       "     }\n",
       "     inputs {\n",
       "       key: \"V25\"\n",
       "       value {\n",
       "       }\n",
       "     }\n",
       "     inputs {\n",
       "       key: \"V26\"\n",
       "       value {\n",
       "       }\n",
       "     }\n",
       "     inputs {\n",
       "       key: \"V27\"\n",
       "       value {\n",
       "       }\n",
       "     }\n",
       "     inputs {\n",
       "       key: \"V28\"\n",
       "       value {\n",
       "       }\n",
       "     }\n",
       "     inputs {\n",
       "       key: \"V3\"\n",
       "       value {\n",
       "       }\n",
       "     }\n",
       "     inputs {\n",
       "       key: \"V4\"\n",
       "       value {\n",
       "       }\n",
       "     }\n",
       "     inputs {\n",
       "       key: \"V5\"\n",
       "       value {\n",
       "       }\n",
       "     }\n",
       "     inputs {\n",
       "       key: \"V6\"\n",
       "       value {\n",
       "       }\n",
       "     }\n",
       "     inputs {\n",
       "       key: \"V7\"\n",
       "       value {\n",
       "       }\n",
       "     }\n",
       "     inputs {\n",
       "       key: \"V8\"\n",
       "       value {\n",
       "       }\n",
       "     }\n",
       "     inputs {\n",
       "       key: \"V9\"\n",
       "       value {\n",
       "       }\n",
       "     }\n",
       "     outputs {\n",
       "       key: \"label_probs\"\n",
       "       value {\n",
       "       }\n",
       "     }\n",
       "   }\n",
       " }\n",
       " disable_container_logging: true\n",
       " model_version_id: \"1\"]"
      ]
     },
     "execution_count": 52,
     "metadata": {},
     "output_type": "execute_result"
    }
   ],
   "source": [
    "deployed_models = endpoint.list_models()\n",
    "deployed_models"
   ]
  },
  {
   "cell_type": "markdown",
   "id": "6f318443-3888-454e-9f13-b4f7d2cedc56",
   "metadata": {},
   "source": [
    "### Deploy Model To Vertex AI Endpoint\n",
    "\n",
    "**NOTE: This can take 15+ minutes to complete.**\n",
    "\n",
    "Reference:\n",
    "- [aiplatform.Endpoint.deploy()](https://cloud.google.com/python/docs/reference/aiplatform/latest/google.cloud.aiplatform.Endpoint#google_cloud_aiplatform_Endpoint_deploy)"
   ]
  },
  {
   "cell_type": "code",
   "execution_count": 53,
   "id": "3307b83b-f81c-40bd-8eca-6985fdc8f85c",
   "metadata": {},
   "outputs": [
    {
     "name": "stdout",
     "output_type": "stream",
     "text": [
      "Deploying Model projects/1026793852137/locations/us-central1/models/bqml_bqml_random-forest to Endpoint : projects/1026793852137/locations/us-central1/endpoints/5386265571916513280\n",
      "Deploy Endpoint model backing LRO: projects/1026793852137/locations/us-central1/endpoints/5386265571916513280/operations/8678706068450181120\n",
      "Endpoint model deployed. Resource name: projects/1026793852137/locations/us-central1/endpoints/5386265571916513280\n"
     ]
    }
   ],
   "source": [
    "endpoint.deploy(\n",
    "    model = vertex_model,\n",
    "    deployed_model_display_name = vertex_model.display_name,\n",
    "    traffic_percentage = 100,\n",
    "    machine_type = 'n1-standard-2',\n",
    "    min_replica_count = 1,\n",
    "    max_replica_count = 1\n",
    ")"
   ]
  },
  {
   "cell_type": "code",
   "execution_count": 54,
   "id": "145c0fb5-5fd0-485b-a514-faf5142a1036",
   "metadata": {},
   "outputs": [
    {
     "data": {
      "text/plain": [
       "[id: \"175871282909282304\"\n",
       " model: \"projects/1026793852137/locations/us-central1/models/bqml_bqml_boosted-tree\"\n",
       " display_name: \"bqml_bqml_boosted-tree\"\n",
       " create_time {\n",
       "   seconds: 1687881570\n",
       "   nanos: 906486000\n",
       " }\n",
       " dedicated_resources {\n",
       "   machine_spec {\n",
       "     machine_type: \"n1-standard-2\"\n",
       "   }\n",
       "   min_replica_count: 1\n",
       "   max_replica_count: 1\n",
       " }\n",
       " explanation_spec {\n",
       "   parameters {\n",
       "     sampled_shapley_attribution {\n",
       "       path_count: 5\n",
       "     }\n",
       "   }\n",
       "   metadata {\n",
       "     inputs {\n",
       "       key: \"Amount\"\n",
       "       value {\n",
       "       }\n",
       "     }\n",
       "     inputs {\n",
       "       key: \"Time\"\n",
       "       value {\n",
       "       }\n",
       "     }\n",
       "     inputs {\n",
       "       key: \"V1\"\n",
       "       value {\n",
       "       }\n",
       "     }\n",
       "     inputs {\n",
       "       key: \"V10\"\n",
       "       value {\n",
       "       }\n",
       "     }\n",
       "     inputs {\n",
       "       key: \"V11\"\n",
       "       value {\n",
       "       }\n",
       "     }\n",
       "     inputs {\n",
       "       key: \"V12\"\n",
       "       value {\n",
       "       }\n",
       "     }\n",
       "     inputs {\n",
       "       key: \"V13\"\n",
       "       value {\n",
       "       }\n",
       "     }\n",
       "     inputs {\n",
       "       key: \"V14\"\n",
       "       value {\n",
       "       }\n",
       "     }\n",
       "     inputs {\n",
       "       key: \"V15\"\n",
       "       value {\n",
       "       }\n",
       "     }\n",
       "     inputs {\n",
       "       key: \"V16\"\n",
       "       value {\n",
       "       }\n",
       "     }\n",
       "     inputs {\n",
       "       key: \"V17\"\n",
       "       value {\n",
       "       }\n",
       "     }\n",
       "     inputs {\n",
       "       key: \"V18\"\n",
       "       value {\n",
       "       }\n",
       "     }\n",
       "     inputs {\n",
       "       key: \"V19\"\n",
       "       value {\n",
       "       }\n",
       "     }\n",
       "     inputs {\n",
       "       key: \"V2\"\n",
       "       value {\n",
       "       }\n",
       "     }\n",
       "     inputs {\n",
       "       key: \"V20\"\n",
       "       value {\n",
       "       }\n",
       "     }\n",
       "     inputs {\n",
       "       key: \"V21\"\n",
       "       value {\n",
       "       }\n",
       "     }\n",
       "     inputs {\n",
       "       key: \"V22\"\n",
       "       value {\n",
       "       }\n",
       "     }\n",
       "     inputs {\n",
       "       key: \"V23\"\n",
       "       value {\n",
       "       }\n",
       "     }\n",
       "     inputs {\n",
       "       key: \"V24\"\n",
       "       value {\n",
       "       }\n",
       "     }\n",
       "     inputs {\n",
       "       key: \"V25\"\n",
       "       value {\n",
       "       }\n",
       "     }\n",
       "     inputs {\n",
       "       key: \"V26\"\n",
       "       value {\n",
       "       }\n",
       "     }\n",
       "     inputs {\n",
       "       key: \"V27\"\n",
       "       value {\n",
       "       }\n",
       "     }\n",
       "     inputs {\n",
       "       key: \"V28\"\n",
       "       value {\n",
       "       }\n",
       "     }\n",
       "     inputs {\n",
       "       key: \"V3\"\n",
       "       value {\n",
       "       }\n",
       "     }\n",
       "     inputs {\n",
       "       key: \"V4\"\n",
       "       value {\n",
       "       }\n",
       "     }\n",
       "     inputs {\n",
       "       key: \"V5\"\n",
       "       value {\n",
       "       }\n",
       "     }\n",
       "     inputs {\n",
       "       key: \"V6\"\n",
       "       value {\n",
       "       }\n",
       "     }\n",
       "     inputs {\n",
       "       key: \"V7\"\n",
       "       value {\n",
       "       }\n",
       "     }\n",
       "     inputs {\n",
       "       key: \"V8\"\n",
       "       value {\n",
       "       }\n",
       "     }\n",
       "     inputs {\n",
       "       key: \"V9\"\n",
       "       value {\n",
       "       }\n",
       "     }\n",
       "     outputs {\n",
       "       key: \"label_probs\"\n",
       "       value {\n",
       "       }\n",
       "     }\n",
       "   }\n",
       " }\n",
       " disable_container_logging: true\n",
       " model_version_id: \"1\",\n",
       " id: \"2276800509077618688\"\n",
       " model: \"projects/1026793852137/locations/us-central1/models/bqml_bqml_random-forest\"\n",
       " display_name: \"bqml_bqml_random-forest\"\n",
       " create_time {\n",
       "   seconds: 1687884140\n",
       "   nanos: 79493000\n",
       " }\n",
       " dedicated_resources {\n",
       "   machine_spec {\n",
       "     machine_type: \"n1-standard-2\"\n",
       "   }\n",
       "   min_replica_count: 1\n",
       "   max_replica_count: 1\n",
       " }\n",
       " explanation_spec {\n",
       "   parameters {\n",
       "     sampled_shapley_attribution {\n",
       "       path_count: 5\n",
       "     }\n",
       "   }\n",
       "   metadata {\n",
       "     inputs {\n",
       "       key: \"Amount\"\n",
       "       value {\n",
       "       }\n",
       "     }\n",
       "     inputs {\n",
       "       key: \"Time\"\n",
       "       value {\n",
       "       }\n",
       "     }\n",
       "     inputs {\n",
       "       key: \"V1\"\n",
       "       value {\n",
       "       }\n",
       "     }\n",
       "     inputs {\n",
       "       key: \"V10\"\n",
       "       value {\n",
       "       }\n",
       "     }\n",
       "     inputs {\n",
       "       key: \"V11\"\n",
       "       value {\n",
       "       }\n",
       "     }\n",
       "     inputs {\n",
       "       key: \"V12\"\n",
       "       value {\n",
       "       }\n",
       "     }\n",
       "     inputs {\n",
       "       key: \"V13\"\n",
       "       value {\n",
       "       }\n",
       "     }\n",
       "     inputs {\n",
       "       key: \"V14\"\n",
       "       value {\n",
       "       }\n",
       "     }\n",
       "     inputs {\n",
       "       key: \"V15\"\n",
       "       value {\n",
       "       }\n",
       "     }\n",
       "     inputs {\n",
       "       key: \"V16\"\n",
       "       value {\n",
       "       }\n",
       "     }\n",
       "     inputs {\n",
       "       key: \"V17\"\n",
       "       value {\n",
       "       }\n",
       "     }\n",
       "     inputs {\n",
       "       key: \"V18\"\n",
       "       value {\n",
       "       }\n",
       "     }\n",
       "     inputs {\n",
       "       key: \"V19\"\n",
       "       value {\n",
       "       }\n",
       "     }\n",
       "     inputs {\n",
       "       key: \"V2\"\n",
       "       value {\n",
       "       }\n",
       "     }\n",
       "     inputs {\n",
       "       key: \"V20\"\n",
       "       value {\n",
       "       }\n",
       "     }\n",
       "     inputs {\n",
       "       key: \"V21\"\n",
       "       value {\n",
       "       }\n",
       "     }\n",
       "     inputs {\n",
       "       key: \"V22\"\n",
       "       value {\n",
       "       }\n",
       "     }\n",
       "     inputs {\n",
       "       key: \"V23\"\n",
       "       value {\n",
       "       }\n",
       "     }\n",
       "     inputs {\n",
       "       key: \"V24\"\n",
       "       value {\n",
       "       }\n",
       "     }\n",
       "     inputs {\n",
       "       key: \"V25\"\n",
       "       value {\n",
       "       }\n",
       "     }\n",
       "     inputs {\n",
       "       key: \"V26\"\n",
       "       value {\n",
       "       }\n",
       "     }\n",
       "     inputs {\n",
       "       key: \"V27\"\n",
       "       value {\n",
       "       }\n",
       "     }\n",
       "     inputs {\n",
       "       key: \"V28\"\n",
       "       value {\n",
       "       }\n",
       "     }\n",
       "     inputs {\n",
       "       key: \"V3\"\n",
       "       value {\n",
       "       }\n",
       "     }\n",
       "     inputs {\n",
       "       key: \"V4\"\n",
       "       value {\n",
       "       }\n",
       "     }\n",
       "     inputs {\n",
       "       key: \"V5\"\n",
       "       value {\n",
       "       }\n",
       "     }\n",
       "     inputs {\n",
       "       key: \"V6\"\n",
       "       value {\n",
       "       }\n",
       "     }\n",
       "     inputs {\n",
       "       key: \"V7\"\n",
       "       value {\n",
       "       }\n",
       "     }\n",
       "     inputs {\n",
       "       key: \"V8\"\n",
       "       value {\n",
       "       }\n",
       "     }\n",
       "     inputs {\n",
       "       key: \"V9\"\n",
       "       value {\n",
       "       }\n",
       "     }\n",
       "     outputs {\n",
       "       key: \"label_probs\"\n",
       "       value {\n",
       "       }\n",
       "     }\n",
       "   }\n",
       " }\n",
       " disable_container_logging: true\n",
       " model_version_id: \"1\"]"
      ]
     },
     "execution_count": 54,
     "metadata": {},
     "output_type": "execute_result"
    }
   ],
   "source": [
    "endpoint.list_models()"
   ]
  },
  {
   "cell_type": "markdown",
   "id": "2125082e-4b12-42ec-ba0f-b40d43716e3e",
   "metadata": {},
   "source": [
    "### Remove Deployed Models without Traffic"
   ]
  },
  {
   "cell_type": "code",
   "execution_count": 55,
   "id": "5958344a-9ee8-4c39-8069-c07ac6fa138e",
   "metadata": {},
   "outputs": [
    {
     "name": "stdout",
     "output_type": "stream",
     "text": [
      "Undeploying Endpoint model: projects/1026793852137/locations/us-central1/endpoints/5386265571916513280\n",
      "Undeploy Endpoint model backing LRO: projects/1026793852137/locations/us-central1/endpoints/5386265571916513280/operations/2087265801328394240\n",
      "Endpoint model undeployed. Resource name: projects/1026793852137/locations/us-central1/endpoints/5386265571916513280\n",
      "Undeploying bqml_bqml_boosted-tree with version 1 because it has no traffic.\n",
      "Model bqml_bqml_random-forest with version 1 has traffic = 100\n"
     ]
    }
   ],
   "source": [
    "for deployed_model in endpoint.list_models():\n",
    "    if deployed_model.id in endpoint.traffic_split:\n",
    "        print(f\"Model {deployed_model.display_name} with version {deployed_model.model_version_id} has traffic = {endpoint.traffic_split[deployed_model.id]}\")\n",
    "    else:\n",
    "        endpoint.undeploy(deployed_model_id = deployed_model.id)\n",
    "        print(f\"Undeploying {deployed_model.display_name} with version {deployed_model.model_version_id} because it has no traffic.\")"
   ]
  },
  {
   "cell_type": "code",
   "execution_count": 56,
   "id": "80e63698-025f-4d26-a82b-9298b2b3fbcc",
   "metadata": {},
   "outputs": [
    {
     "data": {
      "text/plain": [
       "{'2276800509077618688': 100}"
      ]
     },
     "execution_count": 56,
     "metadata": {},
     "output_type": "execute_result"
    }
   ],
   "source": [
    "endpoint.traffic_split"
   ]
  },
  {
   "cell_type": "code",
   "execution_count": 57,
   "id": "ddd4d406-7ff3-4283-923b-2276d05fb2c5",
   "metadata": {},
   "outputs": [],
   "source": [
    "#endpoint.list_models()"
   ]
  },
  {
   "cell_type": "markdown",
   "id": "616986c7-1dd2-4b0a-a036-9b36e1ff660b",
   "metadata": {},
   "source": [
    "---\n",
    "## Predictions With Vertex AI Endpoint"
   ]
  },
  {
   "cell_type": "markdown",
   "id": "93a94fff-4288-469b-bb45-9dde97111341",
   "metadata": {},
   "source": [
    "### Retrieve Records For Prediction"
   ]
  },
  {
   "cell_type": "code",
   "execution_count": 58,
   "id": "1fbcb2a8-0152-43ac-bae3-35c7d9be6789",
   "metadata": {},
   "outputs": [],
   "source": [
    "n = 10\n",
    "pred = bq.query(\n",
    "    query = f\"\"\"\n",
    "        SELECT * EXCEPT({VAR_TARGET}, {VAR_OMIT}, splits)\n",
    "        FROM {BQ_PROJECT}.{BQ_DATASET}.{BQ_TABLE}\n",
    "        WHERE splits='TEST'\n",
    "        LIMIT {n}\n",
    "        \"\"\"\n",
    ").to_dataframe()"
   ]
  },
  {
   "cell_type": "markdown",
   "id": "5e186988-69d3-406a-8805-b108385d1570",
   "metadata": {},
   "source": [
    "Shape as instances: dictionaries of key:value pairs for only features used in model"
   ]
  },
  {
   "cell_type": "code",
   "execution_count": 59,
   "id": "4719317b-20ad-4d0c-867e-067996d1ca4e",
   "metadata": {},
   "outputs": [],
   "source": [
    "newobs = pred.to_dict(orient = 'records')"
   ]
  },
  {
   "cell_type": "code",
   "execution_count": 60,
   "id": "c21f8f72-e067-452e-8bff-310bce28c0f4",
   "metadata": {},
   "outputs": [
    {
     "data": {
      "text/plain": [
       "{'Time': 35337,\n",
       " 'V1': 1.0928441854981998,\n",
       " 'V2': -0.0132303486713432,\n",
       " 'V3': 1.35982868199426,\n",
       " 'V4': 2.7315370965921004,\n",
       " 'V5': -0.707357349219652,\n",
       " 'V6': 0.8738370029866129,\n",
       " 'V7': -0.7961301510622031,\n",
       " 'V8': 0.437706509544851,\n",
       " 'V9': 0.39676985012996396,\n",
       " 'V10': 0.587438102569443,\n",
       " 'V11': -0.14979756231827498,\n",
       " 'V12': 0.29514781622888103,\n",
       " 'V13': -1.30382621882143,\n",
       " 'V14': -0.31782283120234495,\n",
       " 'V15': -2.03673231037199,\n",
       " 'V16': 0.376090905274179,\n",
       " 'V17': -0.30040350116459497,\n",
       " 'V18': 0.433799615590844,\n",
       " 'V19': -0.145082264348681,\n",
       " 'V20': -0.240427548108996,\n",
       " 'V21': 0.0376030733329398,\n",
       " 'V22': 0.38002620963091405,\n",
       " 'V23': -0.16764742731151097,\n",
       " 'V24': 0.0275573495476881,\n",
       " 'V25': 0.59211469704354,\n",
       " 'V26': 0.219695164116351,\n",
       " 'V27': 0.0369695108704894,\n",
       " 'V28': 0.010984441006191,\n",
       " 'Amount': 0.0}"
      ]
     },
     "execution_count": 60,
     "metadata": {},
     "output_type": "execute_result"
    }
   ],
   "source": [
    "newobs[0]"
   ]
  },
  {
   "cell_type": "markdown",
   "id": "f1ad617e-bf78-4973-806c-ac85e5d92c49",
   "metadata": {},
   "source": [
    "### Get Predictions: Python Client"
   ]
  },
  {
   "cell_type": "code",
   "execution_count": 61,
   "id": "5598fda3-dda5-42c2-b8af-0679902d74b0",
   "metadata": {},
   "outputs": [
    {
     "data": {
      "text/plain": [
       "Prediction(predictions=[{'Class_probs': [0.1196056306362152, 0.8803943991661072], 'predicted_Class': '0', 'Class_values': ['1', '0']}], deployed_model_id='2276800509077618688', model_version_id='1', model_resource_name='projects/1026793852137/locations/us-central1/models/bqml_bqml_random-forest', explanations=None)"
      ]
     },
     "execution_count": 61,
     "metadata": {},
     "output_type": "execute_result"
    }
   ],
   "source": [
    "prediction = endpoint.predict(instances = newobs[0:1])\n",
    "prediction"
   ]
  },
  {
   "cell_type": "code",
   "execution_count": 62,
   "id": "2fb73d55-1a57-47c0-b4d1-9db9201e2fb9",
   "metadata": {},
   "outputs": [
    {
     "data": {
      "text/plain": [
       "{'Class_probs': [0.1196056306362152, 0.8803943991661072],\n",
       " 'predicted_Class': '0',\n",
       " 'Class_values': ['1', '0']}"
      ]
     },
     "execution_count": 62,
     "metadata": {},
     "output_type": "execute_result"
    }
   ],
   "source": [
    "prediction.predictions[0]"
   ]
  },
  {
   "cell_type": "code",
   "execution_count": 63,
   "id": "a12c7e41-b703-4c0b-9480-696b19e34669",
   "metadata": {},
   "outputs": [
    {
     "data": {
      "text/plain": [
       "0"
      ]
     },
     "execution_count": 63,
     "metadata": {},
     "output_type": "execute_result"
    }
   ],
   "source": [
    "np.argmax(prediction.predictions[0])"
   ]
  },
  {
   "cell_type": "markdown",
   "id": "000c02f2-3cfe-440f-a522-5034f4c7a9d0",
   "metadata": {},
   "source": [
    "### Get Predictions: REST\n",
    "Reference:\n",
    "- [POST https://{REGION}-aiplatform.googleapis.com/v1/{endpoint}:predict](https://cloud.google.com/python/docs/reference/aiplatform/latest/google.cloud.aiplatform_v1.services.prediction_service.PredictionServiceClient#google_cloud_aiplatform_v1_services_prediction_service_PredictionServiceClient_predict)"
   ]
  },
  {
   "cell_type": "markdown",
   "id": "4f8a6097-4455-4cae-8279-56a8a5ea246f",
   "metadata": {},
   "source": [
    "Prepare request:"
   ]
  },
  {
   "cell_type": "code",
   "execution_count": 64,
   "id": "7b645ce8-fd24-4265-b4c7-c5decf00d6c2",
   "metadata": {},
   "outputs": [],
   "source": [
    "with open(f'{DIR}/request.json','w') as file:\n",
    "    file.write(json.dumps({\"instances\": newobs[0:1]}))"
   ]
  },
  {
   "cell_type": "markdown",
   "id": "bf2f2839-664c-4aa4-89a9-3fc6c023b7a0",
   "metadata": {},
   "source": [
    "Prediction:"
   ]
  },
  {
   "cell_type": "code",
   "execution_count": 65,
   "id": "a4e18288-f8e8-4b12-8af6-47f15db7fa16",
   "metadata": {},
   "outputs": [
    {
     "data": {
      "text/plain": [
       "['  % Total    % Received % Xferd  Average Speed   Time    Time     Time  Current',\n",
       " '                                 Dload  Upload   Total   Spent    Left  Speed',\n",
       " '',\n",
       " '  0     0    0     0    0     0      0      0 --:--:-- --:--:-- --:--:--     0',\n",
       " '100  1217    0   422  100   795   6918  13032 --:--:-- --:--:-- --:--:-- 19950',\n",
       " '{',\n",
       " '  \"predictions\": [',\n",
       " '    {',\n",
       " '      \"predicted_Class\": \"0\",',\n",
       " '      \"Class_probs\": [',\n",
       " '        0.1196056306362152,',\n",
       " '        0.88039439916610718',\n",
       " '      ],',\n",
       " '      \"Class_values\": [',\n",
       " '        \"1\",',\n",
       " '        \"0\"',\n",
       " '      ]',\n",
       " '    }',\n",
       " '  ],',\n",
       " '  \"deployedModelId\": \"2276800509077618688\",',\n",
       " '  \"model\": \"projects/1026793852137/locations/us-central1/models/bqml_bqml_random-forest\",',\n",
       " '  \"modelDisplayName\": \"bqml_bqml_random-forest\",',\n",
       " '  \"modelVersionId\": \"1\"',\n",
       " '}']"
      ]
     },
     "execution_count": 65,
     "metadata": {},
     "output_type": "execute_result"
    }
   ],
   "source": [
    "prediction = !curl -X POST \\\n",
    "-H \"Authorization: Bearer \"$(gcloud auth application-default print-access-token) \\\n",
    "-H \"Content-Type: application/json; charset=utf-8\" \\\n",
    "-d @{DIR}/request.json \\\n",
    "https://{REGION}-aiplatform.googleapis.com/v1/{endpoint.resource_name}:predict\n",
    "\n",
    "prediction"
   ]
  },
  {
   "cell_type": "markdown",
   "id": "c9767ddd-0fb3-4b3f-8d9c-aba8948b91e1",
   "metadata": {},
   "source": [
    "Format raw prediction response using JSON:"
   ]
  },
  {
   "cell_type": "markdown",
   "id": "b975e20e-8fcb-47ca-8432-3d555ef6ab74",
   "metadata": {},
   "source": [
    "### Get Predictions: gcloud (CLI)\n",
    "Reference:\n",
    "- [gcloud ai endpoints predict](https://cloud.google.com/sdk/gcloud/reference/ai/endpoints/predict)"
   ]
  },
  {
   "cell_type": "markdown",
   "id": "bff18a5d-da5f-403c-8a02-b94f023eba46",
   "metadata": {},
   "source": [
    "Prepare request:"
   ]
  },
  {
   "cell_type": "code",
   "execution_count": 66,
   "id": "cc1730e5-afcc-44ed-97cf-743d59833f43",
   "metadata": {},
   "outputs": [],
   "source": [
    "with open(f'{DIR}/request.json','w') as file:\n",
    "    file.write(json.dumps({\"instances\": newobs[0:1]}))"
   ]
  },
  {
   "cell_type": "markdown",
   "id": "ac196dd9-8e63-47d3-96e1-91feeaab2c0f",
   "metadata": {},
   "source": [
    "Prediction:"
   ]
  },
  {
   "cell_type": "code",
   "execution_count": 67,
   "id": "2fb16975-a3e8-4506-8e24-9de87bb17af3",
   "metadata": {},
   "outputs": [
    {
     "data": {
      "text/plain": [
       "['Using endpoint [https://us-central1-prediction-aiplatform.googleapis.com/]',\n",
       " \"[{'Class_probs': [0.1196056306362152, 0.8803943991661072], 'Class_values': ['1', '0'], 'predicted_Class': '0'}]\"]"
      ]
     },
     "execution_count": 67,
     "metadata": {},
     "output_type": "execute_result"
    }
   ],
   "source": [
    "prediction = !gcloud beta ai endpoints predict {endpoint.name.rsplit('/',1)[-1]} --region={REGION} --json-request={DIR}/request.json\n",
    "prediction"
   ]
  },
  {
   "cell_type": "markdown",
   "id": "e40dae42-5776-4326-acb9-6d20ffe145e3",
   "metadata": {},
   "source": [
    "---\n",
    "## COMEBACK HERE Export Model\n",
    "\n",
    "The model created in BigQuery ML can be exported to their native model types save files.  This process saves the model artifacts in GCS where they can be use anywhere they are needed.  For instance, they could be imported into the Vertex AI Model Registry for use in online and batch serving - however, this process is automated with the training options use above."
   ]
  },
  {
   "cell_type": "markdown",
   "id": "90d49cc6-6f97-44eb-9692-2e147206a60c",
   "metadata": {},
   "source": [
    "### Export the BigQuery Model\n",
    "\n",
    "\n",
    "The models trained in BQML can be exported from BigQuery to GCS:\n",
    "\n",
    "Reference:\n",
    "- [Exporting Models](https://cloud.google.com/bigquery-ml/docs/exporting-models)"
   ]
  },
  {
   "cell_type": "code",
   "execution_count": 54,
   "id": "726c3efd-689b-4613-8169-a4e22f6b7ae7",
   "metadata": {
    "ExecuteTime": {
     "end_time": "2024-03-15T23:26:18.106306Z",
     "start_time": "2024-03-15T23:26:15.620085Z"
    }
   },
   "outputs": [
    {
     "data": {
      "text/plain": "<google.cloud.bigquery.table._EmptyRowIterator at 0x7fb2f8e7a670>"
     },
     "execution_count": 54,
     "metadata": {},
     "output_type": "execute_result"
    }
   ],
   "source": [
    "query = f\"\"\"\n",
    "EXPORT MODEL `{BQ_PROJECT}.{BQ_DATASET}.{BQ_MODEL}`\n",
    "    OPTIONS (URI = 'gs://{BUCKET}/{SERIES}/{EXPERIMENT}/models/{TIMESTAMP}/model')\n",
    "\"\"\"\n",
    "export = bq.query(query = query)\n",
    "export.result()"
   ]
  },
  {
   "cell_type": "code",
   "execution_count": 55,
   "id": "38a2fc5a-0ef2-480b-a641-0602079eab32",
   "metadata": {
    "ExecuteTime": {
     "end_time": "2024-03-15T23:26:28.787822Z",
     "start_time": "2024-03-15T23:26:28.720905Z"
    }
   },
   "outputs": [
    {
     "data": {
      "text/plain": "1.745"
     },
     "execution_count": 55,
     "metadata": {},
     "output_type": "execute_result"
    }
   ],
   "source": [
    "(export.ended - export.started).total_seconds()"
   ]
  },
  {
   "cell_type": "code",
   "execution_count": 57,
   "id": "95b2a2bc-5cce-4c1d-a5f5-61d2911906c4",
   "metadata": {
    "ExecuteTime": {
     "end_time": "2024-03-15T23:32:13.808819Z",
     "start_time": "2024-03-15T23:32:13.671439Z"
    }
   },
   "outputs": [
    {
     "name": "stdout",
     "output_type": "stream",
     "text": [
      "View the export in the console:\n",
      "https://console.cloud.google.com/storage/browser/e2e-fraud-detection/bqml/random-forest/models/20240315175645/model?project=e2e-fraud-detection\n"
     ]
    }
   ],
   "source": [
    "print(f\"View the export in the console:\\nhttps://console.cloud.google.com/storage/browser/{BUCKET}/{SERIES}/{EXPERIMENT}/models/{TIMESTAMP}/model?project={PROJECT_ID}\")"
   ]
  },
  {
   "cell_type": "markdown",
   "id": "539e0868-46bc-4fbd-9912-1a5eeeebf7da",
   "metadata": {},
   "source": [
    "### Detect The Model Types Framework"
   ]
  },
  {
   "cell_type": "code",
   "execution_count": 59,
   "id": "8c285a97-8507-471d-8348-72c5454e1b0d",
   "metadata": {
    "ExecuteTime": {
     "end_time": "2024-03-15T23:34:38.952377Z",
     "start_time": "2024-03-15T23:34:38.585402Z"
    }
   },
   "outputs": [
    {
     "name": "stdout",
     "output_type": "stream",
     "text": [
      "Model framework determined: XGBoost\n"
     ]
    }
   ],
   "source": [
    "def determine_model_framework(bucket_name, prefix, service_account_path):\n",
    "    \"\"\"\n",
    "    Lists objects in a specified GCS bucket path, identifies model framework based on file extensions,\n",
    "    and ensures a single model framework is present.\n",
    "\n",
    "    Args:\n",
    "        bucket_name (str): The name of the GCS bucket.\n",
    "        prefix (str): The GCS path prefix to list objects from.\n",
    "        service_account_path (str): The file path to the service account key file.\n",
    "    \n",
    "    Returns:\n",
    "        The model framework if determined uniquely, otherwise raises an error.\n",
    "    \"\"\"\n",
    "    from google.oauth2 import service_account\n",
    "    from google.cloud import storage\n",
    "    # Authenticate with the service account\n",
    "    credentials = service_account.Credentials.from_service_account_file(service_account_path)\n",
    "    storage_client = storage.Client(credentials=credentials)\n",
    "    bucket = storage_client.bucket(bucket_name)\n",
    "\n",
    "    # Mapping of file extensions to model frameworks\n",
    "    filetype = {'pb': 'TensorFlow', 'bst': 'XGBoost'}\n",
    "\n",
    "    # List objects in the bucket with the specified prefix\n",
    "    blobs = bucket.list_blobs(prefix=prefix)\n",
    "    filenames = [blob.name for blob in blobs]\n",
    "\n",
    "    # Determine model frameworks based on file extensions in the listing\n",
    "    filetypes = [filetype[os.path.splitext(f)[1][1:]] for f in filenames if os.path.splitext(f)[1][1:] in filetype]\n",
    "\n",
    "    # Ensure a single model framework is present\n",
    "    if len(set(filetypes)) == 1:\n",
    "        framework = filetypes[0]\n",
    "        print(f'Model framework determined: {framework}')\n",
    "        return framework\n",
    "    else:\n",
    "        error_msg = f\"Model Type Undetermined! Multiple or no model frameworks found: {set(filetypes)}\"\n",
    "        raise TypeError(error_msg)\n",
    "\n",
    "# Example usage\n",
    "bucket_name = BUCKET\n",
    "prefix = f'{SERIES}/{EXPERIMENT}/models/{TIMESTAMP}/model'\n",
    "service_account_path = GOOGLE_APPLICATION_CREDENTIALS\n",
    "\n",
    "try:\n",
    "    framework = determine_model_framework(bucket_name, prefix, service_account_path)\n",
    "except TypeError as e:\n",
    "    print(e)\n"
   ]
  },
  {
   "cell_type": "markdown",
   "id": "903e250b-bb89-4dc2-8480-5d969d3fc604",
   "metadata": {},
   "source": [
    "---\n",
    "## Remove Resources\n",
    "\n",
    "The following cells have commented out statements that can be used to remove resources created by this notebook.  Other notebooks in the repository will reusue the same endpoint so it may be desired to not remove the endpoint if you plan to run additional notebooks.  Otherwise, please removed the endpoint to prevent ongoing cost from hosting the models on Vertex AI Endpoints.\n",
    "\n",
    "Similarly, if you want to remove the model from BQML to prevent the minimal storage cost it will automatically be removed from Vertex AI Model Registry as well."
   ]
  },
  {
   "cell_type": "code",
   "execution_count": 100,
   "id": "8e4f6769-8ecd-4652-b75d-b1c75f07e247",
   "metadata": {},
   "outputs": [],
   "source": [
    "# delete endpoint, use `force` incase models are deployed or undeploy them first\n",
    "#endpoint.delete(force = True)"
   ]
  },
  {
   "cell_type": "code",
   "execution_count": 99,
   "id": "1839e7b5-595a-4fc6-9701-0da7d02f9b62",
   "metadata": {},
   "outputs": [],
   "source": [
    "# delete models created in BQ with BQML - this also removes them from Vertex AI Model Registry\n",
    "#bq.delete_model(model)"
   ]
  }
 ],
 "metadata": {
  "environment": {
   "kernel": "python3",
   "name": "tf2-gpu.2-11.m104",
   "type": "gcloud",
   "uri": "gcr.io/deeplearning-platform-release/tf2-gpu.2-11:m104"
  },
  "kernelspec": {
   "display_name": "Python 3 (ipykernel)",
   "language": "python",
   "name": "python3"
  },
  "language_info": {
   "codemirror_mode": {
    "name": "ipython",
    "version": 3
   },
   "file_extension": ".py",
   "mimetype": "text/x-python",
   "name": "python",
   "nbconvert_exporter": "python",
   "pygments_lexer": "ipython3",
   "version": "3.7.12"
  }
 },
 "nbformat": 4,
 "nbformat_minor": 5
}
