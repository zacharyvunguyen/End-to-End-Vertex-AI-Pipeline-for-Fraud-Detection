{
 "cells": [
  {
   "cell_type": "code",
   "execution_count": 2,
   "id": "initial_id",
   "metadata": {
    "collapsed": true,
    "ExecuteTime": {
     "end_time": "2024-03-16T16:05:36.452399Z",
     "start_time": "2024-03-16T16:05:36.441625Z"
    }
   },
   "outputs": [],
   "source": [
    "import os\n",
    "GOOGLE_APPLICATION_CREDENTIALS = \"/Users/zacharynguyen/Documents/GitHub/2024/End-to-End-Vertex-AI-Pipeline-for-Fraud-Detection/key/e2e-fraud-detection-debf1c9863af.json\"\n",
    "os.environ[\"GOOGLE_APPLICATION_CREDENTIALS\"] = GOOGLE_APPLICATION_CREDENTIALS\n",
    "PROJECT_ID = 'e2e-fraud-detection'\n",
    "REGION = 'us-central1'\n",
    "EXPERIMENT = 'pipeline-bqml-best-model'\n",
    "SERIES = 'bqml'\n",
    "\n",
    "# source data\n",
    "BQ_PROJECT = PROJECT_ID\n",
    "BQ_DATASET = 'fraud_dataset'\n",
    "BQ_TABLE = 'prepped-data'\n",
    "\n",
    "# Model Training\n",
    "VAR_TARGET = 'Class'\n",
    "VAR_OMIT = 'transaction_id' # add more variables to the string with space delimiters"
   ]
  },
  {
   "cell_type": "code",
   "outputs": [
    {
     "name": "stdout",
     "output_type": "stream",
     "text": [
      "GOOGLE_APPLICATION_CREDENTIALS: /Users/zacharynguyen/Documents/GitHub/2024/End-to-End-Vertex-AI-Pipeline-for-Fraud-Detection/key/e2e-fraud-detection-debf1c9863af.json\n",
      "PROJECT_ID: e2e-fraud-detection\n",
      "REGION: us-central1\n",
      "EXPERIMENT: pipeline-bqml-best-model\n",
      "SERIES: bqml\n",
      "BQ_PROJECT: e2e-fraud-detection\n",
      "BQ_DATASET: fraud_dataset\n",
      "BQ_TABLE: prepped-data\n",
      "VAR_TARGET: Class\n",
      "VAR_OMIT: transaction_id\n"
     ]
    }
   ],
   "source": [
    "print(f\"GOOGLE_APPLICATION_CREDENTIALS: {GOOGLE_APPLICATION_CREDENTIALS}\")\n",
    "print(f\"PROJECT_ID: {PROJECT_ID}\")\n",
    "print(f\"REGION: {REGION}\")\n",
    "print(f\"EXPERIMENT: {EXPERIMENT}\")\n",
    "print(f\"SERIES: {SERIES}\")\n",
    "print(f\"BQ_PROJECT: {BQ_PROJECT}\")\n",
    "print(f\"BQ_DATASET: {BQ_DATASET}\")\n",
    "print(f\"BQ_TABLE: {BQ_TABLE}\")\n",
    "print(f\"VAR_TARGET: {VAR_TARGET}\")\n",
    "print(f\"VAR_OMIT: {VAR_OMIT}\")"
   ],
   "metadata": {
    "collapsed": false,
    "ExecuteTime": {
     "end_time": "2024-03-16T16:05:37.037880Z",
     "start_time": "2024-03-16T16:05:37.031637Z"
    }
   },
   "id": "971797e187728626",
   "execution_count": 3
  },
  {
   "cell_type": "markdown",
   "source": [
    "#### Component: list_series_models\n",
    "Get a list of BQML model names that are registred in the Vertex AI Model Registry for the Series"
   ],
   "metadata": {
    "collapsed": false
   },
   "id": "3baa5fa44167f117"
  },
  {
   "cell_type": "code",
   "outputs": [
    {
     "data": {
      "text/plain": "outputs(candidates=['bqml_boosted-tree_20240316101833', 'bqml_logistic-regression_20240316092315', 'bqml_random-forest_20240315175645'])"
     },
     "execution_count": 7,
     "metadata": {},
     "output_type": "execute_result"
    }
   ],
   "source": [
    "def list_series_models(\n",
    "    project: str,\n",
    "    region: str,\n",
    "    series: str\n",
    "):\n",
    "\n",
    "    # setup\n",
    "    from collections import namedtuple\n",
    "    result = namedtuple('outputs', ['candidates'])\n",
    "    \n",
    "    from google.cloud import aiplatform\n",
    "    aiplatform.init(project = project, location = region)\n",
    "    \n",
    "    # get list of candidate models for series\n",
    "    candidates = [f\"{model.labels['series']}_{model.labels['experiment']}_{model.labels['timestamp']}\" for model in aiplatform.Model.list(filter = f\"labels.series={series}\")]\n",
    "\n",
    "    return result(candidates)\n",
    "\n",
    "list_series_models(PROJECT_ID, REGION,SERIES)"
   ],
   "metadata": {
    "collapsed": false,
    "ExecuteTime": {
     "end_time": "2024-03-16T16:13:02.316825Z",
     "start_time": "2024-03-16T16:13:01.745296Z"
    }
   },
   "id": "12d54c6b7b413320",
   "execution_count": 7
  },
  {
   "cell_type": "code",
   "outputs": [],
   "source": [],
   "metadata": {
    "collapsed": false
   },
   "id": "1bc6c2739004c3e0"
  }
 ],
 "metadata": {
  "kernelspec": {
   "display_name": "Python 3",
   "language": "python",
   "name": "python3"
  },
  "language_info": {
   "codemirror_mode": {
    "name": "ipython",
    "version": 2
   },
   "file_extension": ".py",
   "mimetype": "text/x-python",
   "name": "python",
   "nbconvert_exporter": "python",
   "pygments_lexer": "ipython2",
   "version": "2.7.6"
  }
 },
 "nbformat": 4,
 "nbformat_minor": 5
}
