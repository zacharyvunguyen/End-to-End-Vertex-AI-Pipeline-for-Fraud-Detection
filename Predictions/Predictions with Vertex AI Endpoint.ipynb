{
 "cells": [
  {
   "cell_type": "code",
   "execution_count": 34,
   "id": "initial_id",
   "metadata": {
    "collapsed": true,
    "ExecuteTime": {
     "end_time": "2024-03-18T16:23:52.366915Z",
     "start_time": "2024-03-18T16:23:52.361827Z"
    }
   },
   "outputs": [],
   "source": [
    "import os\n",
    "GOOGLE_APPLICATION_CREDENTIALS = \"/Users/zacharynguyen/Documents/GitHub/2024/End-to-End-Vertex-AI-Pipeline-for-Fraud-Detection/key/e2e-fraud-detection-debf1c9863af.json\"\n",
    "os.environ[\"GOOGLE_APPLICATION_CREDENTIALS\"] = GOOGLE_APPLICATION_CREDENTIALS"
   ]
  },
  {
   "cell_type": "code",
   "outputs": [],
   "source": [
    "PROJECT_ID = 'e2e-fraud-detection'\n",
    "REGION = 'us-central1'\n",
    "EXPERIMENT = 'Predictions with Vertex AI Endpoint'\n",
    "SERIES = 'bqml'\n",
    "\n",
    "# source data\n",
    "BQ_PROJECT = PROJECT_ID\n",
    "BQ_DATASET = 'fraud_dataset'\n",
    "BQ_TABLE = 'prepped-data'\n",
    "\n",
    "# Model Training\n",
    "VAR_TARGET = 'Class'\n",
    "VAR_OMIT = 'transaction_id' # add more variables to the string with space delimiters"
   ],
   "metadata": {
    "collapsed": false,
    "ExecuteTime": {
     "end_time": "2024-03-18T16:23:52.399803Z",
     "start_time": "2024-03-18T16:23:52.372734Z"
    }
   },
   "id": "3a0e44a96ff6f3a5",
   "execution_count": 35
  },
  {
   "cell_type": "code",
   "outputs": [],
   "source": [
    "from google.cloud import bigquery\n",
    "from google.cloud import aiplatform\n",
    "from datetime import datetime\n",
    "import matplotlib.pyplot as plt\n",
    "from sklearn import metrics\n",
    "import numpy as np\n",
    "\n",
    "from google.api import httpbody_pb2\n",
    "import json"
   ],
   "metadata": {
    "collapsed": false,
    "ExecuteTime": {
     "end_time": "2024-03-18T16:23:52.402182Z",
     "start_time": "2024-03-18T16:23:52.388743Z"
    }
   },
   "id": "528c5c6d50f28417",
   "execution_count": 36
  },
  {
   "cell_type": "code",
   "outputs": [],
   "source": [
    "bq = bigquery.Client(project = PROJECT_ID)\n",
    "aiplatform.init(project = PROJECT_ID, location = REGION)"
   ],
   "metadata": {
    "collapsed": false,
    "ExecuteTime": {
     "end_time": "2024-03-18T16:23:52.422739Z",
     "start_time": "2024-03-18T16:23:52.407913Z"
    }
   },
   "id": "29c1e96855ba8225",
   "execution_count": 37
  },
  {
   "cell_type": "code",
   "outputs": [
    {
     "name": "stdout",
     "output_type": "stream",
     "text": [
      "\n",
      "SELECT * EXCEPT(Class, transaction_id, splits)\n",
      "FROM `e2e-fraud-detection.fraud_dataset.prepped-data`\n",
      "WHERE splits='TEST'\n",
      "LIMIT 10\n"
     ]
    }
   ],
   "source": [
    "query = f\"\"\"\n",
    "SELECT * EXCEPT({VAR_TARGET}, {VAR_OMIT}, splits)\n",
    "FROM `{BQ_PROJECT}.{BQ_DATASET}.{BQ_TABLE}`\n",
    "WHERE splits='TEST'\n",
    "LIMIT {n}\n",
    "\"\"\"\n",
    "\n",
    "print(query)"
   ],
   "metadata": {
    "collapsed": false,
    "ExecuteTime": {
     "end_time": "2024-03-18T16:23:52.424669Z",
     "start_time": "2024-03-18T16:23:52.415636Z"
    }
   },
   "id": "f4a58795047e8788",
   "execution_count": 38
  },
  {
   "cell_type": "code",
   "outputs": [],
   "source": [
    "n = 10\n",
    "pred = bq.query(\n",
    "    query = query\n",
    ").to_dataframe()"
   ],
   "metadata": {
    "collapsed": false,
    "ExecuteTime": {
     "end_time": "2024-03-18T16:23:53.539184Z",
     "start_time": "2024-03-18T16:23:52.462078Z"
    }
   },
   "id": "65f4f4d2b882ba51",
   "execution_count": 39
  },
  {
   "cell_type": "code",
   "outputs": [
    {
     "data": {
      "text/plain": "       Time        V1        V2        V3        V4        V5        V6  \\\n0  140315.0  1.882751  0.532175  0.150708  3.889469  0.011037  0.101617   \n1  171011.0 -1.345222  2.280635  2.149265  4.465909 -0.029695  2.007951   \n2   35734.0 -2.571353 -2.286027  2.909699 -0.264519  2.295561  0.264278   \n3   12973.0  1.042687  0.224056  1.651554  2.756488 -0.541425  0.970706   \n4   64268.0  1.316193 -0.009926 -0.137555  0.587167 -0.308887 -0.799481   \n5  119592.0  2.139741  0.245651 -2.654856  0.178287  1.336991 -0.724664   \n6  123071.0  1.847235  0.339967 -1.522324  3.423434  1.429797  1.497229   \n7  128494.0  2.096836 -0.084084 -1.622199  0.479912  0.034264 -1.448540   \n8   46925.0 -2.604868  1.484446  0.470275 -1.247187 -0.596735 -1.435678   \n9  145765.0 -0.769016  0.497769 -1.491102 -0.484560  1.974915 -1.546615   \n\n         V7        V8        V9  ...       V20       V21       V22       V23  \\\n0 -0.105079 -0.027678 -0.649422  ... -0.225558 -0.401006 -1.015581  0.487635   \n1 -2.101858 -5.197115 -2.235785  ...  1.594403 -2.323161  1.696769 -0.201321   \n2 -1.412284  0.431003  1.369659  ... -0.258066  0.061358  0.799850 -0.363365   \n3 -0.875859  0.406813  1.234202  ... -0.271378 -0.165518 -0.108077  0.082059   \n4  0.042878 -0.080183  0.612074  ... -0.288865 -0.133028 -0.349540 -0.136149   \n5  0.906032 -0.436125 -0.528015  ... -0.160988  0.296681  1.036285 -0.216033   \n6  0.096091  0.412087 -1.069708  ... -0.517461  0.328189  1.051528 -0.047523   \n7  0.403478 -0.382239  0.605741  ... -0.344547 -0.054720 -0.001575  0.100703   \n8 -0.042498  0.675088  0.670726  ...  0.093393 -0.250085 -0.498523 -0.064745   \n9  1.086798 -0.020257 -0.960554  ... -0.070164  0.333417  0.641867 -0.673254   \n\n        V24       V25       V26       V27       V28  Amount  \n0 -0.024250 -0.512936 -0.516050  0.011179 -0.026608     0.0  \n1  0.007053  0.055551  0.580323 -0.086456 -0.050837     0.0  \n2 -0.520853 -0.024029  1.180507 -0.309633 -0.296332     0.0  \n3 -0.072716  0.148948 -0.066969  0.024569  0.014142     0.0  \n4 -0.126894  0.639381  0.595106 -0.070506 -0.010366     0.0  \n5  0.345316  0.747103  0.700184 -0.123739 -0.099989     0.0  \n6 -1.664775  0.201577  0.413007 -0.029553 -0.096775     0.0  \n7  0.066990  0.129055  0.563681 -0.105465 -0.080723     0.0  \n8  0.615395 -0.345480  0.637373  0.212102  0.007527     0.0  \n9 -0.908480  1.080143  0.786867 -0.239764 -0.265091     0.0  \n\n[10 rows x 30 columns]",
      "text/html": "<div>\n<style scoped>\n    .dataframe tbody tr th:only-of-type {\n        vertical-align: middle;\n    }\n\n    .dataframe tbody tr th {\n        vertical-align: top;\n    }\n\n    .dataframe thead th {\n        text-align: right;\n    }\n</style>\n<table border=\"1\" class=\"dataframe\">\n  <thead>\n    <tr style=\"text-align: right;\">\n      <th></th>\n      <th>Time</th>\n      <th>V1</th>\n      <th>V2</th>\n      <th>V3</th>\n      <th>V4</th>\n      <th>V5</th>\n      <th>V6</th>\n      <th>V7</th>\n      <th>V8</th>\n      <th>V9</th>\n      <th>...</th>\n      <th>V20</th>\n      <th>V21</th>\n      <th>V22</th>\n      <th>V23</th>\n      <th>V24</th>\n      <th>V25</th>\n      <th>V26</th>\n      <th>V27</th>\n      <th>V28</th>\n      <th>Amount</th>\n    </tr>\n  </thead>\n  <tbody>\n    <tr>\n      <th>0</th>\n      <td>140315.0</td>\n      <td>1.882751</td>\n      <td>0.532175</td>\n      <td>0.150708</td>\n      <td>3.889469</td>\n      <td>0.011037</td>\n      <td>0.101617</td>\n      <td>-0.105079</td>\n      <td>-0.027678</td>\n      <td>-0.649422</td>\n      <td>...</td>\n      <td>-0.225558</td>\n      <td>-0.401006</td>\n      <td>-1.015581</td>\n      <td>0.487635</td>\n      <td>-0.024250</td>\n      <td>-0.512936</td>\n      <td>-0.516050</td>\n      <td>0.011179</td>\n      <td>-0.026608</td>\n      <td>0.0</td>\n    </tr>\n    <tr>\n      <th>1</th>\n      <td>171011.0</td>\n      <td>-1.345222</td>\n      <td>2.280635</td>\n      <td>2.149265</td>\n      <td>4.465909</td>\n      <td>-0.029695</td>\n      <td>2.007951</td>\n      <td>-2.101858</td>\n      <td>-5.197115</td>\n      <td>-2.235785</td>\n      <td>...</td>\n      <td>1.594403</td>\n      <td>-2.323161</td>\n      <td>1.696769</td>\n      <td>-0.201321</td>\n      <td>0.007053</td>\n      <td>0.055551</td>\n      <td>0.580323</td>\n      <td>-0.086456</td>\n      <td>-0.050837</td>\n      <td>0.0</td>\n    </tr>\n    <tr>\n      <th>2</th>\n      <td>35734.0</td>\n      <td>-2.571353</td>\n      <td>-2.286027</td>\n      <td>2.909699</td>\n      <td>-0.264519</td>\n      <td>2.295561</td>\n      <td>0.264278</td>\n      <td>-1.412284</td>\n      <td>0.431003</td>\n      <td>1.369659</td>\n      <td>...</td>\n      <td>-0.258066</td>\n      <td>0.061358</td>\n      <td>0.799850</td>\n      <td>-0.363365</td>\n      <td>-0.520853</td>\n      <td>-0.024029</td>\n      <td>1.180507</td>\n      <td>-0.309633</td>\n      <td>-0.296332</td>\n      <td>0.0</td>\n    </tr>\n    <tr>\n      <th>3</th>\n      <td>12973.0</td>\n      <td>1.042687</td>\n      <td>0.224056</td>\n      <td>1.651554</td>\n      <td>2.756488</td>\n      <td>-0.541425</td>\n      <td>0.970706</td>\n      <td>-0.875859</td>\n      <td>0.406813</td>\n      <td>1.234202</td>\n      <td>...</td>\n      <td>-0.271378</td>\n      <td>-0.165518</td>\n      <td>-0.108077</td>\n      <td>0.082059</td>\n      <td>-0.072716</td>\n      <td>0.148948</td>\n      <td>-0.066969</td>\n      <td>0.024569</td>\n      <td>0.014142</td>\n      <td>0.0</td>\n    </tr>\n    <tr>\n      <th>4</th>\n      <td>64268.0</td>\n      <td>1.316193</td>\n      <td>-0.009926</td>\n      <td>-0.137555</td>\n      <td>0.587167</td>\n      <td>-0.308887</td>\n      <td>-0.799481</td>\n      <td>0.042878</td>\n      <td>-0.080183</td>\n      <td>0.612074</td>\n      <td>...</td>\n      <td>-0.288865</td>\n      <td>-0.133028</td>\n      <td>-0.349540</td>\n      <td>-0.136149</td>\n      <td>-0.126894</td>\n      <td>0.639381</td>\n      <td>0.595106</td>\n      <td>-0.070506</td>\n      <td>-0.010366</td>\n      <td>0.0</td>\n    </tr>\n    <tr>\n      <th>5</th>\n      <td>119592.0</td>\n      <td>2.139741</td>\n      <td>0.245651</td>\n      <td>-2.654856</td>\n      <td>0.178287</td>\n      <td>1.336991</td>\n      <td>-0.724664</td>\n      <td>0.906032</td>\n      <td>-0.436125</td>\n      <td>-0.528015</td>\n      <td>...</td>\n      <td>-0.160988</td>\n      <td>0.296681</td>\n      <td>1.036285</td>\n      <td>-0.216033</td>\n      <td>0.345316</td>\n      <td>0.747103</td>\n      <td>0.700184</td>\n      <td>-0.123739</td>\n      <td>-0.099989</td>\n      <td>0.0</td>\n    </tr>\n    <tr>\n      <th>6</th>\n      <td>123071.0</td>\n      <td>1.847235</td>\n      <td>0.339967</td>\n      <td>-1.522324</td>\n      <td>3.423434</td>\n      <td>1.429797</td>\n      <td>1.497229</td>\n      <td>0.096091</td>\n      <td>0.412087</td>\n      <td>-1.069708</td>\n      <td>...</td>\n      <td>-0.517461</td>\n      <td>0.328189</td>\n      <td>1.051528</td>\n      <td>-0.047523</td>\n      <td>-1.664775</td>\n      <td>0.201577</td>\n      <td>0.413007</td>\n      <td>-0.029553</td>\n      <td>-0.096775</td>\n      <td>0.0</td>\n    </tr>\n    <tr>\n      <th>7</th>\n      <td>128494.0</td>\n      <td>2.096836</td>\n      <td>-0.084084</td>\n      <td>-1.622199</td>\n      <td>0.479912</td>\n      <td>0.034264</td>\n      <td>-1.448540</td>\n      <td>0.403478</td>\n      <td>-0.382239</td>\n      <td>0.605741</td>\n      <td>...</td>\n      <td>-0.344547</td>\n      <td>-0.054720</td>\n      <td>-0.001575</td>\n      <td>0.100703</td>\n      <td>0.066990</td>\n      <td>0.129055</td>\n      <td>0.563681</td>\n      <td>-0.105465</td>\n      <td>-0.080723</td>\n      <td>0.0</td>\n    </tr>\n    <tr>\n      <th>8</th>\n      <td>46925.0</td>\n      <td>-2.604868</td>\n      <td>1.484446</td>\n      <td>0.470275</td>\n      <td>-1.247187</td>\n      <td>-0.596735</td>\n      <td>-1.435678</td>\n      <td>-0.042498</td>\n      <td>0.675088</td>\n      <td>0.670726</td>\n      <td>...</td>\n      <td>0.093393</td>\n      <td>-0.250085</td>\n      <td>-0.498523</td>\n      <td>-0.064745</td>\n      <td>0.615395</td>\n      <td>-0.345480</td>\n      <td>0.637373</td>\n      <td>0.212102</td>\n      <td>0.007527</td>\n      <td>0.0</td>\n    </tr>\n    <tr>\n      <th>9</th>\n      <td>145765.0</td>\n      <td>-0.769016</td>\n      <td>0.497769</td>\n      <td>-1.491102</td>\n      <td>-0.484560</td>\n      <td>1.974915</td>\n      <td>-1.546615</td>\n      <td>1.086798</td>\n      <td>-0.020257</td>\n      <td>-0.960554</td>\n      <td>...</td>\n      <td>-0.070164</td>\n      <td>0.333417</td>\n      <td>0.641867</td>\n      <td>-0.673254</td>\n      <td>-0.908480</td>\n      <td>1.080143</td>\n      <td>0.786867</td>\n      <td>-0.239764</td>\n      <td>-0.265091</td>\n      <td>0.0</td>\n    </tr>\n  </tbody>\n</table>\n<p>10 rows × 30 columns</p>\n</div>"
     },
     "execution_count": 40,
     "metadata": {},
     "output_type": "execute_result"
    }
   ],
   "source": [
    "pred"
   ],
   "metadata": {
    "collapsed": false,
    "ExecuteTime": {
     "end_time": "2024-03-18T16:23:53.604705Z",
     "start_time": "2024-03-18T16:23:53.577786Z"
    }
   },
   "id": "83db489be17e29b0",
   "execution_count": 40
  },
  {
   "cell_type": "code",
   "outputs": [],
   "source": [
    "newobs = pred.to_dict(orient = 'records')"
   ],
   "metadata": {
    "collapsed": false,
    "ExecuteTime": {
     "end_time": "2024-03-18T16:23:53.660800Z",
     "start_time": "2024-03-18T16:23:53.608501Z"
    }
   },
   "id": "17eef71c5b1a3933",
   "execution_count": 41
  },
  {
   "cell_type": "code",
   "outputs": [
    {
     "data": {
      "text/plain": "{'Time': 140315.0,\n 'V1': 1.88275144365981,\n 'V2': 0.5321745574787371,\n 'V3': 0.150708356622915,\n 'V4': 3.8894693444449104,\n 'V5': 0.0110367165296031,\n 'V6': 0.10161692045463001,\n 'V7': -0.105079317724247,\n 'V8': -0.0276783367013348,\n 'V9': -0.649422331552985,\n 'V10': 1.2760161964761398,\n 'V11': -1.0975780754147801,\n 'V12': 0.7253332584452471,\n 'V13': 1.30091293887403,\n 'V14': -0.404936212520168,\n 'V15': -1.26229079100372,\n 'V16': 0.872501700920738,\n 'V17': -0.762329639638684,\n 'V18': -0.954372139279484,\n 'V19': -1.26536709127823,\n 'V20': -0.22555835884440698,\n 'V21': -0.401006076766849,\n 'V22': -1.01558064776831,\n 'V23': 0.487634612397945,\n 'V24': -0.0242502150262368,\n 'V25': -0.512936399003697,\n 'V26': -0.51604963380311,\n 'V27': 0.0111793306485451,\n 'V28': -0.0266076514394325,\n 'Amount': 0.0}"
     },
     "execution_count": 48,
     "metadata": {},
     "output_type": "execute_result"
    }
   ],
   "source": [
    "newobs[0]"
   ],
   "metadata": {
    "collapsed": false,
    "ExecuteTime": {
     "end_time": "2024-03-18T16:25:31.923553Z",
     "start_time": "2024-03-18T16:25:31.910538Z"
    }
   },
   "id": "dfd14bbbd0a7eb4e",
   "execution_count": 48
  },
  {
   "cell_type": "code",
   "outputs": [],
   "source": [
    "from typing import Dict, List, Union\n",
    "\n",
    "from google.cloud import aiplatform\n",
    "from google.protobuf import json_format\n",
    "from google.protobuf.struct_pb2 import Value\n",
    "\n",
    "def predict_custom_trained_model_sample(\n",
    "    project: str,\n",
    "    endpoint_id: str,\n",
    "    instances: Union[Dict, List[Dict]],\n",
    "    location: str = \"us-central1\",\n",
    "    api_endpoint: str = \"us-central1-aiplatform.googleapis.com\",\n",
    "):\n",
    "    client_options = {\"api_endpoint\": api_endpoint}\n",
    "    client = aiplatform.gapic.PredictionServiceClient(client_options=client_options)\n",
    "    instances = instances if isinstance(instances, list) else [instances]\n",
    "    instances = [\n",
    "        json_format.ParseDict(instance_dict, Value()) for instance_dict in instances\n",
    "    ]\n",
    "    parameters_dict = {}\n",
    "    parameters = json_format.ParseDict(parameters_dict, Value())\n",
    "    endpoint = client.endpoint_path(\n",
    "        project=project, location=location, endpoint=endpoint_id\n",
    "    )\n",
    "    response = client.predict(\n",
    "        endpoint=endpoint, instances=instances, parameters=parameters\n",
    "    )\n",
    "    print(\"response\")\n",
    "    print(\" deployed_model_id:\", response.deployed_model_id)\n",
    "    predictions = response.predictions\n",
    "    for prediction in predictions:\n",
    "        print(\" prediction:\", dict(prediction))\n"
   ],
   "metadata": {
    "collapsed": false,
    "ExecuteTime": {
     "end_time": "2024-03-18T16:25:32.325429Z",
     "start_time": "2024-03-18T16:25:32.316503Z"
    }
   },
   "id": "fe5e9508100d39c0",
   "execution_count": 49
  },
  {
   "cell_type": "code",
   "outputs": [
    {
     "name": "stdout",
     "output_type": "stream",
     "text": [
      "response\n",
      " deployed_model_id: 5904164135901331456\n",
      " prediction: {'predicted_Class': '0', 'Class_values': ['1', '0'], 'Class_probs': [0.1213923841714859, 0.8786076307296753]}\n"
     ]
    }
   ],
   "source": [
    "predict_custom_trained_model_sample(\n",
    "    project=\"993073267534\",\n",
    "    endpoint_id=\"5892812777856172032\",\n",
    "    location=\"us-central1\",\n",
    "    instances=newobs[0]\n",
    ")"
   ],
   "metadata": {
    "collapsed": false,
    "ExecuteTime": {
     "end_time": "2024-03-18T16:26:25.306921Z",
     "start_time": "2024-03-18T16:26:25.029135Z"
    }
   },
   "id": "7e33a3c418f62cc3",
   "execution_count": 51
  },
  {
   "cell_type": "code",
   "outputs": [],
   "source": [],
   "metadata": {
    "collapsed": false,
    "ExecuteTime": {
     "end_time": "2024-03-18T16:23:53.988384Z",
     "start_time": "2024-03-18T16:23:53.982333Z"
    }
   },
   "id": "d99966e5fe0532c4",
   "execution_count": 45
  }
 ],
 "metadata": {
  "kernelspec": {
   "display_name": "Python 3",
   "language": "python",
   "name": "python3"
  },
  "language_info": {
   "codemirror_mode": {
    "name": "ipython",
    "version": 2
   },
   "file_extension": ".py",
   "mimetype": "text/x-python",
   "name": "python",
   "nbconvert_exporter": "python",
   "pygments_lexer": "ipython2",
   "version": "2.7.6"
  }
 },
 "nbformat": 4,
 "nbformat_minor": 5
}
