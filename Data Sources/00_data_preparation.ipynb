{
 "cells": [
  {
   "cell_type": "markdown",
   "source": [
    "Parameters"
   ],
   "metadata": {
    "collapsed": false
   },
   "id": "d26ecf2e2e6d765b"
  },
  {
   "cell_type": "code",
   "outputs": [],
   "source": [
    "import os\n",
    "GOOGLE_APPLICATION_CREDENTIALS = \"/Users/zacharynguyen/Documents/GitHub/2024/End-to-End-Vertex-AI-Pipeline-for-Fraud-Detection/key/e2e-fraud-detection-debf1c9863af.json\"\n",
    "os.environ[\"GOOGLE_APPLICATION_CREDENTIALS\"] = GOOGLE_APPLICATION_CREDENTIALS"
   ],
   "metadata": {
    "collapsed": false,
    "ExecuteTime": {
     "end_time": "2024-03-15T19:08:18.775352Z",
     "start_time": "2024-03-15T19:08:18.773152Z"
    }
   },
   "id": "e255ba574f066c97",
   "execution_count": 2
  },
  {
   "cell_type": "code",
   "outputs": [],
   "source": [
    "PROJECT_ID = \"e2e-fraud-detection\"\n",
    "BUCKET_NAME = PROJECT_ID\n",
    "BQ_DATASET = 'fraud_dataset'"
   ],
   "metadata": {
    "collapsed": true,
    "ExecuteTime": {
     "end_time": "2024-03-15T19:13:18.541170Z",
     "start_time": "2024-03-15T19:13:18.536526Z"
    }
   },
   "id": "initial_id",
   "execution_count": 8
  },
  {
   "cell_type": "code",
   "outputs": [
    {
     "name": "stdout",
     "output_type": "stream",
     "text": [
      "GOOGLE_APPLICATION_CREDENTIALS: /Users/zacharynguyen/Documents/GitHub/2024/End-to-End-Vertex-AI-Pipeline-for-Fraud-Detection/key/e2e-fraud-detection-debf1c9863af.json\n",
      "PROJECT_ID: e2e-fraud-detection\n",
      "BUCKET_NAME: e2e-fraud-detection\n",
      "BQ_DATASET: fraud_dataset\n"
     ]
    }
   ],
   "source": [
    "# Print the variables\n",
    "print(f\"GOOGLE_APPLICATION_CREDENTIALS: {GOOGLE_APPLICATION_CREDENTIALS}\")\n",
    "print(f\"PROJECT_ID: {PROJECT_ID}\")\n",
    "print(f\"BUCKET_NAME: {BUCKET_NAME}\")\n",
    "print(f\"BQ_DATASET: {BQ_DATASET}\")"
   ],
   "metadata": {
    "collapsed": false,
    "ExecuteTime": {
     "end_time": "2024-03-15T19:13:20.472726Z",
     "start_time": "2024-03-15T19:13:20.458967Z"
    }
   },
   "id": "144c762b6599e8f1",
   "execution_count": 9
  },
  {
   "cell_type": "markdown",
   "source": [
    "### Title:\n",
    "\"GCS Bucket Creation with Error Handling\"\n",
    "\n",
    "### Description:\n",
    "\"A utility function to create GCS buckets with custom settings and comprehensive error handling. Validates naming, supports custom authentication, and manages conflicts and authentication errors efficiently.\""
   ],
   "metadata": {
    "collapsed": false
   },
   "id": "6604f245c80495bb"
  },
  {
   "cell_type": "code",
   "outputs": [],
   "source": [
    "import re\n",
    "import os \n",
    "from google.cloud import storage\n",
    "from google.api_core.exceptions import Conflict, GoogleAPIError\n",
    "\n",
    "\n",
    "class BucketNameConflictError(Exception):\n",
    "    pass\n",
    "\n",
    "\n",
    "class AuthenticationError(Exception):\n",
    "    pass\n",
    "\n",
    "\n",
    "def create_gcs_bucket(bucket_name: str, project_id: str, \n",
    "                      credentials_path: str = None, \n",
    "                      location: str = 'US', storage_class: str = 'STANDARD') -> None:\n",
    "    \"\"\"Creates a new bucket in Google Cloud Storage with robust error handling.\n",
    "\n",
    "    Args:\n",
    "        bucket_name: Name for the new bucket. Must meet GCS bucket naming requirements.\n",
    "        project_id: The ID of the Google Cloud project where the bucket will be created.\n",
    "        credentials_path: Path to the JSON credentials file for authentication. \n",
    "                          If None, credentials will be inferred from the environment.\n",
    "        location: Location where the bucket will be created. Defaults to 'US'.\n",
    "        storage_class: Storage class for the bucket. Defaults to 'STANDARD'.\n",
    "    \"\"\"\n",
    "\n",
    "    # Validate bucket name against GCS naming conventions\n",
    "    if not re.match(r\"^[a-z0-9][a-z0-9\\-]{1,61}[a-z0-9]$\", bucket_name):\n",
    "        raise ValueError(\"Invalid bucket name. Please follow GCS naming conventions.\")\n",
    "\n",
    "    # Create a storage client\n",
    "    if credentials_path:\n",
    "        storage_client = storage.Client.from_service_account_json(credentials_path, project=project_id)\n",
    "    else:\n",
    "        # Credentials will be automatically inferred from the environment \n",
    "        storage_client = storage.Client(project=project_id)\n",
    "\n",
    "    try:\n",
    "        bucket = storage.Bucket(client=storage_client, name=bucket_name)\n",
    "        bucket.storage_class = storage_class\n",
    "        new_bucket = storage_client.create_bucket(bucket, location=location)\n",
    "\n",
    "        print(f'Bucket {new_bucket.name} created in location {new_bucket.location} with storage class {new_bucket.storage_class}')\n",
    "\n",
    "    except Conflict:\n",
    "        raise BucketNameConflictError(f'The bucket name \"{bucket_name}\" is already in use.')   \n",
    "    except GoogleAPIError as e:\n",
    "        if e.code == 401 or e.code == 403:  \n",
    "            raise AuthenticationError(f'Authentication error: {e}')\n",
    "        else:\n",
    "            print(f'Error creating bucket: {e}')\n",
    "            raise  \n"
   ],
   "metadata": {
    "collapsed": false,
    "ExecuteTime": {
     "end_time": "2024-03-15T19:09:26.067795Z",
     "start_time": "2024-03-15T19:09:25.591187Z"
    }
   },
   "id": "ab8a89e85e765a0b",
   "execution_count": 6
  },
  {
   "cell_type": "code",
   "outputs": [
    {
     "name": "stdout",
     "output_type": "stream",
     "text": [
      "Bucket e2e-fraud-detection created in location US with storage class STANDARD\n"
     ]
    }
   ],
   "source": [
    "create_gcs_bucket(BUCKET_NAME,PROJECT_ID,GOOGLE_APPLICATION_CREDENTIALS)\n"
   ],
   "metadata": {
    "collapsed": false,
    "ExecuteTime": {
     "end_time": "2024-03-15T19:09:35.815551Z",
     "start_time": "2024-03-15T19:09:34.564879Z"
    }
   },
   "id": "e46b8b3b5f5217ed",
   "execution_count": 7
  },
  {
   "cell_type": "markdown",
   "source": [
    "### Title:\n",
    "\"Efficient BigQuery Dataset Creation\"\n",
    "\n",
    "### Description:\n",
    "\"A function to easily create BigQuery datasets with options for customization and error handling. It allows setting the dataset's geographic location and description, handling dataset conflicts gracefully.\""
   ],
   "metadata": {
    "collapsed": false
   },
   "id": "913d9a3929b4ddb3"
  },
  {
   "cell_type": "code",
   "outputs": [],
   "source": [
    "from google.cloud import bigquery\n",
    "from google.api_core.exceptions import Conflict\n",
    "\n",
    "def create_bigquery_dataset(dataset_id: str, project_id: str ='e2e-fraud-detection',  \n",
    "                            location: str = 'US', description: str = None) -> None:\n",
    "    \"\"\"Creates a new dataset in Google BigQuery.\n",
    "\n",
    "    Args:\n",
    "        dataset_id: The ID of the dataset to create.\n",
    "        project_id: The ID of the Google Cloud project where the dataset will reside.\n",
    "        location: The geographic location where the dataset should be created (e.g., 'US', 'EU').\n",
    "        description: An optional description of the dataset.  \n",
    "    \"\"\"\n",
    "\n",
    "    client = bigquery.Client(project=project_id)\n",
    "\n",
    "    dataset_ref = client.dataset(dataset_id, project=project_id)\n",
    "    dataset = bigquery.Dataset(dataset_ref)\n",
    "\n",
    "    if description:\n",
    "        dataset.description = description\n",
    "\n",
    "    if location:\n",
    "        dataset.location = location\n",
    "\n",
    "    try:\n",
    "        dataset = client.create_dataset(dataset)\n",
    "        print(f'Dataset {dataset.dataset_id} created in project {project_id} at location {dataset.location}.')\n",
    "    except Conflict:\n",
    "        print(f'Dataset {dataset_id} already exists.')\n",
    "    except Exception as e:\n",
    "        print(f'Error creating dataset: {e}')\n",
    "\n"
   ],
   "metadata": {
    "collapsed": false,
    "ExecuteTime": {
     "end_time": "2024-03-15T19:13:56.639026Z",
     "start_time": "2024-03-15T19:13:55.437189Z"
    }
   },
   "id": "76fc4910f7ba2a80",
   "execution_count": 10
  },
  {
   "cell_type": "code",
   "outputs": [
    {
     "name": "stdout",
     "output_type": "stream",
     "text": [
      "Dataset fraud_dataset created in project e2e-fraud-detection at location US.\n"
     ]
    }
   ],
   "source": [
    "# Example Usage\n",
    "create_bigquery_dataset(BQ_DATASET, description='Dataset for storing fraudulent data.') "
   ],
   "metadata": {
    "collapsed": false,
    "ExecuteTime": {
     "end_time": "2024-03-15T19:13:58.644905Z",
     "start_time": "2024-03-15T19:13:57.760030Z"
    }
   },
   "id": "9abaad14db04885b",
   "execution_count": 11
  },
  {
   "cell_type": "code",
   "outputs": [],
   "source": [],
   "metadata": {
    "collapsed": false,
    "ExecuteTime": {
     "end_time": "2024-03-13T21:28:01.672444Z",
     "start_time": "2024-03-13T21:28:01.664731Z"
    }
   },
   "id": "adae5c7744fee1c6",
   "execution_count": 71
  }
 ],
 "metadata": {
  "kernelspec": {
   "display_name": "Python 3",
   "language": "python",
   "name": "python3"
  },
  "language_info": {
   "codemirror_mode": {
    "name": "ipython",
    "version": 2
   },
   "file_extension": ".py",
   "mimetype": "text/x-python",
   "name": "python",
   "nbconvert_exporter": "python",
   "pygments_lexer": "ipython2",
   "version": "2.7.6"
  }
 },
 "nbformat": 4,
 "nbformat_minor": 5
}
